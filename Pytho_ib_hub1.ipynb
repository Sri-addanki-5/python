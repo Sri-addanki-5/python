{
  "nbformat": 4,
  "nbformat_minor": 0,
  "metadata": {
    "colab": {
      "name": "Pytho_ib_hub1.ipynb",
      "provenance": [],
      "include_colab_link": true
    },
    "kernelspec": {
      "display_name": "Python 3",
      "name": "python3"
    }
  },
  "cells": [
    {
      "cell_type": "markdown",
      "metadata": {
        "id": "view-in-github",
        "colab_type": "text"
      },
      "source": [
        "<a href=\"https://colab.research.google.com/github/Sri-addanki-5/python/blob/main/Pytho_ib_hub1.ipynb\" target=\"_parent\"><img src=\"https://colab.research.google.com/assets/colab-badge.svg\" alt=\"Open In Colab\"/></a>"
      ]
    },
    {
      "cell_type": "code",
      "metadata": {
        "colab": {
          "base_uri": "https://localhost:8080/"
        },
        "id": "p7a07GlN3QZe",
        "outputId": "1af2c3b9-210f-4473-ef7c-1e13bc614467"
      },
      "source": [
        "#Write a program that takes a word W as input and prints \"Hello\" followed by the given word W.\n",
        "name=input()\n",
        "print(\"Hello \"+name)"
      ],
      "execution_count": null,
      "outputs": [
        {
          "output_type": "stream",
          "text": [
            "srikanth\n",
            "Hello srikanth\n"
          ],
          "name": "stdout"
        }
      ]
    },
    {
      "cell_type": "code",
      "metadata": {
        "id": "LCNek3UF3Qb3"
      },
      "source": [
        "#String Repetition\n",
        "# Write a program to print the given input word three times in a single line separated by spaces\n",
        "word = input()\n",
        "message = (word + ' ') * 3\n",
        "print(message)"
      ],
      "execution_count": null,
      "outputs": []
    },
    {
      "cell_type": "code",
      "metadata": {
        "id": "NEkXKDTA3QeQ"
      },
      "source": [
        "#Input\n",
        "\n",
        "# The first line contains the integer A\n",
        "# The second line contains the integer B\n",
        "a=input()\n",
        "a=int(a)\n",
        "b=input()\n",
        "b=int(b)\n",
        "result=a+b\n",
        "print(a+b)"
      ],
      "execution_count": null,
      "outputs": []
    },
    {
      "cell_type": "code",
      "metadata": {
        "id": "ih9pPrdA3Qgf"
      },
      "source": [
        "#Indexing\n",
        "#Given a word W and an integer N, write a program to print the character present at the index N in the word W. \n",
        "#Explanation \n",
        "\n",
        "# For example, when the given word W is Chocolate and the integer N is 2. Since the index starts from zero. The character present at index 2 is o. \n",
        " \n",
        "# C\th\to\tc\to\tl\ta\tt\te\n",
        "# 0\t1\t2\t3\t4\t5\t6\t7\t8 \n",
        "# Similarly, for Table the character at index 1 is a \n",
        " \n",
        "# T\ta\tb\tl\te\n",
        "# 0\t1\t2\t3\t4 \n",
        "word=input()\n",
        "n=input()\n",
        "n=int(n)\n",
        "print(word[n])"
      ],
      "execution_count": null,
      "outputs": []
    },
    {
      "cell_type": "code",
      "metadata": {
        "id": "64s22C203QjX"
      },
      "source": [
        "# Print the Input\n",
        "# Write a program that reads a single line of input and print the given input.\n",
        "\n",
        "a=input()\n",
        "print(a)"
      ],
      "execution_count": null,
      "outputs": []
    },
    {
      "cell_type": "code",
      "metadata": {
        "id": "AuWkPhUK3Qlu"
      },
      "source": [
        "# Print the Input - 2\n",
        "# For this problem, you need to write code to read a single line of input and print the line after the message \"Given input: \". \n",
        "message = input()\n",
        "sentence = \"Given input: \" + message\n",
        "print(sentence)"
      ],
      "execution_count": null,
      "outputs": []
    },
    {
      "cell_type": "code",
      "metadata": {
        "id": "zNnDbkyY3QoH"
      },
      "source": [
        "# Second Line\n",
        "# For this problem, you need to write code to read two lines of input and print the second line of input.\n",
        "a = input()\n",
        "b = input()\n",
        "\n",
        "print(b)"
      ],
      "execution_count": null,
      "outputs": []
    },
    {
      "cell_type": "code",
      "metadata": {
        "id": "mGPb3Ugk3Qqg"
      },
      "source": [
        "# Print in Reverse Order\n",
        "# Write a program that reads two lines of input and prints those two lines in the reverse order. (Print the message given in the second line of input before the first line of input)\n",
        "# Explanation\n",
        "\n",
        "# In the given example, the first line of input is \"Book\" and the second line of input is \"Pen\", so the output should be \n",
        "# Pen\n",
        "# Book\n",
        "a = input()\n",
        "b = input()\n",
        "print(b)\n",
        "print(a)"
      ],
      "execution_count": null,
      "outputs": []
    },
    {
      "cell_type": "code",
      "metadata": {
        "id": "hLgCaHce3Qs5"
      },
      "source": [
        "# Basic Arithmetic\n",
        "# Write a program to take two integer inputs (say A and B) and print the result of the following operations:\n",
        "# 1. Addition\n",
        "# 2. Subtraction \n",
        "# 3. Multiplication"
      ],
      "execution_count": null,
      "outputs": []
    },
    {
      "cell_type": "code",
      "metadata": {
        "id": "FsIgebYF3QvU"
      },
      "source": [
        "a=input()\n",
        "b=input()\n",
        "a=int(a)\n",
        "b=int(b)\n",
        "print(a+b)\n",
        "print(a-b)\n",
        "print(a*b)"
      ],
      "execution_count": null,
      "outputs": []
    },
    {
      "cell_type": "code",
      "metadata": {
        "id": "osoI5hmY3Qxv"
      },
      "source": [
        "# Area of a Rectangle\n",
        "# Write a program to calculate the area of the Rectangle.\n",
        "# Note: Area of Rectangle = Length of Rectangle x Breadth of Rectangle\n",
        "# Input\n",
        "\n",
        "# The first line of input contains the length of the rectangle, which is an integer.\n",
        "# The second line of input contains the breadth of the rectangle, which is an \n",
        "length=input()\n",
        "breadth=input()\n",
        "length=int(length)\n",
        "breadth=int(breadth)\n",
        "area=length*breadth\n",
        "print(area)"
      ],
      "execution_count": null,
      "outputs": []
    },
    {
      "cell_type": "code",
      "metadata": {
        "id": "PClNH3Ca3Q0M"
      },
      "source": [
        "# Perimeter of Rectangle\n",
        "# Write a program to calculate the perimeter of a rectangle.\n",
        "# Note: Perimeter of Rectangle = 2(Length of Rectangle + Breadth of Rectangle)\n",
        "# Input\n",
        "\n",
        "# The first line of input contains the length of the rectangle, which is an integer.\n",
        "# The second line of input contains the breadth of the rectangle, which is an integer.\n",
        "# Output\n",
        "\n",
        "# Print the Perimeter of the Rectangle"
      ],
      "execution_count": null,
      "outputs": []
    },
    {
      "cell_type": "code",
      "metadata": {
        "id": "2R2QejeT3Q2W"
      },
      "source": [
        "length=input()\n",
        "breadth=input()\n",
        "length=int(length)\n",
        "breadth=int(breadth)\n",
        "sum_of_two_sides =length+breadth\n",
        "perimeter_of_rectangle=2*sum_of_two_sides\n",
        "print(perimeter_of_rectangle)"
      ],
      "execution_count": null,
      "outputs": []
    },
    {
      "cell_type": "code",
      "metadata": {
        "id": "AfPRJEkA3Q4j"
      },
      "source": [
        "# Kilometers to Meters\n",
        "# Write a program to take the number of kilometers as input and convert into meters and print the number of meters.\n",
        "# Note: 1 Kilometer = 1000 Meters\n",
        "# Input\n",
        "\n",
        "# The first line of input contains the number of kilometers.\n",
        "# The input will have a decimal part.\n",
        "# Output\n",
        "\n",
        "# The first line of output contains the number of meters.\n",
        "# The output should be an integer.\n"
      ],
      "execution_count": null,
      "outputs": []
    },
    {
      "cell_type": "code",
      "metadata": {
        "id": "SvKyXXtY3Q6o"
      },
      "source": [
        "kilometers = input()\n",
        "kilometers = float(kilometers)\n",
        "\n",
        "meters = kilometers * 1000\n",
        "\n",
        "meters = int(meters)\n",
        "print(meters)"
      ],
      "execution_count": null,
      "outputs": []
    },
    {
      "cell_type": "code",
      "metadata": {
        "id": "2paFyUO13Q81"
      },
      "source": [
        "# Length of the String\n",
        "# Write a program to read a single line of input and print the number of characters in the input.\n",
        "# Note: Spaces are also characters.\n",
        "# Explanation\n",
        "\n",
        "# For example, if the given string is \"Software\" the number of characters are 8.\n",
        "message=input()\n",
        "length=len(message)\n",
        "print(length)"
      ],
      "execution_count": null,
      "outputs": []
    },
    {
      "cell_type": "code",
      "metadata": {
        "id": "vDGnlEsa3Q_U"
      },
      "source": [
        "# First Three Characters\n",
        "# Write a program to read a single line of input and print the first three characters in it.\n",
        "# Explanation\n",
        "\n",
        "# For example, if the given input is \"Four\" the first three characters are \"Fou\"\n",
        "# Similarly, the first three characters of \"Strawberry\" are \"Str\"\n",
        "message=input()\n",
        "part=message [:3]\n",
        "print(part)"
      ],
      "execution_count": null,
      "outputs": []
    },
    {
      "cell_type": "code",
      "metadata": {
        "id": "VsESHJae3RBd"
      },
      "source": [
        "# Compare First Three Characters\n",
        "# Write a program to check if the first three characters in the two given strings are the same.\n",
        "# Input\n",
        "\n",
        "# The first line of input will be a string.\n",
        "# The second line of input will be a string.\n",
        "# Output\n",
        "\n",
        "# Print \"True\" if the the first three characters in the two given strings are the same.\n",
        "# In all other cases print \"False\".\n",
        "first_str = input()\n",
        "second_str = input()\n",
        "\n",
        "first_str_part = first_str[:3]\n",
        "second_str_part = second_str[:3]\n",
        "\n",
        "are_both_same = first_str_part == second_str_part\n",
        "print(are_both_same)"
      ],
      "execution_count": null,
      "outputs": []
    },
    {
      "cell_type": "code",
      "metadata": {
        "id": "0WaiiPvs3RER"
      },
      "source": [
        "# Greater than 5\n",
        "# Write a program to check if both of the given numbers are positive and if atleast one of them is greater than 5\n",
        "# Note: Zero is not a positive number.\n",
        "# Input\n",
        "\n",
        "# First line of the input will be an integer\n",
        "# Second line of the input will be an integer\n",
        "# Output\n",
        "\n",
        "# Print \"True\" if both the numbers are positive and if atleast one of the numbers is greater than 5.\n",
        "# In all other cases print \"False\"\n",
        "# Explanation\n",
        "\n",
        "# When the given numbers are -10 and 6: \n",
        "# ✔ At least one number is greater than 5 (6 is greater than 5)\n",
        "# ✖ Both the numbers are positive (-10 is a negative number.)\n",
        "\n",
        "# When the given numbers are 10 and 1:\n",
        "# ✔ At least one number is greater than 5 (6 is greater than 5),\n",
        "# ✔ Both the numbers are positive."
      ],
      "execution_count": null,
      "outputs": []
    },
    {
      "cell_type": "code",
      "metadata": {
        "id": "mbYP6aO39_Yu"
      },
      "source": [
        "a = input()\n",
        "b = input()\n",
        "\n",
        "a = int(a)\n",
        "b = int(b)\n",
        "\n",
        "is_both_positive = a > 0 and b > 0\n",
        "is_one_greater = a > 5 or b > 5\n",
        "\n",
        "result = is_both_positive and is_one_greater\n",
        "print(result)"
      ],
      "execution_count": null,
      "outputs": []
    },
    {
      "cell_type": "code",
      "metadata": {
        "id": "GRAhI6tN9_cD"
      },
      "source": [
        "# Comparing Digits\n",
        "# Write a program to check if the given two digit number is greater than 25 and its first digit is greater than its second digit.\n",
        "# Input\n",
        "\n",
        "# The first line of the input will be a two digit integer\n",
        "# Output\n",
        "\n",
        "# Print \"True\" if the number is greater than 25 and its first digit is greater than its second digit.\n",
        "# In all other cases print \"False\".\n",
        "# Explanation\n",
        "\n",
        "# When the given number is 24: \n",
        "# ✖ Greater than 25\n",
        "# ✖ First digit greater than second digit (2 is less than 4)\n",
        "\n",
        "# When the given number is 42:\n",
        "# ✔ Greater than 25\n",
        "# ✔ First digit greater than second digit (4 is greater than 2)"
      ],
      "execution_count": null,
      "outputs": []
    },
    {
      "cell_type": "code",
      "metadata": {
        "id": "vJaxO_k99_eP"
      },
      "source": [
        "a = input()\n",
        "\n",
        "is_above = int(a) > 25\n",
        "\n",
        "first_digit = a[0]\n",
        "second_digit = a[1]\n",
        "\n",
        "first_digit = int(first_digit)\n",
        "second_digit = int(second_digit)\n",
        "\n",
        "is_greater = first_digit > second_digit\n",
        "\n",
        "result = is_above and is_greater\n",
        "print(result)"
      ],
      "execution_count": null,
      "outputs": []
    },
    {
      "cell_type": "markdown",
      "metadata": {
        "id": "YOrpDvSBOLLt"
      },
      "source": [
        ""
      ]
    },
    {
      "cell_type": "code",
      "metadata": {
        "id": "sxdmNvkEOL8O"
      },
      "source": [
        ""
      ],
      "execution_count": null,
      "outputs": []
    },
    {
      "cell_type": "code",
      "metadata": {
        "id": "LkBJq1Tt9_gh"
      },
      "source": [
        "#Operators & Conditional Statements > Coding Practice - 2"
      ],
      "execution_count": null,
      "outputs": []
    },
    {
      "cell_type": "code",
      "metadata": {
        "id": "sr_cx-9P9_i3"
      },
      "source": [
        "# Last Character\n",
        "# Write a program which prints the last character of a given word.\n",
        "# Input\n",
        "\n",
        "# The input will be a single line containing a word.\n",
        "# Output\n",
        "\n",
        "# The output should be a single line containing the last character of the given word.\n",
        "# Explanation\n",
        "\n",
        "# For example, if the given input word is \"January\", your code should print the last character \"y\"\n",
        "word=input()\n",
        "length_of_the_word=len(word)\n",
        "last_index = length_of_the_word-1\n",
        "character_at_last_index=word[last_index]\n",
        "print(character_at_last_index)"
      ],
      "execution_count": null,
      "outputs": []
    },
    {
      "cell_type": "code",
      "metadata": {
        "id": "p2pVUbvC9_lC"
      },
      "source": [
        "# Half String\n",
        "# Write a program which prints the first half of the given input string.\n",
        "# You can assume that the length of the input string will always be an even number.\n",
        "# Input\n",
        "\n",
        "# The input will be a single line containing a string.\n",
        "# Output\n",
        "\n",
        "# The output should be a single line containing the first half of the given string.\n",
        "# Explanation\n",
        "\n",
        "# For example, if the given input is \"Amazon\", the first half of it is \"Ama\".\n",
        "word = input()\n",
        "length_of_the_word = len(word)\n",
        "half_length = length_of_the_word/2\n",
        "half_length = int(half_length)\n",
        "half_word = word[:half_length]\n",
        "print(half_word)"
      ],
      "execution_count": null,
      "outputs": []
    },
    {
      "cell_type": "code",
      "metadata": {
        "id": "ZMA7VUKU9_n5"
      },
      "source": [
        "# String Repetition 2\n",
        "# Given a word and a number N, write a program to print the given word, N number of times in a single line.\n",
        "# Input\n",
        "\n",
        "# The first line of input contains a word.\n",
        "# The second line of input contains the integer N which denotes the number of times the word has to be repeated.\n",
        "# Output\n",
        "\n",
        "# The output should contain the given string repeated N times in a single line.\n",
        "# Note: There should not be any spaces between the repetitions.\n",
        "# Explanation\n",
        "\n",
        "# For example, if the given word is \"Maths\", and the N is 2,the word has to be repeated 2 times, so the output should be\n",
        "# \"MathsMaths\"\n",
        "word = input()\n",
        "n = int(input())\n",
        "message = word * n\n",
        "print(message)"
      ],
      "execution_count": null,
      "outputs": []
    },
    {
      "cell_type": "code",
      "metadata": {
        "id": "CnLnfR1S9_qD"
      },
      "source": [
        "# String Repetition 3\n",
        "# Given a word and a number (N), write a program to print the last three characters of the word N times in a single line.\n",
        "# Input\n",
        "\n",
        "# The first line of input contains a word.\n",
        "# The second line of input contains the integer N which denotes the number of times the last three characters of word has to be repeated.\n",
        "# Output\n",
        "\n",
        "# The first line of output contains the last three characters of the given word repeated N times.\n",
        "# Note: There should not be any spaces between the repetitions.\n",
        "# Explanation\n",
        "\n",
        "# For example, if the given input is \"Transport\" and the given number is 2.\n",
        "# The last three characters of the given word are \"ort\", which have to be repeated 2 times, so the output should be \"ortort\"\n",
        "word = input()\n",
        "n = int(input())\n",
        "length_of_the_word = len(word)\n",
        "start_index = length_of_the_word - 3\n",
        "sliced_word = word[start_index:]\n",
        "message = sliced_word * n\n",
        "print(message)\n"
      ],
      "execution_count": null,
      "outputs": []
    },
    {
      "cell_type": "code",
      "metadata": {
        "id": "ovxEfjA6_LAM"
      },
      "source": [
        "# Sum of the digits\n",
        "# Write a program that prints the sum of the digits of a given three-digit number.\n",
        "# Input\n",
        "\n",
        "# The input will be a single line containing a three-digit number.\n",
        "# Output\n",
        "\n",
        "# The output should be a single line containing the sum of the three digits of the given number.\n",
        "# Explanation\n",
        "\n",
        "# For example, if the given number is 326, the sum of its digits, 3 + 2 + 6 is 11.\n",
        "word=input()\n",
        "first_digit =int(word[0])\n",
        "second_digit =int(word[1])\n",
        "third_digit = int(word[2])\n",
        "sum_of_digits = first_digit + second_digit+third_digit \n",
        "print(sum_of_digits)"
      ],
      "execution_count": null,
      "outputs": []
    },
    {
      "cell_type": "code",
      "metadata": {
        "id": "KKY16t8u_LDo"
      },
      "source": [
        "# Reverse the digits\n",
        "# Write a program to reverse the digits of a given two-digit number.\n",
        "# Input\n",
        "\n",
        "# The input will be a single line containing a integer.\n",
        "# Output\n",
        "\n",
        "# The output should be a single line containing the reverse of the given two-digit number.\n",
        "# Explanation\n",
        "\n",
        "# For example, if the given two-digit number is 21, the reverse of 21 is 12.\n",
        "word=input()\n",
        "first_digit =word[0]\n",
        "second_digit =word[1]\n",
        "reversed_number=  second_digit + first_digit \n",
        "print(reversed_number)"
      ],
      "execution_count": null,
      "outputs": []
    },
    {
      "cell_type": "code",
      "metadata": {
        "id": "yVsvwtNU_LF9"
      },
      "source": [
        "# Skipping Letters\n",
        "# You're given a word and an index position of a character. You need to write a program that prints the given word without the character at the given index.\n",
        "# Input\n",
        "\n",
        "# The first line of input contains a word.\n",
        "# The second line of input contains the index location.\n",
        "# Output\n",
        "\n",
        "# The output should be a single line containing the word skipping the character at the given index location.\n",
        "# Explanation\n",
        "\n",
        "# For example, if the given word is \"Combine\", the character at the index location 4, is \"i\", so the output without the character at the given index location is \"Combne\"\n",
        "word = input()\n",
        "n = int(input())\n",
        "before = word[:n]\n",
        "after = word[n+1:]\n",
        "result = before + after\n",
        "print(result)"
      ],
      "execution_count": null,
      "outputs": []
    },
    {
      "cell_type": "code",
      "metadata": {
        "id": "4Wl55QxM_LH2"
      },
      "source": [
        "# Validate Password\n",
        "# Write a program to check if the given string is a valid password or not. A string is considered as a valid password if the number of characters present is greater than 7.\n",
        "# Input\n",
        "\n",
        "# The input will be a single line containing a word.\n",
        "# Output\n",
        "\n",
        "# The output should be True or False.\n",
        "# Explanation\n",
        "\n",
        "# For example, if the given input is \"passwd\", it has only 6 characters (less than 7). So the output should be False.\n",
        "password=input()\n",
        "length_of_the_password = len(password)\n",
        "is_valid_password = length_of_the_password > 7\n",
        "print(is_valid_password)"
      ],
      "execution_count": null,
      "outputs": []
    },
    {
      "cell_type": "code",
      "metadata": {
        "id": "w-oZmG5y_LKI"
      },
      "source": [
        "# Between 25 and 75\n",
        "# Write a program which checks whether the given number N is between 25 and 75.\n",
        "# Input\n",
        "\n",
        "# The input will be a single line containing a number.\n",
        "# Output\n",
        "\n",
        "# The output should be a single line containing True if the number is between 25 and 75, False in all other cases.\n",
        "# Explanation\n",
        "\n",
        "# For example, if the given input integer is 20, which is not in between 25 and 75, so the output should be False.\n",
        "# Note: The numbers 25 and 75 are not considered to be in the range.\n",
        "n=int(input())\n",
        "is_between=((n > 25)) and ((n<75))\n",
        "print(is_between)"
      ],
      "execution_count": null,
      "outputs": []
    },
    {
      "cell_type": "code",
      "metadata": {
        "id": "2KcM1B1y_LMb"
      },
      "source": [
        "# Masking\n",
        "# Write a program that reads a single line of input and prints the first and last characters of the given input and prints the asterisk character (*) in place of the remaining characters.\n",
        "# Input\n",
        "\n",
        "# The input will be a single line containing a word.\n",
        "# Output\n",
        "\n",
        "# The output should be a single line containing the masked word.\n",
        "# Explanation\n",
        "\n",
        "# For example, if the given input word is \"qwerty@2020\", the output should be \"q*********0\".\n",
        "# Note: Observe the number of characters between two ends is equal to the number of asterisk characters (*) in the output.\n",
        "word=input()\n",
        "first_character=word[0]\n",
        "word_len=len(word)\n",
        "last_character=word[word_len-1]\n",
        "num_stars=\"*\" * (word_len-2)\n",
        "result =first_character+num_stars+last_character\n",
        "print(result)"
      ],
      "execution_count": null,
      "outputs": []
    },
    {
      "cell_type": "code",
      "metadata": {
        "id": "7x7UuXwiATJA"
      },
      "source": [
        "# Exam Result\n",
        "# Write a program that reads the student's marks as input and prints PASS or FAIL.If the student has scored more than 50, print PASS.\n",
        "# In all other cases print FAIL.\n",
        "# Input\n",
        "\n",
        "# The input will be a single line containing a number.\n",
        "# Output\n",
        "\n",
        "# The output should be a single line containing PASS or FAIL.\n",
        "# Explanation\n",
        "\n",
        "# In the given example, the student's marks are 85, which is more than 50, so the result should be PASS.\n",
        "# Similarly, if the marks are 45, the result should be FAIL.\n",
        "  \n",
        "  d = int(input())\n",
        "  if d > 50 :\n",
        "    print(\"pass\")\n",
        "  else:\n",
        "    print(\"fail\") \n"
      ],
      "execution_count": null,
      "outputs": []
    },
    {
      "cell_type": "code",
      "metadata": {
        "id": "5AKJHjKvATMy"
      },
      "source": [
        " "
      ],
      "execution_count": null,
      "outputs": []
    },
    {
      "cell_type": "code",
      "metadata": {
        "id": "MChklP22ATPP"
      },
      "source": [
        "# Greatest Among Two Numbers\n",
        "# Write a program to print the greatest among the two numbers.\n",
        "# Input\n",
        "\n",
        "# The first line of input contains a number.\n",
        "# The second line of input contains a number.\n",
        "# Output\n",
        "\n",
        "# The output should be a single line containing the greatest among the two numbers.\n",
        "# Explanation\n",
        "\n",
        "# For example, if the given numbers are 4 and 3, your code should print the greatest number, which is 4.\n",
        "first_number = int(input())\n",
        "second_number = int(input())\n",
        "if first_number > second_number:\n",
        "    greater_number = first_number \n",
        "else:\n",
        "    greater_number = second_number\n",
        "print(greater_number)"
      ],
      "execution_count": null,
      "outputs": []
    },
    {
      "cell_type": "code",
      "metadata": {
        "id": "urjhT_L-ATRp"
      },
      "source": [
        "# Equal Numbers\n",
        "# Write a program to check if the given two numbers are equal.\n",
        "# Input\n",
        "\n",
        "# The first line of input contains a number.\n",
        "# The second line of input contains a number.\n",
        "# Output\n",
        "\n",
        "# If the given numbers are equal, print \"Equal\". In all other cases, print \"Not Equal\".\n",
        "# Explanation\n",
        "\n",
        "# For example, if the first number is 5 and the second number is 5. Since both the given numbers are equal. So the output should be \"Equal\".\n",
        "# Whereas, if the first number is 10 and the second number is 5, both the numbers are not equal. So the output should be \"Not Equal\".\n",
        "\n",
        "first_number = int(input())\n",
        "second_number = int(input())\n",
        "if first_number == second_number:\n",
        "    print(\"Equal\")\n",
        "else:\n",
        "    print(\"Not Equal\")"
      ],
      "execution_count": null,
      "outputs": []
    },
    {
      "cell_type": "code",
      "metadata": {
        "id": "zlTkajdBATmD"
      },
      "source": [
        "# Positive or Negative\n",
        "# Write a program to find if the given number is positive, negative, or zero.\n",
        "# Input\n",
        "\n",
        "# The input will be a single line containing a number.\n",
        "# Output\n",
        "\n",
        "# If the given number is greater than zero, print \"Positive\".\n",
        "# If the given number is less than zero, print \"Negative\".\n",
        "# If the given number is equal to zero, print \"Zero\".\n",
        "# Explanation\n",
        "\n",
        "# For example,if the given number is -12, which is less than 0. So the output should be \"Negative\".\n",
        "# Similarly, if the given number is 15, which is greater than zero. So the output should be \"Positive\"\n",
        "number = int(input())\n",
        "if number > 0:\n",
        "    print(\"Positive\")\n",
        "if number < 0:\n",
        "    print(\"Negative\")\n",
        "if number == 0:\n",
        "    print(\"Zero\")"
      ],
      "execution_count": null,
      "outputs": []
    },
    {
      "cell_type": "code",
      "metadata": {
        "id": "xp5-vte1ATzJ"
      },
      "source": [
        "# Vote Eligibility\n",
        "# A person is eligible to vote if his/her age is at least 18 years. Write a program that checks if a person is eligible to vote based on the person's age.\n",
        "# Input\n",
        "\n",
        "# The input will be a number denoting the person's age in years.\n",
        "# Output\n",
        "\n",
        "# If the person's age is at least 18, print \"Eligible\".\n",
        "# In all other cases, print \"Not Eligible\".\n",
        "# Explanation\n",
        "\n",
        "# A person is eligible to vote if his/her age is 18 years or above.\n",
        "# For example, if the person's age is 15, which is below 18. So the output should be \"Not Eligible\".\n",
        "# Whereas if the person's age is 21, which is above 18. So the output should be \"Eligible\"\n",
        "age = int(input())\n",
        "if age >= 18:\n",
        "    print(\"Eligible\")\n",
        "else:\n",
        "    print(\"Not Eligible\")"
      ],
      "execution_count": null,
      "outputs": []
    },
    {
      "cell_type": "code",
      "metadata": {
        "id": "7n2YDheEAT1y"
      },
      "source": [
        "# Square or Rectangle\n",
        "# Given the length and breadth of a box, check if it is a Rectangle or Square.\n",
        "# Input\n",
        "\n",
        "# The first line of input will contain the length of the box.\n",
        "# The second line of input will contain the breadth of the box.\n",
        "# Output\n",
        "\n",
        "# If the given length and breadth are equal, print \"Square\". In all other cases, print \"Rectangle\".\n",
        "# Explanation\n",
        "\n",
        "# For example, if the given length is 6, and the given breadth is 6, the length and breadth are equal. So the output should be \"Square\".\n",
        "# Similarly, if the given length is 5, and the breadth is 10, the length and breadth are not equal. So the output should be \"Rectangle\".\n",
        "length=int(input())\n",
        "breadth=int(input())\n",
        "if length==breadth:\n",
        "    print(\"Square\")\n",
        "else:\n",
        "    print(\"Rectangle\")"
      ],
      "execution_count": null,
      "outputs": []
    },
    {
      "cell_type": "code",
      "metadata": {
        "id": "Hl6Ydr2uAT4I"
      },
      "source": [
        "# Bonus Salary\n",
        "# A company decided to give a bonus of 5% to an employee if his/her years of service is more than five years.\n",
        "# Write a program that reads an employee's salary and years of service and decides whether the employee gets the bonus or not.\n",
        "# Input\n",
        "\n",
        "# The first line of input will contain the salary of an employee.\n",
        "# The second line of input will contain years of service.\n",
        "# Output\n",
        "\n",
        "# If the employee gets a bonus, print the net bonus amount.\n",
        "# If the employee doesn't get the bonus, print \"No Bonus\",.\n",
        "# Explanation\n",
        "\n",
        "# For example, if the employee's salary is 25000 and years of expeArience is 3. As the years of experience is less than 5, the output should be \"No Bonus\".\n",
        "# Similarly, if the employee's salary is 50000 and years of experience is 6. As the years of experience is more than 5, the employee is eligible for the bonus. By computing the 5% of his salary, the net bonus amount should be 2500.0"
      ],
      "execution_count": null,
      "outputs": []
    },
    {
      "cell_type": "code",
      "metadata": {
        "id": "YTgjRHw5AT6t"
      },
      "source": [
        "salary = int(input())\n",
        "experience = int(input())\n",
        "if experience > 5:\n",
        "    print(salary*0.05)\n",
        "else:\n",
        "    print(\"No Bonus\")"
      ],
      "execution_count": null,
      "outputs": []
    },
    {
      "cell_type": "code",
      "metadata": {
        "id": "NSGp3XK6_LOx"
      },
      "source": [
        "# Valid Triangle\n",
        "# Given three angles of a triangle, write a program to check whether the triangle is valid or not. A triangle is valid if the sum of its three angles is equal to 180 degrees.\n",
        "# Input\n",
        "\n",
        "# The first line of input will contain the first angle of the triangle.\n",
        "# The second line of input will contain the second angle of the triangle.\n",
        "# The third line of input will contain the third angle of the triangle.\n",
        "# Output\n",
        "\n",
        "# If the sum of the three angles is equal to 180, print \"It's a Triangle\". In all other cases, print \"It's not a Triangle\".\n",
        "# Explanation\n",
        "\n",
        "# For example, if the first angle is 80, the second angle is 90, and the third angle is 100. Therefore the sum of the three angles(80 + 90 + 100) is 270, which is not equal to 180. So the output should be \"It's not a Triangle\".\n",
        "# Similarly, if the first angle is 60, the second angle is 60, and the third angle is 60. Therefore the sum of the three angles(60 + 60 + 60) is 180, which is equal to 180. So the output should be \"It's a Triangle\"."
      ],
      "execution_count": null,
      "outputs": []
    },
    {
      "cell_type": "code",
      "metadata": {
        "id": "D-okS5XD9_tF"
      },
      "source": [
        "first_angle = int(input())\n",
        "second_angle = int(input())\n",
        "third_angle = int(input())\n",
        "\n",
        "sum_of_three_angles = first_angle + second_angle + third_angle\n",
        "if sum_of_three_angles == 180:\n",
        "    print(\"It's a Triangle\")\n",
        "else:\n",
        "    print(\"It's not a Triangle\")"
      ],
      "execution_count": null,
      "outputs": []
    },
    {
      "cell_type": "code",
      "metadata": {
        "id": "zlOPyiz_FMVw"
      },
      "source": [
        "# Valid Triangle - 2\n",
        "# Given the lengths of three sides of a triangle, write a program to check whether the triangle is valid or not.\n",
        "# For a triangle to be valid, the sum of lengths of any two sides of the triangle must be greater than the third side.\n",
        "# Input\n",
        "\n",
        "# The first line of input will contain the first side of the triangle.\n",
        "# The second line of input will contain the second side of the triangle.\n",
        "# The third line of input will contain the third side of the triangle.\n",
        "# Output\n",
        "\n",
        "# If the sum of the lengths of any two sides of the triangle is greater than the third side, print \"It's a Triangle\". In all other cases, print \"It's not a Triangle\".\n",
        "# Explanation\n",
        "\n",
        "# For example, if the first side is 4, the second side is 5, and the third side is 3, then the sum of any two sides is greater than the third side:\n",
        "#     4 + 5 > 3\n",
        "#     5 + 3 > 4\n",
        "#     3 + 4 > 5\n",
        "# So the output should be \"It's a Triangle\"."
      ],
      "execution_count": null,
      "outputs": []
    },
    {
      "cell_type": "code",
      "metadata": {
        "id": "Ea5avQ9fFMZo"
      },
      "source": [
        "# Lucky Number\n",
        "# Given two integers, they are considered a lucky pair if any one of them is 6 or if their sum or difference is equal to 6.\n",
        "# Input\n",
        "\n",
        "# The first line of input contains a number.\n",
        "# The second line of input contains a number.\n",
        "# Output\n",
        "\n",
        "# If the given conditions are satisfied, print \"Lucky\".  In all other cases, print \"Not Lucky\".\n",
        "# Explanation\n",
        "\n",
        "# For example, if the given numbers are 6 and 1. One of the given two numbers is 6. So the output should be \"Lucky\".\n",
        "# Whereas, if the given numbers are 3 and 2, they do not satisfy any of the conditions. So the output should be \"Not Lucky\"."
      ],
      "execution_count": null,
      "outputs": []
    },
    {
      "cell_type": "code",
      "metadata": {
        "id": "CQVOG9K9FMdu"
      },
      "source": [
        "a = int(input())\n",
        "b = int(input())\n",
        "\n",
        "is_any_number_6 = ((a == 6) or (b == 6))\n",
        "is_sum_equal_to_6 = ((a + b) == 6)\n",
        "is_diff_equal_to_6 = ((a - b) == 6) or ((b - a) == 6)\n",
        "is_sum_or_diff_6 = is_sum_equal_to_6 or is_diff_equal_to_6\n",
        "if is_any_number_6 or is_sum_or_diff_6:\n",
        "    print(\"Lucky\")\n",
        "else:\n",
        "    print(\"Not Lucky\")"
      ],
      "execution_count": null,
      "outputs": []
    },
    {
      "cell_type": "code",
      "metadata": {
        "id": "K49rw6r3FgYq"
      },
      "source": [
        "# Greatest Among Three Numbers\n",
        "# Write a program which prints the greatest among the given three numbers.\n",
        "# Input\n",
        "\n",
        "# The first line of input will contain a number.\n",
        "# The second line of input will contain a number.\n",
        "# The third line of input will contain a number.\n",
        "# Output\n",
        "\n",
        "# The output should be a single line containing the greatest among the three numbers.\n",
        "# Explanation\n",
        "\n",
        "# For example, if the given numbers are 2, 5, and 7. Your code should print the greatest number, which is 7."
      ],
      "execution_count": null,
      "outputs": []
    },
    {
      "cell_type": "code",
      "metadata": {
        "id": "mSnW9KZ0Fgbw"
      },
      "source": [
        "first_number = int(input())\n",
        "second_number = int(input())\n",
        "third_number = int(input())\n",
        "\n",
        "if first_number > second_number:\n",
        "    greatest_number = first_number\n",
        "else:\n",
        "    greatest_number = second_number\n",
        "\n",
        "if third_number > greatest_number:\n",
        "    greatest_number = third_number\n",
        "\n",
        "print(greatest_number)"
      ],
      "execution_count": null,
      "outputs": []
    },
    {
      "cell_type": "code",
      "metadata": {
        "id": "Y5NSXyOpGcxt"
      },
      "source": [
        "# Nested Conditions > Coding Practice - 4"
      ],
      "execution_count": null,
      "outputs": []
    },
    {
      "cell_type": "code",
      "metadata": {
        "id": "1wnZkjrnGc0s"
      },
      "source": [
        "# Even or Odd\n",
        "# Write a program to check if the given number is even or odd.\n",
        "# Input\n",
        "\n",
        "# The input will be a single line containing an integer.\n",
        "# Output\n",
        "\n",
        "# If the given number is even, print \"Even\". If it is odd, print \"Odd\".\n",
        "# Explanation\n",
        "\n",
        "# For example, if the given number is 4, which is divisible by 2, the output should be \"Even\".\n",
        "\n",
        "# Whereas, if the given number is 3, which is not divisible by 2, the output should be \"Odd\"\n",
        "number = int(input())\n",
        "\n",
        "remainder = (number % 2)\n",
        "is_even = (remainder == 0)\n",
        "\n",
        "if is_even:\n",
        "    print(\"Even\")\n",
        "else:\n",
        "    print(\"Odd\")"
      ],
      "execution_count": null,
      "outputs": []
    },
    {
      "cell_type": "code",
      "metadata": {
        "id": "894MLVwFGc3l"
      },
      "source": [
        "# Special Number\n",
        "# Write a program to read a single line of input, which is a two-digit integer and\n",
        "# Print \"Special Number\" if any one of the following conditions are satisfied\n",
        "# \t1. The sum of digits is 7\n",
        "# \t2. One of the digits is 7\n",
        "# \t3. The number is a multiple of 7\n",
        "# Print \"Normal Number\" in all other cases\n",
        "# Input\n",
        "\n",
        "# The first line of input contains a two-digit integer.\n",
        "# Output\n",
        "\n",
        "# If the given input satisfies the above conditions, print \"Special Number\". In all other cases print \"Normal Number\".\n",
        "# Explanation\n",
        "\n",
        "# For example, if the given two-digit integer is 67.\n",
        "# As one of its digits is 7, the output should be \"Special Number\".\n",
        "\n",
        "# Whereas, if the given two-digit integer is 36.\n",
        "# As it does not satisfy any of the above conditions, the output should be \"Normal Number\".\n",
        "number = input()\n",
        "\n",
        "first_digit = int(number[0])\n",
        "second_digit = int(number[1])\n",
        "\n",
        "sum_of_two_digits = (first_digit + second_digit)\n",
        "is_sum_equal_to_7 = (sum_of_two_digits == 7)\n",
        "\n",
        "is_one_digit_is_7 = ((first_digit == 7) or (second_digit == 7))\n",
        "\n",
        "is_multiple_of_seven = ((int(number) % 7) == 0)\n",
        "\n",
        "if (is_sum_equal_to_7 or is_one_digit_is_7) or is_multiple_of_seven:\n",
        "    print(\"Special Number\")\n",
        "else:\n",
        "    print(\"Normal Number\")"
      ],
      "execution_count": null,
      "outputs": []
    },
    {
      "cell_type": "code",
      "metadata": {
        "id": "MeCxhi6oGc6O"
      },
      "source": [
        "# Special Eleven\n",
        "# A number is called Special Eleven, if it is a multiple of 11 or if it is one more than a multiple of 11. Write a program to check if the given number is a Special Eleven number.\n",
        "# Input\n",
        "\n",
        "# The input will be a single line containing an integer.\n",
        "# Output\n",
        "\n",
        "# If the given input satisfies the above conditions, print \"Special Eleven\". In all other cases print \"Normal Number\".\n",
        "# Explanation\n",
        "\n",
        "# For example, if the given number is 22, which is a multiple of 11, the output should be \"Special Eleven\".\n",
        "\n",
        "# Similarly, if the given number is 23, which is one more than a multiple of 11, the output should be \"Special Eleven\".\n",
        "\n",
        "# Whereas, if the given number is 15, which does not satisfy any of the conditions, the output should be \"Normal Number\".\n",
        "number=int(input())\n",
        "\n",
        "is_multiple_of_11 =((number % 11) == 0)\n",
        "is_one_more_than_multiple_of_11 =((number % 11) ==1)\n",
        "\n",
        "if is_multiple_of_11 or is_one_more_than_multiple_of_11:\n",
        "    print(\"Special Eleven\").\n",
        "else:\n",
        "    print(\"Normal Number\")"
      ],
      "execution_count": null,
      "outputs": []
    },
    {
      "cell_type": "code",
      "metadata": {
        "id": "XazO1HVSGc9Q"
      },
      "source": [
        "# Lucky Number - 2\n",
        "# Write a program to print if the given number is divisible by any of the lucky numbers 6, 3, 2 in decreasing order of priority(6 is luckier than 3 and 3 is luckier than 2).\n",
        "# Print \"Number is divisible by\" followed by the luckiest number among the above 3 which can divide the number.\n",
        "# Print \"Number is not divisible by 2, 3 or 6\" if the number is not divisible by any of them.\n",
        "# Input\n",
        "\n",
        "# The input will be a single line containing a positive number.\n",
        "# Output\n",
        "\n",
        "# If the given number is divisible by 6, print \"Number is divisible by 6\".\n",
        "# If the given number is divisible by 3, print \"Number is divisible by 3\".\n",
        "# If the given number is divisible by 2, print \"Number is divisible by 2\".\n",
        "# In all other cases print \"Number is not divisible by 2, 3 or 6\".\n",
        "# Explanation\n",
        "\n",
        "# In the example 126 is divisible by 2, 3 and 6\n",
        "# But 6 takes precedence because 6 is luckiest amongst the three. So the output should be \"Number is divisible by 6\""
      ],
      "execution_count": null,
      "outputs": []
    },
    {
      "cell_type": "code",
      "metadata": {
        "id": "Zil5VY1KGc_r"
      },
      "source": [
        "number = int(input())\n",
        "\n",
        "remainder_2 = number % 2\n",
        "remainder_3 = number % 3\n",
        "\n",
        "is_lucky_number = False\n",
        "if (remainder_2 == 0) and (remainder_3 == 0):\n",
        "    print(\"Number is divisible by 6\")\n",
        "    is_lucky_number = True\n",
        "\n",
        "if (remainder_3 == 0) and (not is_lucky_number):\n",
        "    print(\"Number is divisible by 3\")\n",
        "    is_lucky_number = True\n",
        "\n",
        "if (remainder_2 == 0)  and (not is_lucky_number):\n",
        "    print(\"Number is divisible by 2\")\n",
        "    is_lucky_number = True\n",
        "\n",
        "if not is_lucky_number:\n",
        "    print(\"Number is not divisible by 2, 3 or 6\")\n"
      ],
      "execution_count": null,
      "outputs": []
    },
    {
      "cell_type": "code",
      "metadata": {
        "id": "ApxvR_POGdCr"
      },
      "source": [
        "# Power of a number\n",
        "# Given two positive integers, which is a number and a power. Write a program to calculate the power of the given number.\n",
        "# Input\n",
        "\n",
        "# The first line of input will contain an integer, (A).\n",
        "# The second line of input will contain an integer, (B).\n",
        "# Output\n",
        "\n",
        "# The output should be a single line containing the power of the given number. (AB)\n",
        "# Explanation\n",
        "\n",
        "# For example, if the given number is 3 and the power is 2, your code should print the power of the given number (32), which is 9.\n",
        "number = int(input())\n",
        "power = int(input())\n",
        "\n",
        "print(number ** power)"
      ],
      "execution_count": null,
      "outputs": []
    },
    {
      "cell_type": "code",
      "metadata": {
        "id": "uKbQ0VdqGdW5"
      },
      "source": [
        "# Lucky Number - 3\n",
        "# Given a two-digit number, print \"Lucky Number\" if any of the following conditions are satisfied\n",
        "# \t1. The number is a multiple of 9\n",
        "# \t2. One of the digits is 9\n",
        "# Print \"Unlucky Number\" in all other cases.\n",
        "# Input\n",
        "\n",
        "# The first line of input will contain an integer.\n",
        "# Output\n",
        "\n",
        "# If any of the above conditions are satisfied, print \"Lucky Number\".\n",
        "# In all other cases, print \"Unlucky Number\".\n",
        "# Explanation\n",
        "\n",
        "# For example, if the given number is 18, which is a multiple of 9, the output should be \"Lucky Number\".\n",
        "\n",
        "# Whereas, if the given number is 13, which does not satisfy any of the conditions, the output should be \"Unlucky Number\".\n",
        "number = int(input())\n",
        "is_multiple_of_9 = (number % 9 == 0)\n",
        "\n",
        "number = str(number)\n",
        "\n",
        "first_digit = int(number[0])\n",
        "second_digit = int(number[1])\n",
        "\n",
        "is_first_digit_9 = (first_digit == 9)\n",
        "is_second_digit_9 = (second_digit == 9)\n",
        "\n",
        "is_any_digit_9 = is_first_digit_9 or is_second_digit_9\n",
        "\n",
        "if is_any_digit_9 or is_multiple_of_9:\n",
        "    print(\"Lucky Number\")\n",
        "else:\n",
        "    print(\"Unlucky Number\")"
      ],
      "execution_count": null,
      "outputs": []
    },
    {
      "cell_type": "code",
      "metadata": {
        "id": "Fz6iNA3oGdZj"
      },
      "source": [
        "# Relation Between Two Numbers\n",
        "# Given two integers A and B, write a program to print the relation between the two numbers.\n",
        "# Input\n",
        "\n",
        "# The first line of input will contain an integer.\n",
        "# The second line of input will contain an integer.\n",
        "# Output\n",
        "\n",
        "# If A is equal to B, print \"A == B\".\n",
        "# If A is greater than B, print \"A > B\".\n",
        "# If A is less than B, print \"A < B\".\n",
        "# Explanation\n",
        "\n",
        "# For example, if the given numbers are A is 3 and B is 4, where 3 is less than 4. So the output should be \"A < B\".\n",
        "# For example, if the given numbers are A is 4 and B is 4, where 4 is equal to 4. So the output should be \"A == B\".\n",
        "a = int(input())\n",
        "b = int(input())\n",
        "\n",
        "if a == b:\n",
        "    print(\"A == B\")\n",
        "elif a > b:\n",
        "    print(\"A > B\")\n",
        "else:\n",
        "    print(\"A < B\")"
      ],
      "execution_count": null,
      "outputs": []
    },
    {
      "cell_type": "code",
      "metadata": {
        "id": "wNg9GNH7H4Rg"
      },
      "source": [
        "# Get Grades\n",
        "# Write a program to calculate the grade of the student based on marks he/she scored.\n",
        "# Input\n",
        "\n",
        "# The first line of input will contain a float.\n",
        "# Output\n",
        "\n",
        "# If the given marks are greater than 85, print \"A\".\n",
        "# If the given marks are greater than 70 and less than or equal to 85, print \"B\".\n",
        "# If the given marks are greater than or equal to 60 and less than or equal to 70, print \"C\".\n",
        "# If the given marks are less than 60, print \"F\".\n",
        "# Explanation\n",
        "\n",
        "# For example, if the given marks of a student are 70.5, your code should print the grade \"B\".\n",
        "# Similarly, if the marks of a student are 90, your code should print the grade \"A\".\n",
        "marks = float(input())\n",
        "\n",
        "if marks > 85:\n",
        "    print(\"A\")\n",
        "elif marks > 70:\n",
        "    print(\"B\")\n",
        "elif marks >= 60:\n",
        "    print(\"C\")\n",
        "else:\n",
        "    print(\"F\")"
      ],
      "execution_count": null,
      "outputs": []
    },
    {
      "cell_type": "code",
      "metadata": {
        "id": "Nz7HTktDH4Vm"
      },
      "source": [
        "# Greeting Message\n",
        "# Write a program to print a greeting message based on the given time.\n",
        "# Input\n",
        "\n",
        "# The first line of input will be an integer.\n",
        "# Output\n",
        "\n",
        "# If the time is greater than or equal to 4 and less than 12, print \"Good Morning\".\n",
        "# If the time is greater than or equal to 12 and less than 16, print \"Good Afternoon\".\n",
        "# If the time is greater than or equal to 16 and less than 20, print \"Good Evening\".\n",
        "# If the time is greater than or equal to 20 or less than 4, print \"Good Night\".\n",
        "# Explanation\n",
        "\n",
        "# For example, if the given time is 9, your code should print \"Good Morning\".\n",
        "# For example, if the given time is 14, your code should print \"Good Afternoon\""
      ],
      "execution_count": null,
      "outputs": []
    },
    {
      "cell_type": "code",
      "metadata": {
        "id": "u_VwDk6oH4Yi"
      },
      "source": [
        "time=int(input())\n",
        "\n",
        "if_morning =((time>=4)and(time<12))\n",
        "if_afternoon =((time>=12)and (time<16))\n",
        "if_evening =((time>=16)and(time<20))\n",
        "\n",
        "if is_morning :\n",
        "    print(\"Good Morning\")\n",
        "elif is_afternoon:\n",
        "    print(\"Good Afternoon\")\n",
        "elif is_evening:\n",
        "    print(\"Good Evening\")\n",
        "else:\n",
        "    print(\"Good Night\")"
      ],
      "execution_count": null,
      "outputs": []
    },
    {
      "cell_type": "code",
      "metadata": {
        "id": "YJG7IJkJH4bN"
      },
      "source": [
        "# Name of the polygon\n",
        "# Given the number of sides, write a program to print the name of the polygon.\n",
        "# Input\n",
        "\n",
        "# The first line of input will contain an integer.\n",
        "# Output\n",
        "\n",
        "# If the given number of sides is less than 3, print \"Not Polygon\".\n",
        "# If the given number of sides is equal to 3, print \"Triangle\".\n",
        "# If the given number of sides is equal to 4, print \"Quadrilateral\".\n",
        "# If the given number of sides is equal to 5, print \"Pentagon\".\n",
        "# If the given number of sides is greater than 5, print \"Big Polygon\".\n",
        "# Explanation\n",
        "\n",
        "# For example, if the given number of sides is 4, the output should be \"Quadrilateral\".\n",
        "# Similarly, if the given number of sides is 2, the output should be \"Not Polygon\".\n",
        "number_of _sides = int(input())\n",
        "\n",
        "if number_of_sides < 3 :\n",
        "    print(\"Not Polygon\")\n",
        "elif number of sides ==3 :\n",
        "    print(\"Triangle\")\n",
        "elif number of sides ==4 :\n",
        "    print(\"Quadrilateral\")\n",
        "elif number of sides ==5 :\n",
        "    print(\"Pentagon\")\n",
        "else:"
      ],
      "execution_count": null,
      "outputs": []
    },
    {
      "cell_type": "code",
      "metadata": {
        "id": "W7o88PDMH4d5"
      },
      "source": [
        "# Get Season\n",
        "# Write a program to find season for the given month number.\n",
        "# Input\n",
        "\n",
        "# The first line of input will contain an integer that indicates the number of the month.\n",
        "# If the given number of the month is 3, that indicates March month.\n",
        "# Output\n",
        "\n",
        "# If the given month is either November or December or January, print \"Winter\".\n",
        "# If the given month is either February or March, print \"Spring\".\n",
        "# If the given month is either April or May or June print \"Summer\".\n",
        "# If the given month is either July or August, print \"Rainy\".\n",
        "# If the given month is either September or October, print \"Autumn\".\n",
        "# Explanation\n",
        "\n",
        "# For example, if the given month is 1, which indicates January month, the output should be \"Winter\".\n",
        "# Similarly, if the given month is 4, which indicates April month, the output should be \"Summer\"."
      ],
      "execution_count": null,
      "outputs": []
    },
    {
      "cell_type": "code",
      "metadata": {
        "id": "8keUQu5TH4gh",
        "colab": {
          "base_uri": "https://localhost:8080/"
        },
        "outputId": "e748da8a-cf4b-44cf-807c-88f9ad2071f4"
      },
      "source": [
        "march=(int(input()))\n",
        "\n",
        "is_winter_month = ((march == 11) or (march == 12))\n",
        "is_spring_month = ((march == 2) or (march == 3))\n",
        "is_summer_month = ((march == 4) or (march == 5))\n",
        "is_rainy_month = ((march == 9 ) or (march == 10))\n",
        "\n",
        "if is_winter_month :\n",
        "    season = \"winter\"\n",
        "elif is_spring_month :\n",
        "    season = \"spring\"\n",
        "elif is_summer_month :\n",
        "    season = \"summer\"\n",
        "elif is_rainy_month :\n",
        "    season = \"rainy\"\n",
        "else:\n",
        "    season =\"Autum\"\n",
        "    \n",
        "print(season)"
      ],
      "execution_count": null,
      "outputs": [
        {
          "output_type": "stream",
          "text": [
            "3\n",
            "spring\n"
          ],
          "name": "stdout"
        }
      ]
    },
    {
      "cell_type": "code",
      "metadata": {
        "id": "VEebr_p-H4je"
      },
      "source": [
        "# Permission to attempt Exam\n",
        "# Given a student's percentage of attendance and status of having a medical report. Write a program to decide if a student is eligible to take the final exam.\n",
        "# Input\n",
        "\n",
        "# The first line of input will contain a string.\n",
        "# The second line of input will contain a character(either \"Y\" or \"N\").\n",
        "# Output\n",
        "\n",
        "# If the student has greater than or equal to 75% of attendance, print \"Allowed to write exam\".\n",
        "# If the student has less than 75% of attendance and has a medical reason is equal to \"Y\", print \"Allowed to write exam\".\n",
        "# If the student has attendance less than 75% with no medical reason is equal to \"N\", print \"Cannot write exam\".\n",
        "# Explanation\n",
        "\n",
        "# For example, if the given student has an attendance of 80%, which is greater than the required percentage, the output should be \"Allowed to write exam\".\n",
        "# Similarly, if the given student has an attendance of 70% and the medical reason \"Y\". As the student has the medical reason, the output should be \"Allowed to write exam\".\n",
        "# Whereas, if the given student has an attendance of 72%, which is less than the required percentage and the medical reason \"N\". As the student has no medical reason, the output should be \"Cannot write exam\"."
      ],
      "execution_count": null,
      "outputs": []
    },
    {
      "cell_type": "code",
      "metadata": {
        "id": "gaQrtXSoH4mQ"
      },
      "source": [
        "attendance = input()\n",
        "medical_reason = input()\n",
        "\n",
        "length=len(attendance)\n",
        "attendance = attendance[:(length-1)]\n",
        "attendance = int(attendance)\n",
        "\n",
        "if attendance >= 75:\n",
        "    print(\"Allowed to write exam\")\n",
        "elif attendance < 75  and medical_reason == \"Y\" :\n",
        "    print(\"Allowed to write exam\")\n",
        "else:\n",
        "    print(\"Cannot write exam\")"
      ],
      "execution_count": null,
      "outputs": []
    },
    {
      "cell_type": "code",
      "metadata": {
        "id": "J0zRyaVJGdcW"
      },
      "source": [
        "# Electricity Bill\n",
        "# In this problem, you need to write a program to calculate the electricity bill for a household, based on the units of electricity the household consumed. The price for unit varies based on the slab. The charges per unit for different slabs are as mentioned below:\n",
        "# For the first 50 units (0-50), the charge is 2/unit\n",
        "# For the next 100 units (51-150), the charge is 3/unit\n",
        "# For the next 100 units (151-250), the charge is 5/unit\n",
        "# For above 250 units (251 and above), the charge is 8/unit\n",
        "# Apart from these charges, there is also an additional surcharge of 20% on the total amount is added to the bill.\n",
        "# Input\n",
        "\n",
        "# The input will be a single line containing an integer. \n",
        "# Output\n",
        "\n",
        "# The output should be a single line containing the calculated bill amount. \n",
        "# Explanation\n",
        "\n",
        "# For example, if the given number of units is 50.\n",
        "\n",
        "# Charges 2/unit for 0 to 50 units   =>  50 x 2   = 100\n",
        "# Charges 3/unit for 51 to 150 units =>   0 x 3   =   0\n",
        "# Charges 5/unit for 151 to 250      =>   0 x 5   =   0\n",
        "# Charges 8/unit for 251 and above   =>   0 x 8   =   0\n",
        "# -----------------------------------------------------\n",
        "# Total                              =>             100 \n",
        "# Surcharge (20 % of Bill)           => 100 x 0.2 =  20\n",
        "# -----------------------------------------------------\n",
        "# Bill                               =>             120\n",
        "# -----------------------------------------------------\n",
        "\n",
        "# So the total bill should be 120.0\n",
        "\n",
        "\n",
        "# For example, if the given number of units is 200.\n",
        "\n",
        "# Charges 2/unit for 0 to 50 units   =>  50 x 2   = 100\n",
        "# Charges 3/unit for 51 to 150 units => 100 x 3   = 300\n",
        "# Charges 5/unit for 151 to 250      =>  50 x 5   = 250 \n",
        "# Charges 8/unit for 251 and above   =>   0 x 8   =   0\n",
        "# -----------------------------------------------------\n",
        "# Total                              =>             650 \n",
        "# Surcharge (20 % of Bill)           => 650 x 0.2 = 130\n",
        "# -----------------------------------------------------\n",
        "# Bill                               =>             780\n",
        "# -----------------------------------------------------\n",
        "\n",
        "# So the total bill should be 780.0"
      ],
      "execution_count": null,
      "outputs": []
    },
    {
      "cell_type": "code",
      "metadata": {
        "id": "JaV3d4aJGd0B"
      },
      "source": [
        "units = int(input())\n",
        "\n",
        "\n",
        "if units < 50:\n",
        "    bill = 2 * units\n",
        "elif units < 150:\n",
        "    bill = (2 * 50) + (3 * (units - 50))\n",
        "elif units < 250:\n",
        "    bill = (2 * 50) + (3 * 100) + (5 * (units - 150))\n",
        "elif units >= 250:\n",
        "    bill = (2 * 50) + (3 * 100) + (5 * 100) + (8 * (units - 250))\n",
        "\n",
        "surcharge = (0.2 * bill)\n",
        "\n",
        "total_bill = (bill + surcharge)\n",
        "\n",
        "print(total_bill)"
      ],
      "execution_count": null,
      "outputs": []
    },
    {
      "cell_type": "code",
      "metadata": {
        "id": "go9XCSjwGd2p"
      },
      "source": [
        "# Sum of The Digits - 2\n",
        "# Given an integer between 0 and 10000, write a program to print the sum of its digits.\n",
        "# Input\n",
        "\n",
        "# The first line of input will contain an integer.\n",
        "# Output\n",
        "\n",
        "# The first line of output should be the sum of the digits.\n",
        "# Explanation\n",
        "\n",
        "# For example, if the given number is 25, your code should print the sum of the digits (2 + 5), which is 7.\n",
        "\n",
        "# Similarly, if the given number is 692, your code should print the sum of the digits (6 + 9 + 2), which is 17.\n",
        "\n",
        "# Similarly, if the given number is 9999, your code should print the sum of the digits (9 + 9 + 9 + 9), which is 36."
      ],
      "execution_count": null,
      "outputs": []
    },
    {
      "cell_type": "code",
      "metadata": {
        "id": "FxxBtAidJKef"
      },
      "source": [
        "number=int(input())\n",
        "\n",
        "is_one_digit = (len(number) ==1 )\n",
        "is_two_digit = (len(number) == 2 )\n",
        "is_three_digit =(len(number) == 3)\n",
        "\n",
        "if is_one_digit:\n",
        "    print(number)\n",
        "elif is_two_digit:\n",
        "    first_digit =int (number[0])\n",
        "    secoond_digit = int(number[1])\n",
        "    print()"
      ],
      "execution_count": null,
      "outputs": []
    },
    {
      "cell_type": "code",
      "metadata": {
        "id": "0DRCtD2MJKhh"
      },
      "source": [
        "# Simple Calculator\n",
        "# Write a program to create a menu driven calculator that performs basic arithmetic operations (+, -, *, /, and %).\n",
        "# Input\n",
        "\n",
        "# The first line of input will contain a single character(+, -, *, /, and %).\n",
        "# The second line of input will contain an integer.\n",
        "# The third line of input will contain an integer.\n",
        "# Output\n",
        "\n",
        "# If the given operator is \"+\", print the sum of two numbers.\n",
        "# If the given operator is \"-\", print the result of the subtraction of the two numbers.\n",
        "# If the given operator is \"*\", print the result of the multiplication of the two numbers.\n",
        "# If the given operator is \"/\", print the result of the division of the two numbers.\n",
        "# If the given operator is \"%\", print the result of the modulus operation of the two numbers.\n",
        "# Explanation\n",
        "\n",
        "# For example, if the given operator is \"+\" and the two numbers are 3 and 5. As it is an addition operator, your code should print the sum of the given two numbers (3 + 5), which is 8.\n",
        "\n",
        "# Similarly, if the given operator is \"*\" and the two numbers are 2 and 5.\n",
        "# As it is a multiplication operator, your code should print the result of the multiplication of the given two numbers (2 * 5), which is 10.\n",
        "\n",
        "# Similarly, if the given operator is \"-\" and the two numbers are 10 and 9.\n",
        "# As it is a subtraction operator, your code should print the result of the subtraction of the given two numbers (10 - 9), which is 1."
      ],
      "execution_count": null,
      "outputs": []
    },
    {
      "cell_type": "code",
      "metadata": {
        "id": "-oxO9maaJKlR"
      },
      "source": [
        "operator =int(input())\n",
        "first_number =int(input())\n",
        "second_number =int(input())\n",
        "\n",
        "if operator == \"+\" :\n",
        "    print(first_number + second_number)\n",
        "elif operator == \"-\" :\n",
        "    print(first_number - second_number)\n",
        "elif operator == \"*\" :\n",
        "     print(first_number * second_number)\n",
        "else :\n",
        "     print(first_number)"
      ],
      "execution_count": null,
      "outputs": []
    },
    {
      "cell_type": "code",
      "metadata": {
        "id": "R0d_7cD_JKoV"
      },
      "source": [
        "# Denominations\n",
        "# Given an amount, write a program to find the minimum number of notes of different denominations that sum up to the given amount.\n",
        "# Available note denominations are 100, 50, 10, 1.\n",
        "# Input\n",
        "\n",
        "# The input will be a single line containing an integer.\n",
        "# Output\n",
        "\n",
        "# The first line of output should contain the number of 100 notes, print \"100:a\".\n",
        "# The second line of output should contain the number of 50 notes, print \"50:b\".\n",
        "# The third line of output should contain the number of 10 notes., print \"10:c\".\n",
        "# The fourth line of output should contain the number of 1 notes, print \"1:d\".\n",
        "# In place of (a, b, c, d), print the count of corresponding notes.\n",
        "# Explanation\n",
        "\n",
        "# For example, if the given amount is 893, in this problem you have to give the minimum number of notes that sum up to the given amount. Since we only have notes with denomination 100, 50, 10 and 1, we can only use these notes. \n",
        "\n",
        "# Number of 100 notes => 100 x 8 = 800\n",
        "# Number of 50 notes => 50 x 1 = 50\n",
        "# Number of 10 notes => 10 x 4 = 40\n",
        "# Number of 1 notes => 1 x 3 = 3\n",
        "# ----------------------------------------\n",
        "# Total => 893"
      ],
      "execution_count": null,
      "outputs": []
    },
    {
      "cell_type": "code",
      "metadata": {
        "id": "GrE42EjBJKrX"
      },
      "source": [
        "\n",
        "amount= int(input())\n",
        "\n",
        "note_100 = 0\n",
        "note_50 = 0\n",
        "note_10 = 0\n",
        "note_1 = 0\n",
        "\n",
        "if amount >=100 :\n",
        "   note_100 =int(amount/100)\n",
        "   amount = (amount % 100)\n",
        "if amount >=50 :\n",
        "    note_50 = int(amount/50)\n",
        "    amount = (amount % 50)\n",
        " \n",
        "if amount >=10 :\n",
        "    note_10 = int(amount/10)\n",
        "    amount = (amount % 10)\n",
        "note_1 = amount\n",
        "\n",
        "print(\"100:\" +  str(note_100))\n",
        "print(\"50:\" +   str(note_50))\n",
        "print(\"10:\" +   str(note_10))\n",
        "print(\"1:\" +    str(note_1))"
      ],
      "execution_count": null,
      "outputs": []
    },
    {
      "cell_type": "code",
      "metadata": {
        "id": "HT8FPUkrJKuu"
      },
      "source": [
        "#Loops > Coding Practice - 7"
      ],
      "execution_count": null,
      "outputs": []
    },
    {
      "cell_type": "code",
      "metadata": {
        "id": "2EC685CbJKyD"
      },
      "source": [
        "# Print Integers\n",
        "# Write a program to print integers from 1 to the given integer (N).\n",
        "# Input\n",
        "\n",
        "# The first line of input will contain a positive integer.\n",
        "# Output\n",
        "\n",
        "# The output should be of N lines, printing an integer in each line.\n",
        "# Explanation\n",
        "\n",
        "# For example, if the given number is 3, your code should print the\n",
        "\n",
        "# 1\n",
        "# 2\n",
        "# 3\n",
        "\n",
        "# Similarly, if the given number is 5, your code should print the\n",
        "\n",
        "# 1\n",
        "# 2\n",
        "# 3\n",
        "# 4\n",
        "# 5\n",
        "n = int(input())\n",
        "counter = 1\n",
        "while counter <=n:\n",
        "    print(counter)\n",
        "    counter = counter +1 \n"
      ],
      "execution_count": null,
      "outputs": []
    },
    {
      "cell_type": "code",
      "metadata": {
        "id": "Lb-BuuKSJI6T"
      },
      "source": [
        "# Print Integers - 2\n",
        "# Given two integer numbers M and N, write a program to print the integers from M to N.\n",
        "# Input\n",
        "\n",
        "# The first line of input will contain an integer.\n",
        "# The second line of input will contain an integer.\n",
        "# Output\n",
        "\n",
        "# The output should be printing an integer in each line, starting from M to N.\n",
        "# Explanation\n",
        "\n",
        "# For example, if the given numbers are 2 and 6, the output should be\n",
        "\n",
        "# 2\n",
        "# 3\n",
        "# 4\n",
        "# 5\n",
        "# 6\n",
        "\n",
        "# Similarly, if the given numbers are -2 and 2, the output should be\n",
        "\n",
        "# -2\n",
        "# -1\n",
        "# 0\n",
        "# 1\n",
        "# 2\n",
        "m=int(input())\n",
        "n=int(input())\n",
        "\n",
        " while m<=n:\n",
        "    print(m)\n",
        "    m=m+1"
      ],
      "execution_count": null,
      "outputs": []
    },
    {
      "cell_type": "code",
      "metadata": {
        "id": "YmN2bzq27GpU"
      },
      "source": [
        "# Solid Square\n",
        "# Write a program to print a solid square pattern of N rows and N columns using the asterisk character (*), where integer N is given as an input.\n",
        "# Input\n",
        "\n",
        "# The first line of input will contain a positive integer.\n",
        "# Output\n",
        "\n",
        "# The output should be the N number of lines and N number of columns with the asterisk character (*).\n",
        "# Note: There is a space after each asterisk character(*).\n",
        "# Explanation\n",
        "\n",
        "# For example, if the given number is 4, your code should print the following pattern:\n",
        "\n",
        "# * * * * \n",
        "# * * * * \n",
        "# * * * * \n",
        "# * * * * \n",
        "\n",
        "\n",
        "\n",
        "# For example, if the given number is 2, your code should print the following pattern:\n",
        "\n",
        "# * * \n",
        "# * *\n",
        "n=int(input())\n",
        "\n",
        "counter = 0\n",
        "while counter < n:\n",
        "    print(\"* \"* n)\n",
        "    counter =counter +1"
      ],
      "execution_count": null,
      "outputs": []
    },
    {
      "cell_type": "code",
      "metadata": {
        "id": "k2A6wi837Grt"
      },
      "source": [
        "\n",
        "# Solid Rectangle\n",
        "# Given two integers M and N, write a program to print a solid rectangle pattern of M rows and N columns using the asterisk character (*).\n",
        "# Input\n",
        "\n",
        "# The first line of input will contain a positive integer.\n",
        "# The second line of input will contain a positive integer.\n",
        "# Output\n",
        "\n",
        "# The output should be the M number of lines and N number of columns with the asterisk character (*).\n",
        "# Note: There is a space after each asterisk character(*).\n",
        "# Explanation\n",
        "\n",
        "# For example, if the given numbers of rows are 2 and the number of columns is 3, the output should be 2 lines and 3 columns with the asterisk character(*).\n",
        "\n",
        "# * * * \n",
        "# * * * \n",
        "\n",
        "\n",
        "\n",
        "# For example, if the given numbers of rows are 4 and the number of columns is 6, the output should be 4 lines and 6 columns with the asterisk character(*).\n",
        "\n",
        "# * * * * * * \n",
        "# * * * * * * \n",
        "# * * * * * * \n",
        "# * * * * * *\n",
        "rows = int(input())\n",
        "columns = int(input())\n",
        "counter = 0\n",
        "while counter < rows:\n",
        "    print(\"* \"* columns)\n",
        "    counter = counter +1"
      ],
      "execution_count": null,
      "outputs": []
    },
    {
      "cell_type": "code",
      "metadata": {
        "id": "zXeuHP8C7GuD"
      },
      "source": [
        "# Solid Right Angled Triangle\n",
        "# Given an integer number (N) as input. Write a program to print the right-angled triangular pattern of N lines using an asterisk(*) character.\n",
        "# Input\n",
        "\n",
        "# The first line of input will contain a positive integer.\n",
        "# Output\n",
        "\n",
        "# The output should be N lines with an asterisk(*) character printing in a right-angled triangular pattern.\n",
        "# Note: There is a space after each asterisk(*) character.\n",
        "# Explanation\n",
        "\n",
        "# For example, if the given number is 4,\n",
        "# the output should be\n",
        "\n",
        "# * \n",
        "# * * \n",
        "# * * * \n",
        "# * * * *\n",
        "\n",
        "\n",
        "\n",
        "# For example, if the given number is 2,\n",
        "# the output should be\n",
        "\n",
        "# * \n",
        "# * * \n",
        "n=int(input())\n",
        "counter=1\n",
        "while counter <= n:\n",
        "    print(\"* \" * counter)\n",
        "    counter=(counter+1)"
      ],
      "execution_count": null,
      "outputs": []
    },
    {
      "cell_type": "code",
      "metadata": {
        "id": "qmHrIAZE7GwU"
      },
      "source": [
        "# Sum of Natural Numbers\n",
        "# Given an integer number (N) as input. Write a program to print the sum of first N natural numbers.\n",
        "# Input\n",
        "\n",
        "# The first line of input will contain a positive integer.\n",
        "# Output\n",
        "\n",
        "# The output should be a single line containing the sum of first N natural numbers.\n",
        "# Explanation\n",
        "\n",
        "# For example, if the given number is 6, the sum of the first 6 natural numbers, which is (1 + 2 + 3 + 4 + 5 + 6). So th\n",
        "# e output should be 21.\n",
        "\n",
        "# For example, if the given number is 3, the sum of the first 3 natural numbers, which is (1 + 2 + 3). So the output should be 6.\n",
        "n=int(input())\n",
        "counter = 0\n",
        "sum=0\n",
        "while counter <=n :\n",
        "    sum=(sum+counter)\n",
        "    counter=counter+1\n",
        "print(sum)"
      ],
      "execution_count": null,
      "outputs": []
    },
    {
      "cell_type": "code",
      "metadata": {
        "id": "TJy69F697G1h"
      },
      "source": [
        "\n",
        "# Read N Inputs\n",
        "# Given an integer N, write a program which reads N inputs and prints them.\n",
        "# Input\n",
        "\n",
        "# The first line of input will contain a positive integer, N.\n",
        "# The following N lines will contain an integer in each line.\n",
        "# Output\n",
        "\n",
        "# The output should be N lines, containing an integer per line.\n",
        "# Explanation\n",
        "\n",
        "# For example, if the given N is 3, then read the inputs in the next 3 lines and print them. If the given input integers in the next three lines are 8, 11, and 25, the output should be\n",
        "\n",
        "# 8\n",
        "# 11\n",
        "# 25\n",
        "n=int(input())\n",
        "counter = 0\n",
        "while counter < n:\n",
        "    number=int(input())\n",
        "    print(number)\n",
        "    counter = counter+1"
      ],
      "execution_count": null,
      "outputs": []
    },
    {
      "cell_type": "code",
      "metadata": {
        "id": "66xFwEkc7G_v"
      },
      "source": [
        "# Sum of the Given Numbers\n",
        "# Given an integer N, write a program which reads N inputs and prints the sum of the given input integers.\n",
        "# Input\n",
        "\n",
        "# The first line of input will contain a positive integer, N.\n",
        "# The next N lines will contain the integers, each in a line.\n",
        "# Output\n",
        "\n",
        "# The output should be the sum of the given input integers.\n",
        "# Explanation\n",
        "\n",
        "# For example, if the given N is 3, then read the inputs in the next 3 lines and print the sum of the three input integers. If the given input integers in the next three lines are 8, 11, and 25, the output should be 44.\n",
        "n=int(input())\n",
        "counter=0\n",
        "sum=0\n",
        "while counter<n :\n",
        "    number=int(input())\n",
        "    sum=sum+number\n",
        "    counter=counter+1\n",
        "print(sum)"
      ],
      "execution_count": null,
      "outputs": []
    },
    {
      "cell_type": "code",
      "metadata": {
        "id": "jm1jaXT57HC0"
      },
      "source": [
        "# Identify the Mistake - Print Characters\n",
        "# Write a program that reads a word and prints each character of the word in a new line.\n",
        "# Input\n",
        "\n",
        "# The first line of input will contain a word.\n",
        "# Output\n",
        "\n",
        "# The output should contain N lines, equal to the length of the word. Each of the N lines should contain a character of the word.\n",
        "# Explanation\n",
        "\n",
        "# For example, if the given word is \"Python\".\n",
        "# Your code should print each character of the word in a line.\n",
        "# So the output should be\n",
        "\n",
        "# P\n",
        "# y\n",
        "# t\n",
        "# h\n",
        "# o\n",
        "# n\n",
        "a=input()\n",
        "counter=0\n",
        "len_Of_a =len(a)\n",
        "while counter <=(len_Of_a-1):\n",
        "    print(a[counter])\n",
        "    counter=counter+1"
      ],
      "execution_count": null,
      "outputs": []
    },
    {
      "cell_type": "code",
      "metadata": {
        "id": "MgqZaAw47HFC"
      },
      "source": [
        "#Loops > Coding Practice - 8"
      ],
      "execution_count": null,
      "outputs": []
    },
    {
      "cell_type": "code",
      "metadata": {
        "id": "ZO6_TpzI7HHJ"
      },
      "source": [
        "# Print Integers\n",
        "# Write a program to print integers from 1 to the given integer (N).\n",
        "# Note: Use For Loop\n",
        "# Input\n",
        "\n",
        "# The input will be a single line containing a positive integer (N).\n",
        "# Output\n",
        "\n",
        "# The output should be of N lines, printing an integer in each line.\n",
        "# Explanation\n",
        "\n",
        "# For example, if the given number is 3, your code should print the\n",
        "\n",
        "# 1\n",
        "# 2\n",
        "# 3\n",
        "\n",
        "# Similarly, if the given number is 5, your code should print the\n",
        "\n",
        "# 1\n",
        "# 2\n",
        "# 3\n",
        "# 4\n",
        "# 5\n"
      ],
      "execution_count": null,
      "outputs": []
    },
    {
      "cell_type": "code",
      "metadata": {
        "id": "Onv1SXYtDFv4"
      },
      "source": [
        "# Print Integers - 2\n",
        "# Given two integer numbers M and N, write a program to print the integers from M to N.\n",
        "# Note: Use For Loop\n",
        "# Input\n",
        "\n",
        "# The first line of input will contain an integer.\n",
        "# The second line of input will contain an integer.\n",
        "# Output\n",
        "\n",
        "# The output should be printing an integer in each line, starting from M to N.\n",
        "# Explanation\n",
        "\n",
        "# For example, if the given numbers are 2 and 6, the output should be\n",
        "\n",
        "# 2\n",
        "# 3\n",
        "# 4\n",
        "# 5\n",
        "# 6\n",
        "\n",
        "# Similarly, if the given numbers are -2 and 2, the output should be\n",
        "\n",
        "# -2\n",
        "# -1\n",
        "# 0\n",
        "# 1\n",
        "# 2\n",
        "m=int(input())\n",
        "n=int(input())\n",
        "\n",
        "for number in range(m,n+1):\n",
        "    print(number)"
      ],
      "execution_count": null,
      "outputs": []
    },
    {
      "cell_type": "code",
      "metadata": {
        "id": "RNMpqe0dDFyv"
      },
      "source": [
        "# Solid Square\n",
        "# Write a program to print a solid square pattern of N rows and N columns using the asterisk character (*), where integer N is given as an input.\n",
        "# Note: Use For Loop\n",
        "# Input\n",
        "\n",
        "# The input will be a single line containing a positive integer (N).\n",
        "# Output\n",
        "\n",
        "# The output should be the N number of lines and N number of columns with the asterisk character (*).\n",
        "# Note: There is a space after each asterisk character(*).\n",
        "# Explanation\n",
        "\n",
        "# For example, if the given number is 4, your code should print the following pattern:\n",
        "\n",
        "# * * * * \n",
        "# * * * * \n",
        "# * * * * \n",
        "# * * * * \n",
        "\n",
        "\n",
        "\n",
        "# For example, if the given number is 2, your code should print the following pattern:\n",
        "\n",
        "# * * \n",
        "# * *\n",
        "n=int(input())\n",
        "for number in range(n):\n",
        "    print(\"* \" * n)"
      ],
      "execution_count": null,
      "outputs": []
    },
    {
      "cell_type": "code",
      "metadata": {
        "id": "Yl7VMoDqDF1O"
      },
      "source": [
        "# Solid Rectangle\n",
        "# Given two integers M and N, write a program to print a solid rectangle pattern of M rows and N columns using the asterisk character (*).\n",
        "# Note: Use For Loop\n",
        "# Input\n",
        "\n",
        "# The first line of input will contain a positive integer.\n",
        "# The second line of input will contain a positive integer.\n",
        "# Output\n",
        "\n",
        "# The output should be the M number of lines and N number of columns with the asterisk character (*).\n",
        "# Note: There is a space after each asterisk character(*).\n",
        "# Explanation\n",
        "\n",
        "# For example, if the given numbers of rows are 2 and the number of columns is 3, the output should be 2 lines and 3 columns with the asterisk character(*).\n",
        "\n",
        "# * * * \n",
        "# * * * \n",
        "\n",
        "\n",
        "\n",
        "# For example, if the given numbers of rows are 4 and the number of columns is 6, the output should be 4 lines and 6 columns with the asterisk character(*).\n",
        "\n",
        "# * * * * * * \n",
        "# * * * * * * \n",
        "# * * * * * * \n",
        "# * * * * * *\n",
        "m=int(input())\n",
        "n=int(input())\n",
        "\n",
        "for number in range(m):\n",
        "    print(\"* \" * n)"
      ],
      "execution_count": null,
      "outputs": []
    },
    {
      "cell_type": "code",
      "metadata": {
        "id": "ARzO9U7xDF6g"
      },
      "source": [
        "# Solid Right Angled Triangle\n",
        "# Given an integer number (N) as input. Write a program to print the right-angled triangular pattern of N lines using an asterisk(*) character.\n",
        "# Note: Use For Loop\n",
        "# Input\n",
        "\n",
        "# The input will be a single line containing a positive integer (N).\n",
        "# Output\n",
        "\n",
        "# The output should be N lines with an asterisk(*) character printing in a right-angled triangular pattern.\n",
        "# Note: There is a space after each asterisk(*) character.\n",
        "# Explanation\n",
        "\n",
        "# For example, if the given number is 4,\n",
        "# the output should be\n",
        "\n",
        "# * \n",
        "# * * \n",
        "# * * * \n",
        "# * * * *\n",
        "\n",
        "\n",
        "\n",
        "# For example, if the given number is 2,\n",
        "# the output should be\n",
        "\n",
        "# * \n",
        "# * *\n",
        "n=int(input())\n",
        "for number in range(1,n+1):\n",
        "    print(\"* \" * number)"
      ],
      "execution_count": null,
      "outputs": []
    },
    {
      "cell_type": "code",
      "metadata": {
        "id": "XpxdSLEIDGC6"
      },
      "source": [
        "# Sum of Natural Numbers\n",
        "# Given an integer number (N) as input. Write a program to print the sum of first N natural numbers.\n",
        "# Note: Use For Loop\n",
        "# Input\n",
        "\n",
        "# The input will be a single line containing a positive integer (N).\n",
        "# Output\n",
        "\n",
        "# The output should be a single line containing the sum of first N natural numbers.\n",
        "# Explanation\n",
        "\n",
        "# For example, if the given number is 6, the sum of the first 6 natural numbers, which is (1 + 2 + 3 + 4 + 5 + 6). So the output should be 21.\n",
        "\n",
        "# For example, if the given number is 3, the sum of the first 3 natural numbers, which is (1 + 2 + 3). So the output should be 6.\n",
        "n=int(input())\n",
        "total=0\n",
        "for number in range(n+1):\n",
        "    total=total+number\n",
        "print(total)"
      ],
      "execution_count": null,
      "outputs": []
    },
    {
      "cell_type": "code",
      "metadata": {
        "id": "eNQKbK-lDGE2"
      },
      "source": [
        "# Read N Inputs\n",
        "# Given an integer N, write a program which reads N inputs and prints them.\n",
        "# Note: Use For Loop\n",
        "# Input\n",
        "\n",
        "# The first line of input will contain a positive integer, N.\n",
        "# The following N lines will contain an integer in each line.\n",
        "# Output\n",
        "\n",
        "# The output should be N lines, containing an integer per line.\n",
        "# Explanation\n",
        "\n",
        "# For example, if the given N is 3, then read the inputs in the next 3 lines and print them. If the given input integers in the next three lines are 8, 11, and 25, the output should be\n",
        "\n",
        "# 8\n",
        "# 11\n",
        "# 25\n",
        "n=int(input())\n",
        "for number in range(n):\n",
        "    m=int(input())\n",
        "    print(m)"
      ],
      "execution_count": null,
      "outputs": []
    },
    {
      "cell_type": "code",
      "metadata": {
        "id": "ips7SBj8DGHe"
      },
      "source": [
        "# Input\n",
        "#Sum of the Given Numbers\n",
        "# Given an integer N, write a program which reads N inputs and prints the sum of the given input integers.\n",
        "# Note: Use For Loop\n",
        "\n",
        "# The first line of input will contain a positive integer, N.\n",
        "# The next N lines will contain the integers, each in a line.\n",
        "# Output\n",
        "\n",
        "# The output should be the sum of the given input integers.\n",
        "# Explanation\n",
        "\n",
        "# For example, if the given N is 3, then read the inputs in the next 3 lines and print the sum of the three input integers. If the given input integers in the next three lines are 8, 11, and 25, the output should be 44.\n",
        "\n",
        "n=int(input())\n",
        "total=0\n",
        "for number in range (n):\n",
        "    m=int(input())\n",
        "    total=(total+m)\n",
        "print(total)"
      ],
      "execution_count": null,
      "outputs": []
    },
    {
      "cell_type": "code",
      "metadata": {
        "id": "37CuRRzlDGJz"
      },
      "source": [
        "# Identify the Mistake - Styled Word\n",
        "# Write a program that prints the individual characters of the given word separated with hyphens (\"-\").\n",
        "# Input\n",
        "\n",
        "# The input will be a single line containing a word.\n",
        "# Output\n",
        "\n",
        "# The output should be a single line containing characters separated with hyphens (\"-\").\n",
        "# Explanation\n",
        "\n",
        "# For example, if the given word is \"Python\", your code should print the individual characters in it separated with hyphens (\"-\"). So the output should be \"P-y-t-h-o-n\"\n",
        "a = input()\n",
        "len_of_a = len(a)\n",
        "b = a[0]\n",
        "for i in range(1, len_of_a):\n",
        "    b = b + \"-\" + a[i]\n",
        "print(b)"
      ],
      "execution_count": null,
      "outputs": []
    },
    {
      "cell_type": "code",
      "metadata": {
        "id": "awt_J6fIDGMq"
      },
      "source": [
        "# Loops > Coding Practice - 9"
      ],
      "execution_count": null,
      "outputs": []
    },
    {
      "cell_type": "code",
      "metadata": {
        "id": "8X4tOfsdDGOr"
      },
      "source": [
        "# Date Format\n",
        "# Write a program to convert the date from \"dd-mm-yy\" format to \"dd/mm/yy\" format.\n",
        "# Input\n",
        "\n",
        "# The input will be a single line containing a string.\n",
        "# Output\n",
        "\n",
        "# The output should be a single line containing the date in \"dd/mm/yy\" format.\n",
        "# Explanation\n",
        "\n",
        "# For example, if the given input date is in the format \"07-11-2020\", your code should print the date by replacing hyphens (\"-\") with forward-slashes (\"/\"). So the output should be \"07/11/2020\"\n",
        "date=input()\n",
        "date=date.replace(\"-\",\"/\")\n",
        "print(date)"
      ],
      "execution_count": null,
      "outputs": []
    },
    {
      "cell_type": "code",
      "metadata": {
        "id": "NMO9SG1WE8XZ"
      },
      "source": [
        "# Lowercase & Uppercase\n",
        "# Write a program that prints the given word in two variants.\n",
        "# First Variant: Convert all the letters in the given word to lowercase.\n",
        "# Second Variant: Convert all the letters in the given word to uppercase.\n",
        "# Input\n",
        "\n",
        "# The input will be a single line containing a string.\n",
        "# Output\n",
        "\n",
        "# The first line of output should contain the given word in lowercase.\n",
        "# The second line of output should contain the given word in uppercase.\n",
        "# Explanation\n",
        "\n",
        "# For example, if the given word is \"Learning\", your code should print all the letters of the word in lowercase (\"learning\"), and in uppercase (\"LEARNING\").\n",
        "word=input()\n",
        "lower_case_word=word.lower()\n",
        "upper_case_word=word.upper()\n",
        "print(lower_case_word)\n",
        "print(upper_case_word)"
      ],
      "execution_count": null,
      "outputs": []
    },
    {
      "cell_type": "code",
      "metadata": {
        "id": "sGiCdNNLE8aH"
      },
      "source": [
        "# Valid Password\n",
        "# Write a program to check whether the given password is valid or not.\n",
        "# Consider the password to be valid if it contains at least one digit.\n",
        "# Input\n",
        "\n",
        "# The input will be a single line containing a string.\n",
        "# Output\n",
        "\n",
        "# The output should be a single line containing either \"Valid Password\" or \"Invalid Password\".\n",
        "# Explanation\n",
        "\n",
        "# For example, if the given password is \"Qwerty00\", the output should be \"Valid Password\" as it contains a digit.\n",
        "# Whereas, if the given password is \"Dashboard\", the output should be \"Invalid Password\" as it does not contain a digit.\n",
        "password=input()\n",
        "contains_digit=False\n",
        "for character in password:\n",
        "    is_digit=character.isdigit()\n",
        "    \n",
        "    if is_digit:\n",
        "        contains_digit=True\n",
        "if contains_digit:\n",
        "    print(\"Valid Password\")\n",
        "else:\n",
        "    print(\"Invalid Password\")"
      ],
      "execution_count": null,
      "outputs": []
    },
    {
      "cell_type": "code",
      "metadata": {
        "id": "fzGKg65YE8cp"
      },
      "source": [
        "# Valid Password - 2\n",
        "# Write a program to check whether the given password is valid or not.\n",
        "# Consider the password to be valid if it contains at least one uppercase letter.\n",
        "# Input\n",
        "\n",
        "# The input will be a single line containing a string.\n",
        "# Output\n",
        "\n",
        "# The output should be a single line containing either \"Valid Password\" or \"Invalid Password\".\n",
        "# Explanation\n",
        "\n",
        "# For example, if the given password is \"Qwerty00\", the output should be \"Valid Password\" as it contains an uppercase letter.\n",
        "# Whereas, if the given password is \"stadium\", the output should be \"Invalid Password\" as it does not contain a uppercase letter.\n",
        "password=input()\n",
        "is_all_lower = (password.lower()==password)\n",
        "if is_all_lower:\n",
        "    print(\"Invalid Password\")\n",
        "else:\n",
        "    print(\"Valid Password\")"
      ],
      "execution_count": null,
      "outputs": []
    },
    {
      "cell_type": "code",
      "metadata": {
        "id": "vQl7al27E8fM"
      },
      "source": [
        "# Valid Password - 3\n",
        "# Write a program to check whether the given password is valid or not.\n",
        "# Consider the password to be valid if it contains at least one uppercase letter, one lowercase letter, and one digit.\n",
        "# Input\n",
        "\n",
        "# The input will be a single line containing a string.\n",
        "# Output\n",
        "\n",
        "# The output should be a single line containing either \"Valid Password\" or \"Invalid Password\".\n",
        "# Explanation\n",
        "\n",
        "# For example, if the given password is \"Qwerty00\", the output should be \"Valid Password\" as it contains an uppercase letter, a lowercase letter, and a digit.\n",
        "\n",
        "# Whereas, if the given password is \"Dashboard\", the output should be \"Invalid Password\" as it does not contain a digit.\n",
        "password=input()\n",
        "contains_digit = False\n",
        "for character in password:\n",
        "    is_digit=character.isdigit()\n",
        "    if is_digit:\n",
        "        contains_digit=True\n",
        "is_all_lower =(password.lower()==password)\n",
        "is_all_upper=(password.upper()==password)\n",
        "contains_lower_and_upper = (not is_all_lower)and  (not is_all_upper)\n",
        "is_valid_password = (contains_digit and contains_lower_and_upper)\n",
        "if is_valid_password:\n",
        "    print(\"Valid Password\")\n",
        "else:\n",
        "    print(\"Invalid Password\")"
      ],
      "execution_count": null,
      "outputs": []
    },
    {
      "cell_type": "code",
      "metadata": {
        "id": "0IiptwiAE8hp"
      },
      "source": [
        "# Swap Case\n",
        "# Given a word, write a program to convert all the uppercase letters to lowercase letters and vice versa.\n",
        "# Input\n",
        "\n",
        "# The input will be a single line containing a string.\n",
        "# Output\n",
        "\n",
        "# The output should be a single line containing the modified word.\n",
        "# Explanation\n",
        "\n",
        "# For example, if the given word is \"Coding\", your code should print the output by swapping the case of all letters (\"cODING\").\n",
        "word=input()\n",
        "modified_word=\"\"\n",
        "for character in word:\n",
        "    uppercase_char = character.upper()\n",
        "    if uppercase_char==character:\n",
        "        modified_word = modified_word+character.lower()\n",
        "    else:\n",
        "        modified_word=modified_word+character.upper()\n",
        "print(modified_word)"
      ],
      "execution_count": null,
      "outputs": []
    },
    {
      "cell_type": "code",
      "metadata": {
        "id": "fG8tSi4LE8pL"
      },
      "source": [
        "# Loops > Coding Practice - 10"
      ],
      "execution_count": null,
      "outputs": []
    },
    {
      "cell_type": "code",
      "metadata": {
        "id": "eKBz6qamE8sE"
      },
      "source": [
        "# Factorial\n",
        "# Write a program to print the factorial of N.\n",
        "# Factorial is the product of all positive integers less than or equal to N.\n",
        "# Input\n",
        "\n",
        "# The input will be a single line containing a positive integer.\n",
        "# Output\n",
        "\n",
        "# The output should be a single line containing the factorial of the given number.\n",
        "# Explanation\n",
        "\n",
        "# For example, if the given number is 4, the factorial of 4 is (4 × 3 × 2 × 1). So the output should be 24.\n",
        "\n",
        "# For example, if the given number is 7, the factorial of 7 is (7 × 6 × 5 × 4 × 3 × 2 × 1). So the output should be 5040.\n",
        "n=int(input())\n",
        "factorial =1\n",
        "for i in range(1,n+1):\n",
        "    factorial = factorial * i\n",
        "print(factorial)\n"
      ],
      "execution_count": null,
      "outputs": []
    },
    {
      "cell_type": "code",
      "metadata": {
        "id": "8AcQ6SgHE8vK"
      },
      "source": [
        "# Sum of Numbers from M to N\n",
        "# Given two integers M and N, write a program to print the sum of the numbers from M to N.\n",
        "# Input\n",
        "\n",
        "# The first line of input will contain an integer.\n",
        "# The second line of input will contain an integer.\n",
        "# Output\n",
        "\n",
        "# The output should be a single line containing the sum of the numbers from M to N.\n",
        "# Explanation\n",
        "\n",
        "# For example, if the given numbers are 2 and 6, the output should be the sum of the numbers from 2 to 6 (2 + 3 + 4 + 5 + 6), which is 20.\n",
        "m=int(input())\n",
        "n=int(input())\n",
        "total=0\n",
        "for i in range(m,n+1):\n",
        "    total = total + i\n",
        "print(total)"
      ],
      "execution_count": null,
      "outputs": []
    },
    {
      "cell_type": "code",
      "metadata": {
        "id": "KrNZX19dE8x2"
      },
      "source": [
        "# Sum of First N Even Numbers\n",
        "# Given an integer (N) as input, write a program to print the sum of even numbers in the first N natural numbers.\n",
        "# Input\n",
        "\n",
        "# The input will be a single line containing a positive integer.\n",
        "# Output\n",
        "\n",
        "# The output should be a single line containing the sum of even numbers in the first N natural numbers.\n",
        "# Explanation\n",
        "\n",
        "# For example, if the given number is 6, the sum of even numbers in the first 6 natural numbers, which is (2 + 4 + 6). So the output should be 12.\n",
        "\n",
        "# For example, if the given number is 10, the sum of even numbers in the first 10 natural numbers, which is (2 + 4 + 6 + 8 + 10). So the output should be 30.\n",
        "n=int(input())\n",
        "total=0\n",
        "for i in range(1,n+1):\n",
        "    if (i%2)==0:\n",
        "        total=total+i\n",
        "    \n",
        "print(total)"
      ],
      "execution_count": null,
      "outputs": []
    },
    {
      "cell_type": "code",
      "metadata": {
        "id": "VAyjyN2XE80y"
      },
      "source": [
        "# Sum of First N Odd Numbers\n",
        "# Given an integer (N) as input, write a program to print the sum of odd numbers in the first N natural numbers.\n",
        "# Input\n",
        "\n",
        "# The input will be a single line containing a positive integer.\n",
        "# Output\n",
        "\n",
        "# The output should be a single line containing the sum of odd numbers in the first N natural numbers.\n",
        "# Explanation\n",
        "\n",
        "# For example, if the given number is 6, the sum of odd numbers in the first 6 natural numbers, which is (1 + 3 + 5). So the output should be 9.\n",
        "\n",
        "# For example, if the given number is 10, the sum of even numbers in the first 10 natural numbers, which is (1 + 3 + 5 + 7 + 9). So the output should be 25.\n",
        "n=int(input())\n",
        "total=0\n",
        "for i in range(1,n+1):\n",
        "    if(i%2)==1:\n",
        "        total=total+i\n",
        "print(total)"
      ],
      "execution_count": null,
      "outputs": []
    },
    {
      "cell_type": "code",
      "metadata": {
        "id": "VwE8qglLE83F"
      },
      "source": [
        "# Sum of Even Numbers from M to N\n",
        "# Given two integer numbers M and N, write a program to print the sum of the even numbers from M to N.\n",
        "# Input\n",
        "\n",
        "# The first line of input will contain an integer.\n",
        "# The second line of input will contain an integer.\n",
        "# Output\n",
        "\n",
        "# The output should be a single line containing the sum of the even numbers from M to N.\n",
        "# Explanation\n",
        "\n",
        "# For example, if the given numbers are 2 and 6, the output should be the sum of the even numbers from 2 to 6 (2 + 4 + 6), which is 12.\n",
        "m=int(input())\n",
        "n=int(input())\n",
        "total=0\n",
        "for number in range(m,n+1):\n",
        "    if (number%2)==0:\n",
        "        total=total+number\n",
        "print(total)"
      ],
      "execution_count": null,
      "outputs": []
    },
    {
      "cell_type": "code",
      "metadata": {
        "id": "xcWSAXXfE85B"
      },
      "source": [
        "# Sum of Odd Numbers from M to N\n",
        "# Given two integers M and N, write a program to print the sum of the odd numbers from M to N.\n",
        "# Input\n",
        "\n",
        "# The first line of input will contain an integer.\n",
        "# The second line of input will contain an integer.\n",
        "# Output\n",
        "\n",
        "# The output should be a single line containing the sum of the odd numbers from M to N.\n",
        "# Explanation\n",
        "\n",
        "# For example, if the given numbers are 5 and 13, the output should be the sum of the odd numbers from 5 to 13 (5 + 7 + 9 + 11 + 13), which is 45.\n",
        "m=int(input())\n",
        "n=int(input())\n",
        "total=0\n",
        "for number in range(m,n+1):\n",
        "    if(number%2)==1:\n",
        "        total=total+number\n",
        "print(total)\n",
        "counter = 0"
      ],
      "execution_count": null,
      "outputs": []
    },
    {
      "cell_type": "code",
      "metadata": {
        "id": "0XP1Hn0CE87-"
      },
      "source": [
        "# Sum of Numbers Divisible by T\n",
        "# Given three integers, write a program to print the sum of the numbers divisible by the given number T from M to N.\n",
        "# Input\n",
        "\n",
        "# The first line of input will contain an integer (T).\n",
        "# The second line of input will contain an integer (M).\n",
        "# The third line of input will contain an integer (N).\n",
        "# Output\n",
        "\n",
        "# The output should be a single line containing the sum of the numbers divisible by the given number T.\n",
        "# Explanation\n",
        "\n",
        "# For example, if the given number T is 2, M is 5, and N is 9.\n",
        "# The numbers which are in the range from 5 to 9 and divisible by 2 are 6 and 8.\n",
        "# So the output should be the sum of these numbers, which is 14.\n",
        "t=int(input())\n",
        "m=int(input())\n",
        "n=int(input())\n",
        "\n",
        "total=0\n",
        "for number in range(m,n+1):\n",
        "    if (number%t)==0:\n",
        "        total=total+number\n",
        "print(total)"
      ],
      "execution_count": null,
      "outputs": []
    },
    {
      "cell_type": "code",
      "metadata": {
        "id": "davDXfeuHE__",
        "colab": {
          "base_uri": "https://localhost:8080/"
        },
        "outputId": "6b37a987-34c8-4e90-bf97-4f2428217584"
      },
      "source": [
        "# Sum of Squares\n",
        "# Write a program to print the sum of the squares of the first N natural numbers.\n",
        "# Input\n",
        "\n",
        "# The input will be a single line containing a positive integer (N).\n",
        "# Output\n",
        "\n",
        "# The output should be a single line containing the sum of the squares of the first N natural numbers.\n",
        "# Explanation\n",
        "\n",
        "# For example, if the given number is 6, the sum of the squares of the first 6 natural numbers, which is (1 + 4 + 9 + 16 + 25 + 36). So the output should be 91.\n",
        "\n",
        "# For example, if the given number is 3, the sum of the squares of the  first 3 natural numbers, which is (1 + 4 + 9). So the output should be 14.\n",
        "n=int(input())\n",
        "total=0\n",
        "for i in range(1,n+1):\n",
        "    total=total+(i*i)\n",
        "print(total)"
      ],
      "execution_count": null,
      "outputs": [
        {
          "output_type": "stream",
          "text": [
            "3\n",
            "14\n"
          ],
          "name": "stdout"
        }
      ]
    },
    {
      "cell_type": "code",
      "metadata": {
        "id": "3eWvBBezHFDg"
      },
      "source": [
        "# Sum and Average of the 10 Numbers\n",
        "# Write a program to print the sum and average of the given ten numbers.\n",
        "#  Average is the sum of the given numbers divided by the number of given numbers.\n",
        "# Input\n",
        "\n",
        "# The first ten lines of input will contain an integer in each line.\n",
        "# Output\n",
        "\n",
        "# The first line of input should contain the sum of the given ten numbers.\n",
        "# The second line of input should contain the average of the given ten numbers.\n",
        "# Explanation\n",
        "\n",
        "# For example, if the given ten numbers are 4, 7, 14, 25, 1, 8, 24, 38, 99, 10, your code should print the sum of the given numbers(230), and the average of the given numbers(23.0)\n",
        "total=0\n",
        "for i in range(10):\n",
        "    number = int(input())\n",
        "    total=total+number\n",
        "average = total / 10\n",
        "print(total)\n",
        "print(average)"
      ],
      "execution_count": null,
      "outputs": []
    },
    {
      "cell_type": "code",
      "metadata": {
        "id": "nlFX_hApHFHf"
      },
      "source": [
        "# Sum of Digits\n",
        "# Write a program to print the sum of all the digits in the given number.\n",
        "# Input\n",
        "\n",
        "# The input will be a single line containing a positive integer.\n",
        "# Output\n",
        "\n",
        "# The output should be a single line containing the sum of the digits in the given number.\n",
        "# Explanation\n",
        "\n",
        "# For example, if the given number is 151893, your code should print the sum of all the digits in the given number (1 + 5 + 1 + 8 + 9 + 3), which is 27.\n",
        "\n",
        "# For example, if the given number is 692, your code should print the sum of all the digits in the given number (6 + 9 + 2 ), which is 17.\n",
        "number = input()\n",
        "total =0\n",
        "for digit in number:\n",
        "  total = total+int(digit)\n",
        " print(total) "
      ],
      "execution_count": null,
      "outputs": []
    },
    {
      "cell_type": "code",
      "metadata": {
        "id": "BPGsLmBaHFTA"
      },
      "source": [
        "#Loops > Coding Practice - 11"
      ],
      "execution_count": null,
      "outputs": []
    },
    {
      "cell_type": "code",
      "metadata": {
        "id": "Dq2LT3NoHFWk"
      },
      "source": [
        "# Multiplication Table\n",
        "# Write a program to print the multiplication table of the given number (N) up to ten multiples in the format \"N x i = M\".\n",
        "# Input\n",
        "\n",
        "# The first line of input will contain an integer.\n",
        "# Output\n",
        "\n",
        "# The output should be ten lines containing the multiples in the given format.\n",
        "# Explanation\n",
        "\n",
        "# For example, if the given number is 3, your code should print the multiplication table like\n",
        "# 3 x 1 = 3\n",
        "# 3 x 2 = 6\n",
        "# 3 x 3 = 9\n",
        "# 3 x 4 = 12\n",
        "# 3 x 5 = 15\n",
        "# 3 x 6 = 18\n",
        "# 3 x 7 = 21\n",
        "# 3 x 8 = 24\n",
        "# 3 x 9 = 27\n",
        "# 3 x 10 = 30\n",
        "n=int(input())\n",
        "for i in range(1,11):\n",
        "     print(str(n) + \" x \" + str(i) + \" = \" + str(i*n))"
      ],
      "execution_count": null,
      "outputs": []
    },
    {
      "cell_type": "code",
      "metadata": {
        "id": "qDeQm7xTHFZM"
      },
      "source": [
        "# Reverse the String\n",
        "# Write a program to print the reverse of the given string.\n",
        "# Input\n",
        "\n",
        "# The input will be a single line containing a string.\n",
        "# Output\n",
        "\n",
        "# The output should be a single line containing the reverse of the given string.\n",
        "# Explanation\n",
        "\n",
        "# For example, if the given string is \"Hurray! We have won the match.\", your code should print the reverse of the string, which is \".hctam eht now evah eW !yarruH\".\n",
        "n=input()\n",
        "reverse_n = \"\"\n",
        "for char in n:\n",
        "  reverse_n = char + reverse_n\n",
        "print(reverse_n)"
      ],
      "execution_count": null,
      "outputs": []
    },
    {
      "cell_type": "code",
      "metadata": {
        "id": "rRyXf1JiHFbn"
      },
      "source": [
        "# Palindrome\n",
        "# Given a string, write a program to check if it is a palindrome or not.\n",
        "# Palindrome is a string that remains the same when written in reverse.\n",
        "# Note: Ignore the case difference (uppercase and lowercase) when comparing letters.\n",
        "# Input\n",
        "\n",
        "# The input will be a single line containing a string.\n",
        "# Output\n",
        "\n",
        "# The output should be a single line containing either \"Palindrome\" or \"Not a Palindrome \".\n",
        "# Explanation\n",
        "\n",
        "# For example, if the given string is \"Madam\", the output should be \"Palindrome\", as the word remains the same when written in reverse.\n",
        "\n",
        "# Similarly, if the given string is \"Rover\", the output should be \"Not a Palindrome\", as the word does not remain the same when written in reverse.\n",
        "n=input()\n",
        "n=n.lower()\n",
        "reverse_n=\"\"\n",
        "for char in n:\n",
        "    reverse_n= char+reverse_n\n",
        "if n==reverse_n:\n",
        "    print(\"Palindrome\")\n",
        "else:\n",
        "    print(\"Not a Palindrome\")"
      ],
      "execution_count": null,
      "outputs": []
    },
    {
      "cell_type": "code",
      "metadata": {
        "id": "_4MrGLxuHFgj"
      },
      "source": [
        "# Greatest Among N Numbers\n",
        "# Write a program to print the greatest among the given N numbers.\n",
        "# Input\n",
        "\n",
        "# The first line of input will contain a positive integer (N).\n",
        "# The following N lines will contain an integer in each line.\n",
        "# Output\n",
        "\n",
        "# The output should be a single line containing the greatest among the given numbers.\n",
        "# Explanation\n",
        "\n",
        "# For example, if the given number is 5, then read the inputs in the next 5 lines and print the greatest among the given five numbers. If the given input integers in the next five lines are 8, 11, 96, 49, and 25, the output should be 96.\n",
        "n=int(input())\n",
        "first_input=int(input())\n",
        "greatest_number = first_input\n",
        "\n",
        "for i in range(n-1):\n",
        "    number=int(input())\n",
        "    if number > greatest_number:\n",
        "        greatest_number = number\n",
        "print(greatest_number)"
      ],
      "execution_count": null,
      "outputs": []
    },
    {
      "cell_type": "code",
      "metadata": {
        "id": "VZPsl8E7HFjC"
      },
      "source": [
        "# Smallest Among N Numbers\n",
        "# Write a program to print the smallest among the given N numbers.\n",
        "# Input\n",
        "\n",
        "# The first line of input will contain a positive integer (N).\n",
        "# The following N lines will contain an integer in each line.\n",
        "# Output\n",
        "\n",
        "# The output should be a single line containing the smallest among the given numbers.\n",
        "# Explanation\n",
        "\n",
        "# For example, if the given number is 5, then read the inputs in the next 5 lines and print the smallest among the given five numbers. If the given input integers in the next five lines are 8, 11, 96, 49, and 25, the output should be 8.\n",
        "n=int(input())\n",
        "first_input=int(input())\n",
        "smallest_number=first_input\n",
        "for  i in range(n-1):\n",
        "    number=int(input())\n",
        "    if number < smallest_number:\n",
        "        smallest_number=number\n",
        "print(smallest_number)"
      ],
      "execution_count": null,
      "outputs": []
    },
    {
      "cell_type": "code",
      "metadata": {
        "id": "YHEjPnzmHFmF"
      },
      "source": [
        "# Sum of Series\n",
        "# Write a program to find the sum of the series 2 +22 + 222 + 2222 + .. N terms.\n",
        "# Input\n",
        "\n",
        "# The input will be a single line containing a positive integer (N).\n",
        "# Output\n",
        "\n",
        "# The output should be a single line containing the sum of the series up to N terms.\n",
        "# Explanation\n",
        "\n",
        "# For example, if the given number is 4, the series will be\n",
        "# 2 + 22 + 222 + 2222\n",
        "# So the output should be the sum of the series, which is 2468.\n",
        "\n",
        "# Similarly, if the given number is 8, the series will be\n",
        "# 2 + 22 + 222 + 2222 + 22222 + 222222 + 2222222 + 22222222\n",
        "# So the output should be the sum of the series, which is 24691356.\n",
        "n=int(input())\n",
        "term_number=\"2\"\n",
        "total=0\n",
        "for i in range (1,n+1):\n",
        "    term=term_number*i\n",
        "    total=total+int(term)\n",
        "print(total)"
      ],
      "execution_count": null,
      "outputs": []
    },
    {
      "cell_type": "code",
      "metadata": {
        "id": "DGakFkGUJudO"
      },
      "source": [
        "# Factors of a Number\n",
        "# Write a program to print the factors of the given number. \n",
        "# Note: A number F is considered as factor of the given number N, if N is exactly divisible by F (Remainder after dividing N with F is zero. N % F == 0)\n",
        "# Input\n",
        "\n",
        "# The input will be a single line containing a positive integer.\n",
        "# Output\n",
        "\n",
        "# The output should contain the factors of the given number each in a new line.\n",
        "# Explanation\n",
        "\n",
        "# For example, if the given number is 6, which is exactly divisible by 1, 2, 3, 6, then the output should be\n",
        "# 1\n",
        "# 2\n",
        "# 3\n",
        "# 6"
      ],
      "execution_count": null,
      "outputs": []
    },
    {
      "cell_type": "code",
      "metadata": {
        "id": "orooD3oNJuhm"
      },
      "source": [
        "n=int(input())\n",
        "for i in range(1,n+1):\n",
        "    if (n%i)==0:\n",
        "        print(i)"
      ],
      "execution_count": null,
      "outputs": []
    },
    {
      "cell_type": "code",
      "metadata": {
        "id": "wOmy0QN2Juku"
      },
      "source": [
        "# Sum of All Factors\n",
        "# Write a program to print the sum of all the factors for a given number.\n",
        "# Input\n",
        "\n",
        "# The input will be a single line containing a positive integer.\n",
        "# Output\n",
        "\n",
        "# The output should be a single line containing the sum of the factors of the given number.\n",
        "# Explanation\n",
        "\n",
        "# For example, if the given number is 12, which is exactly divisible by 1, 2, 3, 4, 6, and 12, the output should be the sum of all these factors (1 + 2 + 3 +  4 + 6 + 12), which is 28.\n",
        "\n",
        "# Similarly, if the given number is 8, which is exactly divisible by 1, 2, 4, and 8, the output should be the sum of all these factors (1 + 2 + 4 + 8), which is 15\n",
        "n=int(input())\n",
        "total=1+n\n",
        "for i in range(2,n):\n",
        "    if (n%i)==0:\n",
        "        total=total+i\n",
        "print(total)"
      ],
      "execution_count": null,
      "outputs": []
    },
    {
      "cell_type": "code",
      "metadata": {
        "id": "e7k4REqHJuoQ"
      },
      "source": [
        "# Perfect Number\n",
        "# Write a program to check whether the given number is a perfect number or not.\n",
        "# A number is considered as a Perfect number if sum of all factors excluding itself is equal to the number.\n",
        "# Input\n",
        "\n",
        "# The input will be a single line containing a positive integer.\n",
        "# Output\n",
        "\n",
        "# The output should be a single line containing either \"Perfect Number\" or \"Not a Perfect Number\".\n",
        "# Explanation\n",
        "\n",
        "# For example, if the given number is 6, the factors of 6 excluding it are 1, 2, and 3. The sum of these factors is 6, which is equal to the given number. So the output should be \"Perfect Number\".\n",
        "\n",
        "# Similarly, if the given number is 21, the factors of 21 excluding it are 1, 3, and 7. The sum of these factors is 11, Which is not equal to the given number. So the output should be \"Not a Perfect Number\".\n",
        "n=int(input())\n",
        "total=0\n",
        "for i in range(1,n):\n",
        "    if (n%i)==0:\n",
        "        total=total+i\n",
        "if total==n:\n",
        "    print(\"Perfect Number\")\n",
        "else:\n",
        "    print(\"Not a Perfect Number\")"
      ],
      "execution_count": null,
      "outputs": []
    },
    {
      "cell_type": "code",
      "metadata": {
        "id": "okd5Id_7JurL"
      },
      "source": [
        "# Armstrong number\n",
        "# Write a program to check if a number N is an armstrong number or not.\n",
        "# A N-digit number is called armstrong number if the number is equal to the sum of the Nth power of its digits.\n",
        "# Input\n",
        "\n",
        "# The input will be a single line containing a positive integer.\n",
        "# Output\n",
        "\n",
        "# The output should be a single line containing either \"Armstrong Number\" or \"Not an Armstrong Number\".\n",
        "# Explanation\n",
        "\n",
        "# For example, if the given number is 153, as the length of the given number is three, then the sum of the cubes of the digits in the number, which is (13 + 53 + 33) 153 equal to the given number. So the output should be \"Armstrong Number\".\n",
        "\n",
        "# Similarly, if the given number is 24, as the length of the given number is two, then the sum of the squares of the digits in the number, which is (22 + 42) 20 not equal to the given number. So the output should be \"Not an Armstrong Number\".\n",
        "n=input()\n",
        "length=len(n)\n",
        "total=0\n",
        "for digit in n :\n",
        "    total=total+(int(digit)**length)\n",
        "if total==int(n):\n",
        "    print(\"Armstrong Number\")\n",
        "else:\n",
        "    print(\"Not an Armstrong Number\")"
      ],
      "execution_count": null,
      "outputs": []
    },
    {
      "cell_type": "code",
      "metadata": {
        "id": "N367hoacJuux"
      },
      "source": [
        "# Hollow Square\n",
        "# Write a program to print a hollow square pattern of N rows and N columns using the asterisk character (*), where integer N is given as an input.\n",
        "# Input\n",
        "\n",
        "# The input will be a single line containing a positive integer.\n",
        "# Output\n",
        "\n",
        "# The output should be the N number of lines and N number of columns with the asterisk character (*).\n",
        "# Note: There is a space after each asterisk character(*).\n",
        "# Explanation\n",
        "\n",
        "# For example, if the given number is 4, your code should print the following pattern:\n",
        "# * * * * \n",
        "# *     * \n",
        "# *     * \n",
        "# * * * *\n",
        "\n",
        "\n",
        "# For example, if the given number is 6, your code should print the following pattern:\n",
        "# * * * * * * \n",
        "# *         * \n",
        "# *         * \n",
        "# *         * \n",
        "# *         * \n",
        "# * * * * * *\n",
        "n=int(input())\n",
        "for i in range(n):\n",
        "    if (i==0) or (i==(n-1)):\n",
        "        print(\"* \" * n)\n",
        "    else:\n",
        "        number_of_spaces=(\"  \" * (n-2))\n",
        "        print(\"* \" + number_of_spaces + \"* \")"
      ],
      "execution_count": null,
      "outputs": []
    },
    {
      "cell_type": "code",
      "metadata": {
        "id": "U0tD5BS8JuxL"
      },
      "source": [
        "# # Loop Control Statements > Coding Practice - 12\n",
        "# Word Triangle\n",
        "# Given a word, write a program to print substrings in the expected pattern of N rows, where N is the length of the word.\n",
        "# Input\n",
        "\n",
        "# The input will be a single line containing a string.\n",
        "# Output\n",
        "\n",
        "# The output should be N rows containing each substring in a new line.\n",
        "# Explanation\n",
        "\n",
        "# For example, if the given word is \"Rahul\", your code should print the substrings of the word\n",
        "# R\n",
        "# Ra\n",
        "# Rah\n",
        "# Rahu\n",
        "# Rahul\n",
        "n=input()\n",
        "len_of_word=len(n)\n",
        "for i in range(1,len_of_word+1):\n",
        "    print(n[:i])"
      ],
      "execution_count": null,
      "outputs": []
    },
    {
      "cell_type": "code",
      "metadata": {
        "id": "MnRGeyvSK-9H"
      },
      "source": [
        "# Shuffle String\n",
        "# Given a string and N integers, where N is the length of the string, write a program to print the string after shuffling the characters as per the order of the integers given.\n",
        "# Input\n",
        "\n",
        "# The first line of input will contain a string.\n",
        "# The next N lines will contain an integer in each line.\n",
        "# Output\n",
        "\n",
        "# The output should be a single line containing the shuffled string.\n",
        "# Explanation\n",
        "\n",
        "# For example, if the given string is \"goindc\", then read the inputs in the next six lines (length of the string is six). If the given input integers in the next six lines are 5, 1, 4, 2, 3, and 0. By shuffling the word as per the given order\n",
        "\n",
        "# 5 - c\n",
        "\n",
        "# 1 - o\n",
        "\n",
        "# 4 - d\n",
        "\n",
        "# 2 - i\n",
        "\n",
        "# 3 - n\n",
        "\n",
        "# o - g\n",
        "\n",
        "word = input()\n",
        "n = len(word)\n",
        "shuffled_word = \"\"\n",
        "for i in range(n):\n",
        "    index = int(input())\n",
        "    shuffled_word=shuffled_word+word[index]\n",
        "print(shuffled_word)"
      ],
      "execution_count": null,
      "outputs": []
    },
    {
      "cell_type": "code",
      "metadata": {
        "id": "oAr_QUGCK_C6"
      },
      "source": [
        "# Prime Number\n",
        "# Write a program to check whether the given number is a Prime number or not.\n",
        "# A Prime Number is a number that is divisible only by itself and one.\n",
        "# Input\n",
        "\n",
        "# The input will be a single line containing an integer.\n",
        "# Output\n",
        "\n",
        "# The output will be a single line containing either \"Prime Number\" or \"Not a Prime Number\".\n",
        "# Explanation\n",
        "\n",
        "# For example, if the given number is 5, the output should be \"Prime Number\", as it is divisible only by itself and one.\n",
        "\n",
        "# Whereas, if the given number is 6, the output should be \"Not a Prime Number\", as it is divisible by 1, 2, 3, and 6.\n",
        "n=int(input())\n",
        "if n>1:\n",
        "    factors=0\n",
        "else:\n",
        "    factors=1\n",
        "for i in range (2,n):\n",
        "    if (n%i)==0:\n",
        "        factors=factors+1\n",
        "if factors == 0:\n",
        "    print(\"Prime Number\")\n",
        "else:\n",
        "    print(\"Not a Prime Number\")"
      ],
      "execution_count": null,
      "outputs": []
    },
    {
      "cell_type": "code",
      "metadata": {
        "id": "pdIj0VeeK_F0"
      },
      "source": [
        "# Hollow Rectangle\n",
        "# Given two integers M and N, write a program to print a hollow rectangle pattern of M rows and N columns using the asterisk character (*).\n",
        "# Input\n",
        "\n",
        "# The first line of input will contain a positive integer.\n",
        "# The second line of input will contain a positive integer.\n",
        "# Output\n",
        "\n",
        "# The output should be the M number of lines and N number of columns with the asterisk character (*) at the borders and spaces inside the border.\n",
        "# Note: There is a space after each asterisk character(*).\n",
        "# Explanation\n",
        "\n",
        "# For example, if the given numbers of rows are 4 and the number of columns is 6, your code should print the following pattern:\n",
        "# * * * * * * \n",
        "# *         * \n",
        "# *         * \n",
        "# * * * * * * \n",
        "\n",
        "# For example, if the given numbers of rows are 8 and the number of columns is 5, your code should print the following pattern:\n",
        "# * * * * * \n",
        "# *       * \n",
        "# *       * \n",
        "# *       * \n",
        "# *       * \n",
        "# *       * \n",
        "# *       * \n",
        "# * * * * * \n",
        "m=int(input())\n",
        "n=int(input())\n",
        "for i in range (m):\n",
        "    if (i==0) or (i==(m-1)):\n",
        "        print(\"* \" * n)\n",
        "    else:\n",
        "    number_of_spaces=(\"  \" * (n-2))\n",
        "    print(\"* \" + number_of_spaces + \"* \")"
      ],
      "execution_count": null,
      "outputs": []
    },
    {
      "cell_type": "code",
      "metadata": {
        "id": "jv-sFu_qK_Ic"
      },
      "source": [
        "# Numbers in Square Pattern - 1\n",
        "# Write a program to print numbers from 1 to N in each row forming a square pattern of N rows and N columns.\n",
        "# Input\n",
        "\n",
        "# The input will be a single line containing a positive integer (N).\n",
        "# Output\n",
        "\n",
        "# The output should be N rows containing numbers from 1 to N in each row.\n",
        "# Note: There is a space after each number.\n",
        "# Explanation\n",
        "\n",
        "# For example, if the given number is 5, your code should print the following pattern:\n",
        "# 1 2 3 4 5 \n",
        "# 1 2 3 4 5 \n",
        "# 1 2 3 4 5 \n",
        "# 1 2 3 4 5 \n",
        "# 1 2 3 4 5\n",
        "n=int(input())\n",
        "pattern=\"\"\n",
        "for i in range(1,n+1):\n",
        "    pattern=pattern+(str(i) + \" \")\n",
        "for i in range(n):\n",
        "    print(pattern)"
      ],
      "execution_count": null,
      "outputs": []
    },
    {
      "cell_type": "code",
      "metadata": {
        "id": "l3TwtXJRK_LC"
      },
      "source": [
        "# Numbers in Square Pattern - 2\n",
        "# Write a program to print numbers from 1 to N in each column forming a square pattern of N rows and N columns.\n",
        "# Input\n",
        "\n",
        "# The input will be a single line containing a positive integer (N).\n",
        "# Output\n",
        "\n",
        "# The output should be N rows containing a number N times in each row.\n",
        "# Note: There is a space after each number.\n",
        "# Explanation\n",
        "\n",
        "# For example, if the given number is 5, your code should print the following pattern:\n",
        "# 1 1 1 1 1 \n",
        "# 2 2 2 2 2 \n",
        "# 3 3 3 3 3 \n",
        "# 4 4 4 4 4 \n",
        "# 5 5 5 5 5\n",
        "n=int(input())\n",
        "for i in range(1,n+1):\n",
        "    pattern = (str(i) + \" \")* n\n",
        "    print(pattern)\n",
        "    "
      ],
      "execution_count": null,
      "outputs": []
    },
    {
      "cell_type": "code",
      "metadata": {
        "id": "HAVLXkMJK_Nz"
      },
      "source": [
        "# Numbers in Rectangular Pattern - 1\n",
        "# Write a program to print numbers from 1 to N in each row forming a rectangular pattern of M rows and N columns.\n",
        "# Input\n",
        "\n",
        "# The first line of input will contain a positive integer (M).\n",
        "# The second line of input will contain a positive integer (N).\n",
        "# Output\n",
        "\n",
        "# The output should be M number of lines and N number of columns with the numbers from 1 to N in each row.\n",
        "# Note: There is a space after each number.\n",
        "# Explanation\n",
        "\n",
        "# For example, if the given numbers of rows are 2 and the number of columns is 3, your code should print the following pattern:\n",
        "# 1 2 3 \n",
        "# 1 2 3 \n",
        "\n",
        "a=int(input())\n",
        "b=int(input())\n",
        "number_pattern= \"\"\n",
        "for c in range(1,b+1):\n",
        "    number_pattern=number_pattern+(str(c) + \" \")\n",
        "for d in range(a):\n",
        "    print(number_pattern)"
      ],
      "execution_count": null,
      "outputs": []
    },
    {
      "cell_type": "code",
      "metadata": {
        "id": "03WaOFp6K_Qc"
      },
      "source": [
        "# Numbers in Rectangular Pattern - 2\n",
        "# Write a program to print numbers from 1 to M in each column forming a rectangular pattern of M rows and N columns.\n",
        "# Input\n",
        "\n",
        "# The first line of input will contain a positive integer (M).\n",
        "# The second line of input will contain a positive integer (N).\n",
        "# Output\n",
        "\n",
        "# The output should be the M number of rows and N number of columns containing a number N times in each row.\n",
        "# Note: There is a space after each number.\n",
        "# Explanation\n",
        "\n",
        "# For example, if the given numbers of rows are 2 and the number of columns is 3, your code should print the following patter:\n",
        "m=int(input())\n",
        "n=int(input())\n",
        "for i in range (1,m+1):\n",
        "    pattern=(str(i)+ \" \") * n\n",
        "    print(pattern)"
      ],
      "execution_count": null,
      "outputs": []
    },
    {
      "cell_type": "code",
      "metadata": {
        "id": "wh9MjoUmK_S-"
      },
      "source": [
        "# Solid Diamond\n",
        "# Write a program to print a solid diamond pattern of 2N - 1 rows using the asterisk character (*).\n",
        "# Input\n",
        "\n",
        "# The input will be a single line containing a positive integer (N).\n",
        "# Output\n",
        "\n",
        "# The output should be of 2N-1 rows containing an asterisk(*) character in a solid diamond pattern.\n",
        "# Note: There is a space after each asterisk(*) character.\n",
        "# Explanation\n",
        "\n",
        "# For example, if the given number is 3, your code should print the following pattern:\n",
        "#   * \n",
        "#  * * \n",
        "# * * * \n",
        "#  * * \n",
        "#   * \n",
        "n=int(input())\n",
        "k=n-1\n",
        "for i in range (1,n+1):\n",
        "    spaces=\" \" * k\n",
        "    stars=\"* \" * i\n",
        "    print(spaces+stars)\n",
        "    k=k-1\n",
        "    \n",
        "k=n\n",
        "for i in range (1,n):\n",
        "    spaces=\" \" * i\n",
        "    stars=\"* \" * (k-i)\n",
        "    print(spaces+stars)"
      ],
      "execution_count": null,
      "outputs": []
    },
    {
      "cell_type": "code",
      "metadata": {
        "id": "Tjb1q7WWK_kY"
      },
      "source": [
        "# Identify The Mistake - Triangle\n",
        "# Write a program to print the triangle pattern of a given N number of rows using an asterisk(*) character.\n",
        "# Input\n",
        "\n",
        "# The input will be a single line containing a positive integer (N).\n",
        "# Output\n",
        "\n",
        "# The output should be N lines with an asterisk(*) character printing in triangular pattern.\n",
        "# Note: There is a space after each asterisk(*) character.\n",
        "# Explanation\n",
        "\n",
        "# For example, if the given number is 3, your code should print the following pattern:\n",
        "#   * \n",
        "#  * * \n",
        "# * * * \n",
        "n=int(input())\n",
        "k=n-1\n",
        "for i in range (1,n+1):\n",
        "    spaces=\" \" * k\n",
        "    stars=\"* \" * i\n",
        "    print(spaces+stars)\n",
        "    k=k-1"
      ],
      "execution_count": null,
      "outputs": []
    },
    {
      "cell_type": "code",
      "metadata": {
        "id": "_CupKQYHK_nb"
      },
      "source": [
        "# Loop Control Statements > Coding Practice - 13"
      ],
      "execution_count": null,
      "outputs": []
    },
    {
      "cell_type": "code",
      "metadata": {
        "id": "bUsEH3yVK_qi"
      },
      "source": [
        "# Prime Numbers from 1 to N\n",
        "# Given an integer N, write a program to print all the prime numbers from 1 to N.\n",
        "# Note: One is neither prime nor composite number.\n",
        "# Input\n",
        "\n",
        "# The input will be a single line containing a positive integer (N).\n",
        "# Output\n",
        "\n",
        "# The output should contain all the prime numbers from 1 to N, each in a new line.\n",
        "# Explanation\n",
        "\n",
        "# For example, if the given number is 10, as all the prime numbers from 1 to 10 are 2, 3, 5, and 7. So the output should be\n",
        "# 2\n",
        "# 3\n",
        "# 5\n",
        "# 7\n",
        "\n",
        "\n",
        "# Similarly, if the given number is 25, as all the prime numbers from 1 to 25 are 2, 3, 5, 7, 11, 13, 17, 19 and 23. So the output should be\n",
        "# 2\n",
        "# 3\n",
        "# 5\n",
        "# 7\n",
        "# 11\n",
        "# 13\n",
        "# 17\n",
        "# 19\n",
        "# 23\n",
        "n = int(input())\n",
        "\n",
        "for number in range(2, n+1):\n",
        "    factors = 0\n",
        "    for i in range(2, number):\n",
        "        if (number % i) == 0:\n",
        "            factors = factors + 1\n",
        "\n",
        "    if factors == 0:\n",
        "        print(number)"
      ],
      "execution_count": null,
      "outputs": []
    },
    {
      "cell_type": "code",
      "metadata": {
        "id": "uHwooxxRK_tf"
      },
      "source": [
        "# Prime Numbers from M to N\n",
        "# Given two integers M and N, write a program to print all the prime numbers from M to N.\n",
        "# Input\n",
        "\n",
        "# The first line of input will contain a positive integer (M).\n",
        "# The second line of input will contain a positive integer (N).\n",
        "# Output\n",
        "\n",
        "# The output should be containing all the prime numbers from M to N, each in a new line.\n",
        "# Explanation\n",
        "\n",
        "# For example, if the given numbers are M is 5 and N is 11, as all the prime numbers from 5 to 11 are 5, 7, and 11. So the output should be\n",
        "# 5\n",
        "# 7\n",
        "# 11\n",
        "\n",
        "\n",
        "# Similarly, if the given numbers are M is 18 and N is 40, as all the prime numbers from 18 to 40 are 19, 23, 29, 31,and 37. So the output should\n",
        "# 19\n",
        "# 23\n",
        "# 29\n",
        "# 31\n",
        "# 37\n",
        "m=int(input())\n",
        "n=int(input())\n",
        "if not (m>1):\n",
        "    m=2\n",
        "for number in  range(m,n+1):\n",
        "    factors=0\n",
        "    for i in range(2,number):\n",
        "        if (number % i)==0:\n",
        "            factors=factors+1\n",
        "    if factors == 0:\n",
        "        print(number)"
      ],
      "execution_count": null,
      "outputs": []
    },
    {
      "cell_type": "code",
      "metadata": {
        "id": "2d8N3T6FNqWm"
      },
      "source": [
        "# Half Pyramid\n",
        "# Write a program to print the half pyramid pattern up to the given N number of rows.\n",
        "# Input\n",
        "\n",
        "# The input will be a single line containing a positive integer (N).\n",
        "# Output\n",
        "\n",
        "# The output should be N lines containing numbers in the half pyramid pattern.\n",
        "# Note: There is a space after each number.\n",
        "# Explanation\n",
        "\n",
        "# For example, if the given number is 5, your code should print the following pattern\n",
        "# 1\n",
        "# 1 2\n",
        "# 1 2 3\n",
        "# 1 2 3 4\n",
        "# 1 2 3 4 5\n",
        "n=int(input())\n",
        "for i in range(1,n+1):\n",
        "    patterns=\"\"\n",
        "    for j in range(1,i+1):\n",
        "        pattern = pattern + (str(j)+ \" \")\n",
        "    print(pattern)"
      ],
      "execution_count": null,
      "outputs": []
    },
    {
      "cell_type": "code",
      "metadata": {
        "id": "-0ZXoF2sNqaV"
      },
      "source": [
        "# Inverted Half Pyramid\n",
        "# Write a program to print the inverted half pyramid pattern up to the given N number of rows.\n",
        "# Input\n",
        "\n",
        "# The input will be a single line containing a positive integer (N).\n",
        "# Output\n",
        "\n",
        "# The output should be N lines containing numbers in the inverted pyramid pattern.\n",
        "# Note: There is a space after each number.\n",
        "# Explanation\n",
        "\n",
        "# For example, if the given number is 5, your code should print the following pattern\n",
        "# 1 2 3 4 5 \n",
        "# 1 2 3 4 \n",
        "# 1 2 3 \n",
        "# 1 2 \n",
        "n=int(input())\n",
        "for i in range(n):\n",
        "    pattern= \"\"\n",
        "    k=n-i\n",
        "    for j in range(1,k+1):\n",
        "        pattern=pattern+(str(j) + \" \")\n",
        "    print(pattern)"
      ],
      "execution_count": null,
      "outputs": []
    },
    {
      "cell_type": "code",
      "metadata": {
        "id": "7U-p7aKMNqdd"
      },
      "source": [
        "# Numbers in Square Pattern - 3\n",
        "# Write a program to print the numbers in the given N number of rows in the following square pattern.\n",
        "# 1 2 3 \n",
        "# 4 5 6 \n",
        "# 7 8 9 \n",
        "# Input\n",
        "\n",
        "# The input will be a single line containing a positive integer (N).\n",
        "# Output\n",
        "\n",
        "# The output should be N rows containing numbers up to N2 in the square pattern.\n",
        "# Note: There is a space after each number.\n",
        "# Explanation\n",
        "\n",
        "# For example, if the given number is 3, your code should print the consecutive numbers up to N2 in the 3 rows and 3 columns.\n",
        "n=int(input())\n",
        "number=1\n",
        "for i in range(n):\n",
        "    pattern=\"\"\n",
        "    for j in range(n):\n",
        "        pattern = pattern+(str(number)+ \" \")\n",
        "        number = number + 1\n",
        "    print(pattern)"
      ],
      "execution_count": null,
      "outputs": []
    },
    {
      "cell_type": "code",
      "metadata": {
        "id": "jG5QjdqPNqgY"
      },
      "source": [
        "# Numbers in Rectangular Pattern - 3\n",
        "# Write a program to print the numbers in the given M number of rows and N number of columns in the following rectangular pattern.\n",
        "# 1 2 3 \n",
        "# 4 5 6 \n",
        "# Input\n",
        "\n",
        "# The first line of input will contain a positive integer (M).\n",
        "# The second line of input will contain a positive integer (N).\n",
        "# Output\n",
        "\n",
        "# The output should be M rows and N columns containing numbers up to M x N in the rectangular pattern.\n",
        "# Note: There is a space after each number.\n",
        "# Explanation\n",
        "\n",
        "# For example, if the given number of rows is 2 and the number of columns is 3, your code should print the consecutive numbers up to M x N in the 2 rows and 3 columns.\n",
        "m=int(input())\n",
        "n=int(input())\n",
        "number=1\n",
        "for i in range(m):\n",
        "    pattern=\"\"\n",
        "    for j in range(n):\n",
        "        pattern = pattern + (str(number)+\" \")\n",
        "        number =number+1\n",
        "    print(pattern)"
      ],
      "execution_count": null,
      "outputs": []
    },
    {
      "cell_type": "code",
      "metadata": {
        "id": "feJ51CbdNqkD"
      },
      "source": [
        "# Half Pyramid - 2\n",
        "# Write a program to print the numbers in the given N number of rows in the following half pyramid pattern.\n",
        "# 1 \n",
        "# 2 3 \n",
        "# 4 5 6 \n",
        "# 7 8 9 10 \n",
        "# 11 12 13 14 15\n",
        "# Input\n",
        "\n",
        "# The input will be a single line containing a positive integer (N).\n",
        "# Output\n",
        "\n",
        "# The output should be N rows containing numbers in the half pyramid pattern.\n",
        "# Note: There is a space after each number.\n",
        "# Explanation\n",
        "\n",
        "# For example, if the given number is 5, your code should print the consecutive numbers in the five rows in the half pyramid pattern.\n",
        "n=int(input())\n",
        "k=1\n",
        "for i in range(1,n+1):\n",
        "    pattern=\"\"\n",
        "    for j in range (1,i+1):\n",
        "        pattern=pattern+(str(k)+ \" \")\n",
        "        k=k+1\n",
        "    print(pattern)\n"
      ],
      "execution_count": null,
      "outputs": []
    },
    {
      "cell_type": "code",
      "metadata": {
        "id": "fc5W4C1lNqm5"
      },
      "source": [
        "# Identify the Mistake - Inverted Half Pyramid - 2\n",
        "# Write a program to print the inverted half pyramid pattern up to the given N number of rows.\n",
        "# Input\n",
        "\n",
        "# The input will be a single line containing a positive integer (N).\n",
        "# Output\n",
        "\n",
        "# The output should be N lines containing numbers in the inverted pyramid pattern.\n",
        "# Note: There is no space after each number.\n",
        "# Explanation\n",
        "\n",
        "# For example, if the given number is 5, your code should print the following pattern\n",
        "# 54321\n",
        "# 4321\n",
        "# 321\n",
        "# 21\n",
        "n = int(input())\n",
        "\n",
        "for row_num in range(0,n+1):\n",
        "    row_output = \"\"\n",
        "    seq_num =n-row_num\n",
        "    while seq_num > 0:\n",
        "        row_output = row_output + str(seq_num)\n",
        "        seq_num = seq_num - 1\n",
        "    print(row_output)"
      ],
      "execution_count": null,
      "outputs": []
    },
    {
      "cell_type": "code",
      "metadata": {
        "id": "5mlBN2O3Or5E"
      },
      "source": [
        "# Identify the Mistake - Inverted Half Pyramid - 2\n",
        "# Write a program to print the inverted half pyramid pattern up to the given N number of rows.\n",
        "# Input\n",
        "\n",
        "# The input will be a single line containing a positive integer (N).\n",
        "# Output\n",
        "\n",
        "# The output should be N lines containing numbers in the inverted pyramid pattern.\n",
        "# Note: There is no space after each number.\n",
        "# Explanation\n",
        "\n",
        "# For example, if the given number is 5, your code should print the following pattern\n",
        "# 54321\n",
        "# 4321\n",
        "# 321\n",
        "# 21\n",
        "n = int(input())\n",
        "\n",
        "for row_num in range(0,n+1):\n",
        "    row_output = \"\"\n",
        "    seq_num =n-row_num\n",
        "    while seq_num > 0:\n",
        "        row_output = row_output + str(seq_num)\n",
        "        seq_num = seq_num - 1\n",
        "    print(row_output)"
      ],
      "execution_count": null,
      "outputs": []
    },
    {
      "cell_type": "code",
      "metadata": {
        "id": "aOIc9UNHOr8U"
      },
      "source": [
        "# Loop Control Statements > Coding Practice - 14"
      ],
      "execution_count": null,
      "outputs": []
    },
    {
      "cell_type": "code",
      "metadata": {
        "id": "LzC5kC6ZOr_p"
      },
      "source": [
        "# GCD\n",
        "# Write a program to find the Greatest Common Divisor of the given two numbers M and N.\n",
        "# The greatest common divisor (G.C.D) of two numbers is the largest positive integer that perfectly divides the two given numbers.\n",
        "# Input\n",
        "\n",
        "# The first line of input will contain a positive integer (M).\n",
        "# The second line of input will contain a positive integer (N).\n",
        "# Output\n",
        "\n",
        "# The output should be a single line containing the GCD of the given two numbers.\n",
        "# Explanation\n",
        "\n",
        "# For example, if the given numbers are 4 and 6, the output should be 2, as no other number greater than 2 will divide the given two numbers.\n",
        "m=int(input())\n",
        "n=int(input())\n",
        "if m > n :\n",
        "    smallest_number = n\n",
        "else:\n",
        "    smallest_number=m\n",
        "gcd=smallest_number\n",
        "for i in range(1,smallest_number+1):\n",
        "    if ((m % i)==0) and ((n%i)==0):\n",
        "        gcd = i\n",
        "print(gcd)"
      ],
      "execution_count": null,
      "outputs": []
    },
    {
      "cell_type": "code",
      "metadata": {
        "id": "hju-Kq59OsC1"
      },
      "source": [
        "# LCM\n",
        "# Write a program to find the Least Common Multiple of the given two numbers M and N.\n",
        "# The least common multiple (L.C.M.) of two numbers is the smallest positive integer that is perfectly divisible by the two given numbers.\n",
        "# Input\n",
        "\n",
        "# The first line of input will contain a positive integer (M).\n",
        "# The second line of input will contain a positive integer (N).\n",
        "# Output\n",
        "\n",
        "# The output should be a single line containing the LCM of the given two numbers.\n",
        "# Explanation\n",
        "\n",
        "# For example, if the given numbers are 12 and 8, the output should be 24, as 24 is the smallest number that is divisible by both 12 and 8.\n",
        "m=int(input())\n",
        "n=int(input())\n",
        "if m>n :\n",
        "    greatest_number=m\n",
        "else:\n",
        "    greatest_number=n\n",
        "lcm_found=False\n",
        "for number in range (greatest_number,(m*n + 1)):\n",
        "    if not lcm_found:\n",
        "        if ((number %m) ==0) and ((number%n)==0):\n",
        "            lcm_found=True\n",
        "            lcm=number\n",
        "print(lcm)"
      ],
      "execution_count": null,
      "outputs": []
    },
    {
      "cell_type": "code",
      "metadata": {
        "id": "dq3mkLXZOsF5"
      },
      "source": [
        "# Full Pyramid - 2\n",
        "# Given the number of rows N, write a program to print the full pyramid pattern similar to the pattern shown below.\n",
        "#     1 \n",
        "#    1 2 \n",
        "#   1 2 3 \n",
        "#  1 2 3 4 \n",
        "# 1 2 3 4 5 \n",
        "# Input\n",
        "\n",
        "# The input will be a single line containing a positive integer (N).\n",
        "# Output\n",
        "\n",
        "# The output should be N rows containing the numbers in the full pyramid pattern.\n",
        "# Note: There is a space after each number.\n",
        "# Explanation\n",
        "\n",
        "# For example, if the given number is 5, the pattern should contain 5 rows as shown below\n",
        "#     1 \n",
        "#    1 2 \n",
        "#   1 2 3 \n",
        "#  1 2 3 4 \n",
        "# 1 2 3 4 5 \n",
        "n=int(input())\n",
        "for i in range (1,n+1):\n",
        "    left_spaces=\" \" * (n-i)\n",
        "    numbers=\"\"\n",
        "    for j in range(1,i+1):\n",
        "        numbers=numbers+(str(j) + \" \")\n",
        "    print(left_spaces + numbers)"
      ],
      "execution_count": null,
      "outputs": []
    },
    {
      "cell_type": "code",
      "metadata": {
        "id": "DIVk_Y0rOsyP"
      },
      "source": [
        "# Inverted Half Pyramid - 2\n",
        "# Given the number of rows N, write a program to print the inverted half pyramid pattern similar to the pattern shown below.\n",
        "# * * * * * \n",
        "# * * * * \n",
        "# * * * \n",
        "# * * \n",
        "# * \n",
        "# Input\n",
        "\n",
        "# The input will be a single line containing a positive integer (N).\n",
        "# Output\n",
        "\n",
        "# The output should be N rows containing the asterisk(*) characters in the inverted half pyramid pattern.\n",
        "# Note: There is a space after each asterisk(*) character.\n",
        "# Explanation\n",
        "\n",
        "# For example, if the given number is 5, the pattern should contain 5 rows as shown below\n",
        "# * * * * * \n",
        "# * * * * \n",
        "# * * * \n",
        "# * * \n",
        "# * \n",
        "n=int(input())\n",
        "for i in range(n):\n",
        "    print(\"* \" *(n-i))"
      ],
      "execution_count": null,
      "outputs": []
    },
    {
      "cell_type": "code",
      "metadata": {
        "id": "4nKiO8_yOs_O"
      },
      "source": [
        "# Inverted Full Pyramid\n",
        "# Given the number of rows N, write a program to print the inverted full pyramid pattern similar to the pattern shown below.\n",
        "# * * * * * \n",
        "#  * * * * \n",
        "#   * * * \n",
        "#    * * \n",
        "#     * \n",
        "# Input\n",
        "\n",
        "# The input will be a single line containing a positive integer (N).\n",
        "# Output\n",
        "\n",
        "# The output should be N rows containing the asterisk(*) characters in the inverted full pyramid pattern.\n",
        "# Note: There is a space after each asterisk(*) character.\n",
        "# Explanation\n",
        "\n",
        "# For example, if the given number is 5, the pattern should contain 5 rows as shown below\n",
        "# * * * * * \n",
        "#  * * * * \n",
        "#   * * * \n",
        "#    * * \n",
        "#     * \n",
        "n=int(input())\n",
        "for i in range(n):\n",
        "    left_spaces=\" \" * i\n",
        "    stars=\"* \" * (n-i)\n",
        "    print(left_spaces+stars)"
      ],
      "execution_count": null,
      "outputs": []
    },
    {
      "cell_type": "code",
      "metadata": {
        "id": "dz3JJQATOtD0"
      },
      "source": [
        "# Inverted Full Pyramid - 2\n",
        "# Given the number of rows N, write a program to print the inverted full pyramid pattern similar to the pattern shown below.\n",
        "# 1 2 3 4 5 \n",
        "#  1 2 3 4 \n",
        "#   1 2 3 \n",
        "#    1 2 \n",
        "#     1 \n",
        "# Input\n",
        "\n",
        "# The input will be a single line containing a positive integer (N).\n",
        "# Output\n",
        "\n",
        "# The output should be N rows containing the numbers in the inverted full pyramid pattern.\n",
        "# Note: There is a space after each number.\n",
        "# Explanation\n",
        "\n",
        "# For example, if the given number is 5, the pattern should contain 5 rows as shown below\n",
        "# 1 2 3 4 5 \n",
        "#  1 2 3 4 \n",
        "#   1 2 3 \n",
        "#    1 2 \n",
        "#     1 \n",
        "n=int(input())\n",
        "for row in range(1,n+1):\n",
        "    left_spaces=\" \" * (row-1)\n",
        "    i = n-(row-1)\n",
        "    numbers=\"\"\n",
        "    for j in range(1,i+1):\n",
        "        numbers=numbers+(str(j) + \" \")\n",
        "    print(left_spaces+numbers)"
      ],
      "execution_count": null,
      "outputs": []
    },
    {
      "cell_type": "code",
      "metadata": {
        "id": "7e8DfVDwOtHh"
      },
      "source": [
        "# Hollow Half Pyramid - 1\n",
        "# Given the number of rows N, write a program to print the hallow half pyramid pattern similar to the pattern shown below.\n",
        "# * \n",
        "# * * \n",
        "# *   * \n",
        "# *     * \n",
        "# * * * * * \n",
        "# Input\n",
        "\n",
        "# The input will be a single line containing a positive integer (N).\n",
        "# Output\n",
        "\n",
        "# The output should be N rows containing the asterisk(*) character in the hollow half pyramid pattern.\n",
        "# Note: There is a space after each asterisk(*) character.\n",
        "# Explanation\n",
        "\n",
        "# For example, if the given number is 5, the pattern should contain 5 rows as shown below\n",
        "# * \n",
        "# * * \n",
        "# *   * \n",
        "# *     * \n",
        "# * * * * * \n",
        "n=int(input())\n",
        "for i in range(1,n+1):\n",
        "    if (i>2) and (i<n):\n",
        "        hollow_spaces = \"  \" * (i-2)\n",
        "        print(\"* \" + hollow_spaces + \"* \")\n",
        "    else:\n",
        "        print(\"* \" * i)"
      ],
      "execution_count": null,
      "outputs": []
    },
    {
      "cell_type": "code",
      "metadata": {
        "id": "kfwL2pZGQHeb"
      },
      "source": [
        "# Hallow Inverted Half Pyramid - 1\n",
        "# Given the number of rows N, write a program to print the hallow inverted half pyramid pattern similar to the pattern shown below.\n",
        "# * * * * * \n",
        "# *     * \n",
        "# *   * \n",
        "# * * \n",
        "# * \n",
        "# Input\n",
        "\n",
        "# The input will be a single line containing a positive integer (N).\n",
        "# Output\n",
        "\n",
        "# The output should be N rows containing the asterisk(*) character in the hollow inverted half pyramid pattern.\n",
        "# Note: There is a space after each asterisk(*) character.\n",
        "# Explanation\n",
        "\n",
        "# For example, if the given number is 5, the pattern should contain 5 rows as shown below\n",
        "# * * * * * \n",
        "# *     * \n",
        "# *   * \n",
        "# * * \n",
        "# * \n",
        "n=int(input())\n",
        "for row in range(1,n+1):\n",
        "    i=n-(row-1)\n",
        "    if (i>2)and(i<n):\n",
        "        hollow_spaces =\"  \" * (i-2)\n",
        "        numbers=(\"* \" + hollow_spaces+\"* \")\n",
        "        print(numbers)\n",
        "    else:\n",
        "        print(\"* \" * i)"
      ],
      "execution_count": null,
      "outputs": []
    },
    {
      "cell_type": "code",
      "metadata": {
        "id": "skmcmFFvQHh6"
      },
      "source": [
        "# Hollow Half Pyramid - 2\n",
        "# Given the number of rows N, write a program to print the hallow half pyramid pattern similar to the pattern shown below.\n",
        "# 1 \n",
        "# 1 2 \n",
        "# 1   3 \n",
        "# 1     4 \n",
        "# 1 2 3 4 5 \n",
        "# Input\n",
        "\n",
        "# The input will be a single line containing a positive integer (N).\n",
        "# Output\n",
        "\n",
        "# The output should be N rows containing the numbers in the hollow half pyramid pattern.\n",
        "# Note: There is a space after each number.\n",
        "# Explanation\n",
        "\n",
        "# For example, if the given number is 5, the pattern should contain 5 rows as shown below\n",
        "# 1 \n",
        "# 1 2 \n",
        "# 1   3 \n",
        "# 1     4 \n",
        "# 1 2 3 4 5 \n",
        "n=int(input())\n",
        "for i in range(1,n+1):\n",
        "    if (i>2)and (i<n):\n",
        "        hollow_spaces=\"  \" * (i-2)\n",
        "        numbers=\"1 \"+hollow_spaces+(str(i) + \" \")\n",
        "        print(numbers)\n",
        "    else:\n",
        "        numbers=\"\"\n",
        "        for j in range(1,i+1):\n",
        "            numbers = numbers+(str(j) + \" \")\n",
        "        print(numbers)"
      ],
      "execution_count": null,
      "outputs": []
    },
    {
      "cell_type": "code",
      "metadata": {
        "id": "h41njHgMQHlT"
      },
      "source": [
        "# Hollow Inverted Half Pyramid - 2\n",
        "# Given the number of rows N, write a program to print the hallow inverted half pyramid pattern similar to the pattern shown below.\n",
        "# 1 2 3 4 5 \n",
        "# 1     4 \n",
        "# 1   3 \n",
        "# 1 2 \n",
        "# 1 \n",
        "# Input\n",
        "\n",
        "# The input will be a single line containing a positive integer (N).\n",
        "# Output\n",
        "\n",
        "# The output should be N rows containing the numbers in the hollow inverted half pyramid pattern.\n",
        "# Note: There is a space after each number.\n",
        "# Explanation\n",
        "\n",
        "# For example, if the given number is 5, the pattern should contain 5 rows as shown below\n",
        "# 1 2 3 4 5 \n",
        "# 1     4 \n",
        "# 1   3 \n",
        "# 1 2 \n",
        "# 1\n",
        "n=int(input())\n",
        "for row in range(1,n+1):\n",
        "    i=n-(row-1)\n",
        "    if (i>2) and (i<n):\n",
        "        hollow_spaces=\"  \" * (i-2)\n",
        "        numbers=\"1 \" + hollow_spaces+ (str(i)+ \" \")\n",
        "        print(numbers)\n",
        "    else:\n",
        "        numbers= \"\"\n",
        "        for j in range(1,i+1):\n",
        "            numbers = numbers+(str(j)+\" \")\n",
        "        print(numbers)"
      ],
      "execution_count": null,
      "outputs": []
    },
    {
      "cell_type": "code",
      "metadata": {
        "id": "hmzqmKPaQHoh"
      },
      "source": [
        "# Hollow Full Pyramid - 1\n",
        "# Given the number of rows N, write a program to print the hallow full pyramid pattern similar to the pattern shown below.\n",
        "#     * \n",
        "#    * * \n",
        "#   *   * \n",
        "#  *     * \n",
        "# * * * * * \n",
        "# Input\n",
        "\n",
        "# The input will be a single line containing a positive integer (N).\n",
        "# Output\n",
        "\n",
        "# The output should be N rows containing the asterisk(*) characters in the hollow full pyramid pattern.\n",
        "# Explanation\n",
        "\n",
        "# For example, if the given number is 5, the pattern should contain 5 rows as shown below\n",
        "#     * \n",
        "#    * * \n",
        "#   *   * \n",
        "#  *     * \n",
        "# * * * * * \n",
        "n=int(input())\n",
        "for i in range(1,n+1):\n",
        "    left_spaces=\" \" * (n-i)\n",
        "    if (i>2)and(i<n):\n",
        "        hollow_spaces =\"  \" * (i-2)\n",
        "        stars=\"* \" + hollow_spaces + \"* \" \n",
        "        print(left_spaces+stars)\n",
        "    else:\n",
        "        stars= \"* \" * i\n",
        "        print(left_spaces+stars)"
      ],
      "execution_count": null,
      "outputs": []
    },
    {
      "cell_type": "code",
      "metadata": {
        "id": "4f1JgNmqQH_F"
      },
      "source": [
        "# Hollow Inverted Full Pyramid - 2\n",
        "# Given the number of rows N, write a program to print the hallow inverted full pyramid pattern similar to the pattern shown below.\n",
        "# 1 2 3 4 5 \n",
        "#  1     4 \n",
        "#   1   3 \n",
        "#    1 2 \n",
        "#     1 \n",
        "# Input\n",
        "\n",
        "# The input will be a single line containing a positive integer (N).\n",
        "# Output\n",
        "\n",
        "# The output should be N rows containing the numbers in the hollow inverted full pyramid pattern.\n",
        "# Note: There is a space after each number.\n",
        "# Explanation\n",
        "\n",
        "# For example, if the given number is 5, the pattern should contain 5 rows as shown below\n",
        "# 1 2 3 4 5 \n",
        "#  1     4 \n",
        "#   1   3 \n",
        "#    1 2 \n",
        "#     1 \n",
        "n=int(input())\n",
        "for row in range(1,n+1):\n",
        "    i=n-(row-1)\n",
        "    left_spaces = \" \" * (row-1)\n",
        "    if (i>2) and (i<n):\n",
        "        hollow_spaces = \"  \" * (i-2)\n",
        "        numbers=\"1 \" + hollow_spaces +(str(i)+\" \")\n",
        "        print(left_spaces+numbers)\n",
        "    else:\n",
        "        numbers= \"\"\n",
        "        for j in range(1,i+1):\n",
        "            numbers=numbers+(str(j)+\" \")\n",
        "        print(left_spaces+numbers)"
      ],
      "execution_count": null,
      "outputs": []
    },
    {
      "cell_type": "code",
      "metadata": {
        "id": "A43mk3LGQICX"
      },
      "source": [
        "# Loop Control Statements > Coding Practice - 15"
      ],
      "execution_count": null,
      "outputs": []
    },
    {
      "cell_type": "code",
      "metadata": {
        "id": "Sjz388JdQIGf"
      },
      "source": [
        "# Solid Half Diamond\n",
        "# Given an integer N, write a program to print the solid half diamond pattern in (2*N - 1) rows and N columns, similar to the pattern shown below\n",
        "# * \n",
        "# * * \n",
        "# * * * \n",
        "# * * * * \n",
        "# * * * * * \n",
        "# * * * * \n",
        "# * * * \n",
        "# * * \n",
        "# * \n",
        "# Input\n",
        "\n",
        "# The input will be a single line containing a positive integer (N).\n",
        "# Output\n",
        "\n",
        "# The output should be (2*N - 1) rows and N columns containing the asterisk(*) characters in the solid half diamond pattern.\n",
        "# Note: There is a space after each asterisk(*) character.\n",
        "# Explanation\n",
        "\n",
        "# For example, if the given number is 5, the pattern should contain 9 rows and 5 columns as shown below\n",
        "# * \n",
        "# * * \n",
        "# * * * \n",
        "# * * * * \n",
        "# * * * * * \n",
        "# * * * * \n",
        "# * * * \n",
        "# * * \n",
        "# *\n",
        "n=int(input())\n",
        "for i in range(1,n):\n",
        "    print(\"* \" * i)\n",
        "for i in range (n):\n",
        "    print(\"* \" * (n-i))"
      ],
      "execution_count": null,
      "outputs": []
    },
    {
      "cell_type": "code",
      "metadata": {
        "id": "g2MDKadDQIKj"
      },
      "source": [
        "# Butterfly\n",
        "# Given an integer N, write a program to print the butterfly pattern in 2*N rows and 2*N columns, similar to the pattern shown below\n",
        "# *                 * \n",
        "# * *             * * \n",
        "# * * *         * * * \n",
        "# * * * *     * * * * \n",
        "# * * * * * * * * * * \n",
        "# * * * * * * * * * * \n",
        "# * * * *     * * * * \n",
        "# * * *         * * * \n",
        "# * *             * * \n",
        "# *                 * \n",
        "# Input\n",
        "\n",
        "# The input will be a single line containing a positive integer (N).\n",
        "# Output\n",
        "\n",
        "# The output should be 2*N rows and 2*N columns containing the asterisk(*) characters in the butterfly pattern.\n",
        "# Note: There is a space after each asterisk(*) character.\n",
        "# Explanation\n",
        "\n",
        "# For example, if the given number is 5, the pattern should contain 10 rows and 10 columns as shown below\n",
        "# *                 * \n",
        "# * *             * * \n",
        "# * * *         * * * \n",
        "# * * * *     * * * * \n",
        "# * * * * * * * * * * \n",
        "# * * * * * * * * * * \n",
        "# * * * *     * * * * \n",
        "# * * *         * * * \n",
        "# * *             * * \n",
        "# *                 * \n",
        "n=int(input())\n",
        "for i in range(1,n+1):\n",
        "    stars=\"* \" * i\n",
        "    middle_spaces=\"  \" * (2*(n-i))\n",
        "    print(stars+middle_spaces+stars)\n",
        "for i in range (n):\n",
        "    stars=\"* \" * (n-i)\n",
        "    middle_spaces=\"  \" * (2*i)\n",
        "    print(stars+middle_spaces+stars)"
      ],
      "execution_count": null,
      "outputs": []
    },
    {
      "cell_type": "code",
      "metadata": {
        "id": "Cj04TxbPQIN8"
      },
      "source": [
        "# Full Pyramid - 3\n",
        "# Given the number of rows N, write a program to print the pyramid pattern similar to the pattern shown below.\n",
        "# 0 0 0 0 1 0 0 0 0 \n",
        "# 0 0 0 1 1 1 0 0 0 \n",
        "# 0 0 1 1 1 1 1 0 0 \n",
        "# 0 1 1 1 1 1 1 1 0 \n",
        "# 1 1 1 1 1 1 1 1 1 \n",
        "# Input\n",
        "\n",
        "# The input will be a single line containing a positive integer (N).\n",
        "# Output\n",
        "\n",
        "# The output should be N rows and (2*N - 1) columns containing the 0's and 1's in the pyramid pattern.\n",
        "# Note: There is a space after each number.\n",
        "# Explanation\n",
        "\n",
        "# For example, if the given number is 5, the pattern should contain 5 rows and 9 columns as shown below\n",
        "# 0 0 0 0 1 0 0 0 0 \n",
        "# 0 0 0 1 1 1 0 0 0 \n",
        "# 0 0 1 1 1 1 1 0 0 \n",
        "# 0 1 1 1 1 1 1 1 0 \n",
        "# 1 1 1 1 1 1 1 1 1 \n",
        "n=int(input())\n",
        "for i in range(1,n+1):\n",
        "    zeros=\"0 \" * (n-i)\n",
        "    ones=\"1 \" * ((2*i)-1)\n",
        "    print(zeros+ones+zeros)"
      ],
      "execution_count": null,
      "outputs": []
    },
    {
      "cell_type": "code",
      "metadata": {
        "id": "m6C3ggDKRStR"
      },
      "source": [
        "# Digit 8\n",
        "# Given an integer N, write a program to print pattern \"8\" in (2*N + 1) rows and N columns, similar to the pattern shown below\n",
        "# * * * * * \n",
        "# *       * \n",
        "# *       * \n",
        "# *       * \n",
        "# *       * \n",
        "# * * * * * \n",
        "# *       * \n",
        "# *       * \n",
        "# *       * \n",
        "# *       * \n",
        "# * * * * * \n",
        "# Input\n",
        "\n",
        "# The input will be a single line containing a positive integer (N).\n",
        "# Output\n",
        "\n",
        "# The output should be (2*N + 1) rows and N columns containing the asterisk(*) characters in the pattern \"8\".\n",
        "# Note: There is a space after each asterisk(*) character.\n",
        "# Explanation\n",
        "\n",
        "# For example, if the given number is 5, the pattern should contain 11 rows and 5 columns as shown below\n",
        "# * * * * * \n",
        "# *       * \n",
        "# *       * \n",
        "# *       * \n",
        "# *       * \n",
        "# * * * * * \n",
        "# *       * \n",
        "# *       * \n",
        "# *       * \n",
        "# *       * \n",
        "# * * * * *\n",
        "n=int(input())\n",
        "no_of_rows = (2*n) + 1\n",
        "for i in range (1,no_of_rows+1):\n",
        "    if (i == 1) or (i==(n+1)) or (i== no_of_rows):\n",
        "        print(\"* \" * n)\n",
        "    else:\n",
        "        spaces=\"  \" * (n-2)\n",
        "        print(\"* \" + spaces +\"* \")"
      ],
      "execution_count": null,
      "outputs": []
    },
    {
      "cell_type": "code",
      "metadata": {
        "id": "VQo5ZozkRSwn"
      },
      "source": [
        "# Kth Largest Factor\n",
        "# Write a program to find the Kth largest factor of the given number N.\n",
        "# Input\n",
        "\n",
        "# The first line of input will contain a positive integer (N).\n",
        "# The second line of input will contain a positive integer (K).\n",
        "# Output\n",
        "\n",
        "# The output should be a single line containing the Kth largest factor of the given number N.\n",
        "# Explanation\n",
        "\n",
        "# For example, if the given number N is 12 and K is 2, as the factors of 12 are 1, 2, 3, 4, 6, and 12, then the second-largest factor is 6. So the output should be 6.\n",
        "number = int(input())\n",
        "k = int(input())\n",
        "\n",
        "factor = number\n",
        "count = 0\n",
        "kth_factor_found = False\n",
        "\n",
        "for i in range(1, number+1):\n",
        "    if not kth_factor_found:\n",
        "        if (number % factor) == 0:\n",
        "            count = count + 1\n",
        "        if count == k:\n",
        "            print(factor)\n",
        "            kth_factor_found = True\n",
        "    factor = factor - 1"
      ],
      "execution_count": null,
      "outputs": []
    },
    {
      "cell_type": "code",
      "metadata": {
        "id": "MJrsExlDRS0F"
      },
      "source": [
        "# Loop Control Statements > Coding Practice - 16"
      ],
      "execution_count": null,
      "outputs": []
    },
    {
      "cell_type": "code",
      "metadata": {
        "id": "H-XnuJIFRS51"
      },
      "source": [
        "# First Prime Number in Range\n",
        "# Write a program to find the first prime number in the given range of M to N.\n",
        "# Input\n",
        "\n",
        "# The first line of input will contain an integer (M).\n",
        "# The second line of input will contain an integer (N).\n",
        "# Output\n",
        "\n",
        "# The output should be a single line containing either the first prime number in the given range or \"No prime numbers in the given range\".\n",
        "# Explanation\n",
        "\n",
        "# For example, if the given range is 25 to 50, the output should be the first prime number, which is 29.\n",
        "# Whereas if the given range is 8 to 10, the output should be \"No prime numbers in the given range\", as there are no prime numbers in the given range.\n",
        "m=int(input())\n",
        "n=int(input())\n",
        "if not (m>1):\n",
        "    m=2\n",
        "no_primes = True\n",
        "for i in range (m,n+1):\n",
        "    is_prime=True\n",
        "    for j in range(2,i):\n",
        "        if i%j ==0:\n",
        "            is_prime=False\n",
        "            break\n",
        "    if is_prime:\n",
        "        print(i)\n",
        "        no_primes = False\n",
        "        break\n",
        "\n",
        "if no_primes:\n",
        "    print(\"No prime numbers in the given range\")"
      ],
      "execution_count": null,
      "outputs": []
    },
    {
      "cell_type": "code",
      "metadata": {
        "id": "auf0unBmRS9m"
      },
      "source": [
        "# First Negative Number\n",
        "# Given N inputs, write a program to print the first negative number.\n",
        "# Input\n",
        "\n",
        "# The first line of input will contain a positive integer (N).\n",
        "# The following N lines will contain an integer in each line.\n",
        "# Output\n",
        "\n",
        "# The output should be a single line containing the first negative number.\n",
        "# Explanation\n",
        "\n",
        "# For example, if the given number is 5, then read the inputs in the next 5 lines and print the first negative number among the given five numbers. If the given numbers in the next five lines are 8, 11, -96, 49, and -25, the output should be -96.\n",
        "n=int(input())\n",
        "for i in range(n):\n",
        "    number=int(input())\n",
        "    if number<0:\n",
        "        print(number)\n",
        "        break"
      ],
      "execution_count": null,
      "outputs": []
    },
    {
      "cell_type": "code",
      "metadata": {
        "id": "bDBYcqsBR40r"
      },
      "source": [
        "# First Uppercase Letter\n",
        "# Write a program to find the first upper case letter in the given string.\n",
        "# Input\n",
        "\n",
        "# The input will be a single line containing a string.\n",
        "# Note:There will not be any special characters in the given string.\n",
        "# Output\n",
        "\n",
        "# The output will be a single line containing the first uppercase letter in the given string.\n",
        "# Explanation\n",
        "\n",
        "# For example, if the given string is \"superHeroes\", your code should print the first uppercase letter, which is \"H\".\n",
        "\n",
        "# Similarly, if the given string is \"100Meteres\", your code should print the first uppercase letter, which is \"M\".\n",
        "word=input()\n",
        "for char in word:\n",
        "    if char.upper()==char:\n",
        "        if not char.isdigit():\n",
        "            print(char)\n",
        "            break"
      ],
      "execution_count": null,
      "outputs": []
    },
    {
      "cell_type": "code",
      "metadata": {
        "id": "g4xiTqLhR44i"
      },
      "source": [
        "# First Word in Uppercase\n",
        "# Given a sentence, write a program to print a new sentence with the first word in uppercase.\n",
        "# Input\n",
        "\n",
        "# The input will be a single line containing a string.\n",
        "# Output\n",
        "\n",
        "# The output should be a single line containing the new sentence with the first word in uppercase.\n",
        "# Explanation\n",
        "\n",
        "# For example, if the given sentence is \"Python is a programming language.\", your code should print \"PYTHON is a programming language.\"\n",
        "sentence=input()\n",
        "first_space_index=0\n",
        "for char in sentence:\n",
        "    if char == \" \":\n",
        "        break\n",
        "    first_space_index=first_space_index+1\n",
        "upper_case_word = sentence[:first_space_index].upper()\n",
        "new_sentence = upper_case_word+sentence[first_space_index:]\n",
        "print(new_sentence)"
      ],
      "execution_count": null,
      "outputs": []
    },
    {
      "cell_type": "code",
      "metadata": {
        "id": "bbX4miLsR48L"
      },
      "source": [
        "# Identify the Mistake - Prime Number\n",
        "# Write a program to check if the given number is a prime number or not.\n",
        "# Input\n",
        "\n",
        "# The input will be a single line containing the positive integer.\n",
        "# Output\n",
        "\n",
        "# The output should be a single line containing either \"True\" or \"False\".\n",
        "# Explanation\n",
        "\n",
        "# For example, if the given number is 22, which is not a prime number, then the output should be \"False\".\n",
        "n = int(input())\n",
        "if n>1:\n",
        "    is_prime = True\n",
        "\n",
        "else:\n",
        "    is_prime=False\n",
        "for i in range(2, n):\n",
        "    if (n%i) == 0:\n",
        "        is_prime = False\n",
        "        break\n",
        "print(is_prime)"
      ],
      "execution_count": null,
      "outputs": []
    },
    {
      "cell_type": "code",
      "metadata": {
        "id": "-O2nva_1R5AU"
      },
      "source": [
        "#Comparing Strings & Naming Variables > Coding Practice - 17"
      ],
      "execution_count": null,
      "outputs": []
    },
    {
      "cell_type": "code",
      "metadata": {
        "id": "8RuVtUp_cb78"
      },
      "source": [
        "# Hollow Diamond\n",
        "# Given an integer N, write a program to print the hollow diamond pattern in (2*N - 1) rows and 2*N - 1 columns, similar to the pattern shown below\n",
        "#     *\n",
        "#    * *\n",
        "#   *   *\n",
        "#  *     *\n",
        "# *       *\n",
        "#  *     *\n",
        "#   *   *\n",
        "#    * *\n",
        "#     *\n",
        "# Input\n",
        "\n",
        "# The input will be a single line containing a positive integer (N).\n",
        "# Output\n",
        "\n",
        "# The output should be (2*N - 1) rows and (2*N - 1) columns containing the asterisk(*) characters in the hollow diamond pattern.\n",
        "# Explanation\n",
        "\n",
        "# For example, if the given number is 5, the pattern should contain 9 rows and 9 columns as shown below\n",
        "#     *\n",
        "#    * *\n",
        "#   *   *\n",
        "#  *     *\n",
        "# *       *\n",
        "#  *     *\n",
        "#   *   *\n",
        "#    * *\n",
        "#     *"
      ],
      "execution_count": null,
      "outputs": []
    },
    {
      "cell_type": "code",
      "metadata": {
        "id": "SuKSfwnGccKc"
      },
      "source": [
        "# Hollow Diamond - 2\n",
        "# Given an integer N, write a program to print the hollow diamond pattern in 2*N rows and 2*N columns, similar to the pattern shown below\n",
        "# * * * * * * * * * * \n",
        "# * * * *     * * * * \n",
        "# * * *         * * * \n",
        "# * *             * * \n",
        "# *                 * \n",
        "# *                 * \n",
        "# * *             * * \n",
        "# * * *         * * * \n",
        "# * * * *     * * * * \n",
        "# * * * * * * * * * * \n",
        "# Input\n",
        "\n",
        "# The input will be a single line containing a positive integer (N).\n",
        "# Output\n",
        "\n",
        "# The output should be 2*N rows and 2*N columns containing the asterisk(*) characters in the hollow diamond pattern.\n",
        "# Note: There is a space after each asterisk(*) character.\n",
        "# Explanation\n",
        "\n",
        "# For example, if the given number is 5, the pattern should contain 10 rows and 10 columns as shown below\n",
        "# * * * * * * * * * * \n",
        "# * * * *     * * * * \n",
        "# * * *         * * * \n",
        "# * *             * * \n",
        "# *                 * \n",
        "# *                 * \n",
        "# * *             * * \n",
        "# * * *         * * * \n",
        "# * * * *     * * * * \n",
        "# * * * * * * * * * * \n",
        "n=int(input())\n",
        "for row in range(0,n):\n",
        "    stars_count=n-row\n",
        "    left_stars=\"* \" * stars_count\n",
        "    hollow_spaces=\"  \" * (2*row)\n",
        "    right_stars=\"* \" * stars_count\n",
        "    print(left_stars+hollow_spaces+right_stars)\n",
        "    \n",
        "for row in range (1,n+1):\n",
        "    stars_count=n-row\n",
        "    stars=\"* \" * row\n",
        "    hollow_spaces=\"  \" * (2*stars_count)\n",
        "    print(stars+hollow_spaces+stars)"
      ],
      "execution_count": null,
      "outputs": []
    },
    {
      "cell_type": "code",
      "metadata": {
        "id": "72Vn8dTNccUT"
      },
      "source": [
        "# Identify the Mistake - Pattern\n",
        "# Given the number of rows N, write a program to print the pattern similar to the pattern shown below.\n",
        "#     $$$$$\n",
        "#    $$$$$\n",
        "#   $$$$$\n",
        "#  $$$$$\n",
        "# $$$$$\n",
        "# Input\n",
        "\n",
        "# The input will be a single line containing a positive integer (N).\n",
        "# Output\n",
        "\n",
        "# The output should be N rows containing the dollar($) character in the given pattern.\n",
        "# Explanation\n",
        "\n",
        "# For example, if the given number is 5, the pattern should contain 5 rows as shown below\n",
        "#     $$$$$\n",
        "#    $$$$$\n",
        "#   $$$$$\n",
        "#  $$$$$\n",
        "# $$$$$\n",
        "n = int(input())\n",
        "for i in range(0, n):\n",
        "    row_out = \" \" * (n-i-1)\n",
        "    row_out = row_out + \"$\" * n\n",
        "    print(row_out)"
      ],
      "execution_count": null,
      "outputs": []
    },
    {
      "cell_type": "code",
      "metadata": {
        "id": "YKoloTpdccdH"
      },
      "source": [
        "# Comparing Strings & Naming Variables > Coding Practice - 18"
      ],
      "execution_count": null,
      "outputs": []
    },
    {
      "cell_type": "code",
      "metadata": {
        "id": "9SB86SWecclU"
      },
      "source": [
        "# Cumulative Sum\n",
        "# Write a program to compute the cumulative sum of the given N numbers after each input.\n",
        "# Cumulative sum is the sum of all the previous inputs and the current input.\n",
        "# Input\n",
        "\n",
        "# The first line of input will contain a positive integer (N).\n",
        "# The following N lines will contain an integer in each line.\n",
        "# Output\n",
        "\n",
        "# The output should be N lines printing the cumulative sum after each input in a new line.\n",
        "# Explanation\n",
        "\n",
        "# For example, if the given number is 5, then read the inputs in the next 5 lines and print the cumulative sum after each input. If the given numbers in the next five lines are 8, 11, -96, 49, and 85, the cumulative sum after each input is\n",
        "# 8\n",
        "# 8 + 11 = 19\n",
        "# 8 + 11 + -96 = -77\n",
        "# 8 + 11 + -96 + 49 = -28\n",
        "# 8 + 11 + -96 + 49 + 85 = 67\n",
        "\n",
        "# So the output should be\n",
        "# 8\n",
        "# 19\n",
        "# -77\n",
        "# -28\n",
        "# 57\n",
        "n=int(input())\n",
        "total=0\n",
        "for i in range(n):\n",
        "    number=int(input())\n",
        "    total=total+number\n",
        "    print(total)"
      ],
      "execution_count": null,
      "outputs": []
    },
    {
      "cell_type": "code",
      "metadata": {
        "id": "ZOqUvz-PcctP"
      },
      "source": [
        "# Double Char\n",
        "# Given a string, write a program to double all the characters in the given string.\n",
        "# Input\n",
        "\n",
        "# The input will be a single line containing a string.\n",
        "# Output\n",
        "\n",
        "# The output should be a single line containing a new string with all the characters doubled in the given string.\n",
        "# Explanation\n",
        "\n",
        "# For example, if the given string is \"The\", the output should be \"TThhee\".\n",
        "word=input()\n",
        "new_word=\"\"\n",
        "for char in word:\n",
        "    new_word=new_word+(char*2)\n",
        "print(new_word)"
      ],
      "execution_count": null,
      "outputs": []
    },
    {
      "cell_type": "code",
      "metadata": {
        "id": "47eOGNu7cc0e"
      },
      "source": [
        "# Subsequence\n",
        "# Given two strings, write a program to check if the second string is a subsequence of the first string.\n",
        "# A string can be considered subsequence of other if it can be derived from the original string by ignoring or removing some characters without changing the order of the remaining characters.\n",
        "# Input\n",
        "\n",
        "# The first line of input will contain a string.\n",
        "# The second line of input will contain a string.\n",
        "# Output\n",
        "\n",
        "# The output should be a single line containing either \"Yes\" or \"No\".\n",
        "# Explanation\n",
        "\n",
        "# For example, if the first string is \"abcde\" and the second string is \"ace\", the output should be \"Yes\", as the second string is a subsequence of the first string.\n",
        "\n",
        "# Whereas, if the first string is \"Google\", and the second string is \"lg\", the output should be \"No\", as the second string is not obtained by ignoring some characters without changing the order in the first string.\n",
        "full_string=input()\n",
        "subsequence=input()\n",
        "subseq_index=0\n",
        "subseq_len=len(subsequence)\n",
        "for char in full_string:\n",
        "    if char == subsequence[subseq_index]:\n",
        "        subseq_index += 1"
      ],
      "execution_count": null,
      "outputs": []
    },
    {
      "cell_type": "code",
      "metadata": {
        "id": "GQ75gv66cc8h"
      },
      "source": [
        "# Identify the Mistake - Number Pyramid\n",
        "# Given the number of rows N, write a program to print the number pyramid pattern similar to the pattern shown below\n",
        "#     1\n",
        "#    212\n",
        "#   32123\n",
        "#  4321234\n",
        "# 543212345\n",
        "# Input\n",
        "\n",
        "# The input will be a single line containing a positive integer (N).\n",
        "# Output\n",
        "\n",
        "# The output should be N rows containing the numbers in the pyramid pattern.\n",
        "# Explanation\n",
        "\n",
        "# For example, if the given number is 5, the pattern should contain 5 rows as shown below\n",
        "#     1\n",
        "#    212\n",
        "#   32123\n",
        "#  4321234\n",
        "# 543212345\n",
        "n = int(input())\n",
        "for i in range(1, n+1):\n",
        "    spaces = \" \"*(n - i)\n",
        "    left_nums = \"\"\n",
        "    right_nums = \"\"\n",
        "    for j in range(1, i+1):\n",
        "        left_nums = str(j) + left_nums\n",
        "        right_nums = right_nums + str(j)\n",
        "    print(spaces + left_nums + right_nums[1:])"
      ],
      "execution_count": null,
      "outputs": []
    },
    {
      "cell_type": "code",
      "metadata": {
        "id": "fSzcGXbpR5Dh"
      },
      "source": [
        ""
      ],
      "execution_count": null,
      "outputs": []
    },
    {
      "cell_type": "markdown",
      "metadata": {
        "id": "tBNHBOWoYid5"
      },
      "source": [
        ""
      ]
    },
    {
      "cell_type": "code",
      "metadata": {
        "id": "-Z4fSFc_R5G3"
      },
      "source": [
        ""
      ],
      "execution_count": null,
      "outputs": []
    },
    {
      "cell_type": "code",
      "metadata": {
        "id": "FmEBRqUgYkDY"
      },
      "source": [
        ""
      ],
      "execution_count": null,
      "outputs": []
    },
    {
      "cell_type": "code",
      "metadata": {
        "id": "SLRijfS_YkIQ"
      },
      "source": [
        ""
      ],
      "execution_count": null,
      "outputs": []
    },
    {
      "cell_type": "code",
      "metadata": {
        "id": "EePshgqEYkOy"
      },
      "source": [
        ""
      ],
      "execution_count": null,
      "outputs": []
    },
    {
      "cell_type": "code",
      "metadata": {
        "id": "bwtsJiG5YkUO"
      },
      "source": [
        ""
      ],
      "execution_count": null,
      "outputs": []
    },
    {
      "cell_type": "code",
      "metadata": {
        "id": "2kQRypdsYkZn"
      },
      "source": [
        ""
      ],
      "execution_count": null,
      "outputs": []
    }
  ]
}