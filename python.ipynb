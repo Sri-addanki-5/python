{
  "nbformat": 4,
  "nbformat_minor": 0,
  "metadata": {
    "colab": {
      "name": "python.ipynb",
      "provenance": [],
      "collapsed_sections": [],
      "authorship_tag": "ABX9TyP87wW0q3cXuCjTH5kzOk1q",
      "include_colab_link": true
    },
    "kernelspec": {
      "display_name": "Python 3",
      "name": "python3"
    }
  },
  "cells": [
    {
      "cell_type": "markdown",
      "metadata": {
        "id": "view-in-github",
        "colab_type": "text"
      },
      "source": [
        "<a href=\"https://colab.research.google.com/github/Sri-addanki-5/python/blob/main/python.ipynb\" target=\"_parent\"><img src=\"https://colab.research.google.com/assets/colab-badge.svg\" alt=\"Open In Colab\"/></a>"
      ]
    },
    {
      "cell_type": "code",
      "metadata": {
        "colab": {
          "base_uri": "https://localhost:8080/"
        },
        "id": "Rm3UPM0H-t9b",
        "outputId": "0fdbc739-cd65-46c6-ff54-fcecf2a940e3"
      },
      "source": [
        "#Write a program that takes a word W as input and prints \"Hello\" followed by the given word W.\n",
        "name=input()\n",
        "print(\"Hello \"+name)"
      ],
      "execution_count": null,
      "outputs": [
        {
          "output_type": "stream",
          "text": [
            "srikanth\n",
            "Hello srikanth\n"
          ],
          "name": "stdout"
        }
      ]
    },
    {
      "cell_type": "code",
      "metadata": {
        "colab": {
          "base_uri": "https://localhost:8080/"
        },
        "id": "i4BAn0lt_caf",
        "outputId": "8502426c-bd92-42ac-c12f-3c8c0b92291c"
      },
      "source": [
        "#String Repetition\n",
        "# Write a program to print the given input word three times in a single line separated by spaces\n",
        "word = input()\n",
        "message = (word + ' ') * 3\n",
        "print(message)"
      ],
      "execution_count": null,
      "outputs": [
        {
          "output_type": "stream",
          "text": [
            "srikanth\n",
            "srikanth srikanth srikanth \n"
          ],
          "name": "stdout"
        }
      ]
    },
    {
      "cell_type": "code",
      "metadata": {
        "colab": {
          "base_uri": "https://localhost:8080/"
        },
        "id": "l0f8a28tBu0M",
        "outputId": "b7955908-b7d9-4638-bda1-be19d64ff865"
      },
      "source": [
        "a = input()\n",
        "a = int(a)\n",
        "b = input()\n",
        "b = int(b)\n",
        "result = a+b\n",
        "print(result)\n"
      ],
      "execution_count": null,
      "outputs": [
        {
          "output_type": "stream",
          "text": [
            "10\n",
            "20\n",
            "30\n"
          ],
          "name": "stdout"
        }
      ]
    },
    {
      "cell_type": "code",
      "metadata": {
        "colab": {
          "base_uri": "https://localhost:8080/"
        },
        "id": "pOK6FYRtBu27",
        "outputId": "b31a3541-7d5f-4a6c-dbb7-f93fbebf02f1"
      },
      "source": [
        "word = input()\n",
        "n = input()\n",
        "n = int(n)\n",
        "print(word[n])"
      ],
      "execution_count": null,
      "outputs": [
        {
          "output_type": "stream",
          "text": [
            "chocolate\n",
            "8\n",
            "e\n"
          ],
          "name": "stdout"
        }
      ]
    },
    {
      "cell_type": "code",
      "metadata": {
        "colab": {
          "base_uri": "https://localhost:8080/"
        },
        "id": "kBGCDNi5Bu5z",
        "outputId": "efe15592-b908-453b-e479-e84467245bf5"
      },
      "source": [
        "length = input()\n",
        "breadth = input()\n",
        "length = int(length)\n",
        "breadth = int(breadth)\n",
        "area_of_rectangle = length*breadth\n",
        "print(area_of_rectangle)"
      ],
      "execution_count": null,
      "outputs": [
        {
          "output_type": "stream",
          "text": [
            "10\n",
            "8\n",
            "80\n"
          ],
          "name": "stdout"
        }
      ]
    },
    {
      "cell_type": "code",
      "metadata": {
        "colab": {
          "base_uri": "https://localhost:8080/"
        },
        "id": "W2Sb60H2Bu8F",
        "outputId": "468e8168-f903-4676-d202-8b5d58e495de"
      },
      "source": [
        "#perimeter of rectangle\n",
        "length = input()\n",
        "breadth = input()\n",
        "length = int(input())\n",
        "breadth = int(input())\n",
        "sum_of_two_sides = length+breadth\n",
        "perimeter_of_rectangle = 2*sum_of_two_sides\n",
        "print(perimeter_of_rectangle)"
      ],
      "execution_count": null,
      "outputs": [
        {
          "output_type": "stream",
          "text": [
            "10\n",
            "40\n",
            "3\n",
            "3\n",
            "12\n"
          ],
          "name": "stdout"
        }
      ]
    },
    {
      "cell_type": "code",
      "metadata": {
        "colab": {
          "base_uri": "https://localhost:8080/"
        },
        "id": "teK2ZKMDBu-X",
        "outputId": "30fc4daf-98e5-4d7d-d28d-61bced05486c"
      },
      "source": [
        "first_str = input()\n",
        "snd_str = input()\n",
        "first_str_part = first_str[:3]\n",
        "second_str_part = snd_str[:3]\n",
        "are_both_same = first_str_part == second_str_part\n",
        "print(are_both_same)"
      ],
      "execution_count": null,
      "outputs": [
        {
          "output_type": "stream",
          "text": [
            "srikanth\n",
            "srikanth\n",
            "True\n"
          ],
          "name": "stdout"
        }
      ]
    },
    {
      "cell_type": "code",
      "metadata": {
        "colab": {
          "base_uri": "https://localhost:8080/"
        },
        "id": "rR1Fn-glBvA7",
        "outputId": "8af66717-7f0d-4c08-e5e8-a2c287401575"
      },
      "source": [
        "a =input()\n",
        "b = input()\n",
        "a = int(a)\n",
        "b = int(b)\n",
        "is_both_positive = a > 0 and b > 0\n",
        "is_one_greater = a>5 or b > 5\n",
        "result = is_both_positive and is_one_greater\n",
        "print(result)"
      ],
      "execution_count": null,
      "outputs": [
        {
          "output_type": "stream",
          "text": [
            "10\n",
            "20\n",
            "True\n"
          ],
          "name": "stdout"
        }
      ]
    },
    {
      "cell_type": "code",
      "metadata": {
        "colab": {
          "base_uri": "https://localhost:8080/"
        },
        "id": "DTr4gMy5BvDv",
        "outputId": "f73aba57-f82a-4460-f3d2-98998c1e6a1e"
      },
      "source": [
        "n = int(input())\n",
        "counter = 1\n",
        "while counter <=n:\n",
        "    print(counter)\n",
        "    counter = counter +1 "
      ],
      "execution_count": null,
      "outputs": [
        {
          "output_type": "stream",
          "text": [
            "5\n",
            "1\n",
            "2\n",
            "3\n",
            "4\n",
            "5\n"
          ],
          "name": "stdout"
        }
      ]
    },
    {
      "cell_type": "code",
      "metadata": {
        "colab": {
          "base_uri": "https://localhost:8080/"
        },
        "id": "Ry1zHzGNBvXf",
        "outputId": "cab92166-441f-48ca-8f45-3d59ee94c549"
      },
      "source": [
        "m = int(input())\n",
        "n = int(input())\n",
        "for number in range(m,n+1):\n",
        "  print(number)"
      ],
      "execution_count": null,
      "outputs": [
        {
          "output_type": "stream",
          "text": [
            "10\n",
            "12\n",
            "10\n",
            "11\n",
            "12\n"
          ],
          "name": "stdout"
        }
      ]
    },
    {
      "cell_type": "code",
      "metadata": {
        "colab": {
          "base_uri": "https://localhost:8080/"
        },
        "id": "0BWaelpZBvZm",
        "outputId": "a45d160a-1662-4c22-d3f3-ad14f8335d60"
      },
      "source": [
        "m = int(input())\n",
        "n = int(input())\n",
        "for number in range(m):\n",
        "  print(\"* \" *n)"
      ],
      "execution_count": null,
      "outputs": [
        {
          "output_type": "stream",
          "text": [
            "6\n",
            "4\n",
            "* * * * \n",
            "* * * * \n",
            "* * * * \n",
            "* * * * \n",
            "* * * * \n",
            "* * * * \n"
          ],
          "name": "stdout"
        }
      ]
    },
    {
      "cell_type": "code",
      "metadata": {
        "colab": {
          "base_uri": "https://localhost:8080/"
        },
        "id": "hDGLbJPNH1ba",
        "outputId": "7ac249bb-216e-4084-e16d-ffa6cad860cf"
      },
      "source": [
        " m = int(input())\n",
        " for number in range(1,m+1):\n",
        "   print(\"* \"*number)"
      ],
      "execution_count": null,
      "outputs": [
        {
          "output_type": "stream",
          "text": [
            "4\n",
            "* \n",
            "* * \n",
            "* * * \n",
            "* * * * \n"
          ],
          "name": "stdout"
        }
      ]
    },
    {
      "cell_type": "code",
      "metadata": {
        "colab": {
          "base_uri": "https://localhost:8080/"
        },
        "id": "S94doGhCH1d6",
        "outputId": "c7150385-e4b1-477b-c31e-7e996056f96c"
      },
      "source": [
        "n = int(input())\n",
        "total = 0\n",
        "for i in range(n):\n",
        "  m = int(input())\n",
        "  total = total+m\n",
        "print(total) "
      ],
      "execution_count": null,
      "outputs": [
        {
          "output_type": "stream",
          "text": [
            "5\n",
            "4\n",
            "3\n",
            "2\n",
            "1\n",
            "2\n",
            "12\n"
          ],
          "name": "stdout"
        }
      ]
    },
    {
      "cell_type": "code",
      "metadata": {
        "colab": {
          "base_uri": "https://localhost:8080/"
        },
        "id": "behU6M6gH1gd",
        "outputId": "954ae393-d26a-4ef6-dd59-ceb87f358a08"
      },
      "source": [
        "a = input()\n",
        "length = len(a)\n",
        "b = a[0]\n",
        "for i in range(1,length):\n",
        "  b = b + \"-\" +a[i]\n",
        "print(b)  \n"
      ],
      "execution_count": null,
      "outputs": [
        {
          "output_type": "stream",
          "text": [
            "srikanth\n",
            "s-r-i-k-a-n-t-h\n"
          ],
          "name": "stdout"
        }
      ]
    },
    {
      "cell_type": "code",
      "metadata": {
        "colab": {
          "base_uri": "https://localhost:8080/"
        },
        "id": "nofvmqL8H1jO",
        "outputId": "cfec24ff-9bbe-42c7-b891-1c82b4c72958"
      },
      "source": [
        "date = input()\n",
        "date = date.replace(\"-\",\"/\")\n",
        "print(date)"
      ],
      "execution_count": null,
      "outputs": [
        {
          "output_type": "stream",
          "text": [
            "20-03-2020\n",
            "20/03/2020\n"
          ],
          "name": "stdout"
        }
      ]
    },
    {
      "cell_type": "code",
      "metadata": {
        "colab": {
          "base_uri": "https://localhost:8080/"
        },
        "id": "xXk1Xf8KH1l_",
        "outputId": "fff5796d-1df6-43f1-fcd4-3d895bf523f5"
      },
      "source": [
        "password = input()\n",
        "contains_digit = False\n",
        "for character in password:\n",
        "  is_digit =character.isdigit()\n",
        "  if is_digit:\n",
        "    contains_digit = True\n",
        "if contains_digit:  \n",
        "  print(\"valid password\")\n",
        "else:\n",
        "  print(\"not valid\")  "
      ],
      "execution_count": null,
      "outputs": [
        {
          "output_type": "stream",
          "text": [
            "20\n",
            "valid password\n"
          ],
          "name": "stdout"
        }
      ]
    },
    {
      "cell_type": "code",
      "metadata": {
        "colab": {
          "base_uri": "https://localhost:8080/"
        },
        "id": "jxMStr3nH1o7",
        "outputId": "b08df6c8-c91b-4d85-fc6c-33322f847fa9"
      },
      "source": [
        "word = input()\n",
        "modified = \"\"\n",
        "for char in word:\n",
        "  uppercase = char.upper()\n",
        "  if uppercase == char:\n",
        "    modified += char.lower()\n",
        "  else:\n",
        "    modified +=char.upper()\n",
        "print(modified)      "
      ],
      "execution_count": null,
      "outputs": [
        {
          "output_type": "stream",
          "text": [
            "sriKanth\n",
            "SRIkANTH\n"
          ],
          "name": "stdout"
        }
      ]
    },
    {
      "cell_type": "code",
      "metadata": {
        "colab": {
          "base_uri": "https://localhost:8080/"
        },
        "id": "vVGNNH1MH1ry",
        "outputId": "c589ca87-0bab-48fa-ef09-a36ad032a5d6"
      },
      "source": [
        "# Factorial\n",
        "n = int(input())\n",
        "factorial = 1\n",
        "for i in range(1,n+1):\n",
        "  factorial = factorial * i\n",
        "print(factorial)  "
      ],
      "execution_count": null,
      "outputs": [
        {
          "output_type": "stream",
          "text": [
            "5\n",
            "120\n"
          ],
          "name": "stdout"
        }
      ]
    },
    {
      "cell_type": "code",
      "metadata": {
        "colab": {
          "base_uri": "https://localhost:8080/"
        },
        "id": "gjYHrHUWH1vA",
        "outputId": "277c0dae-a694-4d20-dd15-8b7ed9727aa8"
      },
      "source": [
        "m = int(input())\n",
        "n = int(input())\n",
        "total = 0\n",
        "for i in range(m,n+1):\n",
        "  total += i\n",
        "print(total)  "
      ],
      "execution_count": null,
      "outputs": [
        {
          "output_type": "stream",
          "text": [
            "2\n",
            "6\n",
            "20\n"
          ],
          "name": "stdout"
        }
      ]
    },
    {
      "cell_type": "code",
      "metadata": {
        "colab": {
          "base_uri": "https://localhost:8080/"
        },
        "id": "lXc4xs_ZH1xL",
        "outputId": "8b7a9cd3-69a9-42d4-d8bd-6602aba11db0"
      },
      "source": [
        "n = int(input())\n",
        "total = 0\n",
        "for i in range(1,n+1):\n",
        "  if i%2==1:\n",
        "    total += i\n",
        "print(total)    "
      ],
      "execution_count": null,
      "outputs": [
        {
          "output_type": "stream",
          "text": [
            "10\n",
            "25\n"
          ],
          "name": "stdout"
        }
      ]
    },
    {
      "cell_type": "code",
      "metadata": {
        "colab": {
          "base_uri": "https://localhost:8080/"
        },
        "id": "5X7hzvqjH10D",
        "outputId": "a84ca915-a2e3-44b6-a94d-0b943d3b01c5"
      },
      "source": [
        "#sum of numbers divisible by T\n",
        "t = int(input())\n",
        "m = int(input())\n",
        "n = int(input())\n",
        "total = 0\n",
        "for number in range(m,n+1):\n",
        "  if number%t ==0:\n",
        "    total +=number\n",
        "print(total)    "
      ],
      "execution_count": null,
      "outputs": [
        {
          "output_type": "stream",
          "text": [
            "2\n",
            "5\n",
            "9\n",
            "14\n"
          ],
          "name": "stdout"
        }
      ]
    },
    {
      "cell_type": "code",
      "metadata": {
        "id": "Yaxu2m7DH17w"
      },
      "source": [
        "#sum of squares\n",
        "n = int(input())\n",
        "total = 0\n",
        "for i in range(1,n+1):\n",
        "  total += ()\n",
        "print(total)  "
      ],
      "execution_count": null,
      "outputs": []
    },
    {
      "cell_type": "code",
      "metadata": {
        "colab": {
          "base_uri": "https://localhost:8080/"
        },
        "id": "xwNXtv-_jrXc",
        "outputId": "da61fb70-964e-4b64-956c-21d3992e4bc2"
      },
      "source": [
        "n=int(input())\n",
        "total=0\n",
        "for i in range(1,n+1):\n",
        "    total=total+(i*i)\n",
        "print(total)"
      ],
      "execution_count": null,
      "outputs": [
        {
          "output_type": "stream",
          "text": [
            "5\n",
            "55\n"
          ],
          "name": "stdout"
        }
      ]
    },
    {
      "cell_type": "code",
      "metadata": {
        "colab": {
          "base_uri": "https://localhost:8080/"
        },
        "id": "eQ8rMLU2jrdL",
        "outputId": "5b30c6c4-2e8d-43cd-b9a6-af0bb453ee72"
      },
      "source": [
        "#sum of average 10 numbers\n",
        "total = 0\n",
        "for i in range(10):\n",
        "  number = int(input())\n",
        "  total +=number\n",
        "average = total/10\n",
        "print(total)\n",
        "print(average)  "
      ],
      "execution_count": null,
      "outputs": [
        {
          "output_type": "stream",
          "text": [
            "5\n",
            "5\n",
            "5\n",
            "5\n",
            "5\n",
            "5\n",
            "5\n",
            "5\n",
            "5\n",
            "5\n",
            "50\n",
            "5.0\n"
          ],
          "name": "stdout"
        }
      ]
    },
    {
      "cell_type": "code",
      "metadata": {
        "colab": {
          "base_uri": "https://localhost:8080/"
        },
        "id": "LhljTG3vjrfp",
        "outputId": "c88688f7-7782-4c6e-b604-48ea231d857a"
      },
      "source": [
        "number = input()\n",
        "total =0\n",
        "for digit in number:\n",
        "  total = total+int(digit)\n",
        "print(total)"
      ],
      "execution_count": null,
      "outputs": [
        {
          "output_type": "stream",
          "text": [
            "5\n",
            "5\n"
          ],
          "name": "stdout"
        }
      ]
    },
    {
      "cell_type": "code",
      "metadata": {
        "colab": {
          "base_uri": "https://localhost:8080/"
        },
        "id": "NZSdHyJNjrij",
        "outputId": "e4d1bea8-420c-40e9-fc55-1ebf3f9d45a2"
      },
      "source": [
        "a = int(input())\n",
        "for i in range(1,11):\n",
        "  print(str(a)+\"*\"+str(i)+\"=\"+str(i*a))"
      ],
      "execution_count": null,
      "outputs": [
        {
          "output_type": "stream",
          "text": [
            "3\n",
            "3*1=3\n",
            "3*2=6\n",
            "3*3=9\n",
            "3*4=12\n",
            "3*5=15\n",
            "3*6=18\n",
            "3*7=21\n",
            "3*8=24\n",
            "3*9=27\n",
            "3*10=30\n"
          ],
          "name": "stdout"
        }
      ]
    },
    {
      "cell_type": "code",
      "metadata": {
        "colab": {
          "base_uri": "https://localhost:8080/"
        },
        "id": "EfFSfAq7jrl3",
        "outputId": "ded63430-c753-4a3f-b5b0-78e31b35119b"
      },
      "source": [
        "#Reverse string\n",
        "a = input()\n",
        "rever = \"\"\n",
        "for i in a:\n",
        "  rever = i+rever\n",
        "print(rever)  \n"
      ],
      "execution_count": null,
      "outputs": [
        {
          "output_type": "stream",
          "text": [
            "srikanth\n",
            "htnakirs\n"
          ],
          "name": "stdout"
        }
      ]
    },
    {
      "cell_type": "code",
      "metadata": {
        "colab": {
          "base_uri": "https://localhost:8080/"
        },
        "id": "opjO2IimBuz2",
        "outputId": "8005495f-7d35-4deb-cd36-47e957bae797"
      },
      "source": [
        "#palindrome\n",
        "n = input()\n",
        "n = n.lower()\n",
        "reverse_n = \"\"\n",
        "for char in n:\n",
        "  reverse_n = char+reverse_n\n",
        "if n == reverse_n:\n",
        "  print(\"palindrome\")\n",
        "else:\n",
        "  print(\"not a palindrome\")    "
      ],
      "execution_count": null,
      "outputs": [
        {
          "output_type": "stream",
          "text": [
            "Srikanth\n",
            "not a palindrome\n"
          ],
          "name": "stdout"
        }
      ]
    },
    {
      "cell_type": "code",
      "metadata": {
        "colab": {
          "base_uri": "https://localhost:8080/"
        },
        "id": "jD1MCCYnBu3N",
        "outputId": "f9d6f7fb-b67e-46ad-eb39-283108fac931"
      },
      "source": [
        "#Greatest among N numbers\n",
        "n = int(input())\n",
        "first_input = int(input())\n",
        "greatest_number = first_input\n",
        "for i in range(n-1):\n",
        "  num = int(input())\n",
        "  if num > greatest_number:\n",
        "    greatest_number = num\n",
        "print(greatest_number)    "
      ],
      "execution_count": null,
      "outputs": [
        {
          "output_type": "stream",
          "text": [
            "5\n",
            "97\n",
            "43\n",
            "54\n",
            "65\n",
            "43\n",
            "97\n"
          ],
          "name": "stdout"
        }
      ]
    },
    {
      "cell_type": "code",
      "metadata": {
        "colab": {
          "base_uri": "https://localhost:8080/"
        },
        "id": "OLOT0c0nBu6g",
        "outputId": "307e78f1-4a15-4bfb-b903-5d0a3c9b2e42"
      },
      "source": [
        "#smallest number\n",
        "n = int(input())\n",
        "first_number = int(input())\n",
        "smallest_number = first_number\n",
        "for i in range(n-1):\n",
        "  num = int(input())\n",
        "  if num < smallest_number:\n",
        "    smallest_number = num\n",
        "print(smallest_number)    "
      ],
      "execution_count": null,
      "outputs": [
        {
          "output_type": "stream",
          "text": [
            "5\n",
            "97\n",
            "43\n",
            "54\n",
            "65\n",
            "43\n",
            "43\n"
          ],
          "name": "stdout"
        }
      ]
    },
    {
      "cell_type": "code",
      "metadata": {
        "colab": {
          "base_uri": "https://localhost:8080/"
        },
        "id": "lmYlGu6NBu9t",
        "outputId": "d573d910-7503-4b13-fbd3-719ae4c930c8"
      },
      "source": [
        "#factors of numbers\n",
        "n = int(input())\n",
        "for i in range(1,n+1):\n",
        "  if n%i ==0:\n",
        "    print(i)"
      ],
      "execution_count": null,
      "outputs": [
        {
          "output_type": "stream",
          "text": [
            "6\n",
            "1\n",
            "2\n",
            "3\n",
            "6\n"
          ],
          "name": "stdout"
        }
      ]
    },
    {
      "cell_type": "code",
      "metadata": {
        "colab": {
          "base_uri": "https://localhost:8080/"
        },
        "id": "vAUbAvhEBvAx",
        "outputId": "b1085efa-6097-4806-cfbd-f4cf0b04717c"
      },
      "source": [
        "#sum odf all factors\n",
        "n = int(input())\n",
        "total = 0\n",
        "for i in range(1,n+1):\n",
        "  if n%i ==0:\n",
        "    total = total + i\n",
        "print(total)    "
      ],
      "execution_count": null,
      "outputs": [
        {
          "output_type": "stream",
          "text": [
            "6\n",
            "12\n"
          ],
          "name": "stdout"
        }
      ]
    },
    {
      "cell_type": "code",
      "metadata": {
        "colab": {
          "base_uri": "https://localhost:8080/"
        },
        "id": "UbKsgZztBvD5",
        "outputId": "df5fba38-3b90-4139-93ef-c0bf6e5319ee"
      },
      "source": [
        "# perfect number\n",
        "n = int(input())\n",
        "total = 0\n",
        "for i in range(1,n):\n",
        "  if n%i == 0:\n",
        "    total+=i\n",
        "if total == n:\n",
        "  print(\"perfect number\")\n",
        "else:\n",
        "  print(\"not perfect number\")      "
      ],
      "execution_count": null,
      "outputs": [
        {
          "output_type": "stream",
          "text": [
            "21\n",
            "not perfect number\n"
          ],
          "name": "stdout"
        }
      ]
    },
    {
      "cell_type": "code",
      "metadata": {
        "colab": {
          "base_uri": "https://localhost:8080/"
        },
        "id": "sx-gR5KyJoZS",
        "outputId": "f2b461d0-cd9e-4dbb-ace5-9a0e0ac9cd50"
      },
      "source": [
        "# armstrong number\n",
        "n = input()\n",
        "length = len(n)\n",
        "total = 0\n",
        "for digit in n:\n",
        "  total = total+(int(digit)**length)\n",
        "if total ==int(n):\n",
        "  print(\"Armstrong number\")\n",
        "else:\n",
        "  print(\"Not an armstrong number\")    "
      ],
      "execution_count": null,
      "outputs": [
        {
          "output_type": "stream",
          "text": [
            "154\n",
            "Not an armstrong number\n"
          ],
          "name": "stdout"
        }
      ]
    },
    {
      "cell_type": "code",
      "metadata": {
        "id": "ei9FQEcpJodA"
      },
      "source": [
        "#OOPS"
      ],
      "execution_count": null,
      "outputs": []
    },
    {
      "cell_type": "code",
      "metadata": {
        "colab": {
          "base_uri": "https://localhost:8080/"
        },
        "id": "wGaIdibgJog9",
        "outputId": "3a2b673b-adfd-480f-9f23-aba3bd82b1e3"
      },
      "source": [
        "#CAR\n",
        "class Car:\n",
        "    def __init__(self,color,max_speed,acceleration,tyre_friction):\n",
        "        self.color = color\n",
        "        self.max_speed=max_speed\n",
        "        self.acceleration=acceleration\n",
        "        self.tyre_friction=tyre_friction\n",
        "        \n",
        "    # def default_test():\n",
        "car=Car(color=\"Red\",max_speed=250,acceleration=10,tyre_friction=3)\n",
        "print(car.color)\n",
        "print(car.max_speed)\n",
        "print(car.acceleration)\n",
        "print(car.tyre_friction)"
      ],
      "execution_count": null,
      "outputs": [
        {
          "output_type": "stream",
          "text": [
            "Red\n",
            "250\n",
            "10\n",
            "3\n"
          ],
          "name": "stdout"
        }
      ]
    },
    {
      "cell_type": "code",
      "metadata": {
        "id": "ma08DmbCJokA"
      },
      "source": [
        "#Car-2\n"
      ],
      "execution_count": null,
      "outputs": []
    },
    {
      "cell_type": "code",
      "metadata": {
        "colab": {
          "base_uri": "https://localhost:8080/"
        },
        "id": "OG9Keo8L5MiK",
        "outputId": "44148958-e7ca-4448-e13b-ee6720f1eca9"
      },
      "source": [
        "class Car:\n",
        "  def __init__(self,color,max_speed,acceleration,tyre_friction):\n",
        "    self.color = color\n",
        "    self.max_speed = max_speed\n",
        "    self.acceleration = acceleration\n",
        "    self.tyre_friction = tyre_friction\n",
        "    self.is_engine_started = False\n",
        "  def start_engine(self):\n",
        "    self.is_engine_started = True\n",
        "  def stop_engine(self):\n",
        "    self.is_engine_started = False \n",
        "car = Car(color = 'Red',max_speed = 250,acceleration = 10,tyre_friction = 3)\n",
        "print(car.color)\n",
        "print(car.max_speed)\n",
        "print(car.acceleration)\n",
        "print(car.tyre_friction)\n",
        "car.start_engine()\n",
        "print(car.is_engine_started)\n",
        "car.stop_engine()\n",
        "print(car.is_engine_started)      "
      ],
      "execution_count": null,
      "outputs": [
        {
          "output_type": "stream",
          "text": [
            "Red\n",
            "250\n",
            "10\n",
            "3\n",
            "True\n",
            "False\n"
          ],
          "name": "stdout"
        }
      ]
    },
    {
      "cell_type": "code",
      "metadata": {
        "id": "JEn7pDPY5Ml8"
      },
      "source": [
        "# Car-3"
      ],
      "execution_count": null,
      "outputs": []
    },
    {
      "cell_type": "code",
      "metadata": {
        "colab": {
          "base_uri": "https://localhost:8080/"
        },
        "id": "QeSMBuD_5MqV",
        "outputId": "da4dccc2-5cd0-404d-8311-4a852782df89"
      },
      "source": [
        "class Car:\n",
        "  def __init__(self,color,max_speed,acceleration,tyre_friction):\n",
        "    self.color = color\n",
        "    self.max_speed = max_speed\n",
        "    self.acceleration = acceleration\n",
        "    self.tyre_friction = tyre_friction\n",
        "    self.is_engine_started = False\n",
        "    self.current_speed = 0\n",
        "  def start_engine(self):\n",
        "    self.is_engine_started = True\n",
        "  def stop_engine(self):\n",
        "    self.is_engine_started = False\n",
        "  def accelerate(self):\n",
        "    if not self.is_engine_started:\n",
        "      print(\"Car has not started yet\")\n",
        "    else:\n",
        "      self.current_speed += self.acceleration\n",
        "      if self.current_speed > self.max_speed:\n",
        "        self.current_speed =self.max_speed \n",
        "car = Car(color = \"Red\",max_speed = 250, acceleration = 10, tyre_friction = 3)\n",
        "car.accelerate()\n",
        "print(car.current_speed)\n",
        "car.start_engine()\n",
        "print(car.current_speed)\n",
        "car.accelerate()\n",
        "print(car.current_speed)\n",
        "car.accelerate()\n",
        "print(car.current_speed)\n",
        "car.accelerate()\n",
        "car.accelerate()\n",
        "car.accelerate()\n",
        "print(car.current_speed)\n",
        "\n"
      ],
      "execution_count": null,
      "outputs": [
        {
          "output_type": "stream",
          "text": [
            "Car has not started yet\n",
            "0\n",
            "0\n",
            "10\n",
            "20\n",
            "50\n"
          ],
          "name": "stdout"
        }
      ]
    },
    {
      "cell_type": "code",
      "metadata": {
        "id": "wbfGmkfP5Mtl"
      },
      "source": [
        "# A car and Truck incomplete classes"
      ],
      "execution_count": null,
      "outputs": []
    },
    {
      "cell_type": "code",
      "metadata": {
        "colab": {
          "base_uri": "https://localhost:8080/"
        },
        "id": "v2wWt54V5MxI",
        "outputId": "0a9f2207-80ff-4bc2-d587-6bebc5881370"
      },
      "source": [
        "class Car:\n",
        "  def __init__(self,color,max_speed,acceleration,tyre_friction):\n",
        "    self.color = color\n",
        "    self.max_speed = max_speed\n",
        "    self.acceleration = acceleration\n",
        "    self.tyre_friction = tyre_friction\n",
        "    self.is_engine_started = False\n",
        "    self.current_speed = 0\n",
        "  def start_engine(self):\n",
        "    self.is_engine_started = True\n",
        "  def stop_engine(self):\n",
        "    self.is_engine_started = False\n",
        "  def acceleration(self):\n",
        "    if not self.is_engine_started:\n",
        "      print(\"car not started yet\")\n",
        "    else:\n",
        "      self.current_speed += self.acceleration\n",
        "      if slef.current_speed > self.max_speed:\n",
        "        self.current_speed = self.max_speed\n",
        "  def apply_brakes(self):\n",
        "    self.current_speed -= self.tyre_friction\n",
        "    if self.current_speed < 0:\n",
        "      self.current_speed = 0\n",
        "  def sound_horn(self):\n",
        "    if self.is_engine_started:\n",
        "      print(\"Beep Beep\")\n",
        "    else:\n",
        "      print(\"Car has not started yet\")\n",
        "class Truck(Car):\n",
        "  def __init__(self,color,max_speed,acceleration,tyre_friction,max_cargo_weight):\n",
        "    super().__init__(color,max_speed,acceleration,tyre_friction)\n",
        "    self.max_cargo_weight = max_cargo_weight\n",
        "    self.load = 0\n",
        "  def load_cargo(self,cargo_weight):\n",
        "    if self.is_engine_started:\n",
        "      pribt(\"cannot load cargo during motion\")\n",
        "    elif cargo_weight + self.load > self.max_cargo_weight:\n",
        "      print(\"cannot load cargo morethan max limit:{}\".format(self.max_cargo_weight))\n",
        "    else:\n",
        "      self.load += cargo_weight\n",
        "  def unload_cargo(self,cargo_weight):\n",
        "    if self.is_engine_started:\n",
        "      print(\"cannot unload cargo during motion\")\n",
        "    else:\n",
        "      self.load -= cargo_weight\n",
        "      if self.load < 0:\n",
        "        self.load = 0\n",
        "  def sound_horn (self):\n",
        "    if self.is_engine_started:\n",
        "      print(\"honk honk\")\n",
        "    else:\n",
        "      print(\"car has not started yet\")\n",
        "truck = Truck(color = \"red\",max_speed = 250,acceleration = 10,tyre_friction = 3,max_cargo_weight=100)\n",
        "print(truck.is_engine_started)\n",
        "truck.load_cargo(cargo_weight=50)\n",
        "print(truck.load)\n",
        "truck.unload_cargo(cargo_weight=25)\n",
        "print(truck.load)\n",
        "truck.unload_cargo(cargo_weight = 70)\n",
        "print(truck.load)\n",
        "truck.unload_cargo(cargo_weight=120)\n",
        "print(truck.load)  \n",
        "truck.sound_horn()\n",
        "truck.stop_engine()\n",
        "truck.sound_horn()          \n",
        "\n"
      ],
      "execution_count": null,
      "outputs": [
        {
          "output_type": "stream",
          "text": [
            "False\n",
            "50\n",
            "25\n",
            "0\n",
            "0\n",
            "car has not started yet\n",
            "car has not started yet\n"
          ],
          "name": "stdout"
        }
      ]
    },
    {
      "cell_type": "code",
      "metadata": {
        "colab": {
          "base_uri": "https://localhost:8080/"
        },
        "id": "E03RSkkU5M0T",
        "outputId": "b6b1934a-193e-4c5e-d179-3681d43f6165"
      },
      "source": [
        "#car 4\n",
        "class Car:\n",
        "  def __init__(self,color,max_speed,acceleration,tyre_friction):\n",
        "    self.color = color\n",
        "    self.max_speed = max_speed\n",
        "    self.acceleration = acceleration\n",
        "    self.tyre_friction = tyre_friction\n",
        "    self.is_engine_started = False\n",
        "    self.current_speed = 0\n",
        "  def start_engine(self):\n",
        "    self.is_engine_started = True\n",
        "  def stop_engine(self):\n",
        "    self.is_engine_started = True\n",
        "  def accelerate(self):\n",
        "    if not self.is_engine_started:\n",
        "      print(\"car has not started yet\")\n",
        "    else:\n",
        "      self.current_speed +=self.acceleration\n",
        "      if self.current_speed > self.max_speed:\n",
        "          self.current_speed = self.max_speed  \n",
        "car = Car(\"Red\",max_speed = 50,acceleration = 10,tyre_friction = 3)\n",
        "car.start_engine()\n",
        "print(car.current_speed)\n",
        "car.stop_engine()\n",
        "car.accelerate()\n",
        "print(car.current_speed)\n",
        "                "
      ],
      "execution_count": null,
      "outputs": [
        {
          "output_type": "stream",
          "text": [
            "0\n",
            "10\n"
          ],
          "name": "stdout"
        }
      ]
    },
    {
      "cell_type": "code",
      "metadata": {
        "id": "mT6kWe175M3v"
      },
      "source": [
        "# #parsing datetime\n",
        "# from datetime import datetime\n",
        "\n",
        "# date = input()\n",
        "# date_string = \"%d %b %Y\"\n",
        "# datetime_object = datetime.strptime(date,date_string)\n",
        "# print(datetime_object)"
      ],
      "execution_count": null,
      "outputs": []
    },
    {
      "cell_type": "code",
      "metadata": {
        "id": "ilMXwnJc5M74"
      },
      "source": [
        "#lists"
      ],
      "execution_count": null,
      "outputs": []
    },
    {
      "cell_type": "code",
      "metadata": {
        "colab": {
          "base_uri": "https://localhost:8080/"
        },
        "id": "grHbldMI5M__",
        "outputId": "8bb7ee54-4aff-4cdc-b84b-0389f77a7209"
      },
      "source": [
        "player = [\"Rose\",183,148,123.64,False]\n",
        "print(player)"
      ],
      "execution_count": null,
      "outputs": [
        {
          "output_type": "stream",
          "text": [
            "['Rose', 183, 148, 123.64, False]\n"
          ],
          "name": "stdout"
        }
      ]
    },
    {
      "cell_type": "code",
      "metadata": {
        "colab": {
          "base_uri": "https://localhost:8080/"
        },
        "id": "EsRQEQwK5ND7",
        "outputId": "5f087b2a-a282-42b6-b8ff-c192f431b6b8"
      },
      "source": [
        "#list concatination\n",
        "num = [20,30,20,40,100]\n",
        "n = int(input())\n",
        "sri_1 = num+[n]\n",
        "sri_2 = [n]+num\n",
        "print(sri_1)\n",
        "print(sri_2)"
      ],
      "execution_count": null,
      "outputs": [
        {
          "output_type": "stream",
          "text": [
            "10\n",
            "[20, 30, 20, 40, 100, 10]\n",
            "[10, 20, 30, 20, 40, 100]\n"
          ],
          "name": "stdout"
        }
      ]
    },
    {
      "cell_type": "code",
      "metadata": {
        "colab": {
          "background_save": true
        },
        "id": "BunUm1qt5NHr",
        "outputId": "30116a33-47d2-4921-905b-a039c3f6bd00"
      },
      "source": [
        "#convert string to list\n"
      ],
      "execution_count": null,
      "outputs": [
        {
          "output_type": "stream",
          "text": [
            "['s', 'r', 'i', 'k', 'a', 'n', 't', 'h']\n"
          ],
          "name": "stdout"
        }
      ]
    },
    {
      "cell_type": "code",
      "metadata": {
        "id": "fBJUNIS7Jom_",
        "colab": {
          "base_uri": "https://localhost:8080/"
        },
        "outputId": "fd1ceb6d-eee2-4ba6-8e4f-f1f378164b47"
      },
      "source": [
        "programing_language = [\"python\",\"java\",\"rubey\",\"machin_learning\",\"c\",\"c++\"]\n",
        "n = int(input())\n",
        "for i in range(n):\n",
        "  index = int(input())\n",
        "  print(programing_language[index])  \n",
        "\n"
      ],
      "execution_count": null,
      "outputs": [
        {
          "output_type": "stream",
          "text": [
            "3\n",
            "4\n",
            "c\n",
            "3\n",
            "machin_learning\n",
            "2\n",
            "rubey\n"
          ],
          "name": "stdout"
        }
      ]
    },
    {
      "cell_type": "code",
      "metadata": {
        "id": "S06t1J5jjron",
        "colab": {
          "base_uri": "https://localhost:8080/"
        },
        "outputId": "6e01f31e-b40c-4075-f49e-cdcee0678ca7"
      },
      "source": [
        "#list repetation\n",
        "m = int(input())\n",
        "n = int(input())\n",
        "list_a = [m]*n\n",
        "print(list_a)"
      ],
      "execution_count": null,
      "outputs": [
        {
          "output_type": "stream",
          "text": [
            "5\n",
            "4\n",
            "[5, 5, 5, 5]\n"
          ],
          "name": "stdout"
        }
      ]
    },
    {
      "cell_type": "code",
      "metadata": {
        "colab": {
          "base_uri": "https://localhost:8080/"
        },
        "id": "hyyib8fdbFGQ",
        "outputId": "c2c7fe13-4942-49da-f5f7-19e9af16015d"
      },
      "source": [
        "# Greater than N\n",
        "num_list = [4,6,45,34,54,65,76,46,34,31,78,96]\n",
        "n = int(input())\n",
        "num_rum = []\n",
        "for i in num_list:\n",
        "  if i > n:\n",
        "    num_rum += [i]\n",
        "print(num_rum)   "
      ],
      "execution_count": null,
      "outputs": [
        {
          "output_type": "stream",
          "text": [
            "56\n",
            "[65, 76, 78, 96]\n"
          ],
          "name": "stdout"
        }
      ]
    },
    {
      "cell_type": "code",
      "metadata": {
        "colab": {
          "base_uri": "https://localhost:8080/"
        },
        "id": "2-3ZNXz-bFJp",
        "outputId": "61b17838-3f53-402f-8d55-f6bbf445b15b"
      },
      "source": [
        "#create print_list\n",
        "n = int(input())\n",
        "list_1 = []\n",
        "for i in range(n):\n",
        "  value = input()\n",
        "  list_1 += [value]\n",
        "print(list_1)  "
      ],
      "execution_count": null,
      "outputs": [
        {
          "output_type": "stream",
          "text": [
            "3\n",
            "srikanth\n",
            "ramesh\n",
            "krishanweni\n",
            "['srikanth', 'ramesh', 'krishanweni']\n"
          ],
          "name": "stdout"
        }
      ]
    },
    {
      "cell_type": "code",
      "metadata": {
        "colab": {
          "base_uri": "https://localhost:8080/"
        },
        "id": "G0XmSnlBbFNo",
        "outputId": "b6754d8f-ca41-4578-fb79-a40b8586a9f6"
      },
      "source": [
        "n = int(input())\n",
        "list_1 = []\n",
        "list_2 = []\n",
        "for i in range(n):\n",
        "  value = input()\n",
        "  list_1 += (value)\n",
        "for n in list_1:\n",
        "  if n ==list_1:\n",
        "    list_2 += n\n",
        "print(list_2)    \n",
        "\n",
        "\n",
        "print(list_1)\n",
        "\n"
      ],
      "execution_count": null,
      "outputs": [
        {
          "output_type": "stream",
          "text": [
            "2\n",
            "srikanth\n",
            "ravikanth\n",
            "[]\n",
            "['s', 'r', 'i', 'k', 'a', 'n', 't', 'h', 'r', 'a', 'v', 'i', 'k', 'a', 'n', 't', 'h']\n"
          ],
          "name": "stdout"
        }
      ]
    },
    {
      "cell_type": "code",
      "metadata": {
        "colab": {
          "base_uri": "https://localhost:8080/"
        },
        "id": "x6_Aaz8pbFjy",
        "outputId": "fdee09bd-2fe9-49e1-e102-62ec7e685791"
      },
      "source": [
        "# reverse order\n",
        "n = int(input())\n",
        "list_a = []\n",
        "for i in range(n):\n",
        "  value = input()\n",
        "  list_a +=[value]\n",
        "for i in range(n):\n",
        "  print(list_a[n-i-1])  "
      ],
      "execution_count": null,
      "outputs": [
        {
          "output_type": "stream",
          "text": [
            "3\n",
            "srikanth\n",
            "ravikanth\n",
            "madhuri\n",
            "madhuri\n",
            "ravikanth\n",
            "srikanth\n"
          ],
          "name": "stdout"
        }
      ]
    },
    {
      "cell_type": "code",
      "metadata": {
        "colab": {
          "base_uri": "https://localhost:8080/"
        },
        "id": "RyycoMDTbFmf",
        "outputId": "0e79ed5e-d0d6-4cb3-d25a-fc625867ab69"
      },
      "source": [
        "# list concatination\n",
        "n=int(input())\n",
        "list_a = []\n",
        "for i in range(n):\n",
        "    value = input()\n",
        "    list_a += [value]\n",
        "    new_list=list_a[:3] + list_a[n-3:]\n",
        "print(new_list)"
      ],
      "execution_count": null,
      "outputs": [
        {
          "output_type": "stream",
          "text": [
            "3\n",
            "anjali\n",
            "ravi\n",
            "akbar\n",
            "['anjali', 'ravi', 'akbar', 'anjali', 'ravi', 'akbar']\n"
          ],
          "name": "stdout"
        }
      ]
    },
    {
      "cell_type": "code",
      "metadata": {
        "id": "Skk-ZQy6gNqe"
      },
      "source": [
        "# functions "
      ],
      "execution_count": null,
      "outputs": []
    },
    {
      "cell_type": "code",
      "metadata": {
        "colab": {
          "base_uri": "https://localhost:8080/"
        },
        "id": "WjvT5nxWgNvB",
        "outputId": "2de563aa-9cdd-40d8-94bd-1c5ba8ee676b"
      },
      "source": [
        "#splite the sentence\n",
        "n = input()\n",
        "word_list = n.split()\n",
        "sri = \"\"\n",
        "for word in word_list:\n",
        "  pass\n",
        "  if word == \"srikanth\":\n",
        "    sri += word\n",
        "print(sri)    \n",
        "\n",
        "print(word)"
      ],
      "execution_count": null,
      "outputs": [
        {
          "output_type": "stream",
          "text": [
            "srikanth ravikanth madhuri\n",
            "srikanth\n",
            "madhuri\n"
          ],
          "name": "stdout"
        }
      ]
    },
    {
      "cell_type": "code",
      "metadata": {
        "colab": {
          "base_uri": "https://localhost:8080/"
        },
        "id": "vo79b9dogNzV",
        "outputId": "6fd2fd2d-8534-44d0-e1ab-f04ee6c55282"
      },
      "source": [
        "#sum of list elements\n",
        "n=input()\n",
        "num_list=n.split()\n",
        "total=0\n",
        "for n in num_list:\n",
        "    total=total+int(n)\n",
        "print(total)  "
      ],
      "execution_count": null,
      "outputs": [
        {
          "output_type": "stream",
          "text": [
            "5\n",
            "5\n"
          ],
          "name": "stdout"
        }
      ]
    },
    {
      "cell_type": "code",
      "metadata": {
        "id": "7Myrn7pegN2u",
        "colab": {
          "base_uri": "https://localhost:8080/"
        },
        "outputId": "f227df07-e198-434d-f59d-7101f95768a8"
      },
      "source": [
        "strin = input()\n",
        "spli = strin.split()\n",
        "sri = []\n",
        "for n in spli:\n",
        "  sri += [n[::-1]]\n",
        "reverse_order =\" \".join(sri)\n",
        "print(reverse_order)  "
      ],
      "execution_count": null,
      "outputs": [
        {
          "output_type": "stream",
          "text": [
            "srikanth\n",
            "htnakirs\n"
          ],
          "name": "stdout"
        }
      ]
    },
    {
      "cell_type": "code",
      "metadata": {
        "id": "xMWizmm6gN6l",
        "colab": {
          "base_uri": "https://localhost:8080/",
          "height": 52
        },
        "outputId": "159fa77b-ed58-44d2-967d-41e303dee010"
      },
      "source": [
        "def wishes(name):\n",
        "  wish = \"welcome \"+ name\n",
        "  return wish\n",
        "a = input()\n",
        "wishes(a)"
      ],
      "execution_count": null,
      "outputs": [
        {
          "output_type": "stream",
          "text": [
            "srikanth\n"
          ],
          "name": "stdout"
        },
        {
          "output_type": "execute_result",
          "data": {
            "application/vnd.google.colaboratory.intrinsic+json": {
              "type": "string"
            },
            "text/plain": [
              "'welcome srikanth'"
            ]
          },
          "metadata": {
            "tags": []
          },
          "execution_count": 37
        }
      ]
    },
    {
      "cell_type": "code",
      "metadata": {
        "id": "93IooKD3gOQl",
        "colab": {
          "base_uri": "https://localhost:8080/"
        },
        "outputId": "2113a69c-5314-4dce-9dda-53c72da8e4c7"
      },
      "source": [
        "#multiplay with three\n",
        "def multiply_with_three(num):\n",
        "   number = num*3\n",
        "   print(number)\n",
        "n = int(input())\n",
        "multiply_with_three(n)   "
      ],
      "execution_count": null,
      "outputs": [
        {
          "output_type": "stream",
          "text": [
            "5\n",
            "15\n"
          ],
          "name": "stdout"
        }
      ]
    },
    {
      "cell_type": "code",
      "metadata": {
        "id": "JVnlxqoVgOTi",
        "colab": {
          "base_uri": "https://localhost:8080/"
        },
        "outputId": "47fb6850-3fff-4da0-8fac-ddd6b5d1900d"
      },
      "source": [
        "# divisible by 7\n",
        "def divisible_by_7(num):\n",
        "  number = num/7\n",
        "  print(number)\n",
        "n = int(input())\n",
        "divisible_by_7(n)\n",
        "  "
      ],
      "execution_count": null,
      "outputs": [
        {
          "output_type": "stream",
          "text": [
            "14\n",
            "2.0\n"
          ],
          "name": "stdout"
        }
      ]
    },
    {
      "cell_type": "code",
      "metadata": {
        "id": "eDGsM2KngOoV",
        "colab": {
          "base_uri": "https://localhost:8080/"
        },
        "outputId": "03d59d09-266e-4b06-fda8-75acb589de06"
      },
      "source": [
        "# perimeter of square\n",
        "def perimeter(four):\n",
        "  result = four*4\n",
        "  print(result)\n",
        "a = int(input())\n",
        "perimeter(a)  "
      ],
      "execution_count": null,
      "outputs": [
        {
          "output_type": "stream",
          "text": [
            "3\n",
            "12\n"
          ],
          "name": "stdout"
        }
      ]
    },
    {
      "cell_type": "code",
      "metadata": {
        "id": "nrNp5jIBgOrl",
        "colab": {
          "base_uri": "https://localhost:8080/"
        },
        "outputId": "22c43e41-0eb4-481d-c40f-717b992ec295"
      },
      "source": [
        "# add two numbers\n",
        "def sum_of_two(num1,num2):\n",
        "  value = num1+num2\n",
        "  print(value)\n",
        "a = int(input())\n",
        "b = int(input())\n",
        "sum_of_two(a,b)  "
      ],
      "execution_count": null,
      "outputs": [
        {
          "output_type": "stream",
          "text": [
            "5\n",
            "8\n",
            "13\n"
          ],
          "name": "stdout"
        }
      ]
    },
    {
      "cell_type": "code",
      "metadata": {
        "id": "3HU7kG1tgO7P",
        "colab": {
          "base_uri": "https://localhost:8080/",
          "height": 52
        },
        "outputId": "3fd60c66-95ed-461e-de98-996906da154d"
      },
      "source": [
        "# second character in the word\n",
        "def word_second(num):\n",
        "  character = num[1]\n",
        "  return character\n",
        "a = input()\n",
        "word_second(a)  "
      ],
      "execution_count": null,
      "outputs": [
        {
          "output_type": "stream",
          "text": [
            "srikanth\n"
          ],
          "name": "stdout"
        },
        {
          "output_type": "execute_result",
          "data": {
            "application/vnd.google.colaboratory.intrinsic+json": {
              "type": "string"
            },
            "text/plain": [
              "'r'"
            ]
          },
          "metadata": {
            "tags": []
          },
          "execution_count": 44
        }
      ]
    },
    {
      "cell_type": "code",
      "metadata": {
        "id": "tJXH5rTFgPAJ",
        "colab": {
          "base_uri": "https://localhost:8080/",
          "height": 69
        },
        "outputId": "c5d60136-7a94-4e3a-820c-25e855f98168"
      },
      "source": [
        "# indexing\n",
        "def indexing(arg1,arg2):\n",
        "  character = arg1[arg2]\n",
        "  return character\n",
        "a = input()\n",
        "index = int(input())\n",
        "indexing(a,index)  "
      ],
      "execution_count": null,
      "outputs": [
        {
          "output_type": "stream",
          "text": [
            "srikanth\n",
            "3\n"
          ],
          "name": "stdout"
        },
        {
          "output_type": "execute_result",
          "data": {
            "application/vnd.google.colaboratory.intrinsic+json": {
              "type": "string"
            },
            "text/plain": [
              "'k'"
            ]
          },
          "metadata": {
            "tags": []
          },
          "execution_count": 45
        }
      ]
    },
    {
      "cell_type": "code",
      "metadata": {
        "id": "4o7QUE8cgPEI",
        "colab": {
          "base_uri": "https://localhost:8080/",
          "height": 69
        },
        "outputId": "617b925d-151a-476e-8061-50924c53e9f6"
      },
      "source": [
        "# printing message\n",
        "def name(arg1,arg2):\n",
        "  character = arg1 + \" is \" +str(arg2)+\" years old\"\n",
        "  return character\n",
        "a = input()\n",
        "b = int(input())\n",
        "name(a,b)  "
      ],
      "execution_count": null,
      "outputs": [
        {
          "output_type": "stream",
          "text": [
            "srikanth\n",
            "25\n"
          ],
          "name": "stdout"
        },
        {
          "output_type": "execute_result",
          "data": {
            "application/vnd.google.colaboratory.intrinsic+json": {
              "type": "string"
            },
            "text/plain": [
              "'srikanth is 25 years old'"
            ]
          },
          "metadata": {
            "tags": []
          },
          "execution_count": 48
        }
      ]
    },
    {
      "cell_type": "code",
      "metadata": {
        "id": "vo3rdyrPgPHy",
        "colab": {
          "base_uri": "https://localhost:8080/"
        },
        "outputId": "cfeb02ce-c50e-4fbf-9717-908d3732b64e"
      },
      "source": [
        "#number of upper and lowercase letters\n",
        "def upper_lower(arg):\n",
        "  count_uppercase = 0\n",
        "  count_lowercase = 0\n",
        "  for char in arg:\n",
        "    if char.upper() == char:\n",
        "      count_uppercase += 1\n",
        "    else:\n",
        "      count_lowercase += 1\n",
        "  print(count_uppercase)\n",
        "  print(count_lowercase)\n",
        "a = input()\n",
        "upper_lower(a)        "
      ],
      "execution_count": null,
      "outputs": [
        {
          "output_type": "stream",
          "text": [
            "SriKantH\n",
            "3\n",
            "5\n"
          ],
          "name": "stdout"
        }
      ]
    },
    {
      "cell_type": "code",
      "metadata": {
        "id": "A4vw-pUjgPRl",
        "colab": {
          "base_uri": "https://localhost:8080/"
        },
        "outputId": "169f8e2f-5895-437a-a85d-a681c473f5b3"
      },
      "source": [
        "# list of squares\n",
        "def get_list(string_a):\n",
        "    list_a = string_a.split(',')\n",
        "    len_list_a = len(list_a)\n",
        "    for i in range(len_list_a):\n",
        "        list_a[i] = int(list_a[i])**2\n",
        "    return list_a\n",
        "\n",
        "\n",
        "string_a = input()\n",
        "numbers_list = get_list(string_a)\n",
        "print(numbers_list)    "
      ],
      "execution_count": null,
      "outputs": [
        {
          "output_type": "stream",
          "text": [
            "1,2,3,4\n",
            "[1, 4, 9, 16]\n"
          ],
          "name": "stdout"
        }
      ]
    },
    {
      "cell_type": "code",
      "metadata": {
        "id": "BJg6r-X9gPUr",
        "colab": {
          "base_uri": "https://localhost:8080/"
        },
        "outputId": "a429098e-a689-48c5-dcab-d1c39dbe2ce4"
      },
      "source": [
        "# So the output should be\n",
        "# [1, 2, 5]\n",
        "#input=5\n",
        "#append 5\n",
        "#insert 0,2\n",
        "#append 1\n",
        "#sort\n",
        "#print\n",
        "n = int(input())\n",
        "\n",
        "nums_list = []\n",
        "for i in range(n):\n",
        "    command = input().split()\n",
        "    if command[0] == 'insert':\n",
        "        index = int(command[1])\n",
        "        value = int(command[2])\n",
        "        nums_list.insert(index, value)\n",
        "    elif command[0] == 'append':\n",
        "        value = int(command[1])\n",
        "        nums_list.append(value)\n",
        "    elif command[0] == 'pop':\n",
        "        nums_list.pop()\n",
        "    elif command[0] == \"remove\":\n",
        "        value = int(command[1])\n",
        "        nums_list.remove(value)\n",
        "    elif command[0] == \"sort\":\n",
        "        nums_list.sort()\n",
        "    elif command[0] == \"print\":\n",
        "        print(nums_list)"
      ],
      "execution_count": null,
      "outputs": [
        {
          "output_type": "stream",
          "text": [
            "2\n",
            "3\n",
            "2\n"
          ],
          "name": "stdout"
        }
      ]
    },
    {
      "cell_type": "code",
      "metadata": {
        "id": "bfWMrgJJgPYl",
        "colab": {
          "base_uri": "https://localhost:8080/"
        },
        "outputId": "e10cc03f-787d-43eb-ca6b-c01aeb2f5575"
      },
      "source": [
        "# Team points\n",
        "def calculateLeagues(wins,draws,losses):\n",
        "  wins_points = wins*4\n",
        "  draws_points = draws*2\n",
        "  losses_points = losses*-1\n",
        "  total_points = wins_points+losses_points+draws_points\n",
        "  return total_points\n",
        "statistics = input().split(\",\")\n",
        "wins = int(input())\n",
        "draws = int(input())\n",
        "losses = int(input())\n",
        "total_points = calculateLeagues(wins,draws,losses)\n",
        "print(total_points)  "
      ],
      "execution_count": null,
      "outputs": [
        {
          "output_type": "stream",
          "text": [
            "4,1,2\n",
            "4\n",
            "2\n",
            "1\n",
            "19\n"
          ],
          "name": "stdout"
        }
      ]
    },
    {
      "cell_type": "code",
      "metadata": {
        "colab": {
          "base_uri": "https://localhost:8080/"
        },
        "id": "GM61H8aLvFFv",
        "outputId": "b4b8067b-8047-4804-9dab-587ca6ebbd52"
      },
      "source": [
        "# speed meter\n",
        "def get_speed_status(speed):\n",
        "  if (speed >= 60 and speed<80):\n",
        "    msg = \"Normal\"\n",
        "  elif (speed>=60) and (speed<80):\n",
        "    msg = \"Warning\"\n",
        "  else:\n",
        "    msg = \"Over speed\"\n",
        "  return msg\n",
        "speed = int(input())\n",
        "a = get_speed_status(speed)\n",
        "print(a)  \n"
      ],
      "execution_count": null,
      "outputs": [
        {
          "output_type": "stream",
          "text": [
            "75\n",
            "Normal\n"
          ],
          "name": "stdout"
        }
      ]
    },
    {
      "cell_type": "code",
      "metadata": {
        "colab": {
          "base_uri": "https://localhost:8080/"
        },
        "id": "-3t37dj3vFI4",
        "outputId": "eb1484b4-b487-4c92-b421-54a6d99b6db1"
      },
      "source": [
        "# Wather Reporter\n",
        "def get_weather_report(temp):\n",
        "  if temp < 22:\n",
        "    report = \"Cold\"\n",
        "  elif (temp >= 22) and (temp<35):\n",
        "    report = \"Warm\"\n",
        "  else:\n",
        "    report = \"Hot\"\n",
        "  return report\n",
        "temp = int(input())\n",
        "a = get_weather_report(temp)\n",
        "print(a)    \n"
      ],
      "execution_count": null,
      "outputs": [
        {
          "output_type": "stream",
          "text": [
            "37\n",
            "Hot\n"
          ],
          "name": "stdout"
        }
      ]
    },
    {
      "cell_type": "code",
      "metadata": {
        "colab": {
          "base_uri": "https://localhost:8080/"
        },
        "id": "ADLz_2vlvFNT",
        "outputId": "94c29f33-982f-4a97-8591-de954024e278"
      },
      "source": [
        "# Discount\n",
        "def discount_for_shoping(bill):\n",
        "  if (bill > 250) and (bill <= 450):\n",
        "    discount = \"5%\"\n",
        "  elif (bill >= 450) and (bill <= 850):\n",
        "    discount = \"10%\"\n",
        "  else:\n",
        "    discount = \"15%\"\n",
        "  return discount\n",
        "bill = int(input())\n",
        "so = discount_for_shoping(bill)\n",
        "print(so)        \n"
      ],
      "execution_count": null,
      "outputs": [
        {
          "output_type": "stream",
          "text": [
            "345\n",
            "5%\n"
          ],
          "name": "stdout"
        }
      ]
    },
    {
      "cell_type": "code",
      "metadata": {
        "colab": {
          "base_uri": "https://localhost:8080/"
        },
        "id": "a1buH5fyvFQn",
        "outputId": "8004ac0b-1ba0-4bd0-cc52-093ad1add517"
      },
      "source": [
        "# calculte bill\n",
        "def calculate_bill(amount):\n",
        "  if amount <500:\n",
        "    bill = amount-(amount * 0.05)\n",
        "  elif (amount >= 500) and (amount < 2500):\n",
        "    bill = amount-(amount*0.01)\n",
        "  else:\n",
        "    bill = amount-(amount*0.2)\n",
        "  bill = round(bill,3)\n",
        "  return bill\n",
        "amount = int(input())\n",
        "a = calculate_bill(amount)\n",
        "print(a)  \n",
        "\n"
      ],
      "execution_count": null,
      "outputs": [
        {
          "output_type": "stream",
          "text": [
            "1500\n",
            "1485.0\n"
          ],
          "name": "stdout"
        }
      ]
    },
    {
      "cell_type": "code",
      "metadata": {
        "colab": {
          "base_uri": "https://localhost:8080/"
        },
        "id": "agh6WrNSvFT9",
        "outputId": "aba1bbbf-3dc1-4905-cfe7-3356bd45ef34"
      },
      "source": [
        "#Fiz buzz\n",
        "def fizz_buzz(number):\n",
        "    is_divisible_by_3= (number%3)==0\n",
        "    is_divisible_by_5=(number%5)==0\n",
        "    is_divisible_by_both = is_divisible_by_3 and is_divisible_by_5\n",
        "    \n",
        "    if is_divisible_by_both:\n",
        "        msg = \"FizzBuzz\"\n",
        "    elif is_divisible_by_3:\n",
        "        msg= \"Fizz\"\n",
        "    elif is_divisible_by_5:\n",
        "        msg=\"Buzz\"\n",
        "    else:\n",
        "        msg=number\n",
        "    return msg\n",
        "    \n",
        "number = int(input())\n",
        "result = fizz_buzz(number)\n",
        "print(result)"
      ],
      "execution_count": null,
      "outputs": [
        {
          "output_type": "stream",
          "text": [
            "20\n",
            "Buzz\n"
          ],
          "name": "stdout"
        }
      ]
    },
    {
      "cell_type": "code",
      "metadata": {
        "id": "4Q-0TimLvFXy",
        "colab": {
          "base_uri": "https://localhost:8080/"
        },
        "outputId": "f0784267-20d5-4f49-c1c0-e9170256e6c7"
      },
      "source": [
        "n = int(input())\n",
        "count = 1\n",
        "while (count <= n):\n",
        "  print(count)\n",
        "  count += 1\n",
        "  \n"
      ],
      "execution_count": 1,
      "outputs": [
        {
          "output_type": "stream",
          "text": [
            "3\n",
            "1\n",
            "2\n",
            "3\n"
          ],
          "name": "stdout"
        }
      ]
    },
    {
      "cell_type": "code",
      "metadata": {
        "colab": {
          "base_uri": "https://localhost:8080/"
        },
        "id": "-V_dCqk_nNcl",
        "outputId": "57b089cc-2c9c-47e9-9ca2-7a1f74ae4f2e"
      },
      "source": [
        "# integers\n",
        "n = int(input())\n",
        "count = 2\n",
        "while count<=6:\n",
        "  print(count)\n",
        "  count+=1"
      ],
      "execution_count": 3,
      "outputs": [
        {
          "output_type": "stream",
          "text": [
            "6\n",
            "2\n",
            "3\n",
            "4\n",
            "5\n",
            "6\n"
          ],
          "name": "stdout"
        }
      ]
    },
    {
      "cell_type": "code",
      "metadata": {
        "colab": {
          "base_uri": "https://localhost:8080/"
        },
        "id": "qYj8AojxnNfw",
        "outputId": "e1d98bf6-756a-4676-ab79-7eee7fabaf95"
      },
      "source": [
        "# triangle\n",
        "n = int(input())\n",
        "count = 4\n",
        "while count <= n:\n",
        "  print(\"*\"*count)\n",
        "  if count <= 0:\n",
        "    break\n",
        "  count -=1\n"
      ],
      "execution_count": 8,
      "outputs": [
        {
          "output_type": "stream",
          "text": [
            "4\n",
            "****\n",
            "***\n",
            "**\n",
            "*\n",
            "\n"
          ],
          "name": "stdout"
        }
      ]
    },
    {
      "cell_type": "code",
      "metadata": {
        "colab": {
          "base_uri": "https://localhost:8080/"
        },
        "id": "yF5sT_-DnNjX",
        "outputId": "8bf6445e-a78b-4b0b-9de9-ccdf65d6a7bd"
      },
      "source": [
        "# solid square\n",
        "n = int(input())\n",
        "count = 0\n",
        "while count <= n:\n",
        "  print(\"* \"*n)\n",
        "  count +=1"
      ],
      "execution_count": 9,
      "outputs": [
        {
          "output_type": "stream",
          "text": [
            "5\n",
            "* * * * * \n",
            "* * * * * \n",
            "* * * * * \n",
            "* * * * * \n",
            "* * * * * \n",
            "* * * * * \n"
          ],
          "name": "stdout"
        }
      ]
    },
    {
      "cell_type": "code",
      "metadata": {
        "colab": {
          "base_uri": "https://localhost:8080/"
        },
        "id": "-_q95I6gnN8d",
        "outputId": "fde3874d-beb3-4fc4-b1ec-efd0b50212aa"
      },
      "source": [
        "# solid rectangle\n",
        "row = int(input())\n",
        "col = int(input())\n",
        "count = 0\n",
        "while count <= row:\n",
        "  print(\"* \"*col\n",
        "        )\n",
        "  count +=1\n"
      ],
      "execution_count": 13,
      "outputs": [
        {
          "output_type": "stream",
          "text": [
            "4\n",
            "6\n",
            "* * * * * * \n",
            "* * * * * * \n",
            "* * * * * * \n",
            "* * * * * * \n",
            "* * * * * * \n"
          ],
          "name": "stdout"
        }
      ]
    },
    {
      "cell_type": "code",
      "metadata": {
        "colab": {
          "base_uri": "https://localhost:8080/"
        },
        "id": "W_chE796nN_S",
        "outputId": "93d48c7a-93d9-421d-bd07-40a80bdbc2be"
      },
      "source": [
        "row = int(input())\n",
        "col = int(input())\n",
        "count = 0\n",
        "while count <= row:\n",
        "  print(\"* \"*col)\n",
        "  if count == 4:\n",
        "    break\n",
        "  count +=1  "
      ],
      "execution_count": 17,
      "outputs": [
        {
          "output_type": "stream",
          "text": [
            "5\n",
            "6\n",
            "* * * * * * \n",
            "* * * * * * \n",
            "* * * * * * \n",
            "* * * * * * \n",
            "* * * * * * \n"
          ],
          "name": "stdout"
        }
      ]
    },
    {
      "cell_type": "code",
      "metadata": {
        "colab": {
          "base_uri": "https://localhost:8080/"
        },
        "id": "9Uo8Dc4BnOee",
        "outputId": "db6774f6-b589-4d1a-98b5-b54a8eb1d96c"
      },
      "source": [
        "# sum of natural numbers\n",
        "num = int(input())\n",
        "sum = 0\n",
        "count = 0\n",
        "while count <= num:\n",
        "  sum += count\n",
        "  count +=1\n",
        "print(sum)  \n"
      ],
      "execution_count": 18,
      "outputs": [
        {
          "output_type": "stream",
          "text": [
            "6\n",
            "21\n"
          ],
          "name": "stdout"
        }
      ]
    },
    {
      "cell_type": "code",
      "metadata": {
        "colab": {
          "base_uri": "https://localhost:8080/"
        },
        "id": "hL5N9XFdnOhd",
        "outputId": "6918bd08-05c0-4c23-f830-cc269644cb14"
      },
      "source": [
        "n = int(input())\n",
        "count = 1\n",
        "while count <= n:\n",
        "  print(\"* \"*count)\n",
        "  count+=1"
      ],
      "execution_count": 19,
      "outputs": [
        {
          "output_type": "stream",
          "text": [
            "3\n",
            "* \n",
            "* * \n",
            "* * * \n"
          ],
          "name": "stdout"
        }
      ]
    },
    {
      "cell_type": "code",
      "metadata": {
        "colab": {
          "base_uri": "https://localhost:8080/"
        },
        "id": "BXao6azEnOzC",
        "outputId": "7d144500-5969-4f73-f1b8-b754582b6ffb"
      },
      "source": [
        "#Read N Inputs\n",
        "num = int(input())\n",
        "count = 0\n",
        "while count <= num:\n",
        "  n = int(input())\n",
        "  print(n)\n",
        "  count +=1\n",
        "\n"
      ],
      "execution_count": 21,
      "outputs": [
        {
          "output_type": "stream",
          "text": [
            "3\n",
            "23\n",
            "23\n",
            "34\n",
            "34\n",
            "48\n",
            "48\n",
            "56\n",
            "56\n"
          ],
          "name": "stdout"
        }
      ]
    },
    {
      "cell_type": "code",
      "metadata": {
        "colab": {
          "base_uri": "https://localhost:8080/"
        },
        "id": "kPEcbOh8nO16",
        "outputId": "2c581c4e-2e61-4891-e53c-6e51a5215495"
      },
      "source": [
        "# sum of the given numbers\n",
        "n = int(input())\n",
        "total = 0\n",
        "for number in range(n):\n",
        "  m = int(input())\n",
        "  total +=m\n",
        "print(total)  "
      ],
      "execution_count": 22,
      "outputs": [
        {
          "output_type": "stream",
          "text": [
            "5\n",
            "3\n",
            "2\n",
            "1\n",
            "3\n",
            "2\n",
            "11\n"
          ],
          "name": "stdout"
        }
      ]
    },
    {
      "cell_type": "code",
      "metadata": {
        "colab": {
          "base_uri": "https://localhost:8080/"
        },
        "id": "LjFaWBatnPF6",
        "outputId": "e7fa5ea8-ccde-4770-a629-dca49e886539"
      },
      "source": [
        "n = input()\n",
        "len_of_a = len(n)\n",
        "b = n[0]\n",
        "for i in range(1,len_of_a):\n",
        "  b = b + '-' +n[i]\n",
        "print(b)  \n"
      ],
      "execution_count": 26,
      "outputs": [
        {
          "output_type": "stream",
          "text": [
            "srikanth\n",
            "s-r-i-k-a-n-t-h\n"
          ],
          "name": "stdout"
        }
      ]
    },
    {
      "cell_type": "code",
      "metadata": {
        "colab": {
          "base_uri": "https://localhost:8080/"
        },
        "id": "dbywMjwKnPfw",
        "outputId": "e227d24c-d3fe-4575-c7d0-a4865ff022f1"
      },
      "source": [
        "date = input()\n",
        "date = date.replace(\"-\",\"/\")\n",
        "print(date)"
      ],
      "execution_count": 27,
      "outputs": [
        {
          "output_type": "stream",
          "text": [
            "\"27-22-2021\"\n",
            "\"27/22/2021\"\n"
          ],
          "name": "stdout"
        }
      ]
    },
    {
      "cell_type": "code",
      "metadata": {
        "id": "aYhGW5zxvFa1",
        "colab": {
          "base_uri": "https://localhost:8080/"
        },
        "outputId": "c8b8fc73-5e8b-4baa-a90c-06dd5a73b986"
      },
      "source": [
        "word = input()\n",
        "lower_case = word.lower()\n",
        "upper_case = word.upper()\n",
        "print(lower_case)\n",
        "print(upper_case)"
      ],
      "execution_count": 29,
      "outputs": [
        {
          "output_type": "stream",
          "text": [
            "SRIkanth\n",
            "srikanth\n",
            "SRIKANTH\n"
          ],
          "name": "stdout"
        }
      ]
    },
    {
      "cell_type": "code",
      "metadata": {
        "id": "-jVCU-aQvFdz",
        "colab": {
          "base_uri": "https://localhost:8080/"
        },
        "outputId": "358d8e4a-e4a1-4e3d-bbc7-3e82d4f053ce"
      },
      "source": [
        "# valid password\n",
        "password=input()\n",
        "contains_digit=False\n",
        "for character in password:\n",
        "    is_digit=character.isdigit()\n",
        "    \n",
        "    if is_digit:\n",
        "        contains_digit=True\n",
        "if contains_digit:\n",
        "    print(\"Valid Password\")\n",
        "else:\n",
        "    print(\"Invalid Password\")     \n",
        "    \n"
      ],
      "execution_count": 32,
      "outputs": [
        {
          "output_type": "stream",
          "text": [
            "sri123\n",
            "Valid Password\n"
          ],
          "name": "stdout"
        }
      ]
    },
    {
      "cell_type": "code",
      "metadata": {
        "id": "20pmOTczvFhV"
      },
      "source": [
        ""
      ],
      "execution_count": null,
      "outputs": []
    },
    {
      "cell_type": "code",
      "metadata": {
        "id": "Oj22QAXwvFlK"
      },
      "source": [
        ""
      ],
      "execution_count": null,
      "outputs": []
    },
    {
      "cell_type": "code",
      "metadata": {
        "id": "BJiGw7s5vFnz"
      },
      "source": [
        ""
      ],
      "execution_count": null,
      "outputs": []
    },
    {
      "cell_type": "code",
      "metadata": {
        "id": "DCBx4-IxvFqi"
      },
      "source": [
        ""
      ],
      "execution_count": null,
      "outputs": []
    }
  ]
}