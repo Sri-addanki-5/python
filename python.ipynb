{
  "nbformat": 4,
  "nbformat_minor": 0,
  "metadata": {
    "colab": {
      "name": "python.ipynb",
      "provenance": [],
      "collapsed_sections": [],
      "authorship_tag": "ABX9TyPf641cUCEw2cm/nOzhEOI6",
      "include_colab_link": true
    },
    "kernelspec": {
      "display_name": "Python 3",
      "name": "python3"
    }
  },
  "cells": [
    {
      "cell_type": "markdown",
      "metadata": {
        "id": "view-in-github",
        "colab_type": "text"
      },
      "source": [
        "<a href=\"https://colab.research.google.com/github/Sri-addanki-5/python/blob/main/python.ipynb\" target=\"_parent\"><img src=\"https://colab.research.google.com/assets/colab-badge.svg\" alt=\"Open In Colab\"/></a>"
      ]
    },
    {
      "cell_type": "code",
      "metadata": {
        "colab": {
          "base_uri": "https://localhost:8080/"
        },
        "id": "Rm3UPM0H-t9b",
        "outputId": "8a809a3d-15aa-4bf0-d25c-b9e9c371f226"
      },
      "source": [
        "#Write a program that takes a word W as input and prints \"Hello\" followed by the given word W.\n",
        "name=input()\n",
        "print(\"Hello \"+name)"
      ],
      "execution_count": null,
      "outputs": [
        {
          "output_type": "stream",
          "text": [
            "srikanth\n",
            "Hello srikanth\n"
          ],
          "name": "stdout"
        }
      ]
    },
    {
      "cell_type": "code",
      "metadata": {
        "colab": {
          "base_uri": "https://localhost:8080/"
        },
        "id": "i4BAn0lt_caf",
        "outputId": "14015321-8d4c-4f96-9fa5-0119e3628ccb"
      },
      "source": [
        "#String Repetition\n",
        "# Write a program to print the given input word three times in a single line separated by spaces\n",
        "word = input()\n",
        "message = (word + ' ') * 3\n",
        "print(message)"
      ],
      "execution_count": null,
      "outputs": [
        {
          "output_type": "stream",
          "text": [
            "srikanth\n",
            "srikanth srikanth srikanth \n"
          ],
          "name": "stdout"
        }
      ]
    },
    {
      "cell_type": "code",
      "metadata": {
        "colab": {
          "base_uri": "https://localhost:8080/"
        },
        "id": "l0f8a28tBu0M",
        "outputId": "e9dce52f-523c-4d04-ab1b-a2744297121b"
      },
      "source": [
        "a = input()\n",
        "a = int(a)\n",
        "b = input()\n",
        "b = int(b)\n",
        "result = a+b\n",
        "print(result)\n"
      ],
      "execution_count": null,
      "outputs": [
        {
          "output_type": "stream",
          "text": [
            "2\n",
            "3\n",
            "5\n"
          ],
          "name": "stdout"
        }
      ]
    },
    {
      "cell_type": "code",
      "metadata": {
        "colab": {
          "base_uri": "https://localhost:8080/"
        },
        "id": "pOK6FYRtBu27",
        "outputId": "845e3cea-ca16-41b3-9602-67007a947c31"
      },
      "source": [
        "word = input()\n",
        "n = input()\n",
        "n = int(n)\n",
        "print(word[n])"
      ],
      "execution_count": null,
      "outputs": [
        {
          "output_type": "stream",
          "text": [
            "srikanth\n",
            "2\n",
            "i\n"
          ],
          "name": "stdout"
        }
      ]
    },
    {
      "cell_type": "code",
      "metadata": {
        "colab": {
          "base_uri": "https://localhost:8080/"
        },
        "id": "kBGCDNi5Bu5z",
        "outputId": "94b75ce8-1412-4f77-888c-62be5cef9e6b"
      },
      "source": [
        "length = input()\n",
        "breadth = input()\n",
        "length = int(length)\n",
        "breadth = int(breadth)\n",
        "area_of_rectangle = length*breadth\n",
        "print(area_of_rectangle)"
      ],
      "execution_count": null,
      "outputs": [
        {
          "output_type": "stream",
          "text": [
            "20\n",
            "30\n",
            "600\n"
          ],
          "name": "stdout"
        }
      ]
    },
    {
      "cell_type": "code",
      "metadata": {
        "id": "W2Sb60H2Bu8F"
      },
      "source": [
        "#perimeter of rectangle\n",
        "length = input()\n",
        "breadth = input()\n",
        "length = int(input())\n",
        "breadth = int(input())\n",
        "sum_of_two_sides = length+breadth\n",
        "perimeter_of_rectangle = 2*sum_of_two_sides\n",
        "print(perimeter_of_rectangle)"
      ],
      "execution_count": null,
      "outputs": []
    },
    {
      "cell_type": "code",
      "metadata": {
        "id": "teK2ZKMDBu-X"
      },
      "source": [
        "first_str = input()\n",
        "snd_str = input()\n",
        "first_str_part = first_str[:3]\n",
        "second_str_part = snd_str[:3]\n",
        "are_both_same = first_str_part == second_str_part\n",
        "print(are_both_same)"
      ],
      "execution_count": null,
      "outputs": []
    },
    {
      "cell_type": "code",
      "metadata": {
        "id": "rR1Fn-glBvA7"
      },
      "source": [
        "a =input()\n",
        "b = input()\n",
        "a = int(a)\n",
        "b = int(b)\n",
        "is_both_positive = a > 0 and b > 0\n",
        "is_one_greater = a>5 or b > 5\n",
        "result = is_both_positive and is_one_greater\n",
        "print(result)"
      ],
      "execution_count": null,
      "outputs": []
    },
    {
      "cell_type": "code",
      "metadata": {
        "id": "DTr4gMy5BvDv"
      },
      "source": [
        "n = int(input())\n",
        "counter = 1\n",
        "while counter <=n:\n",
        "    print(counter)\n",
        "    counter = counter +1 "
      ],
      "execution_count": null,
      "outputs": []
    },
    {
      "cell_type": "code",
      "metadata": {
        "id": "Ry1zHzGNBvXf"
      },
      "source": [
        "m = int(input())\n",
        "n = int(input())\n",
        "for number in range(m,n+1):\n",
        "  print(number)"
      ],
      "execution_count": null,
      "outputs": []
    },
    {
      "cell_type": "code",
      "metadata": {
        "id": "0BWaelpZBvZm"
      },
      "source": [
        "m = int(input())\n",
        "n = int(input())\n",
        "for number in range(m):\n",
        "  print(\"* \" *n)"
      ],
      "execution_count": null,
      "outputs": []
    },
    {
      "cell_type": "code",
      "metadata": {
        "id": "hDGLbJPNH1ba"
      },
      "source": [
        " m = int(input())\n",
        " for number in range(1,m+1):\n",
        "   print(\"* \"*number)"
      ],
      "execution_count": null,
      "outputs": []
    },
    {
      "cell_type": "code",
      "metadata": {
        "id": "S94doGhCH1d6"
      },
      "source": [
        "n = int(input())\n",
        "total = 0\n",
        "for i in range(n):\n",
        "  m = int(input())\n",
        "  total = total+m\n",
        "print(total) "
      ],
      "execution_count": null,
      "outputs": []
    },
    {
      "cell_type": "code",
      "metadata": {
        "id": "behU6M6gH1gd"
      },
      "source": [
        "a = input()\n",
        "length = len(a)\n",
        "b = a[0]\n",
        "for i in range(1,length):\n",
        "  b = b + \"-\" +a[i]\n",
        "print(b)  \n"
      ],
      "execution_count": null,
      "outputs": []
    },
    {
      "cell_type": "code",
      "metadata": {
        "id": "nofvmqL8H1jO"
      },
      "source": [
        "date = input()\n",
        "date = date.replace(\"-\",\"/\")\n",
        "print(date)"
      ],
      "execution_count": null,
      "outputs": []
    },
    {
      "cell_type": "code",
      "metadata": {
        "id": "xXk1Xf8KH1l_"
      },
      "source": [
        "password = input()\n",
        "contains_digit = False\n",
        "for character in password:\n",
        "  is_digit =character.isdigit()\n",
        "  if is_digit:\n",
        "    contains_digit = True\n",
        "if contains_digit:  \n",
        "  print(\"valid password\")\n",
        "else:\n",
        "  print(\"not valid\")  "
      ],
      "execution_count": null,
      "outputs": []
    },
    {
      "cell_type": "code",
      "metadata": {
        "id": "jxMStr3nH1o7"
      },
      "source": [
        "word = input()\n",
        "modified = \"\"\n",
        "for char in word:\n",
        "  uppercase = char.upper()\n",
        "  if uppercase == char:\n",
        "    modified += char.lower()\n",
        "  else:\n",
        "    modified +=char.upper()\n",
        "print(modified)      "
      ],
      "execution_count": null,
      "outputs": []
    },
    {
      "cell_type": "code",
      "metadata": {
        "id": "vVGNNH1MH1ry"
      },
      "source": [
        "# Factorial\n",
        "n = int(input())\n",
        "factorial = 1\n",
        "for i in range(1,n+1):\n",
        "  factorial = factorial * i\n",
        "print(factorial)  "
      ],
      "execution_count": null,
      "outputs": []
    },
    {
      "cell_type": "code",
      "metadata": {
        "id": "gjYHrHUWH1vA"
      },
      "source": [
        "m = int(input())\n",
        "n = int(input())\n",
        "total = 0\n",
        "for i in range(m,n+1):\n",
        "  total += i\n",
        "print(total)  "
      ],
      "execution_count": null,
      "outputs": []
    },
    {
      "cell_type": "code",
      "metadata": {
        "id": "lXc4xs_ZH1xL"
      },
      "source": [
        "n = int(input())\n",
        "total = 0\n",
        "for i in range(1,n+1):\n",
        "  if i%2==1:\n",
        "    total += i\n",
        "print(total)    "
      ],
      "execution_count": null,
      "outputs": []
    },
    {
      "cell_type": "code",
      "metadata": {
        "id": "5X7hzvqjH10D"
      },
      "source": [
        "#sum of numbers divisible by T\n",
        "t = int(input())\n",
        "m = int(input())\n",
        "n = int(input())\n",
        "total = 0\n",
        "for number in range(m,n+1):\n",
        "  if number%t ==0:\n",
        "    total +=number\n",
        "print(total)    "
      ],
      "execution_count": null,
      "outputs": []
    },
    {
      "cell_type": "code",
      "metadata": {
        "id": "Yaxu2m7DH17w"
      },
      "source": [
        "#sum of squares\n",
        "n = int(input())\n",
        "total = 0\n",
        "for i in range(1,n+1):\n",
        "  total += ()\n",
        "print(total)  "
      ],
      "execution_count": null,
      "outputs": []
    },
    {
      "cell_type": "code",
      "metadata": {
        "id": "xwNXtv-_jrXc"
      },
      "source": [
        "n=int(input())\n",
        "total=0\n",
        "for i in range(1,n+1):\n",
        "    total=total+(i*i)\n",
        "print(total)"
      ],
      "execution_count": null,
      "outputs": []
    },
    {
      "cell_type": "code",
      "metadata": {
        "id": "eQ8rMLU2jrdL"
      },
      "source": [
        "#sum of average 10 numbers\n",
        "total = 0\n",
        "for i in range(10):\n",
        "  number = int(input())\n",
        "  total +=number\n",
        "average = total/10\n",
        "print(total)\n",
        "print(average)  "
      ],
      "execution_count": null,
      "outputs": []
    },
    {
      "cell_type": "code",
      "metadata": {
        "id": "LhljTG3vjrfp"
      },
      "source": [
        "number = input()\n",
        "total =0\n",
        "for digit in number:\n",
        "  total = total+int(digit)\n",
        "print(total)"
      ],
      "execution_count": null,
      "outputs": []
    },
    {
      "cell_type": "code",
      "metadata": {
        "id": "NZSdHyJNjrij"
      },
      "source": [
        "a = int(input())\n",
        "for i in range(1,11):\n",
        "  print(str(a)+\"*\"+str(i)+\"=\"+str(i*a))"
      ],
      "execution_count": null,
      "outputs": []
    },
    {
      "cell_type": "code",
      "metadata": {
        "id": "EfFSfAq7jrl3"
      },
      "source": [
        "#Reverse string\n",
        "a = input()\n",
        "rever = \"\"\n",
        "for i in a:\n",
        "  rever = i+rever\n",
        "print(rever)  \n"
      ],
      "execution_count": null,
      "outputs": []
    },
    {
      "cell_type": "code",
      "metadata": {
        "id": "opjO2IimBuz2"
      },
      "source": [
        "#palindrome\n",
        "n = input()\n",
        "n = n.lower()\n",
        "reverse_n = \"\"\n",
        "for char in n:\n",
        "  reverse_n = char+reverse_n\n",
        "if n == reverse_n:\n",
        "  print(\"palindrome\")\n",
        "else:\n",
        "  print(\"not a palindrome\")    "
      ],
      "execution_count": null,
      "outputs": []
    },
    {
      "cell_type": "code",
      "metadata": {
        "id": "jD1MCCYnBu3N"
      },
      "source": [
        "#Greatest among N numbers\n",
        "n = int(input())\n",
        "first_input = int(input())\n",
        "greatest_number = first_input\n",
        "for i in range(n-1):\n",
        "  num = int(input())\n",
        "  if num > greatest_number:\n",
        "    greatest_number = num\n",
        "print(greatest_number)    "
      ],
      "execution_count": null,
      "outputs": []
    },
    {
      "cell_type": "code",
      "metadata": {
        "id": "OLOT0c0nBu6g"
      },
      "source": [
        "#smallest number\n",
        "n = int(input())\n",
        "first_number = int(input())\n",
        "smallest_number = first_number\n",
        "for i in range(n-1):\n",
        "  num = int(input())\n",
        "  if num < smallest_number:\n",
        "    smallest_number = num\n",
        "print(smallest_number)    "
      ],
      "execution_count": null,
      "outputs": []
    },
    {
      "cell_type": "code",
      "metadata": {
        "id": "lmYlGu6NBu9t"
      },
      "source": [
        "#factors of numbers\n",
        "n = int(input())\n",
        "for i in range(1,n+1):\n",
        "  if n%i ==0:\n",
        "    print(i)"
      ],
      "execution_count": null,
      "outputs": []
    },
    {
      "cell_type": "code",
      "metadata": {
        "id": "vAUbAvhEBvAx"
      },
      "source": [
        "#sum odf all factors\n",
        "n = int(input())\n",
        "total = 0\n",
        "for i in range(1,n+1):\n",
        "  if n%i ==0:\n",
        "    total = total + i\n",
        "print(total)    "
      ],
      "execution_count": null,
      "outputs": []
    },
    {
      "cell_type": "code",
      "metadata": {
        "id": "UbKsgZztBvD5"
      },
      "source": [
        "# perfect number\n",
        "n = int(input())\n",
        "total = 0\n",
        "for i in range(1,n):\n",
        "  if n%i == 0:\n",
        "    total+=i\n",
        "if total == n:\n",
        "  print(\"perfect number\")\n",
        "else:\n",
        "  print(\"not perfect number\")      "
      ],
      "execution_count": null,
      "outputs": []
    },
    {
      "cell_type": "code",
      "metadata": {
        "id": "sx-gR5KyJoZS"
      },
      "source": [
        "# armstrong number\n",
        "n = input()\n",
        "length = len(n)\n",
        "total = 0\n",
        "for digit in n:\n",
        "  total = total+(int(digit)**length)\n",
        "if total ==int(n):\n",
        "  print(\"Armstrong number\")\n",
        "else:\n",
        "  print(\"Not an armstrong number\")    "
      ],
      "execution_count": null,
      "outputs": []
    },
    {
      "cell_type": "code",
      "metadata": {
        "id": "ei9FQEcpJodA"
      },
      "source": [
        "#OOPS"
      ],
      "execution_count": null,
      "outputs": []
    },
    {
      "cell_type": "code",
      "metadata": {
        "id": "wGaIdibgJog9"
      },
      "source": [
        "#CAR\n",
        "class Car:\n",
        "    def __init__(self,color,max_speed,acceleration,tyre_friction):\n",
        "        self.color = color\n",
        "        self.max_speed=max_speed\n",
        "        self.acceleration=acceleration\n",
        "        self.tyre_friction=tyre_friction\n",
        "        \n",
        "    # def default_test():\n",
        "car=Car(color=\"Red\",max_speed=250,acceleration=10,tyre_friction=3)\n",
        "print(car.color)\n",
        "print(car.max_speed)\n",
        "print(car.acceleration)\n",
        "print(car.tyre_friction)"
      ],
      "execution_count": null,
      "outputs": []
    },
    {
      "cell_type": "code",
      "metadata": {
        "id": "ma08DmbCJokA"
      },
      "source": [
        "#Car-2\n"
      ],
      "execution_count": null,
      "outputs": []
    },
    {
      "cell_type": "code",
      "metadata": {
        "id": "OG9Keo8L5MiK"
      },
      "source": [
        "class Car:\n",
        "  def __init__(self,color,max_speed,acceleration,tyre_friction):\n",
        "    self.color = color\n",
        "    self.max_speed = max_speed\n",
        "    self.acceleration = acceleration\n",
        "    self.tyre_friction = tyre_friction\n",
        "    self.is_engine_started = False\n",
        "  def start_engine(self):\n",
        "    self.is_engine_started = True\n",
        "  def stop_engine(self):\n",
        "    self.is_engine_started = False \n",
        "car = Car(color = 'Red',max_speed = 250,acceleration = 10,tyre_friction = 3)\n",
        "print(car.color)\n",
        "print(car.max_speed)\n",
        "print(car.acceleration)\n",
        "print(car.tyre_friction)\n",
        "car.start_engine()\n",
        "print(car.is_engine_started)\n",
        "car.stop_engine()\n",
        "print(car.is_engine_started)      "
      ],
      "execution_count": null,
      "outputs": []
    },
    {
      "cell_type": "code",
      "metadata": {
        "id": "JEn7pDPY5Ml8"
      },
      "source": [
        "# Car-3"
      ],
      "execution_count": null,
      "outputs": []
    },
    {
      "cell_type": "code",
      "metadata": {
        "id": "QeSMBuD_5MqV"
      },
      "source": [
        "class Car:\n",
        "  def __init__(self,color,max_speed,acceleration,tyre_friction):\n",
        "    self.color = color\n",
        "    self.max_speed = max_speed\n",
        "    self.acceleration = acceleration\n",
        "    self.tyre_friction = tyre_friction\n",
        "    self.is_engine_started = False\n",
        "    self.current_speed = 0\n",
        "  def start_engine(self):\n",
        "    self.is_engine_started = True\n",
        "  def stop_engine(self):\n",
        "    self.is_engine_started = False\n",
        "  def accelerate(self):\n",
        "    if not self.is_engine_started:\n",
        "      print(\"Car has not started yet\")\n",
        "    else:\n",
        "      self.current_speed += self.acceleration\n",
        "      if self.current_speed > self.max_speed:\n",
        "        self.current_speed =self.max_speed \n",
        "car = Car(color = \"Red\",max_speed = 250, acceleration = 10, tyre_friction = 3)\n",
        "car.accelerate()\n",
        "print(car.current_speed)\n",
        "car.start_engine()\n",
        "print(car.current_speed)\n",
        "car.accelerate()\n",
        "print(car.current_speed)\n",
        "car.accelerate()\n",
        "print(car.current_speed)\n",
        "car.accelerate()\n",
        "car.accelerate()\n",
        "car.accelerate()\n",
        "print(car.current_speed)\n",
        "\n"
      ],
      "execution_count": null,
      "outputs": []
    },
    {
      "cell_type": "code",
      "metadata": {
        "id": "wbfGmkfP5Mtl"
      },
      "source": [
        "# A car and Truck incomplete classes"
      ],
      "execution_count": null,
      "outputs": []
    },
    {
      "cell_type": "code",
      "metadata": {
        "id": "v2wWt54V5MxI"
      },
      "source": [
        "class Car:\n",
        "  def __init__(self,color,max_speed,acceleration,tyre_friction):\n",
        "    self.color = color\n",
        "    self.max_speed = max_speed\n",
        "    self.acceleration = acceleration\n",
        "    self.tyre_friction = tyre_friction\n",
        "    self.is_engine_started = False\n",
        "    self.current_speed = 0\n",
        "  def start_engine(self):\n",
        "    self.is_engine_started = True\n",
        "  def stop_engine(self):\n",
        "    self.is_engine_started = False\n",
        "  def acceleration(self):\n",
        "    if not self.is_engine_started:\n",
        "      print(\"car not started yet\")\n",
        "    else:\n",
        "      self.current_speed += self.acceleration\n",
        "      if slef.current_speed > self.max_speed:\n",
        "        self.current_speed = self.max_speed\n",
        "  def apply_brakes(self):\n",
        "    self.current_speed -= self.tyre_friction\n",
        "    if self.current_speed < 0:\n",
        "      self.current_speed = 0\n",
        "  def sound_horn(self):\n",
        "    if self.is_engine_started:\n",
        "      print(\"Beep Beep\")\n",
        "    else:\n",
        "      print(\"Car has not started yet\")\n",
        "class Truck(Car):\n",
        "  def __init__(self,color,max_speed,acceleration,tyre_friction,max_cargo_weight):\n",
        "    super().__init__(color,max_speed,acceleration,tyre_friction)\n",
        "    self.max_cargo_weight = max_cargo_weight\n",
        "    self.load = 0\n",
        "  def load_cargo(self,cargo_weight):\n",
        "    if self.is_engine_started:\n",
        "      pribt(\"cannot load cargo during motion\")\n",
        "    elif cargo_weight + self.load > self.max_cargo_weight:\n",
        "      print(\"cannot load cargo morethan max limit:{}\".format(self.max_cargo_weight))\n",
        "    else:\n",
        "      self.load += cargo_weight\n",
        "  def unload_cargo(self,cargo_weight):\n",
        "    if self.is_engine_started:\n",
        "      print(\"cannot unload cargo during motion\")\n",
        "    else:\n",
        "      self.load -= cargo_weight\n",
        "      if self.load < 0:\n",
        "        self.load = 0\n",
        "  def sound_horn (self):\n",
        "    if self.is_engine_started:\n",
        "      print(\"honk honk\")\n",
        "    else:\n",
        "      print(\"car has not started yet\")\n",
        "truck = Truck(color = \"red\",max_speed = 250,acceleration = 10,tyre_friction = 3,max_cargo_weight=100)\n",
        "print(truck.is_engine_started)\n",
        "truck.load_cargo(cargo_weight=50)\n",
        "print(truck.load)\n",
        "truck.unload_cargo(cargo_weight=25)\n",
        "print(truck.load)\n",
        "truck.unload_cargo(cargo_weight = 70)\n",
        "print(truck.load)\n",
        "truck.unload_cargo(cargo_weight=120)\n",
        "print(truck.load)  \n",
        "truck.sound_horn()\n",
        "truck.stop_engine()\n",
        "truck.sound_horn()          \n",
        "\n"
      ],
      "execution_count": null,
      "outputs": []
    },
    {
      "cell_type": "code",
      "metadata": {
        "id": "E03RSkkU5M0T"
      },
      "source": [
        "#car 4\n",
        "class Car:\n",
        "  def __init__(self,color,max_speed,acceleration,tyre_friction):\n",
        "    self.color = color\n",
        "    self.max_speed = max_speed\n",
        "    self.acceleration = acceleration\n",
        "    self.tyre_friction = tyre_friction\n",
        "    self.is_engine_started = False\n",
        "    self.current_speed = 0\n",
        "  def start_engine(self):\n",
        "    self.is_engine_started = True\n",
        "  def stop_engine(self):\n",
        "    self.is_engine_started = True\n",
        "  def accelerate(self):\n",
        "    if not self.is_engine_started:\n",
        "      print(\"car has not started yet\")\n",
        "    else:\n",
        "      self.current_speed +=self.acceleration\n",
        "      if self.current_speed > self.max_speed:\n",
        "          self.current_speed = self.max_speed  \n",
        "car = Car(\"Red\",max_speed = 50,acceleration = 10,tyre_friction = 3)\n",
        "car.start_engine()\n",
        "print(car.current_speed)\n",
        "car.stop_engine()\n",
        "car.accelerate()\n",
        "print(car.current_speed)\n",
        "                "
      ],
      "execution_count": null,
      "outputs": []
    },
    {
      "cell_type": "code",
      "metadata": {
        "id": "mT6kWe175M3v"
      },
      "source": [
        "# #parsing datetime\n",
        "# from datetime import datetime\n",
        "\n",
        "# date = input()\n",
        "# date_string = \"%d %b %Y\"\n",
        "# datetime_object = datetime.strptime(date,date_string)\n",
        "# print(datetime_object)"
      ],
      "execution_count": null,
      "outputs": []
    },
    {
      "cell_type": "code",
      "metadata": {
        "id": "ilMXwnJc5M74"
      },
      "source": [
        "#lists"
      ],
      "execution_count": null,
      "outputs": []
    },
    {
      "cell_type": "code",
      "metadata": {
        "id": "grHbldMI5M__"
      },
      "source": [
        "player = [\"Rose\",183,148,123.64,False]\n",
        "print(player)"
      ],
      "execution_count": null,
      "outputs": []
    },
    {
      "cell_type": "code",
      "metadata": {
        "id": "EsRQEQwK5ND7"
      },
      "source": [
        "#list concatination\n",
        "num = [20,30,20,40,100]\n",
        "n = int(input())\n",
        "sri_1 = num+[n]\n",
        "sri_2 = [n]+num\n",
        "print(sri_1)\n",
        "print(sri_2)"
      ],
      "execution_count": null,
      "outputs": []
    },
    {
      "cell_type": "code",
      "metadata": {
        "id": "BunUm1qt5NHr"
      },
      "source": [
        "#convert string to list\n"
      ],
      "execution_count": null,
      "outputs": []
    },
    {
      "cell_type": "code",
      "metadata": {
        "id": "fBJUNIS7Jom_"
      },
      "source": [
        "programing_language = [\"python\",\"java\",\"rubey\",\"machin_learning\",\"c\",\"c++\"]\n",
        "n = int(input())\n",
        "for i in range(n):\n",
        "  index = int(input())\n",
        "  print(programing_language[index])  \n",
        "\n"
      ],
      "execution_count": null,
      "outputs": []
    },
    {
      "cell_type": "code",
      "metadata": {
        "id": "S06t1J5jjron"
      },
      "source": [
        "#list repetation\n",
        "m = int(input())\n",
        "n = int(input())\n",
        "list_a = [m]*n\n",
        "print(list_a)"
      ],
      "execution_count": null,
      "outputs": []
    },
    {
      "cell_type": "code",
      "metadata": {
        "id": "hyyib8fdbFGQ"
      },
      "source": [
        "# Greater than N\n",
        "num_list = [4,6,45,34,54,65,76,46,34,31,78,96]\n",
        "n = int(input())\n",
        "num_rum = []\n",
        "for i in num_list:\n",
        "  if i > n:\n",
        "    num_rum += [i]\n",
        "print(num_rum)   "
      ],
      "execution_count": null,
      "outputs": []
    },
    {
      "cell_type": "code",
      "metadata": {
        "id": "2-3ZNXz-bFJp"
      },
      "source": [
        "#create print_list\n",
        "n = int(input())\n",
        "list_1 = []\n",
        "for i in range(n):\n",
        "  value = input()\n",
        "  list_1 += [value]\n",
        "print(list_1)  "
      ],
      "execution_count": null,
      "outputs": []
    },
    {
      "cell_type": "code",
      "metadata": {
        "id": "G0XmSnlBbFNo"
      },
      "source": [
        "n = int(input())\n",
        "list_1 = []\n",
        "list_2 = []\n",
        "for i in range(n):\n",
        "  value = input()\n",
        "  list_1 += (value)\n",
        "for n in list_1:\n",
        "  if n ==list_1:\n",
        "    list_2 += n\n",
        "print(list_2)    \n",
        "\n",
        "\n",
        "print(list_1)\n",
        "\n"
      ],
      "execution_count": null,
      "outputs": []
    },
    {
      "cell_type": "code",
      "metadata": {
        "id": "x6_Aaz8pbFjy"
      },
      "source": [
        "# reverse order\n",
        "n = int(input())\n",
        "list_a = []\n",
        "for i in range(n):\n",
        "  value = input()\n",
        "  list_a +=[value]\n",
        "for i in range(n):\n",
        "  print(list_a[n-i-1])  "
      ],
      "execution_count": null,
      "outputs": []
    },
    {
      "cell_type": "code",
      "metadata": {
        "id": "RyycoMDTbFmf"
      },
      "source": [
        "# list concatination\n",
        "n=int(input())\n",
        "list_a = []\n",
        "for i in range(n):\n",
        "    value = input()\n",
        "    list_a += [value]\n",
        "    new_list=list_a[:3] + list_a[n-3:]\n",
        "print(new_list)"
      ],
      "execution_count": null,
      "outputs": []
    },
    {
      "cell_type": "code",
      "metadata": {
        "id": "Skk-ZQy6gNqe"
      },
      "source": [
        "# functions "
      ],
      "execution_count": null,
      "outputs": []
    },
    {
      "cell_type": "code",
      "metadata": {
        "id": "WjvT5nxWgNvB"
      },
      "source": [
        "#splite the sentence\n",
        "n = input()\n",
        "word_list = n.split()\n",
        "sri = \"\"\n",
        "for word in word_list:\n",
        "  pass\n",
        "  if word == \"srikanth\":\n",
        "    sri += word\n",
        "print(sri)    \n",
        "\n",
        "print(word)"
      ],
      "execution_count": null,
      "outputs": []
    },
    {
      "cell_type": "code",
      "metadata": {
        "id": "vo79b9dogNzV"
      },
      "source": [
        "#sum of list elements\n",
        "n=input()\n",
        "num_list=n.split()\n",
        "total=0\n",
        "for n in num_list:\n",
        "    total=total+int(n)\n",
        "print(total)  "
      ],
      "execution_count": null,
      "outputs": []
    },
    {
      "cell_type": "code",
      "metadata": {
        "id": "7Myrn7pegN2u"
      },
      "source": [
        "strin = input()\n",
        "spli = strin.split()\n",
        "sri = []\n",
        "for n in spli:\n",
        "  sri += [n[::-1]]\n",
        "reverse_order =\" \".join(sri)\n",
        "print(reverse_order)  "
      ],
      "execution_count": null,
      "outputs": []
    },
    {
      "cell_type": "code",
      "metadata": {
        "id": "xMWizmm6gN6l"
      },
      "source": [
        "def wishes(name):\n",
        "  wish = \"welcome \"+ name\n",
        "  return wish\n",
        "a = input()\n",
        "wishes(a)"
      ],
      "execution_count": null,
      "outputs": []
    },
    {
      "cell_type": "code",
      "metadata": {
        "id": "93IooKD3gOQl"
      },
      "source": [
        "#multiplay with three\n",
        "def multiply_with_three(num):\n",
        "   number = num*3\n",
        "   print(number)\n",
        "n = int(input())\n",
        "multiply_with_three(n)   "
      ],
      "execution_count": null,
      "outputs": []
    },
    {
      "cell_type": "code",
      "metadata": {
        "id": "JVnlxqoVgOTi"
      },
      "source": [
        "# divisible by 7\n",
        "def divisible_by_7(num):\n",
        "  number = num/7\n",
        "  print(number)\n",
        "n = int(input())\n",
        "divisible_by_7(n)\n",
        "  "
      ],
      "execution_count": null,
      "outputs": []
    },
    {
      "cell_type": "code",
      "metadata": {
        "id": "eDGsM2KngOoV"
      },
      "source": [
        "# perimeter of square\n",
        "def perimeter(four):\n",
        "  result = four*4\n",
        "  print(result)\n",
        "a = int(input())\n",
        "perimeter(a)  "
      ],
      "execution_count": null,
      "outputs": []
    },
    {
      "cell_type": "code",
      "metadata": {
        "id": "nrNp5jIBgOrl"
      },
      "source": [
        "# add two numbers\n",
        "def sum_of_two(num1,num2):\n",
        "  value = num1+num2\n",
        "  print(value)\n",
        "a = int(input())\n",
        "b = int(input())\n",
        "sum_of_two(a,b)  "
      ],
      "execution_count": null,
      "outputs": []
    },
    {
      "cell_type": "code",
      "metadata": {
        "id": "3HU7kG1tgO7P"
      },
      "source": [
        "# second character in the word\n",
        "def word_second(num):\n",
        "  character = num[1]\n",
        "  return character\n",
        "a = input()\n",
        "word_second(a)  "
      ],
      "execution_count": null,
      "outputs": []
    },
    {
      "cell_type": "code",
      "metadata": {
        "id": "tJXH5rTFgPAJ"
      },
      "source": [
        "# indexing\n",
        "def indexing(arg1,arg2):\n",
        "  character = arg1[arg2]\n",
        "  return character\n",
        "a = input()\n",
        "index = int(input())\n",
        "indexing(a,index)  "
      ],
      "execution_count": null,
      "outputs": []
    },
    {
      "cell_type": "code",
      "metadata": {
        "id": "4o7QUE8cgPEI"
      },
      "source": [
        "# printing message\n",
        "def name(arg1,arg2):\n",
        "  character = arg1 + \" is \" +str(arg2)+\" years old\"\n",
        "  return character\n",
        "a = input()\n",
        "b = int(input())\n",
        "name(a,b)  "
      ],
      "execution_count": null,
      "outputs": []
    },
    {
      "cell_type": "code",
      "metadata": {
        "id": "vo3rdyrPgPHy"
      },
      "source": [
        "#number of upper and lowercase letters\n",
        "def upper_lower(arg):\n",
        "  count_uppercase = 0\n",
        "  count_lowercase = 0\n",
        "  for char in arg:\n",
        "    if char.upper() == char:\n",
        "      count_uppercase += 1\n",
        "    else:\n",
        "      count_lowercase += 1\n",
        "  print(count_uppercase)\n",
        "  print(count_lowercase)\n",
        "a = input()\n",
        "upper_lower(a)        "
      ],
      "execution_count": null,
      "outputs": []
    },
    {
      "cell_type": "code",
      "metadata": {
        "id": "A4vw-pUjgPRl"
      },
      "source": [
        "# list of squares\n",
        "def get_list(string_a):\n",
        "    list_a = string_a.split(',')\n",
        "    len_list_a = len(list_a)\n",
        "    for i in range(len_list_a):\n",
        "        list_a[i] = int(list_a[i])**2\n",
        "    return list_a\n",
        "\n",
        "\n",
        "string_a = input()\n",
        "numbers_list = get_list(string_a)\n",
        "print(numbers_list)    "
      ],
      "execution_count": null,
      "outputs": []
    },
    {
      "cell_type": "code",
      "metadata": {
        "id": "BJg6r-X9gPUr"
      },
      "source": [
        "# So the output should be\n",
        "# [1, 2, 5]\n",
        "#input=5\n",
        "#append 5\n",
        "#insert 0,2\n",
        "#append 1\n",
        "#sort\n",
        "#print\n",
        "n = int(input())\n",
        "\n",
        "nums_list = []\n",
        "for i in range(n):\n",
        "    command = input().split()\n",
        "    if command[0] == 'insert':\n",
        "        index = int(command[1])\n",
        "        value = int(command[2])\n",
        "        nums_list.insert(index, value)\n",
        "    elif command[0] == 'append':\n",
        "        value = int(command[1])\n",
        "        nums_list.append(value)\n",
        "    elif command[0] == 'pop':\n",
        "        nums_list.pop()\n",
        "    elif command[0] == \"remove\":\n",
        "        value = int(command[1])\n",
        "        nums_list.remove(value)\n",
        "    elif command[0] == \"sort\":\n",
        "        nums_list.sort()\n",
        "    elif command[0] == \"print\":\n",
        "        print(nums_list)"
      ],
      "execution_count": null,
      "outputs": []
    },
    {
      "cell_type": "code",
      "metadata": {
        "id": "bfWMrgJJgPYl"
      },
      "source": [
        "# Team points\n",
        "def calculateLeagues(wins,draws,losses):\n",
        "  wins_points = wins*4\n",
        "  draws_points = draws*2\n",
        "  losses_points = losses*-1\n",
        "  total_points = wins_points+losses_points+draws_points\n",
        "  return total_points\n",
        "statistics = input().split(\",\")\n",
        "wins = int(input())\n",
        "draws = int(input())\n",
        "losses = int(input())\n",
        "total_points = calculateLeagues(wins,draws,losses)\n",
        "print(total_points)  "
      ],
      "execution_count": null,
      "outputs": []
    },
    {
      "cell_type": "code",
      "metadata": {
        "id": "GM61H8aLvFFv"
      },
      "source": [
        "# speed meter\n",
        "def get_speed_status(speed):\n",
        "  if (speed >= 60 and speed<80):\n",
        "    msg = \"Normal\"\n",
        "  elif (speed>=60) and (speed<80):\n",
        "    msg = \"Warning\"\n",
        "  else:\n",
        "    msg = \"Over speed\"\n",
        "  return msg\n",
        "speed = int(input())\n",
        "a = get_speed_status(speed)\n",
        "print(a)  \n"
      ],
      "execution_count": null,
      "outputs": []
    },
    {
      "cell_type": "code",
      "metadata": {
        "id": "-3t37dj3vFI4"
      },
      "source": [
        "# Wather Reporter\n",
        "def get_weather_report(temp):\n",
        "  if temp < 22:\n",
        "    report = \"Cold\"\n",
        "  elif (temp >= 22) and (temp<35):\n",
        "    report = \"Warm\"\n",
        "  else:\n",
        "    report = \"Hot\"\n",
        "  return report\n",
        "temp = int(input())\n",
        "a = get_weather_report(temp)\n",
        "print(a)    \n"
      ],
      "execution_count": null,
      "outputs": []
    },
    {
      "cell_type": "code",
      "metadata": {
        "id": "ADLz_2vlvFNT"
      },
      "source": [
        "# Discount\n",
        "def discount_for_shoping(bill):\n",
        "  if (bill > 250) and (bill <= 450):\n",
        "    discount = \"5%\"\n",
        "  elif (bill >= 450) and (bill <= 850):\n",
        "    discount = \"10%\"\n",
        "  else:\n",
        "    discount = \"15%\"\n",
        "  return discount\n",
        "bill = int(input())\n",
        "so = discount_for_shoping(bill)\n",
        "print(so)        \n"
      ],
      "execution_count": null,
      "outputs": []
    },
    {
      "cell_type": "code",
      "metadata": {
        "id": "a1buH5fyvFQn"
      },
      "source": [
        "# calculte bill\n",
        "def calculate_bill(amount):\n",
        "  if amount <500:\n",
        "    bill = amount-(amount * 0.05)\n",
        "  elif (amount >= 500) and (amount < 2500):\n",
        "    bill = amount-(amount*0.01)\n",
        "  else:\n",
        "    bill = amount-(amount*0.2)\n",
        "  bill = round(bill,3)\n",
        "  return bill\n",
        "amount = int(input())\n",
        "a = calculate_bill(amount)\n",
        "print(a)  \n",
        "\n"
      ],
      "execution_count": null,
      "outputs": []
    },
    {
      "cell_type": "code",
      "metadata": {
        "id": "agh6WrNSvFT9"
      },
      "source": [
        "#Fiz buzz\n",
        "def fizz_buzz(number):\n",
        "    is_divisible_by_3= (number%3)==0\n",
        "    is_divisible_by_5=(number%5)==0\n",
        "    is_divisible_by_both = is_divisible_by_3 and is_divisible_by_5\n",
        "    \n",
        "    if is_divisible_by_both:\n",
        "        msg = \"FizzBuzz\"\n",
        "    elif is_divisible_by_3:\n",
        "        msg= \"Fizz\"\n",
        "    elif is_divisible_by_5:\n",
        "        msg=\"Buzz\"\n",
        "    else:\n",
        "        msg=number\n",
        "    return msg\n",
        "    \n",
        "number = int(input())\n",
        "result = fizz_buzz(number)\n",
        "print(result)"
      ],
      "execution_count": null,
      "outputs": []
    },
    {
      "cell_type": "code",
      "metadata": {
        "id": "4Q-0TimLvFXy"
      },
      "source": [
        "n = int(input())\n",
        "count = 1\n",
        "while (count <= n):\n",
        "  print(count)\n",
        "  count += 1\n",
        "  \n"
      ],
      "execution_count": null,
      "outputs": []
    },
    {
      "cell_type": "code",
      "metadata": {
        "id": "-V_dCqk_nNcl"
      },
      "source": [
        "# integers\n",
        "n = int(input())\n",
        "count = 2\n",
        "while count<=6:\n",
        "  print(count)\n",
        "  count+=1"
      ],
      "execution_count": null,
      "outputs": []
    },
    {
      "cell_type": "code",
      "metadata": {
        "id": "qYj8AojxnNfw"
      },
      "source": [
        "# triangle\n",
        "n = int(input())\n",
        "count = 4\n",
        "while count <= n:\n",
        "  print(\"*\"*count)\n",
        "  if count <= 0:\n",
        "    break\n",
        "  count -=1\n"
      ],
      "execution_count": null,
      "outputs": []
    },
    {
      "cell_type": "code",
      "metadata": {
        "id": "yF5sT_-DnNjX"
      },
      "source": [
        "# solid square\n",
        "n = int(input())\n",
        "count = 0\n",
        "while count <= n:\n",
        "  print(\"* \"*n)\n",
        "  count +=1"
      ],
      "execution_count": null,
      "outputs": []
    },
    {
      "cell_type": "code",
      "metadata": {
        "id": "-_q95I6gnN8d"
      },
      "source": [
        "# solid rectangle\n",
        "row = int(input())\n",
        "col = int(input())\n",
        "count = 0\n",
        "while count <= row:\n",
        "  print(\"* \"*col\n",
        "        )\n",
        "  count +=1\n"
      ],
      "execution_count": null,
      "outputs": []
    },
    {
      "cell_type": "code",
      "metadata": {
        "id": "W_chE796nN_S"
      },
      "source": [
        "row = int(input())\n",
        "col = int(input())\n",
        "count = 0\n",
        "while count <= row:\n",
        "  print(\"* \"*col)\n",
        "  if count == 4:\n",
        "    break\n",
        "  count +=1  "
      ],
      "execution_count": null,
      "outputs": []
    },
    {
      "cell_type": "code",
      "metadata": {
        "id": "9Uo8Dc4BnOee"
      },
      "source": [
        "# sum of natural numbers\n",
        "num = int(input())\n",
        "sum = 0\n",
        "count = 0\n",
        "while count <= num:\n",
        "  sum += count\n",
        "  count +=1\n",
        "print(sum)  \n"
      ],
      "execution_count": null,
      "outputs": []
    },
    {
      "cell_type": "code",
      "metadata": {
        "id": "hL5N9XFdnOhd"
      },
      "source": [
        "n = int(input())\n",
        "count = 1\n",
        "while count <= n:\n",
        "  print(\"* \"*count)\n",
        "  count+=1"
      ],
      "execution_count": null,
      "outputs": []
    },
    {
      "cell_type": "code",
      "metadata": {
        "id": "BXao6azEnOzC"
      },
      "source": [
        "#Read N Inputs\n",
        "num = int(input())\n",
        "count = 0\n",
        "while count <= num:\n",
        "  n = int(input())\n",
        "  print(n)\n",
        "  count +=1\n",
        "\n"
      ],
      "execution_count": null,
      "outputs": []
    },
    {
      "cell_type": "code",
      "metadata": {
        "id": "kPEcbOh8nO16"
      },
      "source": [
        "# sum of the given numbers\n",
        "n = int(input())\n",
        "total = 0\n",
        "for number in range(n):\n",
        "  m = int(input())\n",
        "  total +=m\n",
        "print(total)  "
      ],
      "execution_count": null,
      "outputs": []
    },
    {
      "cell_type": "code",
      "metadata": {
        "id": "LjFaWBatnPF6"
      },
      "source": [
        "n = input()\n",
        "len_of_a = len(n)\n",
        "b = n[0]\n",
        "for i in range(1,len_of_a):\n",
        "  b = b + '-' +n[i]\n",
        "print(b)  \n"
      ],
      "execution_count": null,
      "outputs": []
    },
    {
      "cell_type": "code",
      "metadata": {
        "id": "dbywMjwKnPfw"
      },
      "source": [
        "date = input()\n",
        "date = date.replace(\"-\",\"/\")\n",
        "print(date)"
      ],
      "execution_count": null,
      "outputs": []
    },
    {
      "cell_type": "code",
      "metadata": {
        "id": "aYhGW5zxvFa1"
      },
      "source": [
        "word = input()\n",
        "lower_case = word.lower()\n",
        "upper_case = word.upper()\n",
        "print(lower_case)\n",
        "print(upper_case)"
      ],
      "execution_count": null,
      "outputs": []
    },
    {
      "cell_type": "code",
      "metadata": {
        "id": "-jVCU-aQvFdz"
      },
      "source": [
        "# valid password\n",
        "password=input()\n",
        "contains_digit=False\n",
        "for character in password:\n",
        "    is_digit=character.isdigit()\n",
        "    \n",
        "    if is_digit:\n",
        "        contains_digit=True\n",
        "if contains_digit:\n",
        "    print(\"Valid Password\")\n",
        "else:\n",
        "    print(\"Invalid Password\")     \n",
        "    \n"
      ],
      "execution_count": null,
      "outputs": []
    },
    {
      "cell_type": "code",
      "metadata": {
        "id": "20pmOTczvFhV"
      },
      "source": [
        "# This program prints Hello, world!\n",
        "print(\"Hello, world!\")"
      ],
      "execution_count": null,
      "outputs": []
    },
    {
      "cell_type": "code",
      "metadata": {
        "id": "kydMCPYgk2Hq"
      },
      "source": [
        "# This program adds two numbers\n",
        "num = 1.5\n",
        "num2 = 3.5\n",
        "sum = num+num2\n",
        "print(sum)"
      ],
      "execution_count": null,
      "outputs": []
    },
    {
      "cell_type": "code",
      "metadata": {
        "id": "KNKhLhwmk2LI"
      },
      "source": [
        "a = input(\"enter first number:\")\n",
        "b = input(\"enter second number:\")\n",
        "sum = float(a)+float(b)\n",
        "print(sum)"
      ],
      "execution_count": null,
      "outputs": []
    },
    {
      "cell_type": "code",
      "metadata": {
        "id": "kBG1Qu5ak2QW"
      },
      "source": [
        "# Python Program to calculate the square root\n",
        "num = 8\n",
        "num_sqrt = num**0.5\n",
        "print(num,num_sqrt)"
      ],
      "execution_count": null,
      "outputs": []
    },
    {
      "cell_type": "code",
      "metadata": {
        "id": "-jvrUszYk2T_"
      },
      "source": [
        "# Python Program to find the area of triangle\n",
        "a = int(input())\n",
        "b= int(input())\n",
        "c = int(input())\n",
        "s = ((a+b+c)/2)\n",
        "n1 = (s-a)*(s-b)*(s-c)\n",
        "n2 = (s*n1)\n",
        "area = n2**0.5\n",
        "print(area)"
      ],
      "execution_count": null,
      "outputs": []
    },
    {
      "cell_type": "code",
      "metadata": {
        "id": "IyjN49_0k2X3"
      },
      "source": [
        "# Solve the quadratic equation ax**2 + bx + c = 0\n",
        "a = int(input())\n",
        "b = int(input())\n",
        "c = int(input())\n",
        "d = ((b**2) - 4*a*c)\n",
        "sol1 = ((-b+d**0.5)/2)*a\n",
        "sol2 = ((-b-d**0.5)/2)*a\n",
        "print(sol1,sol2)\n"
      ],
      "execution_count": null,
      "outputs": []
    },
    {
      "cell_type": "code",
      "metadata": {
        "id": "viBeVWIYk2bw"
      },
      "source": [
        "# Python program to swap two variables\n",
        "x = 5\n",
        "y = 10\n",
        "temp = x\n",
        "x = y\n",
        "y = temp\n",
        "print(x,y)"
      ],
      "execution_count": null,
      "outputs": []
    },
    {
      "cell_type": "code",
      "metadata": {
        "id": "w7znh5LWk2gt"
      },
      "source": [
        "# Program to generate a random number between 0 and 9\n",
        "import random\n",
        "print(random.randint(0,9))"
      ],
      "execution_count": null,
      "outputs": []
    },
    {
      "cell_type": "code",
      "metadata": {
        "id": "oMYdrZkhk2yv"
      },
      "source": [
        "#Python Program to Convert Kilometers to Miles\n",
        "kilometers = float(input(\"enter the kilometers:\"))\n",
        "conversion = 0.621371\n",
        "miles = kilometers*conversion\n",
        "print(miles)"
      ],
      "execution_count": null,
      "outputs": []
    },
    {
      "cell_type": "code",
      "metadata": {
        "id": "3lhuMWxck22m"
      },
      "source": [
        "#9_Python Program to Convert Celsius To Fahrenheit\n"
      ],
      "execution_count": null,
      "outputs": []
    },
    {
      "cell_type": "code",
      "metadata": {
        "id": "UMvdVpWtk27f"
      },
      "source": [
        "celsius = float(input())\n",
        "fahrenhit = (celsius*1.8)+32\n",
        "print(fahrenhit)\n"
      ],
      "execution_count": null,
      "outputs": []
    },
    {
      "cell_type": "code",
      "metadata": {
        "id": "qWlhsAfyk2-2"
      },
      "source": [
        "#Python Program to Check if a Number is Positive, Negative or 0\n",
        "num = int(input(\"enter number here:\"))\n",
        "if num >= 0:\n",
        "  print(\"positive\")\n",
        "elif num == 0:\n",
        "  print(\"Zero\")\n",
        "else:\n",
        "  print(\"Negative\")    "
      ],
      "execution_count": null,
      "outputs": []
    },
    {
      "cell_type": "code",
      "metadata": {
        "id": "Oj22QAXwvFlK"
      },
      "source": [
        "#Python Program to Check if a Number is Odd or Even\n",
        "num = int(input(\"Enter the number here:\"))\n",
        "if (num%2==0):\n",
        "  print(\"Even number\")\n",
        "else:\n",
        "  print(\"Odd number\")  "
      ],
      "execution_count": null,
      "outputs": []
    },
    {
      "cell_type": "code",
      "metadata": {
        "id": "BJiGw7s5vFnz"
      },
      "source": [
        "#Python Program to Check Leap Year\n",
        "year = 2012\n",
        "if (year%4) == 0:\n",
        "  if (year%100) == 0:\n",
        "    if (year%400) == 0:\n",
        "      print(\"leap year\")\n",
        "    else:\n",
        "      print(\"not a leap year\")\n",
        "  else:   \n",
        "    print(\"leap year\")\n",
        "else:\n",
        "  print(\"not a leap year\")      "
      ],
      "execution_count": null,
      "outputs": []
    },
    {
      "cell_type": "code",
      "metadata": {
        "id": "uI7zAwan_24P"
      },
      "source": [
        "# Python program to find the largest number among the three input numbers\n",
        "num1=10\n",
        "num2=20\n",
        "num3=18\n",
        "if (num1 >= num2) and (num1>= num3):\n",
        "  largest = num1\n",
        "elif (num2 >= num1) and (num2 >= num3):\n",
        "  largest = num2\n",
        "else:\n",
        "  largest = num3\n",
        "print(largest)  \n"
      ],
      "execution_count": null,
      "outputs": []
    },
    {
      "cell_type": "code",
      "metadata": {
        "id": "1qM9qpCs_27S"
      },
      "source": [
        "# Program to check if a number is prime or not\n",
        "n = int(input())\n",
        "if n > 1:\n",
        "  for i in range(2,n):\n",
        "    if (n%i ==0):\n",
        "      print(\"it is not a prime number\")\n",
        "      break\n",
        "  else:\n",
        "    print(\"prime number\")\n",
        "else:\n",
        "  print(\"it is not a prime number\")\n",
        "# Program to check if a number is prime or not    \n",
        "def prime(num):\n",
        "  if num > 1:\n",
        "    for i in range(2,num):\n",
        "      if (num%i == 0):\n",
        "        return \"it is not a prime number\"\n",
        "        break\n",
        "    else:\n",
        "      return \"prime number\"\n",
        "  else:\n",
        "    return \"it is not a prime number\"\n",
        "a = int(input())\n",
        "print(prime((a)))    \n",
        "\n"
      ],
      "execution_count": null,
      "outputs": []
    },
    {
      "cell_type": "code",
      "metadata": {
        "id": "TSdTlxUf_2-M"
      },
      "source": [
        "# Python program to display all the prime numbers within an interval\n",
        "def prime(num1,num2):\n",
        "  for num in range(num1,num2+1):\n",
        "    if num > 1:\n",
        "      for i in range(2,num):\n",
        "        if (num%i == 0):\n",
        "          return num\n",
        "          break\n",
        "      else:\n",
        "        return num\n",
        "    \n",
        "num1 = int(input())\n",
        "num2 = int(input())\n",
        "print(prime(num1,num2))                "
      ],
      "execution_count": null,
      "outputs": []
    },
    {
      "cell_type": "code",
      "metadata": {
        "id": "yqcaWY8X_3Bp"
      },
      "source": [
        "# Python program to find the factorial of a number provided by the user.\n",
        "num = 7\n",
        "factorial = 1\n",
        "if num < 0:\n",
        "  print(\"factorial doesn't exist negative numbers\")\n",
        "elif num == 0:\n",
        "  print(\"The factorial of 0 is 1\")\n",
        "else:\n",
        "  for i in range(1,num+1):\n",
        "    factorial = factorial*i\n",
        "  print(factorial)      "
      ],
      "execution_count": null,
      "outputs": []
    },
    {
      "cell_type": "code",
      "metadata": {
        "id": "53KHjuT4_3EQ"
      },
      "source": [
        "# Multiplication table (from 1 to 10) in Python\n",
        "num = 10\n",
        "for i in range(1,num+1):\n",
        "  print(num,\"*\",str(i)+ \" =\",str(num*i))"
      ],
      "execution_count": null,
      "outputs": []
    },
    {
      "cell_type": "code",
      "metadata": {
        "id": "yKOTA4l7_3H6"
      },
      "source": [
        "# Program to display the Fibonacci sequence up to n-th term\n",
        "num  = 10\n",
        "sri = 0\n",
        "n1,n2 = 0,1\n",
        "while sri <= num:\n",
        "  print(n1)\n",
        "  nth = n1+n2\n",
        "  n1 = n2\n",
        "  n2 = nth\n",
        "  sri+=1\n",
        "\n"
      ],
      "execution_count": null,
      "outputs": []
    },
    {
      "cell_type": "code",
      "metadata": {
        "id": "awF1b9Jo_3Kl"
      },
      "source": [
        "# Python program to check if the number is an Armstrong number or not\n"
      ],
      "execution_count": null,
      "outputs": []
    },
    {
      "cell_type": "code",
      "metadata": {
        "id": "fk2zbV13_3OK"
      },
      "source": [
        "#Given two integer numbers return their product. If the product is greater than 1000, then return their sum\n",
        "num1 = int(input())\n",
        "num2 = int(input())\n",
        "pro = num1*num2\n",
        "if pro < 1000:\n",
        "  print(\"The result is\",pro)\n",
        "else:\n",
        "  print(num1+num2)  "
      ],
      "execution_count": null,
      "outputs": []
    },
    {
      "cell_type": "code",
      "metadata": {
        "id": "kyzOGsrK_3Qo"
      },
      "source": [
        "#Given a range of the first 10 numbers, Iterate from the start number to the end number, and In each iteration print the sum of the current number and previous number\n"
      ],
      "execution_count": null,
      "outputs": []
    },
    {
      "cell_type": "code",
      "metadata": {
        "id": "7jb8pZ2v4Z8w"
      },
      "source": [
        "#4: Given a string and an integer number n, remove characters from a string starting from zero up to n and return a new string\n",
        "def remove_Char(str,n):\n",
        "  return str[n:]\n",
        "print(remove_Char(\"pynative\",4))  "
      ],
      "execution_count": null,
      "outputs": []
    },
    {
      "cell_type": "code",
      "metadata": {
        "id": "KxY8MyMQ4aBe"
      },
      "source": [
        "#5: Given a list of numbers, return True if first and last number of a list is same\n",
        "def isFirst_lastFirst(numList):\n",
        "  firstElement = numList[0]\n",
        "  lastElement = numList[-1]\n",
        "  if firstElement == lastElement:\n",
        "    return True\n",
        "  else:\n",
        "    return False\n",
        "print(isFirst_lastFirst([10,20,30,40,10]))      \n"
      ],
      "execution_count": null,
      "outputs": []
    },
    {
      "cell_type": "code",
      "metadata": {
        "id": "VqLEDijH4aFI"
      },
      "source": [
        "#6: Given a list of numbers, Iterate it and print only those numbers which are divisible of 5\n",
        "def list_divisible(num):\n",
        "  for sri in num:\n",
        "    if sri%5==0:\n",
        "      print(sri)\n",
        "list_divisible([10,20,33,46,55]) "
      ],
      "execution_count": null,
      "outputs": []
    },
    {
      "cell_type": "code",
      "metadata": {
        "id": "lM1xz6SF4aJp"
      },
      "source": [
        "#7: Return the count of sub-string “Emma” appears in the given string\n",
        "def sub_string(strn):\n",
        "  return \"Emma appeared  \"+ str(strn.count(\"Emma\"))+\" Times\"\n",
        "sub_string(\"Emma is good developer. Emma is a writer\")  "
      ],
      "execution_count": null,
      "outputs": []
    },
    {
      "cell_type": "code",
      "metadata": {
        "id": "0u9hchuM4Z3y"
      },
      "source": [
        "def count_emma(stmt):\n",
        "  count = 0\n",
        "  for i in range(len(stmt)-1):\n",
        "    count += stmt[i:i+4] == \"Emma\"\n",
        "  return count\n",
        "print(count_emma(\"Emma is good developer. Emma is a writer\"))    "
      ],
      "execution_count": null,
      "outputs": []
    },
    {
      "cell_type": "code",
      "metadata": {
        "id": "IrKxE6s34aN6"
      },
      "source": [
        "# 8: Print the following pattern\n",
        "for num in range(6):\n",
        "    for i in range(num):\n",
        "        print (num, end=\" \") #print number\n",
        "    # new line after each row to display pattern correctly\n",
        "    print(\"\\n\")\n",
        "  "
      ],
      "execution_count": null,
      "outputs": []
    },
    {
      "cell_type": "code",
      "metadata": {
        "id": "rhCUE-6V4aSV"
      },
      "source": [
        ""
      ],
      "execution_count": null,
      "outputs": []
    },
    {
      "cell_type": "code",
      "metadata": {
        "id": "_gOzxPfb_3TY"
      },
      "source": [
        "num = int(input())\n",
        "previous = 0 \n",
        "for i in range(0,num):\n",
        "  sum = previous + i\n",
        "  print(\"Current Number\",str(i),\"previousNum\",str(previous),\"Sum:\",str(sum))"
      ],
      "execution_count": null,
      "outputs": []
    },
    {
      "cell_type": "code",
      "metadata": {
        "id": "eLOYdYMQ_3V4"
      },
      "source": [
        "#3: Given a string, display only those characters which are present at an even index number.\n",
        "sri = \"pynative\"\n",
        "dm = sri[0::2]\n",
        "for i in dm:\n",
        "  print(i)"
      ],
      "execution_count": null,
      "outputs": []
    },
    {
      "cell_type": "code",
      "metadata": {
        "id": "OBh90lBJ_3ZO"
      },
      "source": [
        "# 4: Given a string and an integer number n, remove characters from a string starting from zero up to n and return a new string\n"
      ],
      "execution_count": null,
      "outputs": []
    },
    {
      "cell_type": "code",
      "metadata": {
        "colab": {
          "base_uri": "https://localhost:8080/"
        },
        "id": "vOqPAUl6_3b1",
        "outputId": "9c29ad8a-e4ec-44a0-ecd5-a567e325a9f3"
      },
      "source": [
        "#Find product of all numbers present in a list\n",
        "lst = [10,20,30,40,50]\n",
        "product = 1\n",
        "index = 0\n",
        "while index < len(lst):\n",
        "  product *= lst[index]\n",
        "  index += 1\n",
        "print(\"product is {}\".format(product))  \n"
      ],
      "execution_count": null,
      "outputs": [
        {
          "output_type": "stream",
          "text": [
            "product is 12000000\n"
          ],
          "name": "stdout"
        }
      ]
    },
    {
      "cell_type": "code",
      "metadata": {
        "colab": {
          "base_uri": "https://localhost:8080/"
        },
        "id": "DCBx4-IxvFqi",
        "outputId": "c5bc05fb-ea62-4737-c42f-9fb77febd56c"
      },
      "source": [
        "lst = int(input())\n",
        "vb = str(lst)\n",
        "product = 1\n",
        "index = 0\n",
        "while index < len(vb):\n",
        "  index +=1\n",
        "  print(index)\n",
        "\n",
        "\n"
      ],
      "execution_count": null,
      "outputs": [
        {
          "output_type": "stream",
          "text": [
            "10\n",
            "1\n",
            "2\n"
          ],
          "name": "stdout"
        }
      ]
    },
    {
      "cell_type": "code",
      "metadata": {
        "colab": {
          "base_uri": "https://localhost:8080/"
        },
        "id": "xRCu98x_Utes",
        "outputId": "36b140a8-30c2-4b92-9bcf-1e59c3abb953"
      },
      "source": [
        "num = int(input(\"Enter the number:\"))\n",
        "isDivisible = False\n",
        "i = 2\n",
        "while i < num:\n",
        "  if num % i == 0:\n",
        "    isDivisible = True\n",
        "    print(\"{} is divisible in {}\".format(num,i))\n",
        "  i += 1\n",
        "if isDivisible:\n",
        "  print(\"{} is not a prime number\".format(num))\n",
        "else:\n",
        "  print(\"{} is a prime number\".format(num))    \n",
        "\n"
      ],
      "execution_count": null,
      "outputs": [
        {
          "output_type": "stream",
          "text": [
            "Enter the number:8\n",
            "8 is divisible in 2\n",
            "8 is divisible in 4\n",
            "8 is not a prime number\n"
          ],
          "name": "stdout"
        }
      ]
    },
    {
      "cell_type": "code",
      "metadata": {
        "colab": {
          "base_uri": "https://localhost:8080/"
        },
        "id": "JLuF2-bWUtwe",
        "outputId": "ce52ec16-3e92-4e2b-ce75-eab64ae7bc57"
      },
      "source": [
        "lst = [\"srikanth\",3.44,45,]\n",
        "lst.append(\"kanth\")\n",
        "print(lst)"
      ],
      "execution_count": null,
      "outputs": [
        {
          "output_type": "stream",
          "text": [
            "['srikanth', 3.44, 45, 'kanth']\n"
          ],
          "name": "stdout"
        }
      ]
    },
    {
      "cell_type": "code",
      "metadata": {
        "colab": {
          "base_uri": "https://localhost:8080/"
        },
        "id": "yEnn60hlUtz2",
        "outputId": "5b0d1d49-8ae4-48da-c980-d88284139111"
      },
      "source": [
        "print(len(lst))"
      ],
      "execution_count": null,
      "outputs": [
        {
          "output_type": "stream",
          "text": [
            "4\n"
          ],
          "name": "stdout"
        }
      ]
    },
    {
      "cell_type": "code",
      "metadata": {
        "colab": {
          "base_uri": "https://localhost:8080/"
        },
        "id": "TU_Ej_gnUt3w",
        "outputId": "6755b546-0e92-45b7-9fa3-ad8dab4c8cb3"
      },
      "source": [
        "lst.insert(2,\"madhuri\")\n",
        "print(lst)"
      ],
      "execution_count": null,
      "outputs": [
        {
          "output_type": "stream",
          "text": [
            "['srikanth', 3.44, 'madhuri', 45, 'kanth']\n"
          ],
          "name": "stdout"
        }
      ]
    },
    {
      "cell_type": "code",
      "metadata": {
        "colab": {
          "base_uri": "https://localhost:8080/"
        },
        "id": "fCu8XBnlUt8k",
        "outputId": "dbfa5c88-708c-4c7f-e6a0-6123b59d0e60"
      },
      "source": [
        "del lst[1]\n",
        "print(lst)"
      ],
      "execution_count": null,
      "outputs": [
        {
          "output_type": "stream",
          "text": [
            "['srikanth', 'madhuri', 45, 'kanth']\n"
          ],
          "name": "stdout"
        }
      ]
    },
    {
      "cell_type": "code",
      "metadata": {
        "colab": {
          "base_uri": "https://localhost:8080/"
        },
        "id": "fbDkd4YuUuAV",
        "outputId": "d2087f4c-9513-4286-a61c-9828e6072bdf"
      },
      "source": [
        "if \"srikanth\" in lst:\n",
        "  print(\"AI\")\n",
        "else:\n",
        "  print(\"Blockchain\")  "
      ],
      "execution_count": null,
      "outputs": [
        {
          "output_type": "stream",
          "text": [
            "AI\n"
          ],
          "name": "stdout"
        }
      ]
    },
    {
      "cell_type": "code",
      "metadata": {
        "colab": {
          "base_uri": "https://localhost:8080/"
        },
        "id": "pa6U8z7vUuD5",
        "outputId": "5b3da58f-63ad-45fb-c558-6a28cbceeea6"
      },
      "source": [
        "lst.reverse()\n",
        "print(lst)"
      ],
      "execution_count": null,
      "outputs": [
        {
          "output_type": "stream",
          "text": [
            "['kanth', 45, 'madhuri', 'srikanth']\n"
          ],
          "name": "stdout"
        }
      ]
    },
    {
      "cell_type": "code",
      "metadata": {
        "colab": {
          "base_uri": "https://localhost:8080/"
        },
        "id": "kn3zmhcVeV0F",
        "outputId": "40157d00-ece7-42ce-b882-209beef63ed7"
      },
      "source": [
        "numbers = [1,2,3,4,5,4,3,2,5,3,5]\n",
        "sorted_list = sorted(numbers)\n",
        "print(sorted_list)"
      ],
      "execution_count": null,
      "outputs": [
        {
          "output_type": "stream",
          "text": [
            "[1, 2, 2, 3, 3, 3, 4, 4, 5, 5, 5]\n"
          ],
          "name": "stdout"
        }
      ]
    },
    {
      "cell_type": "code",
      "metadata": {
        "colab": {
          "base_uri": "https://localhost:8080/",
          "height": 180
        },
        "id": "j2oIhBHQeWA1",
        "outputId": "55726017-7993-4d57-94ce-5de945698ff9"
      },
      "source": [
        "lst = [1,20,'b',5,'a']\n",
        "print(lst.sorted())"
      ],
      "execution_count": null,
      "outputs": [
        {
          "output_type": "error",
          "ename": "AttributeError",
          "evalue": "ignored",
          "traceback": [
            "\u001b[0;31m---------------------------------------------------------------------------\u001b[0m",
            "\u001b[0;31mAttributeError\u001b[0m                            Traceback (most recent call last)",
            "\u001b[0;32m<ipython-input-18-9a1f24b51f8c>\u001b[0m in \u001b[0;36m<module>\u001b[0;34m()\u001b[0m\n\u001b[1;32m      1\u001b[0m \u001b[0mlst\u001b[0m \u001b[0;34m=\u001b[0m \u001b[0;34m[\u001b[0m\u001b[0;36m1\u001b[0m\u001b[0;34m,\u001b[0m\u001b[0;36m20\u001b[0m\u001b[0;34m,\u001b[0m\u001b[0;34m'b'\u001b[0m\u001b[0;34m,\u001b[0m\u001b[0;36m5\u001b[0m\u001b[0;34m,\u001b[0m\u001b[0;34m'a'\u001b[0m\u001b[0;34m]\u001b[0m\u001b[0;34m\u001b[0m\u001b[0;34m\u001b[0m\u001b[0m\n\u001b[0;32m----> 2\u001b[0;31m \u001b[0mprint\u001b[0m\u001b[0;34m(\u001b[0m\u001b[0mlst\u001b[0m\u001b[0;34m.\u001b[0m\u001b[0msorted\u001b[0m\u001b[0;34m(\u001b[0m\u001b[0;34m)\u001b[0m\u001b[0;34m)\u001b[0m\u001b[0;34m\u001b[0m\u001b[0;34m\u001b[0m\u001b[0m\n\u001b[0m",
            "\u001b[0;31mAttributeError\u001b[0m: 'list' object has no attribute 'sorted'"
          ]
        }
      ]
    },
    {
      "cell_type": "code",
      "metadata": {
        "colab": {
          "base_uri": "https://localhost:8080/"
        },
        "id": "xP5KsSKKeWH-",
        "outputId": "cbb3fee8-5abf-482e-f291-d1d81c5d41a9"
      },
      "source": [
        "lst = [1,3,4,5,6]\n",
        "abc= lst\n",
        "abc.append(6)\n",
        "print(\"original list\",lst)\n",
        "print(\"after changed list:\",abc)"
      ],
      "execution_count": null,
      "outputs": [
        {
          "output_type": "stream",
          "text": [
            "original list [1, 3, 4, 5, 6, 6]\n",
            "after changed list: [1, 3, 4, 5, 6, 6]\n"
          ],
          "name": "stdout"
        }
      ]
    },
    {
      "cell_type": "markdown",
      "metadata": {
        "id": "40FJrvcY1cb_"
      },
      "source": [
        "String split to create a list\n"
      ]
    },
    {
      "cell_type": "code",
      "metadata": {
        "colab": {
          "base_uri": "https://localhost:8080/"
        },
        "id": "Giy2OF6IeWOk",
        "outputId": "a0ace66d-39ce-4634-d4d1-4f30ce7c720d"
      },
      "source": [
        "s =  \"pdb.set_trace is Enter the debugger at the calling stack frame. This is useful to hard-code a breakpoint at a given point in a program, even if the code is not otherwise being debugged (e.g. when an assertion fails). If given, header is printed to the console just before debugging begins.\"\n",
        "split_list = s.split()\n",
        "s = len(split_list)\n",
        "print(s)\n",
        "\n",
        "\n",
        "  \n",
        "# for i in range():\n",
        "# print(split_list)"
      ],
      "execution_count": null,
      "outputs": [
        {
          "output_type": "stream",
          "text": [
            "50\n"
          ],
          "name": "stdout"
        }
      ]
    },
    {
      "cell_type": "code",
      "metadata": {
        "colab": {
          "base_uri": "https://localhost:8080/"
        },
        "id": "osRFswyWeWUX",
        "outputId": "0d9deb1d-f4f9-45ba-99c5-cd5d8e21d3f6"
      },
      "source": [
        "#without list comprehensions\n",
        "squares = []\n",
        "for i in range(10):\n",
        "  squares.append(i)\n",
        "print(squares)  \n"
      ],
      "execution_count": null,
      "outputs": [
        {
          "output_type": "stream",
          "text": [
            "[0, 1, 2, 3, 4, 5, 6, 7, 8, 9]\n"
          ],
          "name": "stdout"
        }
      ]
    },
    {
      "cell_type": "code",
      "metadata": {
        "colab": {
          "base_uri": "https://localhost:8080/"
        },
        "id": "TnfOgLw5eWZo",
        "outputId": "8f8a133a-d62e-4905-f6fc-d9aac3be7a9f"
      },
      "source": [
        "#using list comprehensions\n",
        "sqaures = [i**2 for i in range(10)]\n",
        "print(sqaures)"
      ],
      "execution_count": null,
      "outputs": [
        {
          "output_type": "stream",
          "text": [
            "[0, 1, 4, 9, 16, 25, 36, 49, 64, 81]\n"
          ],
          "name": "stdout"
        }
      ]
    },
    {
      "cell_type": "code",
      "metadata": {
        "colab": {
          "base_uri": "https://localhost:8080/"
        },
        "id": "s_Qt7gZdeWe7",
        "outputId": "87aba64c-08fa-4ad1-fb10-ab6d6180fbe9"
      },
      "source": [
        "lst = [i%2 == 0 for i in range(10)]\n",
        "print(lst)"
      ],
      "execution_count": null,
      "outputs": [
        {
          "output_type": "stream",
          "text": [
            "[True, False, True, False, True, False, True, False, True, False]\n"
          ],
          "name": "stdout"
        }
      ]
    },
    {
      "cell_type": "code",
      "metadata": {
        "colab": {
          "base_uri": "https://localhost:8080/"
        },
        "id": "5DjjuBwM5Gv6",
        "outputId": "724e4102-9885-4b65-dd1b-4b43d57bb055"
      },
      "source": [
        "lst = [i^2 for i in range(10)]\n",
        "print(lst)"
      ],
      "execution_count": null,
      "outputs": [
        {
          "output_type": "stream",
          "text": [
            "[2, 3, 0, 1, 6, 7, 4, 5, 10, 11]\n"
          ],
          "name": "stdout"
        }
      ]
    },
    {
      "cell_type": "code",
      "metadata": {
        "colab": {
          "base_uri": "https://localhost:8080/"
        },
        "id": "QGnwas305G1V",
        "outputId": "b609fd17-3db2-4c07-a3ec-be8c25552e56"
      },
      "source": [
        "[i for i in lst if i>=2]\n",
        "print(i)"
      ],
      "execution_count": null,
      "outputs": [
        {
          "output_type": "stream",
          "text": [
            "9\n"
          ],
          "name": "stdout"
        }
      ]
    },
    {
      "cell_type": "code",
      "metadata": {
        "colab": {
          "base_uri": "https://localhost:8080/"
        },
        "id": "PDnEOvDs5G5f",
        "outputId": "9fbbd9eb-3851-4574-dbd1-d155e9a5aaf2"
      },
      "source": [
        "lst = [-10,-20,10,20,50]\n",
        "new_lst = [i*2 for i in lst]\n",
        "print(new_lst)"
      ],
      "execution_count": null,
      "outputs": [
        {
          "output_type": "stream",
          "text": [
            "[-20, -40, 20, 40, 100]\n"
          ],
          "name": "stdout"
        }
      ]
    },
    {
      "cell_type": "code",
      "metadata": {
        "colab": {
          "base_uri": "https://localhost:8080/"
        },
        "id": "usq5Zc4e5G9b",
        "outputId": "09b14031-e5ef-4042-9a93-782b3a8d9343"
      },
      "source": [
        "new_lst = [i**2 for i in lst ]\n",
        "print(new_lst)"
      ],
      "execution_count": null,
      "outputs": [
        {
          "output_type": "stream",
          "text": [
            "[100, 400, 100, 400, 2500]\n"
          ],
          "name": "stdout"
        }
      ]
    },
    {
      "cell_type": "code",
      "metadata": {
        "colab": {
          "base_uri": "https://localhost:8080/"
        },
        "id": "oXLSSuX95HBj",
        "outputId": "b4ab48bd-2b8e-4700-aecb-a486d8ee2389"
      },
      "source": [
        "new_lst = [(i,i**2) for i in range(10)]\n",
        "print(new_lst)"
      ],
      "execution_count": null,
      "outputs": [
        {
          "output_type": "stream",
          "text": [
            "[(0, 0), (1, 1), (2, 4), (3, 9), (4, 16), (5, 25), (6, 36), (7, 49), (8, 64), (9, 81)]\n"
          ],
          "name": "stdout"
        }
      ]
    },
    {
      "cell_type": "code",
      "metadata": {
        "colab": {
          "base_uri": "https://localhost:8080/"
        },
        "id": "4v0xb1AR5HFV",
        "outputId": "f50f69b0-355b-4f99-f760-49d5e9ecbbae"
      },
      "source": [
        "matrix = [          \n",
        "[2,3,5],[3,4,5],[2,6,8]\n",
        "]\n",
        "transposed = []\n",
        "for i in range(3):\n",
        "  lst=[]\n",
        "  for row in matrix:\n",
        "    lst.append(row[i])\n",
        "  transposed.append(lst)\n",
        "print(transposed)    "
      ],
      "execution_count": null,
      "outputs": [
        {
          "output_type": "stream",
          "text": [
            "[[2, 3, 2], [3, 4, 6], [5, 5, 8]]\n"
          ],
          "name": "stdout"
        }
      ]
    },
    {
      "cell_type": "code",
      "metadata": {
        "colab": {
          "base_uri": "https://localhost:8080/"
        },
        "id": "7DJJhlrh5HJa",
        "outputId": "bb1ec7c7-6cef-473f-a6ee-96934e4012af"
      },
      "source": [
        "transposed = [[row[i] for row in matrix] for i in range(3)]\n",
        "print(transposed)"
      ],
      "execution_count": null,
      "outputs": [
        {
          "output_type": "stream",
          "text": [
            "[[2, 3, 2], [3, 4, 6], [5, 5, 8]]\n"
          ],
          "name": "stdout"
        }
      ]
    },
    {
      "cell_type": "code",
      "metadata": {
        "colab": {
          "base_uri": "https://localhost:8080/"
        },
        "id": "a3PbFWNU5HNS",
        "outputId": "f8d6dfa7-0ca5-470b-babf-0051c2d01c9f"
      },
      "source": [
        "transposed = [[row[i] for row in matrix] for i in range(3)]\n",
        "print(transposed)"
      ],
      "execution_count": null,
      "outputs": [
        {
          "output_type": "stream",
          "text": [
            "[[2, 3, 2], [3, 4, 6], [5, 5, 8]]\n"
          ],
          "name": "stdout"
        }
      ]
    },
    {
      "cell_type": "markdown",
      "metadata": {
        "id": "Ge85fdvh-KVf"
      },
      "source": [
        "Tuples\n"
      ]
    },
    {
      "cell_type": "code",
      "metadata": {
        "colab": {
          "base_uri": "https://localhost:8080/"
        },
        "id": "Qq9bS3zR-ObN",
        "outputId": "8b8ddf9b-2980-4853-88c4-8a19a06e81fe"
      },
      "source": [
        "t = (1,2,3)\n",
        "print(t)"
      ],
      "execution_count": null,
      "outputs": [
        {
          "output_type": "stream",
          "text": [
            "(1, 2, 3)\n"
          ],
          "name": "stdout"
        }
      ]
    },
    {
      "cell_type": "code",
      "metadata": {
        "colab": {
          "base_uri": "https://localhost:8080/"
        },
        "id": "-ROcaGqa-Ofk",
        "outputId": "74c21147-109e-4001-a0e4-fe2de7fa897b"
      },
      "source": [
        "tr = (\"sri\",1,3.4)\n",
        "print(tr)"
      ],
      "execution_count": null,
      "outputs": [
        {
          "output_type": "stream",
          "text": [
            "('sri', 1, 3.4)\n"
          ],
          "name": "stdout"
        }
      ]
    },
    {
      "cell_type": "code",
      "metadata": {
        "colab": {
          "base_uri": "https://localhost:8080/"
        },
        "id": "0nW_cFDJ-Ou_",
        "outputId": "511a30f4-4959-4afb-f391-95d846d1a690"
      },
      "source": [
        "for i in tr[::2]:\n",
        "  print(i)\n"
      ],
      "execution_count": null,
      "outputs": [
        {
          "output_type": "stream",
          "text": [
            "sri\n",
            "3.4\n"
          ],
          "name": "stdout"
        }
      ]
    },
    {
      "cell_type": "markdown",
      "metadata": {
        "id": "TTbyWpYzKEjt"
      },
      "source": [
        "insertion sort\n"
      ]
    },
    {
      "cell_type": "code",
      "metadata": {
        "colab": {
          "base_uri": "https://localhost:8080/"
        },
        "id": "RYSi6Lm1-O0l",
        "outputId": "7506d773-02b3-46e4-dede-aaa9c10f0df9"
      },
      "source": [
        "def insertionSort(arr):\n",
        "  for i in range(1,len(arr)):\n",
        "    key = arr[i]\n",
        "    \n",
        "    j = i-1\n",
        "    print(j)\n",
        "    while j>=0 and arr[j] > key:    # arr = [1,10,2,20,5]\n",
        "      arr[j+1] = arr[j]\n",
        "      j -= 1\n",
        "    arr[j+1] = key\n",
        "arr = [10000000,1000,2,20,5]\n",
        "insertionSort(arr)\n",
        "for val in arr:\n",
        "  print(val,end=\",\")  "
      ],
      "execution_count": null,
      "outputs": [
        {
          "output_type": "stream",
          "text": [
            "0\n",
            "1\n",
            "2\n",
            "3\n",
            "2,5,20,1000,10000000,"
          ],
          "name": "stdout"
        }
      ]
    },
    {
      "cell_type": "markdown",
      "metadata": {
        "id": "q9K68108f7dT"
      },
      "source": [
        "MergeSort"
      ]
    },
    {
      "cell_type": "code",
      "metadata": {
        "colab": {
          "base_uri": "https://localhost:8080/"
        },
        "id": "i8MtR64--O6A",
        "outputId": "c4c75f28-679f-4f67-c6f1-c6dfdd9682f6"
      },
      "source": [
        "def mergeSort(arr):\n",
        "  if len(arr) > 1:\n",
        "    mid = len(arr)//2\n",
        "    left = arr[:mid]\n",
        "    right = arr[mid:]\n",
        "    mergeSort(left)\n",
        "    mergeSort(right)\n",
        "    merge(arr,left,right) \n",
        "def merge(arr,left,right):\n",
        "  i=0\n",
        "  j=0\n",
        "  k=0\n",
        "  while i < len(left) and j < len(right):\n",
        "    if left[i] < right[j]:\n",
        "      arr[k] = left[i]\n",
        "      i+=1\n",
        "    else:\n",
        "      arr[k] = right[j]\n",
        "      j+=1\n",
        "    k+=1\n",
        "    while i < len(left):\n",
        "      arr[k] = left[i]\n",
        "      i+=1\n",
        "      k+=1\n",
        "    while j < len(right):\n",
        "      arr[k] = right[j]\n",
        "      j+=1\n",
        "      k+=1\n",
        "     \n",
        "\n",
        "arr = [54,26,93,17,77,31,44,55]\n",
        "mergeSort(arr)\n",
        "print(arr)"
      ],
      "execution_count": null,
      "outputs": [
        {
          "output_type": "stream",
          "text": [
            "[17, 26, 54, 93, 31, 77, 44, 55]\n"
          ],
          "name": "stdout"
        }
      ]
    },
    {
      "cell_type": "code",
      "metadata": {
        "colab": {
          "base_uri": "https://localhost:8080/"
        },
        "id": "TY-SF45h-O-d",
        "outputId": "6141b6cc-ecf6-4fcb-b25f-9146800e49f3"
      },
      "source": [
        "#[1,10,2,20,5]\n",
        "def bubblesort(arr):\n",
        "  for i in range(len(arr)):\n",
        "    for j in range(len(arr)-i-1):\n",
        "      print(j)\n",
        "      if arr[j] > arr[j+1]:\n",
        "        arr[j],arr[j+1] = arr[j+1],arr[j]\n",
        "arr=[1,10,2,20,5]\n",
        "bubblesort(arr)\n",
        "print(arr)        "
      ],
      "execution_count": null,
      "outputs": [
        {
          "output_type": "stream",
          "text": [
            "0\n",
            "1\n",
            "2\n",
            "3\n",
            "0\n",
            "1\n",
            "2\n",
            "0\n",
            "1\n",
            "0\n",
            "[1, 2, 5, 10, 20]\n"
          ],
          "name": "stdout"
        }
      ]
    },
    {
      "cell_type": "code",
      "metadata": {
        "colab": {
          "base_uri": "https://localhost:8080/"
        },
        "id": "FD2b9q9k-PDl",
        "outputId": "eb216ba1-29ec-4e84-8324-9e4031114f31"
      },
      "source": [
        "def bubbleSort(arr):\n",
        "  for i in range(len(arr)):\n",
        "    for j in range(len(arr)-i-1):\n",
        "      if arr[j] > arr[j+1]:\n",
        "        arr[j],arr[j+1] = arr[j+1],arr[j]\n",
        "arr=[1,20,10,5,6,4,9,50,23]\n",
        "bubbleSort(arr)\n",
        "print(arr)"
      ],
      "execution_count": null,
      "outputs": [
        {
          "output_type": "stream",
          "text": [
            "[1, 4, 5, 6, 9, 10, 20, 23, 50]\n"
          ],
          "name": "stdout"
        }
      ]
    },
    {
      "cell_type": "markdown",
      "metadata": {
        "id": "tkhSQopVBNpn"
      },
      "source": [
        "QuickSort Algoritham"
      ]
    },
    {
      "cell_type": "code",
      "metadata": {
        "colab": {
          "base_uri": "https://localhost:8080/"
        },
        "id": "K6efrBv9-PK-",
        "outputId": "ea0f4241-797d-4502-c4c8-36d2b941d966"
      },
      "source": [
        "def quicksort(arr,p,r):\n",
        "  if p < r:\n",
        "    q = partition(arr,p,r)\n",
        "    quicksort = (arr,p,q-1)\n",
        "    quicksort = (arr,q+1,r)\n",
        "def partition(arr,p,r):\n",
        "  pivot = arr[p]\n",
        "  i = p\n",
        "  for j in range(p+1,r+1):\n",
        "    if arr[j] < pivot:\n",
        "      i+=1\n",
        "      arr[i],arr[j] = arr[j],arr[i]\n",
        "  arr[p],arr[i] = arr[i],arr[p]\n",
        "  return i\n",
        "arr = [56,26,93,17,77,31,44,55]\n",
        "quicksort(arr,0,len(arr)-1)\n",
        "print(arr)       "
      ],
      "execution_count": null,
      "outputs": [
        {
          "output_type": "stream",
          "text": [
            "[55, 26, 17, 31, 44, 56, 77, 93]\n"
          ],
          "name": "stdout"
        }
      ]
    },
    {
      "cell_type": "code",
      "metadata": {
        "id": "uWbiSjPb-PO1"
      },
      "source": [
        ""
      ],
      "execution_count": null,
      "outputs": []
    },
    {
      "cell_type": "code",
      "metadata": {
        "colab": {
          "base_uri": "https://localhost:8080/",
          "height": 646
        },
        "id": "RdkmsxoV-PS7",
        "outputId": "89e2c3d6-eb64-4515-bec2-673d23c4b915"
      },
      "source": [
        "num  = int(input())\n",
        "for i in range(1,num+1):\n",
        "    print(\"Case {}:\".format(i))\n",
        "    n = int(input())\n",
        "    for j in range(0,n):\n",
        "        l=input().split(\",\")\n",
        "        f=int(l[0])\n",
        "        if(f==0):\n",
        "            print(\"\")\n",
        "            continue\n",
        "        for k in range(1,f):\n",
        "            print(l[k],end=\", \")\n",
        "        print(l[f])"
      ],
      "execution_count": null,
      "outputs": [
        {
          "output_type": "error",
          "ename": "KeyboardInterrupt",
          "evalue": "ignored",
          "traceback": [
            "\u001b[0;31m---------------------------------------------------------------------------\u001b[0m",
            "\u001b[0;31mKeyboardInterrupt\u001b[0m                         Traceback (most recent call last)",
            "\u001b[0;32m/usr/local/lib/python3.7/dist-packages/ipykernel/kernelbase.py\u001b[0m in \u001b[0;36m_input_request\u001b[0;34m(self, prompt, ident, parent, password)\u001b[0m\n\u001b[1;32m    728\u001b[0m             \u001b[0;32mtry\u001b[0m\u001b[0;34m:\u001b[0m\u001b[0;34m\u001b[0m\u001b[0;34m\u001b[0m\u001b[0m\n\u001b[0;32m--> 729\u001b[0;31m                 \u001b[0mident\u001b[0m\u001b[0;34m,\u001b[0m \u001b[0mreply\u001b[0m \u001b[0;34m=\u001b[0m \u001b[0mself\u001b[0m\u001b[0;34m.\u001b[0m\u001b[0msession\u001b[0m\u001b[0;34m.\u001b[0m\u001b[0mrecv\u001b[0m\u001b[0;34m(\u001b[0m\u001b[0mself\u001b[0m\u001b[0;34m.\u001b[0m\u001b[0mstdin_socket\u001b[0m\u001b[0;34m,\u001b[0m \u001b[0;36m0\u001b[0m\u001b[0;34m)\u001b[0m\u001b[0;34m\u001b[0m\u001b[0;34m\u001b[0m\u001b[0m\n\u001b[0m\u001b[1;32m    730\u001b[0m             \u001b[0;32mexcept\u001b[0m \u001b[0mException\u001b[0m\u001b[0;34m:\u001b[0m\u001b[0;34m\u001b[0m\u001b[0;34m\u001b[0m\u001b[0m\n",
            "\u001b[0;32m/usr/local/lib/python3.7/dist-packages/jupyter_client/session.py\u001b[0m in \u001b[0;36mrecv\u001b[0;34m(self, socket, mode, content, copy)\u001b[0m\n\u001b[1;32m    802\u001b[0m         \u001b[0;32mtry\u001b[0m\u001b[0;34m:\u001b[0m\u001b[0;34m\u001b[0m\u001b[0;34m\u001b[0m\u001b[0m\n\u001b[0;32m--> 803\u001b[0;31m             \u001b[0mmsg_list\u001b[0m \u001b[0;34m=\u001b[0m \u001b[0msocket\u001b[0m\u001b[0;34m.\u001b[0m\u001b[0mrecv_multipart\u001b[0m\u001b[0;34m(\u001b[0m\u001b[0mmode\u001b[0m\u001b[0;34m,\u001b[0m \u001b[0mcopy\u001b[0m\u001b[0;34m=\u001b[0m\u001b[0mcopy\u001b[0m\u001b[0;34m)\u001b[0m\u001b[0;34m\u001b[0m\u001b[0;34m\u001b[0m\u001b[0m\n\u001b[0m\u001b[1;32m    804\u001b[0m         \u001b[0;32mexcept\u001b[0m \u001b[0mzmq\u001b[0m\u001b[0;34m.\u001b[0m\u001b[0mZMQError\u001b[0m \u001b[0;32mas\u001b[0m \u001b[0me\u001b[0m\u001b[0;34m:\u001b[0m\u001b[0;34m\u001b[0m\u001b[0;34m\u001b[0m\u001b[0m\n",
            "\u001b[0;32m/usr/local/lib/python3.7/dist-packages/zmq/sugar/socket.py\u001b[0m in \u001b[0;36mrecv_multipart\u001b[0;34m(self, flags, copy, track)\u001b[0m\n\u001b[1;32m    582\u001b[0m         \"\"\"\n\u001b[0;32m--> 583\u001b[0;31m         \u001b[0mparts\u001b[0m \u001b[0;34m=\u001b[0m \u001b[0;34m[\u001b[0m\u001b[0mself\u001b[0m\u001b[0;34m.\u001b[0m\u001b[0mrecv\u001b[0m\u001b[0;34m(\u001b[0m\u001b[0mflags\u001b[0m\u001b[0;34m,\u001b[0m \u001b[0mcopy\u001b[0m\u001b[0;34m=\u001b[0m\u001b[0mcopy\u001b[0m\u001b[0;34m,\u001b[0m \u001b[0mtrack\u001b[0m\u001b[0;34m=\u001b[0m\u001b[0mtrack\u001b[0m\u001b[0;34m)\u001b[0m\u001b[0;34m]\u001b[0m\u001b[0;34m\u001b[0m\u001b[0;34m\u001b[0m\u001b[0m\n\u001b[0m\u001b[1;32m    584\u001b[0m         \u001b[0;31m# have first part already, only loop while more to receive\u001b[0m\u001b[0;34m\u001b[0m\u001b[0;34m\u001b[0m\u001b[0;34m\u001b[0m\u001b[0m\n",
            "\u001b[0;32mzmq/backend/cython/socket.pyx\u001b[0m in \u001b[0;36mzmq.backend.cython.socket.Socket.recv\u001b[0;34m()\u001b[0m\n",
            "\u001b[0;32mzmq/backend/cython/socket.pyx\u001b[0m in \u001b[0;36mzmq.backend.cython.socket.Socket.recv\u001b[0;34m()\u001b[0m\n",
            "\u001b[0;32mzmq/backend/cython/socket.pyx\u001b[0m in \u001b[0;36mzmq.backend.cython.socket._recv_copy\u001b[0;34m()\u001b[0m\n",
            "\u001b[0;32m/usr/local/lib/python3.7/dist-packages/zmq/backend/cython/checkrc.pxd\u001b[0m in \u001b[0;36mzmq.backend.cython.checkrc._check_rc\u001b[0;34m()\u001b[0m\n",
            "\u001b[0;31mKeyboardInterrupt\u001b[0m: ",
            "\nDuring handling of the above exception, another exception occurred:\n",
            "\u001b[0;31mKeyboardInterrupt\u001b[0m                         Traceback (most recent call last)",
            "\u001b[0;32m<ipython-input-7-2bf31bd991b8>\u001b[0m in \u001b[0;36m<module>\u001b[0;34m()\u001b[0m\n\u001b[0;32m----> 1\u001b[0;31m \u001b[0mnum\u001b[0m  \u001b[0;34m=\u001b[0m \u001b[0mint\u001b[0m\u001b[0;34m(\u001b[0m\u001b[0minput\u001b[0m\u001b[0;34m(\u001b[0m\u001b[0;34m)\u001b[0m\u001b[0;34m)\u001b[0m\u001b[0;34m\u001b[0m\u001b[0;34m\u001b[0m\u001b[0m\n\u001b[0m\u001b[1;32m      2\u001b[0m \u001b[0;32mfor\u001b[0m \u001b[0mi\u001b[0m \u001b[0;32min\u001b[0m \u001b[0mrange\u001b[0m\u001b[0;34m(\u001b[0m\u001b[0;36m1\u001b[0m\u001b[0;34m,\u001b[0m\u001b[0mnum\u001b[0m\u001b[0;34m+\u001b[0m\u001b[0;36m1\u001b[0m\u001b[0;34m)\u001b[0m\u001b[0;34m:\u001b[0m\u001b[0;34m\u001b[0m\u001b[0;34m\u001b[0m\u001b[0m\n\u001b[1;32m      3\u001b[0m     \u001b[0mprint\u001b[0m\u001b[0;34m(\u001b[0m\u001b[0;34m\"Case {}:\"\u001b[0m\u001b[0;34m.\u001b[0m\u001b[0mformat\u001b[0m\u001b[0;34m(\u001b[0m\u001b[0mi\u001b[0m\u001b[0;34m)\u001b[0m\u001b[0;34m)\u001b[0m\u001b[0;34m\u001b[0m\u001b[0;34m\u001b[0m\u001b[0m\n\u001b[1;32m      4\u001b[0m     \u001b[0mn\u001b[0m \u001b[0;34m=\u001b[0m \u001b[0mint\u001b[0m\u001b[0;34m(\u001b[0m\u001b[0minput\u001b[0m\u001b[0;34m(\u001b[0m\u001b[0;34m)\u001b[0m\u001b[0;34m)\u001b[0m\u001b[0;34m\u001b[0m\u001b[0;34m\u001b[0m\u001b[0m\n\u001b[1;32m      5\u001b[0m     \u001b[0;32mfor\u001b[0m \u001b[0mj\u001b[0m \u001b[0;32min\u001b[0m \u001b[0mrange\u001b[0m\u001b[0;34m(\u001b[0m\u001b[0;36m0\u001b[0m\u001b[0;34m,\u001b[0m\u001b[0mn\u001b[0m\u001b[0;34m)\u001b[0m\u001b[0;34m:\u001b[0m\u001b[0;34m\u001b[0m\u001b[0;34m\u001b[0m\u001b[0m\n",
            "\u001b[0;32m/usr/local/lib/python3.7/dist-packages/ipykernel/kernelbase.py\u001b[0m in \u001b[0;36mraw_input\u001b[0;34m(self, prompt)\u001b[0m\n\u001b[1;32m    702\u001b[0m             \u001b[0mself\u001b[0m\u001b[0;34m.\u001b[0m\u001b[0m_parent_ident\u001b[0m\u001b[0;34m,\u001b[0m\u001b[0;34m\u001b[0m\u001b[0;34m\u001b[0m\u001b[0m\n\u001b[1;32m    703\u001b[0m             \u001b[0mself\u001b[0m\u001b[0;34m.\u001b[0m\u001b[0m_parent_header\u001b[0m\u001b[0;34m,\u001b[0m\u001b[0;34m\u001b[0m\u001b[0;34m\u001b[0m\u001b[0m\n\u001b[0;32m--> 704\u001b[0;31m             \u001b[0mpassword\u001b[0m\u001b[0;34m=\u001b[0m\u001b[0;32mFalse\u001b[0m\u001b[0;34m,\u001b[0m\u001b[0;34m\u001b[0m\u001b[0;34m\u001b[0m\u001b[0m\n\u001b[0m\u001b[1;32m    705\u001b[0m         )\n\u001b[1;32m    706\u001b[0m \u001b[0;34m\u001b[0m\u001b[0m\n",
            "\u001b[0;32m/usr/local/lib/python3.7/dist-packages/ipykernel/kernelbase.py\u001b[0m in \u001b[0;36m_input_request\u001b[0;34m(self, prompt, ident, parent, password)\u001b[0m\n\u001b[1;32m    732\u001b[0m             \u001b[0;32mexcept\u001b[0m \u001b[0mKeyboardInterrupt\u001b[0m\u001b[0;34m:\u001b[0m\u001b[0;34m\u001b[0m\u001b[0;34m\u001b[0m\u001b[0m\n\u001b[1;32m    733\u001b[0m                 \u001b[0;31m# re-raise KeyboardInterrupt, to truncate traceback\u001b[0m\u001b[0;34m\u001b[0m\u001b[0;34m\u001b[0m\u001b[0;34m\u001b[0m\u001b[0m\n\u001b[0;32m--> 734\u001b[0;31m                 \u001b[0;32mraise\u001b[0m \u001b[0mKeyboardInterrupt\u001b[0m\u001b[0;34m\u001b[0m\u001b[0;34m\u001b[0m\u001b[0m\n\u001b[0m\u001b[1;32m    735\u001b[0m             \u001b[0;32melse\u001b[0m\u001b[0;34m:\u001b[0m\u001b[0;34m\u001b[0m\u001b[0;34m\u001b[0m\u001b[0m\n\u001b[1;32m    736\u001b[0m                 \u001b[0;32mbreak\u001b[0m\u001b[0;34m\u001b[0m\u001b[0;34m\u001b[0m\u001b[0m\n",
            "\u001b[0;31mKeyboardInterrupt\u001b[0m: "
          ]
        }
      ]
    },
    {
      "cell_type": "code",
      "metadata": {
        "colab": {
          "base_uri": "https://localhost:8080/"
        },
        "id": "NjVZSxAIhVQD",
        "outputId": "4ef6075a-12e5-495d-8c59-a1bee7da7b5b"
      },
      "source": [
        "n= int(input())\n",
        "for i in range(n):\n",
        "  print(i)"
      ],
      "execution_count": null,
      "outputs": [
        {
          "output_type": "stream",
          "text": [
            "11\n",
            "0\n",
            "1\n",
            "2\n",
            "3\n",
            "4\n",
            "5\n",
            "6\n",
            "7\n",
            "8\n",
            "9\n",
            "10\n"
          ],
          "name": "stdout"
        }
      ]
    },
    {
      "cell_type": "code",
      "metadata": {
        "colab": {
          "base_uri": "https://localhost:8080/"
        },
        "id": "E_vDUoZjhVTZ",
        "outputId": "2c9711ba-6622-4f95-d35d-b5ec445b8360"
      },
      "source": [
        "n = int(input())\n",
        "for row in range(1, n):\n",
        "  for column in range(1,row+1):\n",
        "    print(column,end=\" \")\n",
        "  print(\"\")\n"
      ],
      "execution_count": null,
      "outputs": [
        {
          "output_type": "stream",
          "text": [
            "6\n",
            "1 \n",
            "1 2 \n",
            "1 2 3 \n",
            "1 2 3 4 \n",
            "1 2 3 4 5 \n"
          ],
          "name": "stdout"
        }
      ]
    },
    {
      "cell_type": "code",
      "metadata": {
        "colab": {
          "base_uri": "https://localhost:8080/"
        },
        "id": "V8aPdsBAhVWK",
        "outputId": "46aa72d7-4f05-4ca2-a99e-6d43ce64b746"
      },
      "source": [
        "n = 5\n",
        "for i in range(1,n):\n",
        "  for j in range(1,i+1):\n",
        "    print(j,end=\" \")\n",
        "  print(\"\")  "
      ],
      "execution_count": null,
      "outputs": [
        {
          "output_type": "stream",
          "text": [
            "1 \n",
            "1 2 \n",
            "1 2 3 \n",
            "1 2 3 4 \n"
          ],
          "name": "stdout"
        }
      ]
    },
    {
      "cell_type": "code",
      "metadata": {
        "colab": {
          "base_uri": "https://localhost:8080/"
        },
        "id": "K-JdFwARhVZF",
        "outputId": "23f4b3fd-e40a-4c1b-93eb-48e8bfd2db39"
      },
      "source": [
        "num = 2\n",
        "s=0\n",
        "for i in range(1,11):\n",
        "  s = i*2\n",
        "  print(s)  "
      ],
      "execution_count": null,
      "outputs": [
        {
          "output_type": "stream",
          "text": [
            "2\n",
            "4\n",
            "6\n",
            "8\n",
            "10\n",
            "12\n",
            "14\n",
            "16\n",
            "18\n",
            "20\n"
          ],
          "name": "stdout"
        }
      ]
    },
    {
      "cell_type": "code",
      "metadata": {
        "colab": {
          "base_uri": "https://localhost:8080/"
        },
        "id": "6geYgbNyhVck",
        "outputId": "fb411180-0782-4ef7-c4fa-cb7c5e5fa43b"
      },
      "source": [
        "list1 = [12,15,32,42,55,75,122,132,150,180,200]\n",
        "for i in list1:\n",
        "  if i%5 == 0 and i <= 150:\n",
        "    print(i)\n"
      ],
      "execution_count": null,
      "outputs": [
        {
          "output_type": "stream",
          "text": [
            "15\n",
            "55\n",
            "75\n",
            "150\n"
          ],
          "name": "stdout"
        }
      ]
    },
    {
      "cell_type": "code",
      "metadata": {
        "colab": {
          "base_uri": "https://localhost:8080/"
        },
        "id": "Usjva4j5hVfi",
        "outputId": "af7235ad-8432-476c-eee7-869773f901e7"
      },
      "source": [
        "n = int(input())\n",
        "count = 0\n",
        "while n != 0:\n",
        "  n //=10\n",
        "  count+=1\n",
        "print(count)  "
      ],
      "execution_count": null,
      "outputs": [
        {
          "output_type": "stream",
          "text": [
            "75869\n",
            "5\n"
          ],
          "name": "stdout"
        }
      ]
    },
    {
      "cell_type": "code",
      "metadata": {
        "colab": {
          "base_uri": "https://localhost:8080/"
        },
        "id": "wLAcdItrEsrb",
        "outputId": "543b6d68-b8b0-4c66-d5b4-d3a0b92831fe"
      },
      "source": [
        "n = input()\n",
        "count=0\n",
        "for i in n:\n",
        "  count += 1\n",
        "print(count)"
      ],
      "execution_count": null,
      "outputs": [
        {
          "output_type": "stream",
          "text": [
            "75869\n",
            "5\n"
          ],
          "name": "stdout"
        }
      ]
    },
    {
      "cell_type": "code",
      "metadata": {
        "colab": {
          "base_uri": "https://localhost:8080/"
        },
        "id": "WKRci8YvEswl",
        "outputId": "f4ef124c-3e1c-4ecd-917a-a2e8e03f8ed3"
      },
      "source": [
        "n = int(input())\n",
        "m = int(input())\n",
        "for row in range(0,n+1):\n",
        "  for column in range(m-row,0,-1):\n",
        "    print(column, end=\" \")\n",
        "  print()  \n",
        "  "
      ],
      "execution_count": null,
      "outputs": [
        {
          "output_type": "stream",
          "text": [
            "5\n",
            "5\n",
            "5 4 3 2 1 \n",
            "4 3 2 1 \n",
            "3 2 1 \n",
            "2 1 \n",
            "1 \n",
            "\n"
          ],
          "name": "stdout"
        }
      ]
    },
    {
      "cell_type": "code",
      "metadata": {
        "colab": {
          "base_uri": "https://localhost:8080/"
        },
        "id": "HqROQZx8Eszx",
        "outputId": "8095dff3-2edd-45c1-a747-e8e31c01c687"
      },
      "source": [
        "list1 = [10,20,30,40,50]\n",
        "\n",
        "for i in list1[::-1]:\n",
        "  print(i)"
      ],
      "execution_count": null,
      "outputs": [
        {
          "output_type": "stream",
          "text": [
            "50\n",
            "40\n",
            "30\n",
            "20\n",
            "10\n"
          ],
          "name": "stdout"
        }
      ]
    },
    {
      "cell_type": "code",
      "metadata": {
        "colab": {
          "base_uri": "https://localhost:8080/"
        },
        "id": "dUk3YM15EtSH",
        "outputId": "ce6b8f70-0204-476a-c3eb-bc5e0321cd7a"
      },
      "source": [
        "num = int(input())\n",
        "for n in range(-10,0,1):\n",
        "  print(n)\n",
        "\n",
        "  # print(i)"
      ],
      "execution_count": null,
      "outputs": [
        {
          "output_type": "stream",
          "text": [
            "10\n",
            "-10\n",
            "-9\n",
            "-8\n",
            "-7\n",
            "-6\n",
            "-5\n",
            "-4\n",
            "-3\n",
            "-2\n",
            "-1\n"
          ],
          "name": "stdout"
        }
      ]
    },
    {
      "cell_type": "code",
      "metadata": {
        "colab": {
          "base_uri": "https://localhost:8080/"
        },
        "id": "Msovd9IpEtVM",
        "outputId": "e9e93528-1968-45c4-e392-a544b3c90372"
      },
      "source": [
        "for i in range(5):\n",
        "  print(i)\n",
        "print(\"Done!\")  "
      ],
      "execution_count": null,
      "outputs": [
        {
          "output_type": "stream",
          "text": [
            "0\n",
            "1\n",
            "2\n",
            "3\n",
            "4\n",
            "Done!\n"
          ],
          "name": "stdout"
        }
      ]
    },
    {
      "cell_type": "code",
      "metadata": {
        "colab": {
          "base_uri": "https://localhost:8080/"
        },
        "id": "i84SqHbxEtYq",
        "outputId": "d112a109-6db5-483d-adc8-484b30618548"
      },
      "source": [
        "def prime(start,end):\n",
        "  for num in range(start,end+1):\n",
        "    if num > 1:\n",
        "      for i in range(2,num):\n",
        "        if (num%i) ==0:\n",
        "          break\n",
        "      else:\n",
        "        print(num)    \n",
        "print(prime(25,50))      \n"
      ],
      "execution_count": null,
      "outputs": [
        {
          "output_type": "stream",
          "text": [
            "29\n",
            "31\n",
            "37\n",
            "41\n",
            "43\n",
            "47\n",
            "None\n"
          ],
          "name": "stdout"
        }
      ]
    },
    {
      "cell_type": "code",
      "metadata": {
        "colab": {
          "base_uri": "https://localhost:8080/"
        },
        "id": "7SEoGzecN-F3",
        "outputId": "fa23c6ce-11dc-4d43-c60a-8aaa900a98a4"
      },
      "source": [
        "start = 100\n",
        "end= 300\n",
        "for num in range(start,end+1):\n",
        "  if num > 1:\n",
        "    for i in range(2,num):\n",
        "      if num%i == 0:\n",
        "        break\n",
        "    else:\n",
        "      print(num)    "
      ],
      "execution_count": null,
      "outputs": [
        {
          "output_type": "stream",
          "text": [
            "101\n",
            "103\n",
            "107\n",
            "109\n",
            "113\n",
            "127\n",
            "131\n",
            "137\n",
            "139\n",
            "149\n",
            "151\n",
            "157\n",
            "163\n",
            "167\n",
            "173\n",
            "179\n",
            "181\n",
            "191\n",
            "193\n",
            "197\n",
            "199\n",
            "211\n",
            "223\n",
            "227\n",
            "229\n",
            "233\n",
            "239\n",
            "241\n",
            "251\n",
            "257\n",
            "263\n",
            "269\n",
            "271\n",
            "277\n",
            "281\n",
            "283\n",
            "293\n"
          ],
          "name": "stdout"
        }
      ]
    },
    {
      "cell_type": "code",
      "metadata": {
        "colab": {
          "base_uri": "https://localhost:8080/"
        },
        "id": "sxGF8tksN-LM",
        "outputId": "5b6b75d3-ce04-4304-f6ea-59b4a43d8e02"
      },
      "source": [
        "term = 10\n",
        "num1 = 0\n",
        "num2 = 1\n",
        "count = 0\n",
        "while count < term:\n",
        "  print(num1,end= \" \")\n",
        "  temp = num1+num2\n",
        "  num1 = num2\n",
        "  num2 = temp\n",
        "  count+=1\n",
        "  "
      ],
      "execution_count": null,
      "outputs": [
        {
          "output_type": "stream",
          "text": [
            "0 1 1 2 3 5 8 13 21 34 "
          ],
          "name": "stdout"
        }
      ]
    },
    {
      "cell_type": "code",
      "metadata": {
        "colab": {
          "base_uri": "https://localhost:8080/"
        },
        "id": "QlHZuIjgN-PD",
        "outputId": "2d559d5f-3be5-4567-b0e8-f1f0e5729822"
      },
      "source": [
        "number = 5\n",
        "factorial = 1\n",
        "for i in range(1, number+1):\n",
        "  factorial = factorial*i\n",
        "print(factorial)  \n",
        "\n"
      ],
      "execution_count": null,
      "outputs": [
        {
          "output_type": "stream",
          "text": [
            "120\n"
          ],
          "name": "stdout"
        }
      ]
    },
    {
      "cell_type": "code",
      "metadata": {
        "colab": {
          "base_uri": "https://localhost:8080/",
          "height": 248
        },
        "id": "HnmrNdzvN-SL",
        "outputId": "2e9ab600-aad5-4771-fb09-cec0291c8a19"
      },
      "source": [
        ""
      ],
      "execution_count": null,
      "outputs": [
        {
          "output_type": "error",
          "ename": "TypeError",
          "evalue": "ignored",
          "traceback": [
            "\u001b[0;31m---------------------------------------------------------------------------\u001b[0m",
            "\u001b[0;31mTypeError\u001b[0m                                 Traceback (most recent call last)",
            "\u001b[0;32m<ipython-input-95-bbba03a74d0a>\u001b[0m in \u001b[0;36m<module>\u001b[0;34m()\u001b[0m\n\u001b[1;32m      1\u001b[0m \u001b[0mnumber\u001b[0m \u001b[0;34m=\u001b[0m \u001b[0;36m76542\u001b[0m\u001b[0;34m\u001b[0m\u001b[0;34m\u001b[0m\u001b[0m\n\u001b[0;32m----> 2\u001b[0;31m \u001b[0;32mfor\u001b[0m \u001b[0mi\u001b[0m \u001b[0;32min\u001b[0m \u001b[0mnumber\u001b[0m\u001b[0;34m:\u001b[0m\u001b[0;34m\u001b[0m\u001b[0;34m\u001b[0m\u001b[0m\n\u001b[0m\u001b[1;32m      3\u001b[0m   \u001b[0ms\u001b[0m \u001b[0;34m=\u001b[0m \u001b[0ms\u001b[0m\u001b[0;34m+\u001b[0m\u001b[0;34m\"i\"\u001b[0m\u001b[0;34m\u001b[0m\u001b[0;34m\u001b[0m\u001b[0m\n\u001b[1;32m      4\u001b[0m   \u001b[0mprint\u001b[0m\u001b[0;34m(\u001b[0m\u001b[0mi\u001b[0m\u001b[0;34m)\u001b[0m\u001b[0;34m\u001b[0m\u001b[0;34m\u001b[0m\u001b[0m\n",
            "\u001b[0;31mTypeError\u001b[0m: 'int' object is not iterable"
          ]
        }
      ]
    },
    {
      "cell_type": "code",
      "metadata": {
        "colab": {
          "base_uri": "https://localhost:8080/"
        },
        "id": "qQKlaSE2N-VQ",
        "outputId": "64da76e5-e555-45fc-903a-895d91196a66"
      },
      "source": [
        "for i in range(0,5):\n",
        "  print(i)"
      ],
      "execution_count": null,
      "outputs": [
        {
          "output_type": "stream",
          "text": [
            "0\n",
            "1\n",
            "2\n",
            "3\n",
            "4\n"
          ],
          "name": "stdout"
        }
      ]
    },
    {
      "cell_type": "code",
      "metadata": {
        "colab": {
          "base_uri": "https://localhost:8080/"
        },
        "id": "XND3zACXN-Yd",
        "outputId": "45f4105c-cc9f-499e-f899-6d81bf44ae14"
      },
      "source": [
        "for i in range(6):\n",
        "  print(i)"
      ],
      "execution_count": null,
      "outputs": [
        {
          "output_type": "stream",
          "text": [
            "0\n",
            "1\n",
            "2\n",
            "3\n",
            "4\n",
            "5\n"
          ],
          "name": "stdout"
        }
      ]
    },
    {
      "cell_type": "code",
      "metadata": {
        "colab": {
          "base_uri": "https://localhost:8080/"
        },
        "id": "B0vFCEUDN-bi",
        "outputId": "01449e16-97e6-4f47-9b86-4cd98cbf30ba"
      },
      "source": [
        "for i in range(20,25,2):\n",
        "  print(i)"
      ],
      "execution_count": null,
      "outputs": [
        {
          "output_type": "stream",
          "text": [
            "20\n",
            "22\n",
            "24\n"
          ],
          "name": "stdout"
        }
      ]
    },
    {
      "cell_type": "code",
      "metadata": {
        "colab": {
          "base_uri": "https://localhost:8080/"
        },
        "id": "WBkqwavYWHHH",
        "outputId": "d2b4fc73-1ede-4958-e0cf-397307201abc"
      },
      "source": [
        "for i in range(0,15,3):\n",
        "  print(i)"
      ],
      "execution_count": null,
      "outputs": [
        {
          "output_type": "stream",
          "text": [
            "0\n",
            "3\n",
            "6\n",
            "9\n",
            "12\n"
          ],
          "name": "stdout"
        }
      ]
    },
    {
      "cell_type": "code",
      "metadata": {
        "colab": {
          "base_uri": "https://localhost:8080/"
        },
        "id": "QRzHy6t5WHMe",
        "outputId": "aba538f9-5f6c-4732-cec3-48f1f7690f24"
      },
      "source": [
        "for i in range(100,0,-10):\n",
        "  print(i)"
      ],
      "execution_count": null,
      "outputs": [
        {
          "output_type": "stream",
          "text": [
            "100\n",
            "90\n",
            "80\n",
            "70\n",
            "60\n",
            "50\n",
            "40\n",
            "30\n",
            "20\n",
            "10\n"
          ],
          "name": "stdout"
        }
      ]
    },
    {
      "cell_type": "code",
      "metadata": {
        "colab": {
          "base_uri": "https://localhost:8080/"
        },
        "id": "H8Be0CalWHRm",
        "outputId": "19b22720-bdbc-4633-e377-56e9aa9e6eff"
      },
      "source": [
        "sharks = [\"hammered\",\"great white\",\"dogfish\",\"frilled\",\"bullhead\",\"requiem\"]\n",
        "for shark in sharks:\n",
        "  print(shark)"
      ],
      "execution_count": null,
      "outputs": [
        {
          "output_type": "stream",
          "text": [
            "hammered\n",
            "great white\n",
            "dogfish\n",
            "frilled\n",
            "bullhead\n",
            "requiem\n"
          ],
          "name": "stdout"
        }
      ]
    },
    {
      "cell_type": "code",
      "metadata": {
        "colab": {
          "base_uri": "https://localhost:8080/"
        },
        "id": "xLH0dDzlWHWV",
        "outputId": "78b9eba0-5039-4cc4-abe6-0252b6dcc623"
      },
      "source": [
        "sharks = ['hammered','great white','dogfish','frilled','bullhead','requiem','bullhead','requiem']\n",
        "for item in range(len(sharks)):\n",
        "  sharks.append(\"shark\")\n",
        "print(sharks)  "
      ],
      "execution_count": null,
      "outputs": [
        {
          "output_type": "stream",
          "text": [
            "['hammered', 'great white', 'dogfish', 'frilled', 'bullhead', 'requiem', 'bullhead', 'requiem', 'shark', 'shark', 'shark', 'shark', 'shark', 'shark', 'shark', 'shark']\n"
          ],
          "name": "stdout"
        }
      ]
    },
    {
      "cell_type": "code",
      "metadata": {
        "colab": {
          "base_uri": "https://localhost:8080/"
        },
        "id": "ZApO2BPaWHb5",
        "outputId": "d2b50e4a-c8a4-4a9e-b4fc-c1865c7bc22b"
      },
      "source": [
        "integers = []\n",
        "for i in range(10):\n",
        "  integers.append(i)\n",
        "print(integers)  \n"
      ],
      "execution_count": null,
      "outputs": [
        {
          "output_type": "stream",
          "text": [
            "[0, 1, 2, 3, 4, 5, 6, 7, 8, 9]\n"
          ],
          "name": "stdout"
        }
      ]
    },
    {
      "cell_type": "code",
      "metadata": {
        "id": "hb6SsBuWWHhl"
      },
      "source": [
        ""
      ],
      "execution_count": null,
      "outputs": []
    },
    {
      "cell_type": "code",
      "metadata": {
        "colab": {
          "base_uri": "https://localhost:8080/"
        },
        "id": "iwkpx6FdWHmp",
        "outputId": "85e574b3-53e3-4b97-f022-0beb15091a6b"
      },
      "source": [
        "n = \n",
        "s = len(n)//2\n",
        "print(s)\n",
        "# sr = s[]"
      ],
      "execution_count": null,
      "outputs": [
        {
          "output_type": "stream",
          "text": [
            "5\n"
          ],
          "name": "stdout"
        }
      ]
    },
    {
      "cell_type": "code",
      "metadata": {
        "colab": {
          "base_uri": "https://localhost:8080/"
        },
        "id": "zrYs7huiWHsC",
        "outputId": "e76ce3ed-33fe-40cd-e7b7-8314f95d4a5b"
      },
      "source": [
        "num_list = [1,2,3]\n",
        "alpha = ['a','b','c']\n",
        "for number in num_list:\n",
        "  print(number)\n",
        "  for letter in alpha:\n",
        "    print(letter)"
      ],
      "execution_count": null,
      "outputs": [
        {
          "output_type": "stream",
          "text": [
            "1\n",
            "a\n",
            "b\n",
            "c\n",
            "2\n",
            "a\n",
            "b\n",
            "c\n",
            "3\n",
            "a\n",
            "b\n",
            "c\n"
          ],
          "name": "stdout"
        }
      ]
    },
    {
      "cell_type": "code",
      "metadata": {
        "colab": {
          "base_uri": "https://localhost:8080/"
        },
        "id": "MhNHBUo1WHwP",
        "outputId": "ddfc28a2-fee9-4b31-965e-56f15aca7dc2"
      },
      "source": [
        "l = [1,2,3,4,5]\n",
        "l += [l.pop(0)]\n",
        "print(l)"
      ],
      "execution_count": null,
      "outputs": [
        {
          "output_type": "stream",
          "text": [
            "[2, 3, 4, 5, 1]\n"
          ],
          "name": "stdout"
        }
      ]
    },
    {
      "cell_type": "code",
      "metadata": {
        "colab": {
          "base_uri": "https://localhost:8080/"
        },
        "id": "ukNzAYOGWH0k",
        "outputId": "c655f886-e432-4269-a807-333860e5f1c1"
      },
      "source": [
        "arr = [1,2,3,4,5]\n",
        "n= 3\n",
        "for i in range(0,len(arr)):\n",
        "  print(arr[i],end= \" \")\n",
        "for i in range(0,n):\n",
        "  first = arr[0]\n",
        "  for j in range(0,len(arr)-1):\n",
        "    arr[j] = arr[j+1] \n",
        "  arr[len(arr)-1] = first\n",
        "print()\n",
        "for i in range(0,len(arr)):\n",
        "  print(i)  \n"
      ],
      "execution_count": null,
      "outputs": [
        {
          "output_type": "stream",
          "text": [
            "1 2 3 4 5 \n",
            "0\n",
            "1\n",
            "2\n",
            "3\n",
            "4\n"
          ],
          "name": "stdout"
        }
      ]
    },
    {
      "cell_type": "code",
      "metadata": {
        "colab": {
          "base_uri": "https://localhost:8080/"
        },
        "id": "qTUPzHa7WH5R",
        "outputId": "8dc60623-e444-4feb-fb4f-f970f92b9edf"
      },
      "source": [
        "test_list = [1, 4, 5, 6, 7, 8, 9, 12]\n",
        "  \n",
        "# printing the original list\n",
        "print (\"The original list is : \" + str(test_list))\n",
        "  \n",
        "# using list slicing and \"+\" operator\n",
        "# shift last element to first\n",
        "test_list = test_list[-1:] + test_list[:-1]\n",
        "# printing result\n",
        "print (\"The list after shift is : \" + str(test_list))"
      ],
      "execution_count": null,
      "outputs": [
        {
          "output_type": "stream",
          "text": [
            "The original list is : [1, 4, 5, 6, 7, 8, 9, 12]\n",
            "The list after shift is : [12, 1, 4, 5, 6, 7, 8, 9]\n"
          ],
          "name": "stdout"
        }
      ]
    },
    {
      "cell_type": "code",
      "metadata": {
        "colab": {
          "base_uri": "https://localhost:8080/"
        },
        "id": "zPyyTQXlN-gp",
        "outputId": "66a3c3e2-e252-4528-af8f-189e8dfb474a"
      },
      "source": [
        "def rotation (l1,l2):\n",
        "  for i in l1:\n",
        "    l1 = l1[1:] + l1[:1]\n",
        "    if l1 == l2:\n",
        "      return True\n",
        "  return False\n",
        "print(rotation([2,3,4,5,6],[4,5,6,2,3]))       "
      ],
      "execution_count": null,
      "outputs": [
        {
          "output_type": "stream",
          "text": [
            "True\n"
          ],
          "name": "stdout"
        }
      ]
    },
    {
      "cell_type": "code",
      "metadata": {
        "id": "7bkMN4fg23yE"
      },
      "source": [
        ""
      ],
      "execution_count": null,
      "outputs": []
    },
    {
      "cell_type": "code",
      "metadata": {
        "id": "VR7l2UWl235P"
      },
      "source": [
        ""
      ],
      "execution_count": null,
      "outputs": []
    },
    {
      "cell_type": "code",
      "metadata": {
        "id": "UoK6fyzK23_A"
      },
      "source": [
        "Write a function that takes two lists as parameters and return the list that has the common\n",
        " elements from both the lists. The elements in the resultant list can be of arbitrary order. \n",
        " Check your function against the sample test cases or you can add your own test cases.\n",
        "Sample Input:\n",
        "List1: [2, 5, 3, 4]\n",
        "List2: [6, 4, 2, 4, 5]\n",
        "Sample Output:\n",
        "[2, 4, 5]\n",
        "\n",
        "Sample Input:\n",
        "List1: [2, 4, 1, 3, 4]\n",
        "List2: [5, 3, 2, 2, 3]\n",
        "Sample Output:\n",
        "[2, 3] "
      ],
      "execution_count": null,
      "outputs": []
    },
    {
      "cell_type": "code",
      "metadata": {
        "colab": {
          "base_uri": "https://localhost:8080/"
        },
        "id": "Flpvo-5i24EZ",
        "outputId": "225aba53-4d6b-42f4-e9f1-d342383b244d"
      },
      "source": [
        "li1 = [2,5,3,4,2]\n",
        "li2 = [6,4,2,4,5]\n",
        "result = []\n",
        "sub = []\n",
        "for i in li1:\n",
        "  if i in li2:\n",
        "    result.append(i)  \n",
        "     \n",
        "    \n",
        "print(result)"
      ],
      "execution_count": null,
      "outputs": [
        {
          "output_type": "stream",
          "text": [
            "[2, 5, 4, 2]\n"
          ],
          "name": "stdout"
        }
      ]
    },
    {
      "cell_type": "code",
      "metadata": {
        "colab": {
          "base_uri": "https://localhost:8080/"
        },
        "id": "rocnY7qt24KL",
        "outputId": "8b7877b2-fce4-428a-bc7a-c17408d590fa"
      },
      "source": [
        "def missing (arr,n):\n",
        "  x1 = arr[0]\n",
        "  x2 = 1\n",
        "  for i in range(1,n):\n",
        "    x1 ^= arr[i]\n",
        "  for i in range(2,n+2):\n",
        "    x2 ^= i\n",
        "  return x1 ^ x2    \n",
        "arr = [1,2,4,3,6,7,9,8,10]  \n",
        "print(missing(arr,len(arr)))"
      ],
      "execution_count": null,
      "outputs": [
        {
          "output_type": "stream",
          "text": [
            "5\n"
          ],
          "name": "stdout"
        }
      ]
    },
    {
      "cell_type": "code",
      "metadata": {
        "colab": {
          "base_uri": "https://localhost:8080/"
        },
        "id": "Rgmdt2rY24RP",
        "outputId": "bf82a866-5ba4-4611-df2b-775e48111b59"
      },
      "source": [
        "def algorithm(arr,n):\n",
        "  rs = 0\n",
        "  count=0\n",
        "  for i in range(1, n):\n",
        "    if arr[i] == i:\n",
        "      rs = arr[i]\n",
        "      count +=1\n",
        "      return rs\n",
        "    else:\n",
        "      return rs\n",
        "\n",
        "\n",
        "arr = [1,2,2,4,5,3,2,6,2,5]\n",
        "print(algorithm(arr,len(arr)))           \n",
        "\n",
        "  "
      ],
      "execution_count": null,
      "outputs": [
        {
          "output_type": "stream",
          "text": [
            "0\n"
          ],
          "name": "stdout"
        }
      ]
    },
    {
      "cell_type": "code",
      "metadata": {
        "colab": {
          "base_uri": "https://localhost:8080/"
        },
        "id": "Eb8xfAVr24rQ",
        "outputId": "307bdbed-3597-4a1a-b6e6-1c0abc639d4d"
      },
      "source": [
        "class solution:\n",
        "  def createtargetarray(self,nums,index):\n",
        "    nums = [0,1,2,3,4]\n",
        "    index = [0,4,1,3,2]\n",
        "    target = []\n",
        "    length = len(nums)\n",
        "    for i in range(length):\n",
        "      if index[i] >= length:\n",
        "        target.append(nums[i])\n",
        "      else:\n",
        "        target.insert(index[i],nums[i])\n",
        "    return target,length\n",
        "sl = solution()\n",
        "print(sl.createtargetarray([0,1,2,3,4],[0,1,2,2,1]))\n",
        "\n",
        "\n",
        "\n"
      ],
      "execution_count": null,
      "outputs": [
        {
          "output_type": "stream",
          "text": [
            "([0, 2, 4, 1, 3], 5)\n"
          ],
          "name": "stdout"
        }
      ]
    },
    {
      "cell_type": "code",
      "metadata": {
        "colab": {
          "base_uri": "https://localhost:8080/"
        },
        "id": "xP9qU2H124w5",
        "outputId": "6dc2346d-09a0-4c3b-dd00-257e661f32a9"
      },
      "source": [
        "arr = [17,18,5,4,6,1]\n",
        "n = len(arr)\n",
        "m = arr[n-1]\n",
        "arr[n-1] = -1\n",
        "# print(m)\n",
        "for i in range(n-2,-1,-1):\n",
        "  print(i)\n",
        "  temp = arr[i]\n",
        "  arr[i] = m\n",
        "  if temp > m:\n",
        "    m = temp\n",
        "print(arr)\n",
        "  # print(i,end=\",\")"
      ],
      "execution_count": null,
      "outputs": [
        {
          "output_type": "stream",
          "text": [
            "4\n",
            "3\n",
            "2\n",
            "1\n",
            "0\n",
            "[18, 6, 6, 6, 1, -1]\n"
          ],
          "name": "stdout"
        }
      ]
    },
    {
      "cell_type": "code",
      "metadata": {
        "colab": {
          "base_uri": "https://localhost:8080/",
          "height": 231
        },
        "id": "su5YGkbpAA3Z",
        "outputId": "2a0ed01c-71d2-41e9-c4ad-d373560dd039"
      },
      "source": [
        "arr= [1,2,3,4,5,6,7]\n",
        "target = []\n",
        "n = len(arr)\n",
        "for i in range(ar):\n",
        "  target.append(i)\n",
        "  print(target)"
      ],
      "execution_count": null,
      "outputs": [
        {
          "output_type": "error",
          "ename": "TypeError",
          "evalue": "ignored",
          "traceback": [
            "\u001b[0;31m---------------------------------------------------------------------------\u001b[0m",
            "\u001b[0;31mTypeError\u001b[0m                                 Traceback (most recent call last)",
            "\u001b[0;32m<ipython-input-10-1d041a5c22f0>\u001b[0m in \u001b[0;36m<module>\u001b[0;34m()\u001b[0m\n\u001b[1;32m      2\u001b[0m \u001b[0mtarget\u001b[0m \u001b[0;34m=\u001b[0m \u001b[0;34m[\u001b[0m\u001b[0;34m]\u001b[0m\u001b[0;34m\u001b[0m\u001b[0;34m\u001b[0m\u001b[0m\n\u001b[1;32m      3\u001b[0m \u001b[0mn\u001b[0m \u001b[0;34m=\u001b[0m \u001b[0mlen\u001b[0m\u001b[0;34m(\u001b[0m\u001b[0marr\u001b[0m\u001b[0;34m)\u001b[0m\u001b[0;34m\u001b[0m\u001b[0;34m\u001b[0m\u001b[0m\n\u001b[0;32m----> 4\u001b[0;31m \u001b[0;32mfor\u001b[0m \u001b[0mi\u001b[0m \u001b[0;32min\u001b[0m \u001b[0mrange\u001b[0m\u001b[0;34m(\u001b[0m\u001b[0marr\u001b[0m\u001b[0;34m[\u001b[0m\u001b[0mn\u001b[0m\u001b[0;34m-\u001b[0m\u001b[0;36m2\u001b[0m\u001b[0;34m:\u001b[0m\u001b[0;34m-\u001b[0m\u001b[0;36m1\u001b[0m\u001b[0;34m]\u001b[0m\u001b[0;34m)\u001b[0m\u001b[0;34m:\u001b[0m\u001b[0;34m\u001b[0m\u001b[0;34m\u001b[0m\u001b[0m\n\u001b[0m\u001b[1;32m      5\u001b[0m   \u001b[0mtarget\u001b[0m\u001b[0;34m.\u001b[0m\u001b[0mappend\u001b[0m\u001b[0;34m(\u001b[0m\u001b[0mi\u001b[0m\u001b[0;34m)\u001b[0m\u001b[0;34m\u001b[0m\u001b[0;34m\u001b[0m\u001b[0m\n\u001b[1;32m      6\u001b[0m   \u001b[0mprint\u001b[0m\u001b[0;34m(\u001b[0m\u001b[0mtarget\u001b[0m\u001b[0;34m)\u001b[0m\u001b[0;34m\u001b[0m\u001b[0;34m\u001b[0m\u001b[0m\n",
            "\u001b[0;31mTypeError\u001b[0m: 'list' object cannot be interpreted as an integer"
          ]
        }
      ]
    },
    {
      "cell_type": "code",
      "metadata": {
        "colab": {
          "base_uri": "https://localhost:8080/",
          "height": 214
        },
        "id": "Lq0nqQnmAA9t",
        "outputId": "add8f6f9-45f3-49be-94af-70a460b3a470"
      },
      "source": [
        "class Node:\n",
        "  def __int__(self,info,prev = None,next=None):\n",
        "    self.info = info\n",
        "    self.prev = prev\n",
        "    self.next = next\n",
        "first = Node(10)\n",
        "print(first.info)    "
      ],
      "execution_count": null,
      "outputs": [
        {
          "output_type": "error",
          "ename": "TypeError",
          "evalue": "ignored",
          "traceback": [
            "\u001b[0;31m---------------------------------------------------------------------------\u001b[0m",
            "\u001b[0;31mTypeError\u001b[0m                                 Traceback (most recent call last)",
            "\u001b[0;32m<ipython-input-11-14a1a7a3cd28>\u001b[0m in \u001b[0;36m<module>\u001b[0;34m()\u001b[0m\n\u001b[1;32m      4\u001b[0m     \u001b[0mself\u001b[0m\u001b[0;34m.\u001b[0m\u001b[0mprev\u001b[0m \u001b[0;34m=\u001b[0m \u001b[0mprev\u001b[0m\u001b[0;34m\u001b[0m\u001b[0;34m\u001b[0m\u001b[0m\n\u001b[1;32m      5\u001b[0m     \u001b[0mself\u001b[0m\u001b[0;34m.\u001b[0m\u001b[0mnext\u001b[0m \u001b[0;34m=\u001b[0m \u001b[0mnext\u001b[0m\u001b[0;34m\u001b[0m\u001b[0;34m\u001b[0m\u001b[0m\n\u001b[0;32m----> 6\u001b[0;31m \u001b[0mfirst\u001b[0m \u001b[0;34m=\u001b[0m \u001b[0mNode\u001b[0m\u001b[0;34m(\u001b[0m\u001b[0;36m10\u001b[0m\u001b[0;34m)\u001b[0m\u001b[0;34m\u001b[0m\u001b[0;34m\u001b[0m\u001b[0m\n\u001b[0m\u001b[1;32m      7\u001b[0m \u001b[0mprint\u001b[0m\u001b[0;34m(\u001b[0m\u001b[0mfirst\u001b[0m\u001b[0;34m.\u001b[0m\u001b[0minfo\u001b[0m\u001b[0;34m)\u001b[0m\u001b[0;34m\u001b[0m\u001b[0;34m\u001b[0m\u001b[0m\n",
            "\u001b[0;31mTypeError\u001b[0m: Node() takes no arguments"
          ]
        }
      ]
    },
    {
      "cell_type": "code",
      "metadata": {
        "colab": {
          "base_uri": "https://localhost:8080/"
        },
        "id": "iDXqDLixABEd",
        "outputId": "97a297f9-9cb8-4a5e-9dc4-f304c659c790"
      },
      "source": [
        "# product of all numbers\n",
        "lst =[12,13,14,15,16,17]\n",
        "product = 1\n",
        "index = 0\n",
        "while index < len(lst):\n",
        "  product *= lst[index]\n",
        "  index +=1\n",
        "print(\"product is {}\".format(product))  \n",
        "\n"
      ],
      "execution_count": null,
      "outputs": [
        {
          "output_type": "stream",
          "text": [
            "product is 8910720\n"
          ],
          "name": "stdout"
        }
      ]
    },
    {
      "cell_type": "code",
      "metadata": {
        "colab": {
          "base_uri": "https://localhost:8080/"
        },
        "id": "ZJORBmS8ABJw",
        "outputId": "a5f8d1a2-c7dd-45b6-a22f-3e1ae7b32365"
      },
      "source": [
        "# factorial of given number\n",
        "number = 7\n",
        "factorial = 0\n",
        "for i in range(1,number+1):\n",
        "  factorial *= i\n",
        "print(factorial)  "
      ],
      "execution_count": null,
      "outputs": [
        {
          "output_type": "stream",
          "text": [
            "0\n"
          ],
          "name": "stdout"
        }
      ]
    },
    {
      "cell_type": "code",
      "metadata": {
        "colab": {
          "base_uri": "https://localhost:8080/"
        },
        "id": "QfAsnhQJgbPD",
        "outputId": "3458ac92-5f55-420d-b2e6-609b6861b700"
      },
      "source": [
        "class Node:\n",
        "  def __init__(self,info,link=None):\n",
        "    self.info = info\n",
        "    self.link = link\n",
        "class LinkedList:    \n",
        "  def insert_at_begining(self,info):\n",
        "    self.head = None\n",
        "    newNode = Node(info)\n",
        "    if self.head != None:\n",
        "      newNode.link = self.head\n",
        "      self.head = newNode\n",
        "    else:\n",
        "      self.head = newNode\n",
        "  def insert_at_end(self,info):\n",
        "    newNode = Node(info)\n",
        "    if self.head != None:\n",
        "      current = self.head\n",
        "      while current.link != None:\n",
        "        current = current.link\n",
        "      current.link = newNode\n",
        "    else:\n",
        "      self.head = newNode\n",
        "  def display(self):\n",
        "    current = self.head\n",
        "    count = 0\n",
        "    while current != None:\n",
        "      count +=1\n",
        "      if count > 5:\n",
        "        break\n",
        "      print(current.info)\n",
        "LL = LinkedList()\n",
        "LL.insert_at_begining(10)\n",
        "LL.insert_at_begining(5)\n",
        "LL.display()\n",
        "print(\"******\")\n",
        "LL.insert_at_end(20)\n",
        "LL.insert_at_end(30)\n",
        "LL.display()                       \n"
      ],
      "execution_count": null,
      "outputs": [
        {
          "output_type": "stream",
          "text": [
            "5\n",
            "5\n",
            "5\n",
            "5\n",
            "5\n",
            "******\n",
            "5\n",
            "5\n",
            "5\n",
            "5\n",
            "5\n"
          ],
          "name": "stdout"
        }
      ]
    },
    {
      "cell_type": "code",
      "metadata": {
        "colab": {
          "base_uri": "https://localhost:8080/"
        },
        "id": "CwcADPETgbWz",
        "outputId": "4dcff158-305a-4798-b00a-a567ea47f12b"
      },
      "source": [
        "#palindrome\n",
        "n = input()\n",
        "n = n.lower()\n",
        "reverse = \"\"\n",
        "for char in n:\n",
        "  reverse = char + reverse\n",
        "if reverse == n:\n",
        "  print(\"palindrome\")\n",
        "else:\n",
        "  print(\"not a palindrome\")    "
      ],
      "execution_count": null,
      "outputs": [
        {
          "output_type": "stream",
          "text": [
            "Madam\n",
            "palindrome\n"
          ],
          "name": "stdout"
        }
      ]
    },
    {
      "cell_type": "code",
      "metadata": {
        "colab": {
          "base_uri": "https://localhost:8080/"
        },
        "id": "2GaPigKqOOhk",
        "outputId": "bebceda0-0491-4e5e-b59a-f010231c4465"
      },
      "source": [
        "# palindrome\n",
        "n = input()\n",
        "n = n.lower()\n",
        "reverse = \"\"\n",
        "for char in n:\n",
        "  reverse = char + reverse\n",
        "if reverse == n:\n",
        "  print(\"Palindrome\")\n",
        "else:\n",
        "  print(\"Not Palindrome\")  "
      ],
      "execution_count": null,
      "outputs": [
        {
          "output_type": "stream",
          "text": [
            "Srinath\n",
            "Not Palindrome\n"
          ],
          "name": "stdout"
        }
      ]
    },
    {
      "cell_type": "code",
      "metadata": {
        "colab": {
          "base_uri": "https://localhost:8080/"
        },
        "id": "6BcCfHaQOOn4",
        "outputId": "ed428567-e69f-4a74-c55d-0b7dc00ab750"
      },
      "source": [
        "n=input()\n",
        "n=n.lower()\n",
        "reverse=n[::-1]\n",
        "if n==reverse:\n",
        "  print(\"Palindrome\")\n",
        "else:\n",
        "  print(\"Not palindrome\")"
      ],
      "execution_count": null,
      "outputs": [
        {
          "output_type": "stream",
          "text": [
            "Madam\n",
            "Palindrome\n"
          ],
          "name": "stdout"
        }
      ]
    },
    {
      "cell_type": "code",
      "metadata": {
        "colab": {
          "base_uri": "https://localhost:8080/"
        },
        "id": "paHgKjxAOOud",
        "outputId": "ac1cf8fb-30bc-45dc-b160-c9b30e23554d"
      },
      "source": [
        "# insertion sort arr = [1,10,2,20,5]\n",
        "def insertionSort(arr):\n",
        "  for i in range(1,len(arr)):\n",
        "    key = arr[i]\n",
        "    j = i-1\n",
        "    # print(j)\n",
        "    while j >= 0 and key < arr[j]:\n",
        "      arr[j+1] = arr[j]\n",
        "      # print(arr[j+1])\n",
        "      j -= 1\n",
        "      print(j)\n",
        "    arr[j+1] = key\n",
        "arr = [1,10,2,20,5]\n",
        "insertionSort(arr)\n",
        "for v in arr:\n",
        "  print(v,end=\",\")       \n"
      ],
      "execution_count": null,
      "outputs": [
        {
          "output_type": "stream",
          "text": [
            "0\n",
            "2\n",
            "1\n",
            "1,2,5,10,20,"
          ],
          "name": "stdout"
        }
      ]
    },
    {
      "cell_type": "code",
      "metadata": {
        "id": "pw6sFjQzOO1b"
      },
      "source": [
        " for j in range(0,m):\n",
        "        sline=list(map(int,input().split(\" \")))\n",
        "        l.append(sline)\n",
        "    for p in range(1,n+1):\n",
        "        a=0\n",
        "        b=0\n",
        "        for q in range(1,p):\n",
        "            flag=0\n",
        "            for e in l:\n",
        "                if(p in e and q in e):\n",
        "                    flag=1\n",
        "            if(n1[q]==0):\n",
        "                a+=flag\n",
        "            else:\n",
        "                b+=flag\n",
        "        if(a<=b):\n",
        "            n1[p]=0\n",
        "           \n",
        "        else:\n",
        "            n1[p]=1\n",
        "   "
      ],
      "execution_count": null,
      "outputs": []
    },
    {
      "cell_type": "code",
      "metadata": {
        "colab": {
          "base_uri": "https://localhost:8080/"
        },
        "id": "lDaKeUnQOO6z",
        "outputId": "221ec4f4-6413-4c4b-e7ad-53f50043314f"
      },
      "source": [
        "# merge sort\n",
        "def merge(arr,left,right):\n",
        "  i = 0\n",
        "  j = 0\n",
        "  k = 0\n",
        "  while i < len(left) and j < len(right):\n",
        "    if left[i] < right[j]:\n",
        "      arr[k] = left[i]\n",
        "      i+=1\n",
        "    else:\n",
        "      arr[k] = right[j]\n",
        "      j += 1\n",
        "    k += 1\n",
        "  while i < len(left):\n",
        "    arr[k] = left[i]\n",
        "    i += 1\n",
        "    k += 1\n",
        "  while j < len(right):\n",
        "    arr[k] = right[j]\n",
        "    j += 1\n",
        "    k += 1          \n",
        "def mergeSort(arr):\n",
        "  if len(arr) > 1:\n",
        "    mid = len(arr)//2\n",
        "    left = arr[:mid]\n",
        "    right = arr[mid:]\n",
        "    mergeSort(left)\n",
        "    mergeSort(right)\n",
        "    merge(arr,left,right)\n",
        "arr = [54,26,93,17,77,31,44,55]    \n",
        "mergeSort(arr)\n",
        "print(arr)"
      ],
      "execution_count": null,
      "outputs": [
        {
          "output_type": "stream",
          "text": [
            "[17, 26, 31, 44, 54, 55, 77, 93]\n"
          ],
          "name": "stdout"
        }
      ]
    },
    {
      "cell_type": "code",
      "metadata": {
        "colab": {
          "base_uri": "https://localhost:8080/"
        },
        "id": "mAAg8aYoOPAN",
        "outputId": "3d22ec78-b5e9-4f56-c68f-7c2b22ed1fdb"
      },
      "source": [
        "def merge(arr,left,right):\n",
        "  i = 0\n",
        "  j = 0\n",
        "  k = 0\n",
        "  while i < len(left) and j < len(right):\n",
        "    if left[i] < right[j]:\n",
        "      arr[k] = left[i]\n",
        "      i += 1\n",
        "    else:\n",
        "      arr[k] = right[j]\n",
        "      j+=1\n",
        "    k+=1\n",
        "  while i < len(left):\n",
        "    arr[k] = left[i]\n",
        "    i += 1\n",
        "    k += 1\n",
        "  while j < len(right):\n",
        "    arr[k] = right[j]\n",
        "    j += 1\n",
        "    k += 1\n",
        "def mergeSort(arr):\n",
        "  if len(arr) > 1:\n",
        "    mid = len(arr)//2\n",
        "    left = arr[:mid]\n",
        "    right = arr[mid:]\n",
        "    mergeSort(left)\n",
        "    mergeSort(right)\n",
        "    merge(arr,left,right)\n",
        "arr = [23,1,3,4,55,24,32,11,34,45]\n",
        "mergeSort(arr)\n",
        "print(arr)                "
      ],
      "execution_count": null,
      "outputs": [
        {
          "output_type": "stream",
          "text": [
            "[1, 3, 4, 11, 23, 24, 32, 34, 45, 55]\n"
          ],
          "name": "stdout"
        }
      ]
    },
    {
      "cell_type": "code",
      "metadata": {
        "colab": {
          "base_uri": "https://localhost:8080/"
        },
        "id": "oOnU97L3OPFt",
        "outputId": "f115cf2b-cf38-468f-ee76-b0b43b9180f8"
      },
      "source": [
        "def merge(arr,left,right):\n",
        "  i = 0\n",
        "  j = 0\n",
        "  k = 0\n",
        "  while i < len(left)  and j < len(right):\n",
        "    if left[i] < right[j]:\n",
        "      arr[k] = left[i]\n",
        "      i+=1\n",
        "    else:\n",
        "      arr[k] = right[j]\n",
        "      j+=1\n",
        "    k += 1\n",
        "  while i < len(left):\n",
        "    arr[k] = left[i]\n",
        "    i+=1\n",
        "    k+=1\n",
        "  while j < len(right):\n",
        "    arr[k] = right[j]\n",
        "    j += 1\n",
        "    k += 1\n",
        "            \n",
        "def mergeSort(arr):\n",
        "  if len(arr) > 1:\n",
        "    mid = len(arr)//2\n",
        "    left = arr[:mid]\n",
        "    right = arr[mid:]\n",
        "    mergeSort(left)\n",
        "    mergeSort(right)\n",
        "    merge(arr,left,right)\n",
        "arr = [2,4,56,66,89,23,43,12,44]\n",
        "mergeSort(arr)\n",
        "print(arr)    "
      ],
      "execution_count": null,
      "outputs": [
        {
          "output_type": "stream",
          "text": [
            "[2, 4, 12, 23, 43, 44, 56, 66, 89]\n"
          ],
          "name": "stdout"
        }
      ]
    },
    {
      "cell_type": "code",
      "metadata": {
        "colab": {
          "base_uri": "https://localhost:8080/"
        },
        "id": "8E9p3DXmOPLA",
        "outputId": "0e943953-03c8-445b-8a01-b0643bc1f7c3"
      },
      "source": [
        "# bubble sort\n",
        "def bubbleSort(arr):\n",
        "  for i in range(len(arr)):\n",
        "    for j in range(len(arr)-i-1):\n",
        "      print(j)\n",
        "      if arr[j] > arr[j+1]:\n",
        "        arr[j],arr[j+1] = arr[j+1],arr[j]\n",
        "arr = [1,10,2,20,5]\n",
        "bubbleSort(arr)\n",
        "print(arr)       "
      ],
      "execution_count": null,
      "outputs": [
        {
          "output_type": "stream",
          "text": [
            "0\n",
            "1\n",
            "2\n",
            "3\n",
            "0\n",
            "1\n",
            "2\n",
            "0\n",
            "1\n",
            "0\n",
            "[1, 2, 5, 10, 20]\n"
          ],
          "name": "stdout"
        }
      ]
    },
    {
      "cell_type": "code",
      "metadata": {
        "colab": {
          "base_uri": "https://localhost:8080/",
          "height": 354
        },
        "id": "Zn3Qvvp_OPTf",
        "outputId": "003a6a0b-fbfb-45d0-84d9-dcee6ddd7871"
      },
      "source": [
        "# quickSort\n",
        "\n",
        "def partition(arr,p,r):\n",
        "  pivot = arr[p]\n",
        "  i = p\n",
        "  for j in range(p+1,r+1):\n",
        "    if arr[j] < pivot:\n",
        "       i += 1\n",
        "       arr[i],arr[j] = arr[j],arr[i]\n",
        "    arr[p],arr[i] = arr[i],arr[p]\n",
        "    \n",
        "def quickSort(arr,p,r):\n",
        "  if p < r:\n",
        "    q = partition(arr,p,r)\n",
        "    quickSort(arr,p,q-1)\n",
        "    \n",
        "    quickSort(arr,q+1,r)    \n",
        "arr = [54,26,93,17,77,31,44,55]\n",
        "quickSort(arr,0,len(arr)-1)\n",
        "print(arr)"
      ],
      "execution_count": null,
      "outputs": [
        {
          "output_type": "error",
          "ename": "NameError",
          "evalue": "ignored",
          "traceback": [
            "\u001b[0;31m---------------------------------------------------------------------------\u001b[0m",
            "\u001b[0;31mNameError\u001b[0m                                 Traceback (most recent call last)",
            "\u001b[0;32m<ipython-input-12-ab5970ea003f>\u001b[0m in \u001b[0;36m<module>\u001b[0;34m()\u001b[0m\n\u001b[1;32m     17\u001b[0m     \u001b[0mquickSort\u001b[0m\u001b[0;34m(\u001b[0m\u001b[0marr\u001b[0m\u001b[0;34m,\u001b[0m\u001b[0mq\u001b[0m\u001b[0;34m+\u001b[0m\u001b[0;36m1\u001b[0m\u001b[0;34m,\u001b[0m\u001b[0mr\u001b[0m\u001b[0;34m)\u001b[0m\u001b[0;34m\u001b[0m\u001b[0;34m\u001b[0m\u001b[0m\n\u001b[1;32m     18\u001b[0m \u001b[0marr\u001b[0m \u001b[0;34m=\u001b[0m \u001b[0;34m[\u001b[0m\u001b[0;36m54\u001b[0m\u001b[0;34m,\u001b[0m\u001b[0;36m26\u001b[0m\u001b[0;34m,\u001b[0m\u001b[0;36m93\u001b[0m\u001b[0;34m,\u001b[0m\u001b[0;36m17\u001b[0m\u001b[0;34m,\u001b[0m\u001b[0;36m77\u001b[0m\u001b[0;34m,\u001b[0m\u001b[0;36m31\u001b[0m\u001b[0;34m,\u001b[0m\u001b[0;36m44\u001b[0m\u001b[0;34m,\u001b[0m\u001b[0;36m55\u001b[0m\u001b[0;34m]\u001b[0m\u001b[0;34m\u001b[0m\u001b[0;34m\u001b[0m\u001b[0m\n\u001b[0;32m---> 19\u001b[0;31m \u001b[0mquickSort\u001b[0m\u001b[0;34m(\u001b[0m\u001b[0marr\u001b[0m\u001b[0;34m,\u001b[0m\u001b[0;36m0\u001b[0m\u001b[0;34m,\u001b[0m\u001b[0mlen\u001b[0m\u001b[0;34m(\u001b[0m\u001b[0marr\u001b[0m\u001b[0;34m)\u001b[0m\u001b[0;34m-\u001b[0m\u001b[0;36m1\u001b[0m\u001b[0;34m)\u001b[0m\u001b[0;34m\u001b[0m\u001b[0;34m\u001b[0m\u001b[0m\n\u001b[0m\u001b[1;32m     20\u001b[0m \u001b[0mprint\u001b[0m\u001b[0;34m(\u001b[0m\u001b[0marr\u001b[0m\u001b[0;34m)\u001b[0m\u001b[0;34m\u001b[0m\u001b[0;34m\u001b[0m\u001b[0m\n",
            "\u001b[0;32m<ipython-input-12-ab5970ea003f>\u001b[0m in \u001b[0;36mquickSort\u001b[0;34m(arr, p, r)\u001b[0m\n\u001b[1;32m     12\u001b[0m \u001b[0;32mdef\u001b[0m \u001b[0mquickSort\u001b[0m\u001b[0;34m(\u001b[0m\u001b[0marr\u001b[0m\u001b[0;34m,\u001b[0m\u001b[0mp\u001b[0m\u001b[0;34m,\u001b[0m\u001b[0mr\u001b[0m\u001b[0;34m)\u001b[0m\u001b[0;34m:\u001b[0m\u001b[0;34m\u001b[0m\u001b[0;34m\u001b[0m\u001b[0m\n\u001b[1;32m     13\u001b[0m   \u001b[0;32mif\u001b[0m \u001b[0mp\u001b[0m \u001b[0;34m<\u001b[0m \u001b[0mr\u001b[0m\u001b[0;34m:\u001b[0m\u001b[0;34m\u001b[0m\u001b[0;34m\u001b[0m\u001b[0m\n\u001b[0;32m---> 14\u001b[0;31m     \u001b[0mq\u001b[0m \u001b[0;34m=\u001b[0m \u001b[0mpartition\u001b[0m\u001b[0;34m(\u001b[0m\u001b[0marr\u001b[0m\u001b[0;34m,\u001b[0m\u001b[0mp\u001b[0m\u001b[0;34m,\u001b[0m\u001b[0mr\u001b[0m\u001b[0;34m)\u001b[0m\u001b[0;34m\u001b[0m\u001b[0;34m\u001b[0m\u001b[0m\n\u001b[0m\u001b[1;32m     15\u001b[0m     \u001b[0mquickSort\u001b[0m\u001b[0;34m(\u001b[0m\u001b[0marr\u001b[0m\u001b[0;34m,\u001b[0m\u001b[0mp\u001b[0m\u001b[0;34m,\u001b[0m\u001b[0mq\u001b[0m\u001b[0;34m-\u001b[0m\u001b[0;36m1\u001b[0m\u001b[0;34m)\u001b[0m\u001b[0;34m\u001b[0m\u001b[0;34m\u001b[0m\u001b[0m\n\u001b[1;32m     16\u001b[0m \u001b[0;34m\u001b[0m\u001b[0m\n",
            "\u001b[0;32m<ipython-input-12-ab5970ea003f>\u001b[0m in \u001b[0;36mpartition\u001b[0;34m(arr, p, r)\u001b[0m\n\u001b[1;32m      9\u001b[0m        \u001b[0marr\u001b[0m\u001b[0;34m[\u001b[0m\u001b[0mi\u001b[0m\u001b[0;34m]\u001b[0m\u001b[0;34m,\u001b[0m\u001b[0marr\u001b[0m\u001b[0;34m[\u001b[0m\u001b[0mj\u001b[0m\u001b[0;34m]\u001b[0m \u001b[0;34m=\u001b[0m \u001b[0marr\u001b[0m\u001b[0;34m[\u001b[0m\u001b[0mj\u001b[0m\u001b[0;34m]\u001b[0m\u001b[0;34m,\u001b[0m\u001b[0marr\u001b[0m\u001b[0;34m[\u001b[0m\u001b[0mi\u001b[0m\u001b[0;34m]\u001b[0m\u001b[0;34m\u001b[0m\u001b[0;34m\u001b[0m\u001b[0m\n\u001b[1;32m     10\u001b[0m     \u001b[0marr\u001b[0m\u001b[0;34m[\u001b[0m\u001b[0mp\u001b[0m\u001b[0;34m]\u001b[0m\u001b[0;34m,\u001b[0m\u001b[0marr\u001b[0m\u001b[0;34m[\u001b[0m\u001b[0mi\u001b[0m\u001b[0;34m]\u001b[0m \u001b[0;34m=\u001b[0m \u001b[0marr\u001b[0m\u001b[0;34m[\u001b[0m\u001b[0mi\u001b[0m\u001b[0;34m]\u001b[0m\u001b[0;34m,\u001b[0m\u001b[0marr\u001b[0m\u001b[0;34m[\u001b[0m\u001b[0mp\u001b[0m\u001b[0;34m]\u001b[0m\u001b[0;34m\u001b[0m\u001b[0;34m\u001b[0m\u001b[0m\n\u001b[0;32m---> 11\u001b[0;31m     \u001b[0;32mreturn\u001b[0m \u001b[0mchoosing\u001b[0m\u001b[0;34m(\u001b[0m\u001b[0;34m)\u001b[0m\u001b[0;34m\u001b[0m\u001b[0;34m\u001b[0m\u001b[0m\n\u001b[0m\u001b[1;32m     12\u001b[0m \u001b[0;32mdef\u001b[0m \u001b[0mquickSort\u001b[0m\u001b[0;34m(\u001b[0m\u001b[0marr\u001b[0m\u001b[0;34m,\u001b[0m\u001b[0mp\u001b[0m\u001b[0;34m,\u001b[0m\u001b[0mr\u001b[0m\u001b[0;34m)\u001b[0m\u001b[0;34m:\u001b[0m\u001b[0;34m\u001b[0m\u001b[0;34m\u001b[0m\u001b[0m\n\u001b[1;32m     13\u001b[0m   \u001b[0;32mif\u001b[0m \u001b[0mp\u001b[0m \u001b[0;34m<\u001b[0m \u001b[0mr\u001b[0m\u001b[0;34m:\u001b[0m\u001b[0;34m\u001b[0m\u001b[0;34m\u001b[0m\u001b[0m\n",
            "\u001b[0;31mNameError\u001b[0m: name 'choosing' is not defined"
          ]
        }
      ]
    },
    {
      "cell_type": "code",
      "metadata": {
        "colab": {
          "base_uri": "https://localhost:8080/"
        },
        "id": "b2-K_oJEgbb1",
        "outputId": "2cc5fb6e-0bb0-43f2-e909-a660bdc619ed"
      },
      "source": [
        "# def selectionSort\n",
        "def selectionSort(arr):\n",
        "  for i in range(0,len(arr)):\n",
        "    min = i\n",
        "    for j in range(i+1,len(arr)):\n",
        "      if arr[j] < arr[min]:\n",
        "        min = j\n",
        "    arr[i],arr[min] = arr[min],arr[i]\n",
        "arr = [10,1,2,20,5]\n",
        "selectionSort(arr)\n",
        "print(arr)        "
      ],
      "execution_count": null,
      "outputs": [
        {
          "output_type": "stream",
          "text": [
            "[1, 2, 5, 10, 20]\n"
          ],
          "name": "stdout"
        }
      ]
    },
    {
      "cell_type": "code",
      "metadata": {
        "colab": {
          "base_uri": "https://localhost:8080/"
        },
        "id": "Ii0sA7A9gbgr",
        "outputId": "b7519616-6387-41ba-adc1-5367f6100fd8"
      },
      "source": [
        "word = input()\n",
        "message = (word + \" \")*3\n",
        "print(message)"
      ],
      "execution_count": null,
      "outputs": [
        {
          "output_type": "stream",
          "text": [
            "srikanth\n",
            "srikanth srikanth srikanth \n"
          ],
          "name": "stdout"
        }
      ]
    },
    {
      "cell_type": "code",
      "metadata": {
        "colab": {
          "base_uri": "https://localhost:8080/"
        },
        "id": "1l4u3shzgblA",
        "outputId": "28104c0a-409d-4274-c053-3e408737da9b"
      },
      "source": [
        "# area of triangle\n",
        "length = input()\n",
        "breadth = input()\n",
        "length = int(input())\n",
        "breadth = int(input())\n",
        "area = length*breadth\n",
        "print(area)"
      ],
      "execution_count": null,
      "outputs": [
        {
          "output_type": "stream",
          "text": [
            "20\n",
            "30\n",
            "20\n",
            "30\n",
            "600\n"
          ],
          "name": "stdout"
        }
      ]
    },
    {
      "cell_type": "code",
      "metadata": {
        "colab": {
          "base_uri": "https://localhost:8080/"
        },
        "id": "yZc49dFAgbpp",
        "outputId": "6ebbf7c5-a042-4152-94fa-1e9797fdb010"
      },
      "source": [
        "# first three chercters are same\n",
        "first = input()\n",
        "second = input()\n",
        "first = first[:3]\n",
        "second = second[:3]\n",
        "both = first == second\n",
        "print(both)"
      ],
      "execution_count": null,
      "outputs": [
        {
          "output_type": "stream",
          "text": [
            "srikanth\n",
            "srikanth\n",
            "True\n"
          ],
          "name": "stdout"
        }
      ]
    },
    {
      "cell_type": "code",
      "metadata": {
        "colab": {
          "base_uri": "https://localhost:8080/"
        },
        "id": "fENgp0S3GdfE",
        "outputId": "bd0ee115-f12d-4b95-8373-a2d34efc0fdf"
      },
      "source": [
        "a = int(input())\n",
        "b = int(input())\n",
        "bothPositive = a > 0 and b > 0\n",
        "greater = a>5 or b > 5\n",
        "result = bothPositive and greater\n",
        "print(result) "
      ],
      "execution_count": null,
      "outputs": [
        {
          "output_type": "stream",
          "text": [
            "20\n",
            "10\n",
            "True\n"
          ],
          "name": "stdout"
        }
      ]
    },
    {
      "cell_type": "code",
      "metadata": {
        "colab": {
          "base_uri": "https://localhost:8080/"
        },
        "id": "zlcjtUIHIAk_",
        "outputId": "46fe80a6-6e69-4f9f-d4d5-cf20340444f1"
      },
      "source": [
        "a = input()\n",
        "above = int(a)>25\n",
        "b = a[0]\n",
        "c = a[1]\n",
        "b = int(b)\n",
        "c = int(c)\n",
        "great = b > c\n",
        "result = above and great\n",
        "print(result)\n",
        "\n"
      ],
      "execution_count": null,
      "outputs": [
        {
          "output_type": "stream",
          "text": [
            "42\n",
            "True\n"
          ],
          "name": "stdout"
        }
      ]
    },
    {
      "cell_type": "code",
      "metadata": {
        "colab": {
          "base_uri": "https://localhost:8080/"
        },
        "id": "DnPEUctfGdjN",
        "outputId": "f1256508-77a8-4d70-9afe-1b7cba0e677d"
      },
      "source": [
        "char = input()\n",
        "length = len(char)\n",
        "last = length-1\n",
        "dream = char[last]\n",
        "print(dream)"
      ],
      "execution_count": null,
      "outputs": [
        {
          "output_type": "stream",
          "text": [
            "srikanth\n",
            "h\n"
          ],
          "name": "stdout"
        }
      ]
    },
    {
      "cell_type": "code",
      "metadata": {
        "colab": {
          "base_uri": "https://localhost:8080/"
        },
        "id": "xMwZujaqGdnR",
        "outputId": "225e41c6-823b-4ff9-e6a9-e2dd3182fa59"
      },
      "source": [
        "char = input()\n",
        "len_char = len(char)\n",
        "half_len = int(len_char/2)\n",
        "half_first = char[:half_len]\n",
        "print(half_first)"
      ],
      "execution_count": null,
      "outputs": [
        {
          "output_type": "stream",
          "text": [
            "srikanth\n",
            "srik\n"
          ],
          "name": "stdout"
        }
      ]
    },
    {
      "cell_type": "code",
      "metadata": {
        "colab": {
          "base_uri": "https://localhost:8080/"
        },
        "id": "ilYvbETBGds-",
        "outputId": "ed92c9b0-ef90-49a3-df26-94cec2b5f3c5"
      },
      "source": [
        "a = input()\n",
        "b = int(input())\n",
        "c = a*b\n",
        "print(c)"
      ],
      "execution_count": null,
      "outputs": [
        {
          "output_type": "stream",
          "text": [
            "maths\n",
            "2\n",
            "mathsmaths\n"
          ],
          "name": "stdout"
        }
      ]
    },
    {
      "cell_type": "code",
      "metadata": {
        "colab": {
          "base_uri": "https://localhost:8080/"
        },
        "id": "q4WFYH80Gdxd",
        "outputId": "1f13072a-9ea6-48ad-9d9a-6198e42af953"
      },
      "source": [
        "word = input()\n",
        "n = int(input())\n",
        "length_word = len(word)-3\n",
        "slicing = word[length_word:]*n \n",
        "print(slicing)\n"
      ],
      "execution_count": null,
      "outputs": [
        {
          "output_type": "stream",
          "text": [
            "Transport\n",
            "2\n",
            "ortort\n"
          ],
          "name": "stdout"
        }
      ]
    },
    {
      "cell_type": "code",
      "metadata": {
        "colab": {
          "base_uri": "https://localhost:8080/"
        },
        "id": "FacnsUVeGd1c",
        "outputId": "089e6cbd-ace3-4b8c-9605-098c4cd08daf"
      },
      "source": [
        "digits = input()\n",
        "first = int(digits[0])\n",
        "second = int(digits[1])\n",
        "third = int(digits[2])\n",
        "sum = first+second+third\n",
        "print(sum)\n"
      ],
      "execution_count": null,
      "outputs": [
        {
          "output_type": "stream",
          "text": [
            "326\n",
            "11\n"
          ],
          "name": "stdout"
        }
      ]
    },
    {
      "cell_type": "code",
      "metadata": {
        "colab": {
          "base_uri": "https://localhost:8080/"
        },
        "id": "1Bm-NyKPGd5w",
        "outputId": "b905c691-5089-4428-855f-a8e9151f58c7"
      },
      "source": [
        "num = input()\n",
        "rev = num[-1:]+num[0]\n",
        "print(rev)"
      ],
      "execution_count": null,
      "outputs": [
        {
          "output_type": "stream",
          "text": [
            "21\n",
            "12\n"
          ],
          "name": "stdout"
        }
      ]
    },
    {
      "cell_type": "code",
      "metadata": {
        "colab": {
          "base_uri": "https://localhost:8080/"
        },
        "id": "rt9wvocyGd9W",
        "outputId": "4a82f1a3-5eca-408e-f462-49964c87f014"
      },
      "source": [
        "word = input()\n",
        "num = int(input())\n",
        "sum = word[0:num]\n",
        "su = word[num+1:]\n",
        "sum = sum + su\n",
        "print(sum)"
      ],
      "execution_count": null,
      "outputs": [
        {
          "output_type": "stream",
          "text": [
            "combine\n",
            "4\n",
            "combne\n"
          ],
          "name": "stdout"
        }
      ]
    },
    {
      "cell_type": "code",
      "metadata": {
        "colab": {
          "base_uri": "https://localhost:8080/"
        },
        "id": "K9bylphXGeA3",
        "outputId": "5ecfbb9d-a5a2-4d12-f73f-d6587e0ae7d6"
      },
      "source": [
        "word = input()\n",
        "length = len(word)\n",
        "if length > 7:\n",
        "  print(\"True\")\n",
        "else:\n",
        "  print(\"False\")  "
      ],
      "execution_count": null,
      "outputs": [
        {
          "output_type": "stream",
          "text": [
            "pasword\n",
            "False\n"
          ],
          "name": "stdout"
        }
      ]
    },
    {
      "cell_type": "code",
      "metadata": {
        "colab": {
          "base_uri": "https://localhost:8080/"
        },
        "id": "wMI3iVYpQ76Y",
        "outputId": "03332987-9f03-4fc3-ebdf-e66d814291b2"
      },
      "source": [
        "val = int(input())\n",
        "if val > 25 and val < 75:\n",
        "  print(\"True\")\n",
        "else:\n",
        "  print(\"False\")  \n"
      ],
      "execution_count": null,
      "outputs": [
        {
          "output_type": "stream",
          "text": [
            "56\n",
            "True\n"
          ],
          "name": "stdout"
        }
      ]
    },
    {
      "cell_type": "code",
      "metadata": {
        "colab": {
          "base_uri": "https://localhost:8080/"
        },
        "id": "_NBQZddSQ7-r",
        "outputId": "e9b3dbed-394d-477f-e6e7-0cf36588a4d2"
      },
      "source": [
        "char = input()\n",
        "l = len(char)\n",
        "first = char[0]\n",
        "last = char[l-1]\n",
        "mid = char[1:l-1]\n",
        "star_len = len(mid)\n",
        "mid_area = \"*\"*star_len\n",
        "sum = first+mid_area+last\n",
        "print(sum)"
      ],
      "execution_count": null,
      "outputs": [
        {
          "output_type": "stream",
          "text": [
            "qwerty@2020\n",
            "q*********0\n"
          ],
          "name": "stdout"
        }
      ]
    },
    {
      "cell_type": "code",
      "metadata": {
        "colab": {
          "base_uri": "https://localhost:8080/"
        },
        "id": "Kly_XwRGQ8Cr",
        "outputId": "eb7216d5-2c83-4e2a-e7ec-abd4eac96f8e"
      },
      "source": [
        "student_marks = int(input())\n",
        "if student_marks > 50:\n",
        "  print(\"Pass\")\n",
        "else:\n",
        "  print(\"Fail\")  "
      ],
      "execution_count": null,
      "outputs": [
        {
          "output_type": "stream",
          "text": [
            "85\n",
            "Pass\n"
          ],
          "name": "stdout"
        }
      ]
    },
    {
      "cell_type": "code",
      "metadata": {
        "colab": {
          "base_uri": "https://localhost:8080/"
        },
        "id": "oZfTt2tcQ8Gv",
        "outputId": "0d8ccc34-0975-4a1b-905a-5fcfb30f7b4c"
      },
      "source": [
        "first = int(input())\n",
        "second = int(input())\n",
        "if first > second:\n",
        "  print(first)\n",
        "else:\n",
        "  print(second)  "
      ],
      "execution_count": null,
      "outputs": [
        {
          "output_type": "stream",
          "text": [
            "4\n",
            "3\n",
            "4\n"
          ],
          "name": "stdout"
        }
      ]
    },
    {
      "cell_type": "code",
      "metadata": {
        "colab": {
          "base_uri": "https://localhost:8080/"
        },
        "id": "MOHQ3cGjQ8Ko",
        "outputId": "9c6480b7-a7b4-40df-f914-ab4543eae33f"
      },
      "source": [
        "first = int(input())\n",
        "second = int(input())\n",
        "if first == second:\n",
        "  print(\"Equal\")\n",
        "else:\n",
        "  print(\"Not equal\")  "
      ],
      "execution_count": null,
      "outputs": [
        {
          "output_type": "stream",
          "text": [
            "10\n",
            "5\n",
            "Not equal\n"
          ],
          "name": "stdout"
        }
      ]
    },
    {
      "cell_type": "code",
      "metadata": {
        "colab": {
          "base_uri": "https://localhost:8080/"
        },
        "id": "FY2KvO2MQ8OS",
        "outputId": "3e5f0049-08df-4199-f65f-6219bed9bd03"
      },
      "source": [
        "value = int(input())\n",
        "if value > 0:\n",
        "  print(\"Positive\")\n",
        "elif value < 0:\n",
        "  print(\"Negative\")\n",
        "else:\n",
        "  print(\"Zero\")    "
      ],
      "execution_count": null,
      "outputs": [
        {
          "output_type": "stream",
          "text": [
            "0\n",
            "Zero\n"
          ],
          "name": "stdout"
        }
      ]
    },
    {
      "cell_type": "code",
      "metadata": {
        "colab": {
          "base_uri": "https://localhost:8080/"
        },
        "id": "9MLIcp_dQ8SS",
        "outputId": "ced6dbe4-c0d0-4852-fdad-67e03367d744"
      },
      "source": [
        "length = int(input())\n",
        "breadth = int(input())\n",
        "if length == breadth:\n",
        "  print(\"Square\")\n",
        "else:\n",
        "  print(\"Rectangle\")  "
      ],
      "execution_count": null,
      "outputs": [
        {
          "output_type": "stream",
          "text": [
            "20\n",
            "20\n",
            "Square\n"
          ],
          "name": "stdout"
        }
      ]
    },
    {
      "cell_type": "code",
      "metadata": {
        "colab": {
          "base_uri": "https://localhost:8080/"
        },
        "id": "ATqwFaBQQ8Wu",
        "outputId": "21a027e3-eb10-4e09-c99e-f5649b2fe56e"
      },
      "source": [
        "salary = int(input())\n",
        "bonus = int(input())\n",
        "if bonus > 5:\n",
        "  salary = salary*0.5\n",
        "  print(salary)\n",
        "else:\n",
        "  print(\"No Bonus\")  "
      ],
      "execution_count": null,
      "outputs": [
        {
          "output_type": "stream",
          "text": [
            "25000\n",
            "6\n",
            "12500.0\n"
          ],
          "name": "stdout"
        }
      ]
    },
    {
      "cell_type": "code",
      "metadata": {
        "colab": {
          "base_uri": "https://localhost:8080/"
        },
        "id": "BV17X1uiX93Z",
        "outputId": "1ef7dcec-6c55-4666-9909-210135ff64f1"
      },
      "source": [
        "first = int(input())\n",
        "second = int(input())\n",
        "third = int(input())\n",
        "sum = first+second+third\n",
        "if sum == 180:\n",
        "  print(\"It is a Triangle\")\n",
        "else:\n",
        "  print(\"It is not a Triangle\")  "
      ],
      "execution_count": null,
      "outputs": [
        {
          "output_type": "stream",
          "text": [
            "60\n",
            "60\n",
            "60\n",
            "It is a Triangle\n"
          ],
          "name": "stdout"
        }
      ]
    },
    {
      "cell_type": "code",
      "metadata": {
        "colab": {
          "base_uri": "https://localhost:8080/"
        },
        "id": "ME7zdLNyX97v",
        "outputId": "025f23f7-a12c-48be-de06-c0cb8288ea4c"
      },
      "source": [
        "first = int(input())\n",
        "second = int(input())\n",
        "Third = int(input())\n",
        "sum = first+ second\n",
        "if sum > Third:\n",
        "  print(\"It is a triangle\")\n",
        "else:\n",
        "  print(\"Not a triangle\") "
      ],
      "execution_count": null,
      "outputs": [
        {
          "output_type": "stream",
          "text": [
            "4\n",
            "5\n",
            "3\n",
            "It is a triangle\n"
          ],
          "name": "stdout"
        }
      ]
    },
    {
      "cell_type": "code",
      "metadata": {
        "colab": {
          "base_uri": "https://localhost:8080/"
        },
        "id": "dz0g_-s3X9__",
        "outputId": "2e0336f3-fe7e-4c2e-e5ef-852c7408836b"
      },
      "source": [
        "# lucky number\n",
        "a = int(input())\n",
        "b = int(input())\n",
        "same = ((a ==6) or (b == 6))\n",
        "both_same = (((a+b == 6) or (a-b == 6)))\n",
        "if same or both_same:\n",
        "  print(\"Lucky\")\n",
        "else:\n",
        "  print(\"Not Lucky\")  \n"
      ],
      "execution_count": null,
      "outputs": [
        {
          "output_type": "stream",
          "text": [
            "2\n",
            "3\n",
            "Not Lucky\n"
          ],
          "name": "stdout"
        }
      ]
    },
    {
      "cell_type": "code",
      "metadata": {
        "colab": {
          "base_uri": "https://localhost:8080/"
        },
        "id": "NF-vLKceX-E5",
        "outputId": "d55668e1-2647-48f3-8936-fc0e8667378c"
      },
      "source": [
        "first = int(input())\n",
        "second = int(input())\n",
        "third = int(input())\n",
        "if first > second:\n",
        "  greatest = first\n",
        "else:\n",
        "  greatest = second\n",
        "if third > greatest:\n",
        "  greatest = third\n",
        "print(greatest)    \n"
      ],
      "execution_count": null,
      "outputs": [
        {
          "output_type": "stream",
          "text": [
            "2\n",
            "5\n",
            "7\n",
            "7\n"
          ],
          "name": "stdout"
        }
      ]
    },
    {
      "cell_type": "code",
      "metadata": {
        "colab": {
          "base_uri": "https://localhost:8080/"
        },
        "id": "QPyckOtyX-I-",
        "outputId": "bcfd9f4e-aa1d-41df-d547-6f06c7a21f2d"
      },
      "source": [
        "# even or odd\n",
        "num = int(input())\n",
        "val = (num%2 == 0)\n",
        "if val:\n",
        "  print(\"Even\")\n",
        "else:\n",
        "  print('Odd')  "
      ],
      "execution_count": null,
      "outputs": [
        {
          "output_type": "stream",
          "text": [
            "3\n",
            "Odd\n"
          ],
          "name": "stdout"
        }
      ]
    },
    {
      "cell_type": "code",
      "metadata": {
        "id": "VkrucciwX-M0"
      },
      "source": [
        ""
      ],
      "execution_count": null,
      "outputs": []
    },
    {
      "cell_type": "code",
      "metadata": {
        "colab": {
          "base_uri": "https://localhost:8080/"
        },
        "id": "Z7PoMlNvX-RA",
        "outputId": "8ff477d5-9ac9-4fb0-bea6-3c65ebd1727b"
      },
      "source": [
        "num = input()\n",
        "val = num[0]\n",
        "val1 = num[1]\n",
        "sum = int(val)+ int(val1)\n",
        "seven = val == 7 or val1 == 7\n",
        "multiple = num%7 == 0\n",
        "print(sum)"
      ],
      "execution_count": null,
      "outputs": [
        {
          "output_type": "stream",
          "text": [
            "23\n",
            "5\n"
          ],
          "name": "stdout"
        }
      ]
    },
    {
      "cell_type": "code",
      "metadata": {
        "colab": {
          "base_uri": "https://localhost:8080/"
        },
        "id": "sAPRJMSQX-U2",
        "outputId": "6b9ccd63-61f8-4958-b072-08d5f4fcb33f"
      },
      "source": [
        "# special eleven\n",
        "number = int(input())\n",
        "val = ((number % 11) == 0)\n",
        "multiple = ((number % 11) == 1)\n",
        "if val or multiple:\n",
        "  print(\"Speacial number\")\n",
        "else:\n",
        "  print(\"Normal number\")  "
      ],
      "execution_count": null,
      "outputs": [
        {
          "output_type": "stream",
          "text": [
            "23\n",
            "Speacial number\n"
          ],
          "name": "stdout"
        }
      ]
    },
    {
      "cell_type": "code",
      "metadata": {
        "colab": {
          "base_uri": "https://localhost:8080/"
        },
        "id": "VFi8h9_qX-Yz",
        "outputId": "50b42c48-ecb1-4ca9-e85b-16ce1704b891"
      },
      "source": [
        "number = int(input())\n",
        "remainder_2 = number%2\n",
        "remainder_3 = number%3\n",
        "if (remainder_2 == 0) and (remainder_3 == 0):\n",
        "  print(\"Number is divisible by 6\")\n",
        "elif (remainder_3 == 0): \n",
        "  print(\"Number is divisible by 3\")\n",
        "elif (remainder_2 == 0):\n",
        "  print(\"Number is divisible by 2\")\n",
        "else:\n",
        "  print(\"Number is not divisible by 2,3,6\")      "
      ],
      "execution_count": null,
      "outputs": [
        {
          "output_type": "stream",
          "text": [
            "7\n",
            "Number is not divisible by 2,3,6\n"
          ],
          "name": "stdout"
        }
      ]
    },
    {
      "cell_type": "code",
      "metadata": {
        "colab": {
          "base_uri": "https://localhost:8080/"
        },
        "id": "YowXtSfCX-co",
        "outputId": "28c85cb4-57c5-4ba3-edc3-f71e39e26d6d"
      },
      "source": [
        "# power of a number\n",
        "num1 = int(input())\n",
        "power = int(input())\n",
        "value = (num1 ** power)\n",
        "print(value)\n"
      ],
      "execution_count": null,
      "outputs": [
        {
          "output_type": "stream",
          "text": [
            "3\n",
            "2\n",
            "9\n"
          ],
          "name": "stdout"
        }
      ]
    },
    {
      "cell_type": "code",
      "metadata": {
        "colab": {
          "base_uri": "https://localhost:8080/"
        },
        "id": "4PVIf3JZyZrV",
        "outputId": "82fe0bb2-883f-4a17-c310-8e7a97f76d86"
      },
      "source": [
        "number = input()\n",
        "sd = number[0]\n",
        "sd2 = number[1]\n",
        "sd = int(sd)\n",
        "sd2 = int(sd2)\n",
        "number = int(number)\n",
        "is_nine = sd == 9 or sd2 == 9\n",
        "is_mul = (number % 9 == 0)\n",
        "\n",
        "is_mul = int(is_mul)\n",
        "if is_nine or is_mul:\n",
        "  print(\"Luckiest number\")\n",
        "else:\n",
        "  print(\"Unlucky number\")  "
      ],
      "execution_count": null,
      "outputs": [
        {
          "output_type": "stream",
          "text": [
            "29\n",
            "Luckiest number\n"
          ],
          "name": "stdout"
        }
      ]
    },
    {
      "cell_type": "code",
      "metadata": {
        "id": "uJ5wgNIcyZxd"
      },
      "source": [
        " # realtion between two numbers\n",
        " "
      ],
      "execution_count": null,
      "outputs": []
    },
    {
      "cell_type": "code",
      "metadata": {
        "colab": {
          "base_uri": "https://localhost:8080/"
        },
        "id": "p9rDM9i8dmbl",
        "outputId": "98d94399-46d3-4679-df13-fbe890a448cf"
      },
      "source": [
        "first = int(input())\n",
        "second = int(input())\n",
        "if (first == second):\n",
        "  print(\"A==B\")\n",
        "elif (first > second):\n",
        "  print(\"A>B\")\n",
        "elif (first < second):\n",
        "  print(\"A<B\")    "
      ],
      "execution_count": null,
      "outputs": [
        {
          "output_type": "stream",
          "text": [
            "3\n",
            "4\n",
            "A<B\n"
          ],
          "name": "stdout"
        }
      ]
    },
    {
      "cell_type": "code",
      "metadata": {
        "colab": {
          "base_uri": "https://localhost:8080/"
        },
        "id": "YS6LfwHodmio",
        "outputId": "fde310e6-361c-4be6-d2f2-6eabe8ab377c"
      },
      "source": [
        "# Get grades\n",
        "marks = int(input())\n",
        "if marks > 85:\n",
        "  print(\"A\")\n",
        "elif marks > 70 and marks <= 85:\n",
        "  print(\"B\")\n",
        "elif marks >= 60 and marks <= 70:\n",
        "  print(\"C\")\n",
        "elif marks < 60:\n",
        "  print(\"F\")    "
      ],
      "execution_count": null,
      "outputs": [
        {
          "output_type": "stream",
          "text": [
            "63\n",
            "C\n"
          ],
          "name": "stdout"
        }
      ]
    },
    {
      "cell_type": "code",
      "metadata": {
        "colab": {
          "base_uri": "https://localhost:8080/"
        },
        "id": "IZ61DQF_dmqf",
        "outputId": "c9feb7d5-7d17-42c2-902b-ee18998d1680"
      },
      "source": [
        "# Greating message\n",
        "time = int(input())\n",
        "if time >= 4 and time < 12:\n",
        "  print(\"Good Morning\")\n",
        "elif time >= 12 and time < 16:\n",
        "  print(\"Good afternoon\")\n",
        "elif time >= 16 and time < 20:  \n",
        "  print(\"Good evening\")\n",
        "elif time >= 20 or time < 4:\n",
        "  print('Good Night')    "
      ],
      "execution_count": null,
      "outputs": [
        {
          "output_type": "stream",
          "text": [
            "7\n",
            "Good Morning\n"
          ],
          "name": "stdout"
        }
      ]
    },
    {
      "cell_type": "code",
      "metadata": {
        "id": "62OUp_pgdmwJ"
      },
      "source": [
        ""
      ],
      "execution_count": null,
      "outputs": []
    },
    {
      "cell_type": "code",
      "metadata": {
        "colab": {
          "base_uri": "https://localhost:8080/"
        },
        "id": "7yhqXJkbyZ41",
        "outputId": "1772299c-0b8f-4870-d4dc-8cf25e36b686"
      },
      "source": [
        "# Name of the polygon\n",
        "name = int(input())\n",
        "if name < 3:\n",
        "  print(\"Not a polygon\")\n",
        "elif name == 3:\n",
        "  print(\"Triangle\")\n",
        "elif name ==4:\n",
        "  print(\"Quadrilateral\")\n",
        "elif name ==5:\n",
        "  print(\"Pentagon\")\n",
        "else:\n",
        "  print(\"Big Polygon\")        "
      ],
      "execution_count": null,
      "outputs": [
        {
          "output_type": "stream",
          "text": [
            "6\n",
            "Big Polygon\n"
          ],
          "name": "stdout"
        }
      ]
    },
    {
      "cell_type": "code",
      "metadata": {
        "colab": {
          "base_uri": "https://localhost:8080/"
        },
        "id": "ZBof5AHHyZ-e",
        "outputId": "40085e9a-8a94-4306-d439-eef87bec736c"
      },
      "source": [
        "season = input()\n",
        "if \"november\" or \"December\" or \"January\":\n",
        "  print(\"Winter\")\n",
        "elif \"Feb\" or \"march\":\n",
        "  print(\"Spring\")  "
      ],
      "execution_count": null,
      "outputs": [
        {
          "output_type": "stream",
          "text": [
            "January\n",
            "Winter\n"
          ],
          "name": "stdout"
        }
      ]
    },
    {
      "cell_type": "code",
      "metadata": {
        "colab": {
          "base_uri": "https://localhost:8080/"
        },
        "id": "IwEPVqCsyaD4",
        "outputId": "30365a76-382a-4be0-945b-0b0864b30e48"
      },
      "source": [
        "attendence = int(input())\n",
        "medical = input()\n",
        "if attendence >= 75:\n",
        "  print(\"Allow to write the exam\")\n",
        "elif attendence < 75 and medical == \"Y\":\n",
        "  print(\"Allowed to write the exam\")\n",
        "else:\n",
        "  print(\"Cannot write the exam\")  "
      ],
      "execution_count": null,
      "outputs": [
        {
          "output_type": "stream",
          "text": [
            "75\n",
            "Y\n",
            "Allow to write the exam\n"
          ],
          "name": "stdout"
        }
      ]
    },
    {
      "cell_type": "code",
      "metadata": {
        "colab": {
          "base_uri": "https://localhost:8080/"
        },
        "id": "6v_zQidRyaJY",
        "outputId": "695b54f2-b42b-45bb-a582-3d1ddd102ac8"
      },
      "source": [
        "# Loops \n",
        "num = int(input())\n",
        "for i in range(1,num+1):\n",
        "  print(i)"
      ],
      "execution_count": null,
      "outputs": [
        {
          "output_type": "stream",
          "text": [
            "3\n",
            "1\n",
            "2\n",
            "3\n"
          ],
          "name": "stdout"
        }
      ]
    },
    {
      "cell_type": "code",
      "metadata": {
        "colab": {
          "base_uri": "https://localhost:8080/"
        },
        "id": "e1Jze2O7yaOv",
        "outputId": "073069b2-c8c9-4b37-f4f2-011cb20bffab"
      },
      "source": [
        "num = int(input())\n",
        "count = 1\n",
        "while count <= num:\n",
        "  print(count)\n",
        "  count+=1"
      ],
      "execution_count": null,
      "outputs": [
        {
          "output_type": "stream",
          "text": [
            "3\n",
            "1\n",
            "2\n",
            "3\n"
          ],
          "name": "stdout"
        }
      ]
    },
    {
      "cell_type": "code",
      "metadata": {
        "colab": {
          "base_uri": "https://localhost:8080/"
        },
        "id": "5MQRI0thyaUc",
        "outputId": "3f4929e7-c398-4fbc-dc20-e8119d98f87d"
      },
      "source": [
        "# print Integers - 2\n",
        "number1 = int(input())\n",
        "number2 = int(input())\n",
        "for i in range(number1,number2+1):\n",
        "  print(i)"
      ],
      "execution_count": null,
      "outputs": [
        {
          "output_type": "stream",
          "text": [
            "-2\n",
            "2\n",
            "-2\n",
            "-1\n",
            "0\n",
            "1\n",
            "2\n"
          ],
          "name": "stdout"
        }
      ]
    },
    {
      "cell_type": "code",
      "metadata": {
        "colab": {
          "base_uri": "https://localhost:8080/"
        },
        "id": "tLpAH3hlogi2",
        "outputId": "53921030-0a47-4377-ab0a-6636533dab26"
      },
      "source": [
        "num1 = int(input())\n",
        "num2 = int(input())\n",
        "while num1 <= num2:\n",
        "  print(num1)\n",
        "  num1 += 1"
      ],
      "execution_count": null,
      "outputs": [
        {
          "output_type": "stream",
          "text": [
            "2\n",
            "6\n",
            "2\n",
            "3\n",
            "4\n",
            "5\n",
            "6\n"
          ],
          "name": "stdout"
        }
      ]
    },
    {
      "cell_type": "code",
      "metadata": {
        "colab": {
          "base_uri": "https://localhost:8080/"
        },
        "id": "DzHFeWqQognR",
        "outputId": "7efdcf04-0920-4c8f-c56f-6dd35239df39"
      },
      "source": [
        "num = int(input())\n",
        "counter = 0\n",
        "while counter < num:\n",
        "  print(\"* \"*num)\n",
        "  counter += 1"
      ],
      "execution_count": null,
      "outputs": [
        {
          "output_type": "stream",
          "text": [
            "4\n",
            "* * * * \n",
            "* * * * \n",
            "* * * * \n",
            "* * * * \n"
          ],
          "name": "stdout"
        }
      ]
    },
    {
      "cell_type": "code",
      "metadata": {
        "colab": {
          "base_uri": "https://localhost:8080/"
        },
        "id": "z1RJYDiAogr8",
        "outputId": "7d7a99cd-ab96-4594-df2b-4f0d2880d09f"
      },
      "source": [
        "num = int(input())\n",
        "for i in range(1,num+1):\n",
        "  print(\"* \"*num)"
      ],
      "execution_count": null,
      "outputs": [
        {
          "output_type": "stream",
          "text": [
            "4\n",
            "* * * * \n",
            "* * * * \n",
            "* * * * \n",
            "* * * * \n"
          ],
          "name": "stdout"
        }
      ]
    },
    {
      "cell_type": "code",
      "metadata": {
        "colab": {
          "base_uri": "https://localhost:8080/"
        },
        "id": "gCPEFcnuogwd",
        "outputId": "1d600a43-4630-498c-8e5e-16bbebc982a8"
      },
      "source": [
        "row = int(input())\n",
        "column = int(input())\n",
        "counter = 0\n",
        "while counter < row:\n",
        "  print(\"* \"*column)\n",
        "  counter += 1"
      ],
      "execution_count": null,
      "outputs": [
        {
          "output_type": "stream",
          "text": [
            "4\n",
            "6\n",
            "* * * * * * \n",
            "* * * * * * \n",
            "* * * * * * \n",
            "* * * * * * \n"
          ],
          "name": "stdout"
        }
      ]
    },
    {
      "cell_type": "code",
      "metadata": {
        "colab": {
          "base_uri": "https://localhost:8080/"
        },
        "id": "6Q4E4xvcog0r",
        "outputId": "948207c0-5e6d-4246-eb90-d2bb3126fe5e"
      },
      "source": [
        "num = int(input())\n",
        "for i in range(1,num+1):\n",
        "  print(\"* \"*i)"
      ],
      "execution_count": null,
      "outputs": [
        {
          "output_type": "stream",
          "text": [
            "5\n",
            "* \n",
            "* * \n",
            "* * * \n",
            "* * * * \n",
            "* * * * * \n"
          ],
          "name": "stdout"
        }
      ]
    },
    {
      "cell_type": "code",
      "metadata": {
        "colab": {
          "base_uri": "https://localhost:8080/"
        },
        "id": "s4WBOg5Jog5v",
        "outputId": "11c10cca-40e5-4f47-e4d8-e5b63db9422f"
      },
      "source": [
        "num = int(input())\n",
        "counter = 1\n",
        "while counter <= num:\n",
        "  print(\"* \"*counter)\n",
        "  counter+=1"
      ],
      "execution_count": null,
      "outputs": [
        {
          "output_type": "stream",
          "text": [
            "2\n",
            "* \n",
            "* * \n"
          ],
          "name": "stdout"
        }
      ]
    },
    {
      "cell_type": "code",
      "metadata": {
        "colab": {
          "base_uri": "https://localhost:8080/"
        },
        "id": "ZUa1EB1aog-P",
        "outputId": "c01e0bf3-4fef-4609-fb70-dd80644871d0"
      },
      "source": [
        "# sum of natural numbers\n",
        "num = int(input())\n",
        "sum = 0\n",
        "for i in range(0,num+1):\n",
        "  sum = sum+i\n",
        "print(sum)  "
      ],
      "execution_count": null,
      "outputs": [
        {
          "output_type": "stream",
          "text": [
            "6\n",
            "21\n"
          ],
          "name": "stdout"
        }
      ]
    },
    {
      "cell_type": "code",
      "metadata": {
        "colab": {
          "base_uri": "https://localhost:8080/"
        },
        "id": "_O5iwJfXohEY",
        "outputId": "71098594-0303-49b6-b1f5-ab9e661c9875"
      },
      "source": [
        "# sum of natural numbers\n",
        "num = int(input())\n",
        "count = 0\n",
        "sum = 0\n",
        "while count <= num:\n",
        "  sum = sum + count\n",
        "  count += 1\n",
        "print(sum)\n",
        "  \n"
      ],
      "execution_count": null,
      "outputs": [
        {
          "output_type": "stream",
          "text": [
            "6\n",
            "21\n"
          ],
          "name": "stdout"
        }
      ]
    },
    {
      "cell_type": "code",
      "metadata": {
        "colab": {
          "base_uri": "https://localhost:8080/"
        },
        "id": "bAtVgdoKohJu",
        "outputId": "d9549a51-ab25-4a65-c607-ccdcd2ae3cdf"
      },
      "source": [
        "# Read inputs\n",
        "num = int(input())\n",
        "count = 0\n",
        "while count < num:\n",
        "  n = int(input())\n",
        "  print(n)\n",
        "  count += 1"
      ],
      "execution_count": null,
      "outputs": [
        {
          "output_type": "stream",
          "text": [
            "3\n",
            "8\n",
            "8\n",
            "11\n",
            "11\n",
            "25\n",
            "25\n"
          ],
          "name": "stdout"
        }
      ]
    },
    {
      "cell_type": "code",
      "metadata": {
        "colab": {
          "base_uri": "https://localhost:8080/"
        },
        "id": "SFlOQxn3ohNm",
        "outputId": "700f8a86-58f3-488d-cc40-2a870b3e3cd7"
      },
      "source": [
        "# sum of read inputs\n",
        "num  = int(input())\n",
        "count = 0\n",
        "sum = 0\n",
        "while count < num:\n",
        "  n = int(input())\n",
        "  sum = sum +n\n",
        "  count += 1\n",
        "print(sum)  \n"
      ],
      "execution_count": null,
      "outputs": [
        {
          "output_type": "stream",
          "text": [
            "3\n",
            "10\n",
            "10\n",
            "10\n",
            "30\n"
          ],
          "name": "stdout"
        }
      ]
    },
    {
      "cell_type": "code",
      "metadata": {
        "colab": {
          "base_uri": "https://localhost:8080/"
        },
        "id": "a-_9IZ8f7hAW",
        "outputId": "14571491-fe86-4ce5-c9ad-2a6bbdfce609"
      },
      "source": [
        "# print characters\n",
        "word = input()\n",
        "len_word = len(word)\n",
        "count = 0\n",
        "while count <= len_word-1:\n",
        "  print(word[count])\n",
        "  count+=1\n",
        "\n"
      ],
      "execution_count": null,
      "outputs": [
        {
          "output_type": "stream",
          "text": [
            "srikanth\n",
            "s\n",
            "r\n",
            "i\n",
            "k\n",
            "a\n",
            "n\n",
            "t\n",
            "h\n"
          ],
          "name": "stdout"
        }
      ]
    },
    {
      "cell_type": "code",
      "metadata": {
        "colab": {
          "base_uri": "https://localhost:8080/"
        },
        "id": "z3MYMN7k7hJW",
        "outputId": "d6b1fc35-77bd-45b3-c056-4d6dd6e78a78"
      },
      "source": [
        "num = int(input())\n",
        "for i in range(1,num+1):\n",
        "  print(i)"
      ],
      "execution_count": null,
      "outputs": [
        {
          "output_type": "stream",
          "text": [
            "5\n",
            "1\n",
            "2\n",
            "3\n",
            "4\n",
            "5\n"
          ],
          "name": "stdout"
        }
      ]
    },
    {
      "cell_type": "code",
      "metadata": {
        "colab": {
          "base_uri": "https://localhost:8080/"
        },
        "id": "6wMsFq_w7hPm",
        "outputId": "ce3791ef-0fc7-480e-d0f5-d962f5f93194"
      },
      "source": [
        "m = int(input())\n",
        "n = int(input())\n",
        "for i in range(m,n+1):\n",
        "  print(i)\n"
      ],
      "execution_count": null,
      "outputs": [
        {
          "output_type": "stream",
          "text": [
            "2\n",
            "6\n",
            "2\n",
            "3\n",
            "4\n",
            "5\n",
            "6\n"
          ],
          "name": "stdout"
        }
      ]
    },
    {
      "cell_type": "code",
      "metadata": {
        "colab": {
          "base_uri": "https://localhost:8080/"
        },
        "id": "hQhelID57hVy",
        "outputId": "d4e95c03-6de7-481e-c9a9-fb16c047b5e0"
      },
      "source": [
        "# style word\n",
        "word = input()\n",
        "length = len(word)\n",
        "b = word[0]\n",
        "for i in range(1,length):\n",
        "  b = b + \"-\"+word[i]\n",
        "print(b)  "
      ],
      "execution_count": null,
      "outputs": [
        {
          "output_type": "stream",
          "text": [
            "python\n",
            "p-y-t-h-o-n\n"
          ],
          "name": "stdout"
        }
      ]
    },
    {
      "cell_type": "code",
      "metadata": {
        "colab": {
          "base_uri": "https://localhost:8080/"
        },
        "id": "DLbeln3r7hdg",
        "outputId": "173d8dc1-119a-4b69-87df-ac1addd9cfd4"
      },
      "source": [
        "# Date format\n",
        "date = input()\n",
        "date = date.replace(\"-\",\"/\")\n",
        "print(date)"
      ],
      "execution_count": null,
      "outputs": [
        {
          "output_type": "stream",
          "text": [
            "20-20-1995\n",
            "20/20/1995\n"
          ],
          "name": "stdout"
        }
      ]
    },
    {
      "cell_type": "code",
      "metadata": {
        "colab": {
          "base_uri": "https://localhost:8080/"
        },
        "id": "jWeT6gTS7hkV",
        "outputId": "d469b4fa-1d6c-44c2-b529-ff93c5d76046"
      },
      "source": [
        "password = input()\n",
        "contains_digit = False\n",
        "for character in password:\n",
        "  is_digit = character.isdigit()\n",
        "  if is_digit:\n",
        "    contains_digit = True\n",
        "if is_digit:\n",
        "  print(\"Valid password\")\n",
        "else:\n",
        "  print('Invalid password')      "
      ],
      "execution_count": null,
      "outputs": [
        {
          "output_type": "stream",
          "text": [
            "qwerty\n",
            "Invalid password\n"
          ],
          "name": "stdout"
        }
      ]
    },
    {
      "cell_type": "code",
      "metadata": {
        "colab": {
          "base_uri": "https://localhost:8080/"
        },
        "id": "8RHRqh_O7hrD",
        "outputId": "b456b7a9-d2ff-4ee7-9ffb-e8d23772887a"
      },
      "source": [
        "word = input()\n",
        "strin = \"\"\n",
        "for char in word:\n",
        "  uppercase = char.upper()\n",
        "  if uppercase == char:\n",
        "    strin = strin+char.lower()\n",
        "  else:\n",
        "    strin = strin+char.upper()\n",
        "print(strin)      "
      ],
      "execution_count": null,
      "outputs": [
        {
          "output_type": "stream",
          "text": [
            "Srikanth\n",
            "sRIKANTH\n"
          ],
          "name": "stdout"
        }
      ]
    },
    {
      "cell_type": "code",
      "metadata": {
        "colab": {
          "base_uri": "https://localhost:8080/"
        },
        "id": "7_NAZiID7hxz",
        "outputId": "881d23dd-69e2-4bc7-919e-91a9b1f5fedc"
      },
      "source": [
        "#factorial number\n",
        "num = int(input())\n",
        "factorial = 1\n",
        "for i in range(1,num+1):\n",
        "  factorial = factorial*i\n",
        "print(factorial)  "
      ],
      "execution_count": null,
      "outputs": [
        {
          "output_type": "stream",
          "text": [
            "4\n",
            "24\n"
          ],
          "name": "stdout"
        }
      ]
    },
    {
      "cell_type": "code",
      "metadata": {
        "colab": {
          "base_uri": "https://localhost:8080/"
        },
        "id": "IaazUD7h7h3r",
        "outputId": "42688d4f-15ed-4e13-ab63-1900a77318ba"
      },
      "source": [
        "m = int(input())\n",
        "n = int(input())\n",
        "s = 0\n",
        "for i in range(m,n+1):\n",
        "  s = s+i\n",
        "print(s)  \n"
      ],
      "execution_count": null,
      "outputs": [
        {
          "output_type": "stream",
          "text": [
            "2\n",
            "6\n",
            "20\n"
          ],
          "name": "stdout"
        }
      ]
    },
    {
      "cell_type": "code",
      "metadata": {
        "colab": {
          "base_uri": "https://localhost:8080/"
        },
        "id": "QSoQfOJ87iA0",
        "outputId": "c7c21769-55c2-4059-db2c-792f8a2d2e83"
      },
      "source": [
        "# sum of first n even numbers\n",
        "m = int(input())\n",
        "val = 0\n",
        "for i in range(0,m+1):\n",
        "  if i%2 == 0:\n",
        "    val += i\n",
        "print(val)    "
      ],
      "execution_count": null,
      "outputs": [
        {
          "output_type": "stream",
          "text": [
            "100\n",
            "2550\n"
          ],
          "name": "stdout"
        }
      ]
    },
    {
      "cell_type": "code",
      "metadata": {
        "colab": {
          "base_uri": "https://localhost:8080/"
        },
        "id": "TTMO1naO7iGh",
        "outputId": "775ac3a4-8692-409a-b11c-4ae1f0f0f22e"
      },
      "source": [
        "n = int(input())\n",
        "val = 0\n",
        "for i in range(0,n+1):\n",
        "  if i%2 == 1:\n",
        "    val += i\n",
        "print(val)    \n"
      ],
      "execution_count": null,
      "outputs": [
        {
          "output_type": "stream",
          "text": [
            "6\n",
            "9\n"
          ],
          "name": "stdout"
        }
      ]
    },
    {
      "cell_type": "code",
      "metadata": {
        "colab": {
          "base_uri": "https://localhost:8080/"
        },
        "id": "JgEmuTNT7iMU",
        "outputId": "f13c0976-74ae-4ee1-ea27-6890bad5901a"
      },
      "source": [
        "m  = int(input())\n",
        "sum = 0\n",
        "for i in range(1,m+1):\n",
        "  if (i%2) == 1:\n",
        "    sum = sum+i\n",
        "print(sum)    \n",
        "\n"
      ],
      "execution_count": null,
      "outputs": [
        {
          "output_type": "stream",
          "text": [
            "10\n",
            "25\n"
          ],
          "name": "stdout"
        }
      ]
    },
    {
      "cell_type": "code",
      "metadata": {
        "colab": {
          "base_uri": "https://localhost:8080/"
        },
        "id": "bf9lz5Gt_m46",
        "outputId": "204a5265-7c2b-4b7e-b4dd-7b443124c17b"
      },
      "source": [
        "# sum even numbers from m to n\n",
        "m = int(input())\n",
        "n = int(input())\n",
        "total = 0\n",
        "for i in range(m,n+1):\n",
        "  if (i%2) == 0:\n",
        "    total = total + i\n",
        "print(total)    "
      ],
      "execution_count": null,
      "outputs": [
        {
          "output_type": "stream",
          "text": [
            "2\n",
            "6\n",
            "12\n"
          ],
          "name": "stdout"
        }
      ]
    },
    {
      "cell_type": "code",
      "metadata": {
        "colab": {
          "base_uri": "https://localhost:8080/"
        },
        "id": "0KPwLmjV_nDk",
        "outputId": "700be19c-2360-4334-8393-d9d1374e2be1"
      },
      "source": [
        "# sum odd numbers from m to n\n",
        "m = int(input())\n",
        "n = int(input())\n",
        "total = 0\n",
        "for i in range(m,n+1):\n",
        "  if (i%2) == 1:\n",
        "    total = total+i\n",
        "print(total)    "
      ],
      "execution_count": null,
      "outputs": [
        {
          "output_type": "stream",
          "text": [
            "5\n",
            "13\n",
            "45\n"
          ],
          "name": "stdout"
        }
      ]
    },
    {
      "cell_type": "code",
      "metadata": {
        "colab": {
          "base_uri": "https://localhost:8080/"
        },
        "id": "0vHAFcwl_nJ3",
        "outputId": "0027f346-bef1-48e3-904b-b60a217cb664"
      },
      "source": [
        "# sum of numbers divisible by T\n",
        "T = int(input())\n",
        "M = int(input())\n",
        "N = int(input())\n",
        "total = 0\n",
        "for i in range(m,n+1):\n",
        "  if i%T == 0:\n",
        "    total += i\n",
        "print(total)    "
      ],
      "execution_count": null,
      "outputs": [
        {
          "output_type": "stream",
          "text": [
            "2\n",
            "6\n",
            "8\n",
            "36\n"
          ],
          "name": "stdout"
        }
      ]
    },
    {
      "cell_type": "markdown",
      "metadata": {
        "id": "blAJbKA1uSjf"
      },
      "source": [
        ""
      ]
    },
    {
      "cell_type": "code",
      "metadata": {
        "colab": {
          "base_uri": "https://localhost:8080/"
        },
        "id": "u6TXjeYW_nQh",
        "outputId": "ea54772a-ece6-4419-c835-68a5eb8b841c"
      },
      "source": [
        "# sum of the squares of the N natural numbers\n",
        "m = int(input())\n",
        "total = 0\n",
        "for i in range(1,m+1):\n",
        "  total = total + (i*i)\n",
        "print(total)\n",
        " "
      ],
      "execution_count": null,
      "outputs": [
        {
          "output_type": "stream",
          "text": [
            "3\n",
            "14\n"
          ],
          "name": "stdout"
        }
      ]
    },
    {
      "cell_type": "code",
      "metadata": {
        "colab": {
          "base_uri": "https://localhost:8080/"
        },
        "id": "nufYf3mq_nWj",
        "outputId": "d68ab609-2908-4179-e63d-47ad41e53d74"
      },
      "source": [
        "# sum and average of the 10 numbers\n",
        "m = int(input())\n",
        "sum = 0\n",
        "average = 0\n",
        "for i in range(1,m+1):\n",
        "  sum = sum+i\n",
        "  average = sum/m\n",
        " \n",
        "print(average)  "
      ],
      "execution_count": null,
      "outputs": [
        {
          "output_type": "stream",
          "text": [
            "5\n",
            "3.0\n"
          ],
          "name": "stdout"
        }
      ]
    },
    {
      "cell_type": "code",
      "metadata": {
        "colab": {
          "base_uri": "https://localhost:8080/"
        },
        "id": "ovE1fKmc_ncp",
        "outputId": "a1129c37-6d3a-4616-ab7b-423766ed9462"
      },
      "source": [
        "# sum of digits\n",
        "num = input()\n",
        "sum = 0\n",
        "for i in num:\n",
        "  sum = sum + int(i)\n",
        "print(sum)\n"
      ],
      "execution_count": null,
      "outputs": [
        {
          "output_type": "stream",
          "text": [
            "692\n",
            "17\n"
          ],
          "name": "stdout"
        }
      ]
    },
    {
      "cell_type": "code",
      "metadata": {
        "colab": {
          "base_uri": "https://localhost:8080/"
        },
        "id": "AfNse7el_n-5",
        "outputId": "f64ec234-4d2d-4e40-a897-829f1bc1a655"
      },
      "source": [
        "# multiplication table\n",
        "m  = int(input())\n",
        "n = int(input())\n",
        "for i in range(1,n+1):\n",
        "  print(str(m)+\" * \"+str(i)+\" = \"+str(m*i))"
      ],
      "execution_count": null,
      "outputs": [
        {
          "output_type": "stream",
          "text": [
            "2\n",
            "10\n",
            "2 * 1 = 2\n",
            "2 * 2 = 4\n",
            "2 * 3 = 6\n",
            "2 * 4 = 8\n",
            "2 * 5 = 10\n",
            "2 * 6 = 12\n",
            "2 * 7 = 14\n",
            "2 * 8 = 16\n",
            "2 * 9 = 18\n",
            "2 * 10 = 20\n"
          ],
          "name": "stdout"
        }
      ]
    },
    {
      "cell_type": "code",
      "metadata": {
        "colab": {
          "base_uri": "https://localhost:8080/"
        },
        "id": "ZPd2dVjG_oF1",
        "outputId": "d7f8669b-553e-466a-8b0d-e668618cd127"
      },
      "source": [
        "n = input()\n",
        "stri = \"\"\n",
        "for i in n:\n",
        "  stri = i +stri\n",
        "print(stri)"
      ],
      "execution_count": null,
      "outputs": [
        {
          "output_type": "stream",
          "text": [
            "srikanth\n",
            "htnakirs\n"
          ],
          "name": "stdout"
        }
      ]
    },
    {
      "cell_type": "code",
      "metadata": {
        "colab": {
          "base_uri": "https://localhost:8080/"
        },
        "id": "g2Zwci0H_oYy",
        "outputId": "5452dc72-5465-45ba-9f18-f6051b3303c0"
      },
      "source": [
        "# palindrome\n",
        "name = input()\n",
        "sr = \"\"\n",
        "for i in name:\n",
        "  sr = i + sr\n",
        "if sr == name:\n",
        "  print(\"Palindrome\")\n",
        "else:\n",
        "  print(\"Not Palindrome\")  "
      ],
      "execution_count": null,
      "outputs": [
        {
          "output_type": "stream",
          "text": [
            "srikanth\n",
            "Not Palindrome\n"
          ],
          "name": "stdout"
        }
      ]
    },
    {
      "cell_type": "code",
      "metadata": {
        "colab": {
          "base_uri": "https://localhost:8080/"
        },
        "id": "wnq-h3lJ_oew",
        "outputId": "dd5452fb-545f-4af9-fd8a-8c5081647a17"
      },
      "source": [
        "num = int(input())\n",
        "great = 0\n",
        "for i in range(num+1):\n",
        "  n = int(input())\n",
        "  if n > great:\n",
        "    great = n\n",
        "print(\"Greatest number is : \",great)"
      ],
      "execution_count": null,
      "outputs": [
        {
          "output_type": "stream",
          "text": [
            "4\n",
            "1\n",
            "2\n",
            "3\n",
            "4\n",
            "5\n",
            "Greatest number is :  5\n"
          ],
          "name": "stdout"
        }
      ]
    },
    {
      "cell_type": "code",
      "metadata": {
        "colab": {
          "base_uri": "https://localhost:8080/"
        },
        "id": "wrWaL2LJ_okm",
        "outputId": "06ccdd53-b9a3-4b9e-87bb-32f8872a374b"
      },
      "source": [
        "# Smallest among N numbers\n",
        "num = int(input())\n",
        "smal = 0\n",
        "for i in range(1,num+1):\n",
        "  val = int(input())\n",
        "  if smal > val:\n",
        "    smal = val\n",
        "print(\"Smallest value is : \",smal)    "
      ],
      "execution_count": null,
      "outputs": [
        {
          "output_type": "stream",
          "text": [
            "3\n",
            "100\n",
            "200\n",
            "300\n",
            "Smallest value is :  0\n"
          ],
          "name": "stdout"
        }
      ]
    },
    {
      "cell_type": "code",
      "metadata": {
        "colab": {
          "base_uri": "https://localhost:8080/"
        },
        "id": "nxIHGsmPjjh0",
        "outputId": "53c5338f-17ee-449b-892d-e1aede9a8593"
      },
      "source": [
        "# sum of series\n",
        "num = int(input())\n",
        "term = \"2\"\n",
        "total = 0\n",
        "for i in range(1,num+1):\n",
        "  term_1 = term*i\n",
        "  total = total + int(term_1)\n",
        "print(total)  "
      ],
      "execution_count": null,
      "outputs": [
        {
          "output_type": "stream",
          "text": [
            "4\n",
            "2468\n"
          ],
          "name": "stdout"
        }
      ]
    },
    {
      "cell_type": "code",
      "metadata": {
        "colab": {
          "base_uri": "https://localhost:8080/"
        },
        "id": "ge9vRFSOjjm-",
        "outputId": "f857fdca-16e1-4b1b-8014-75b76521c3b3"
      },
      "source": [
        "# factors of numbers\n",
        "num = int(input())\n",
        "val = 0\n",
        "for i in range(1, num+1):\n",
        "  if num%i == 0:\n",
        "    print(i)   "
      ],
      "execution_count": null,
      "outputs": [
        {
          "output_type": "stream",
          "text": [
            "6\n",
            "1\n",
            "2\n",
            "3\n",
            "6\n"
          ],
          "name": "stdout"
        }
      ]
    },
    {
      "cell_type": "code",
      "metadata": {
        "colab": {
          "base_uri": "https://localhost:8080/"
        },
        "id": "HIWaWRG7jjuA",
        "outputId": "0530cf3a-8c89-4f39-d9b6-babed77a9691"
      },
      "source": [
        "# Perfect number\n",
        "Num = int(input())\n",
        "total = 0\n",
        "for i in range(1,Num+1):\n",
        "  if Num%i == 0:\n",
        "    total = total + i\n",
        "if total == Num:\n",
        "  print(\"Perfect number\")\n",
        "else:\n",
        "  print(\"Not Perfect number\")      \n",
        "\n",
        "print(total)"
      ],
      "execution_count": null,
      "outputs": [
        {
          "output_type": "stream",
          "text": [
            "21\n",
            "Not Perfect number\n",
            "32\n"
          ],
          "name": "stdout"
        }
      ]
    },
    {
      "cell_type": "code",
      "metadata": {
        "colab": {
          "base_uri": "https://localhost:8080/"
        },
        "id": "P8BxTWtxjmZS",
        "outputId": "7f18fdb7-d254-4d30-fe82-197d92366c3b"
      },
      "source": [
        "# Armstrong number\n",
        "num = input()\n",
        "length = len(num)\n",
        "total = 0\n",
        "for i in num:\n",
        "  total = total + (int(i)**length)\n",
        "if total == int(num):\n",
        "  print(\"Armstrong number\")\n",
        "else:\n",
        "  print(\"Not Armstrong number\")    \n",
        "  \n",
        "\n"
      ],
      "execution_count": null,
      "outputs": [
        {
          "output_type": "stream",
          "text": [
            "153\n",
            "Armstrong number\n"
          ],
          "name": "stdout"
        }
      ]
    },
    {
      "cell_type": "code",
      "metadata": {
        "colab": {
          "base_uri": "https://localhost:8080/"
        },
        "id": "jdFd89o6jjzW",
        "outputId": "2476d05e-32a3-4c4a-86b6-cc6ab9b3cae7"
      },
      "source": [
        "n = int(input()) \n",
        "for i in range(n):\n",
        "  if (i==0) or (i == (n-1)):\n",
        "    print(\"* \"*n)\n",
        "  else:\n",
        "    space = \" \" *(n+1)  \n",
        "    print(\"* \"+space+\" *\")"
      ],
      "execution_count": null,
      "outputs": [
        {
          "output_type": "stream",
          "text": [
            "6\n",
            "* * * * * * \n",
            "*         *\n",
            "*         *\n",
            "*         *\n",
            "*         *\n",
            "* * * * * * \n"
          ],
          "name": "stdout"
        }
      ]
    },
    {
      "cell_type": "code",
      "metadata": {
        "colab": {
          "base_uri": "https://localhost:8080/"
        },
        "id": "E6N88MaZjj4K",
        "outputId": "f62ab1e6-646e-4168-c852-9dcbecb13939"
      },
      "source": [
        "num = int(input())\n",
        "for i in range(num):\n",
        "  if i==0 or i == (num-1):\n",
        "    print(\"* \"*num)\n",
        "  else:\n",
        "    space = \" \"*(n)\n",
        "    print(\"* \"+space+\"  *\")  "
      ],
      "execution_count": null,
      "outputs": [
        {
          "output_type": "stream",
          "text": [
            "6\n",
            "* * * * * * \n",
            "*         *\n",
            "*         *\n",
            "*         *\n",
            "*         *\n",
            "* * * * * * \n"
          ],
          "name": "stdout"
        }
      ]
    },
    {
      "cell_type": "code",
      "metadata": {
        "colab": {
          "base_uri": "https://localhost:8080/"
        },
        "id": "jrgpwafdjlw0",
        "outputId": "7a930f6a-d1a1-4ffa-d5e6-fe7bb9834b7a"
      },
      "source": [
        "# word triangle\n",
        "word = input()\n",
        "len_word = len(word)\n",
        "for i in range(1,len(word)+1):\n",
        "  print(word[:i])"
      ],
      "execution_count": null,
      "outputs": [
        {
          "output_type": "stream",
          "text": [
            "Srikanth\n",
            "S\n",
            "Sr\n",
            "Sri\n",
            "Srik\n",
            "Srika\n",
            "Srikan\n",
            "Srikant\n",
            "Srikanth\n"
          ],
          "name": "stdout"
        }
      ]
    },
    {
      "cell_type": "code",
      "metadata": {
        "colab": {
          "base_uri": "https://localhost:8080/"
        },
        "id": "2XG1NlWpjl24",
        "outputId": "76bc522f-66e1-40b4-93cb-849fd2960377"
      },
      "source": [
        "word = input()\n",
        "len_word = len(word)\n",
        "shuffle = \"\"\n",
        "for i in range(len_word):\n",
        "  index = int(input())\n",
        "  shuffle = shuffle+word[index]\n",
        "print(shuffle)  \n"
      ],
      "execution_count": null,
      "outputs": [
        {
          "output_type": "stream",
          "text": [
            "srikanth\n",
            "7\n",
            "6\n",
            "5\n",
            "4\n",
            "3\n",
            "2\n",
            "1\n",
            "0\n",
            "htnakirs\n"
          ],
          "name": "stdout"
        }
      ]
    },
    {
      "cell_type": "code",
      "metadata": {
        "colab": {
          "base_uri": "https://localhost:8080/"
        },
        "id": "zE4XuhvFjl-2",
        "outputId": "871ec1d4-ed56-471a-a306-9375d1ede416"
      },
      "source": [
        "#prime number\n",
        "n = int(input())\n",
        "if n > 1:\n",
        "  factors = 0\n",
        "else:\n",
        "  factors = 1\n",
        "for i in range(2,n):\n",
        "  if n%i == 0:\n",
        "    factors = factors + 1\n",
        "if factors == 0:\n",
        "  print(\"Prime numbers\")\n",
        "else:\n",
        "  print(\"Not a prime numbers\")  \n",
        "\n"
      ],
      "execution_count": null,
      "outputs": [
        {
          "output_type": "stream",
          "text": [
            "-1\n",
            "Not a prime numbers\n"
          ],
          "name": "stdout"
        }
      ]
    },
    {
      "cell_type": "code",
      "metadata": {
        "colab": {
          "base_uri": "https://localhost:8080/"
        },
        "id": "37g76czAjmFo",
        "outputId": "795a5955-f884-460d-c8f5-225f78ad70aa"
      },
      "source": [
        "val = int(input())\n",
        "if val > 1:\n",
        "  factors = 0\n",
        "else:\n",
        "  factors = 1\n",
        "for i in range(2,val):\n",
        "  if val%i == 0:\n",
        "    factors += 1\n",
        "if factors == 0:\n",
        "  print(\"prime\")\n",
        "else:\n",
        "  print(\"Not prime\")                  "
      ],
      "execution_count": null,
      "outputs": [
        {
          "output_type": "stream",
          "text": [
            "5\n",
            "prime\n"
          ],
          "name": "stdout"
        }
      ]
    },
    {
      "cell_type": "code",
      "metadata": {
        "colab": {
          "base_uri": "https://localhost:8080/"
        },
        "id": "sOJjD2QBjmMQ",
        "outputId": "5e9fec7c-ebc3-489d-a9ea-b1a1d929f660"
      },
      "source": [
        "num = int(input())\n",
        "for i in range(1,num):\n",
        "  if i == 0 or (i == (num-1)):\n",
        "    print(\"* \"*num)"
      ],
      "execution_count": null,
      "outputs": [
        {
          "output_type": "stream",
          "text": [
            "6\n",
            "* * * * * * \n"
          ],
          "name": "stdout"
        }
      ]
    },
    {
      "cell_type": "code",
      "metadata": {
        "colab": {
          "base_uri": "https://localhost:8080/"
        },
        "id": "e_oo73OxYH-r",
        "outputId": "1203072b-90ab-4719-a930-658ca228ff1a"
      },
      "source": [
        "p = int(input())\n",
        "q = int(input())\n",
        "\n",
        "sam = 0\n",
        "for i in range(1,p+1):\n",
        "  if (i%2) == 0:\n",
        "    if (i <= 2):\n",
        "      sam += i\n",
        "    if (i >= q):\n",
        "      man = i   \n",
        "print(sam)\n",
        "print(man)\n"
      ],
      "execution_count": null,
      "outputs": [
        {
          "output_type": "stream",
          "text": [
            "3\n",
            "2\n",
            "2\n",
            "2\n"
          ],
          "name": "stdout"
        }
      ]
    },
    {
      "cell_type": "code",
      "metadata": {
        "id": "rbPjOwSoYIJ9"
      },
      "source": [
        "# Write a function get_index(matrix) that takes a 2 dimensional list (matrix) and returns a tuple. \n",
        "#The first value in the tuple is the index of the row which has the maximum sum of all the elements in that row. \n",
        "#The second value in the tuple is the index of the column which has the maximum sum of all the elements in that column. Index starts from 0.\n",
        "Sample Input and Output:\n",
        "get_index([ [1,2,3], [2,1,4], [3,2,1] ]) => (1, 2) where 1 is the row index and 2 is the column index. "
      ],
      "execution_count": null,
      "outputs": []
    },
    {
      "cell_type": "code",
      "metadata": {
        "colab": {
          "base_uri": "https://localhost:8080/"
        },
        "id": "nAsaDBT9YIOc",
        "outputId": "87f24914-c13d-4b3a-e399-59b7a779ece8"
      },
      "source": [
        "def get_index(matrix):\n",
        "  gr = ()\n",
        "  for i in range(len(matrix)):\n",
        "      gr = matrix[i]\n",
        "\n",
        "      gr = sum(gr)\n",
        "      for i in range(len(gr)):\n",
        "        gr = \n",
        "      \n",
        "    \n",
        "      print(gr)\n",
        "     \n",
        "      \n",
        "     \n",
        "print(get_index([ [1,2,3], [2,1,4], [3,2,1] ])) "
      ],
      "execution_count": null,
      "outputs": [
        {
          "output_type": "stream",
          "text": [
            "6\n",
            "7\n",
            "6\n",
            "None\n"
          ],
          "name": "stdout"
        }
      ]
    },
    {
      "cell_type": "code",
      "metadata": {
        "colab": {
          "base_uri": "https://localhost:8080/",
          "height": 214
        },
        "id": "ZZl1KwvyYIS1",
        "outputId": "0512db81-dfb9-41e9-8535-8207c6472ad3"
      },
      "source": [
        "get_index =  [ [1,2,3], [2,1,4], [3,2,1] ]\n",
        "k = 0\n",
        "for r in get_index:\n",
        "  for j in r:\n",
        "    k = get_index[j]\n",
        "print(k)   "
      ],
      "execution_count": null,
      "outputs": [
        {
          "output_type": "error",
          "ename": "IndexError",
          "evalue": "ignored",
          "traceback": [
            "\u001b[0;31m---------------------------------------------------------------------------\u001b[0m",
            "\u001b[0;31mIndexError\u001b[0m                                Traceback (most recent call last)",
            "\u001b[0;32m<ipython-input-113-d71a26443007>\u001b[0m in \u001b[0;36m<module>\u001b[0;34m()\u001b[0m\n\u001b[1;32m      3\u001b[0m \u001b[0;32mfor\u001b[0m \u001b[0mr\u001b[0m \u001b[0;32min\u001b[0m \u001b[0mget_index\u001b[0m\u001b[0;34m:\u001b[0m\u001b[0;34m\u001b[0m\u001b[0;34m\u001b[0m\u001b[0m\n\u001b[1;32m      4\u001b[0m   \u001b[0;32mfor\u001b[0m \u001b[0mj\u001b[0m \u001b[0;32min\u001b[0m \u001b[0mr\u001b[0m\u001b[0;34m:\u001b[0m\u001b[0;34m\u001b[0m\u001b[0;34m\u001b[0m\u001b[0m\n\u001b[0;32m----> 5\u001b[0;31m     \u001b[0mk\u001b[0m \u001b[0;34m=\u001b[0m \u001b[0mget_index\u001b[0m\u001b[0;34m[\u001b[0m\u001b[0mj\u001b[0m\u001b[0;34m]\u001b[0m\u001b[0;34m\u001b[0m\u001b[0;34m\u001b[0m\u001b[0m\n\u001b[0m\u001b[1;32m      6\u001b[0m \u001b[0mprint\u001b[0m\u001b[0;34m(\u001b[0m\u001b[0mk\u001b[0m\u001b[0;34m)\u001b[0m\u001b[0;34m\u001b[0m\u001b[0;34m\u001b[0m\u001b[0m\n",
            "\u001b[0;31mIndexError\u001b[0m: list index out of range"
          ]
        }
      ]
    },
    {
      "cell_type": "code",
      "metadata": {
        "colab": {
          "base_uri": "https://localhost:8080/"
        },
        "id": "o9J5dfEOmj-A",
        "outputId": "80973d74-f00d-4bae-f5b7-75fab3992354"
      },
      "source": [
        "#  Queue\n",
        "class Node:\n",
        "  def __init__(self,info,next=None):\n",
        "    self.info = info\n",
        "    self.next = next\n",
        "class Queue:\n",
        "  def __init__(self):\n",
        "    self.front = self.rear = None\n",
        "  def isEmpty(self):\n",
        "    return self.front == None\n",
        "  def EnQueue(self,ele):\n",
        "    temp = Node(ele)\n",
        "    if self.rear == None:\n",
        "      self.rear = self.front = temp\n",
        "      return\n",
        "    self.rear.next = temp\n",
        "    self.rear = temp\n",
        "  def DeQueue(self):\n",
        "    if self.isEmpty():\n",
        "      print(\"Queue empty\")\n",
        "      return\n",
        "    else:\n",
        "      temp = self.front\n",
        "      self.front = temp.next\n",
        "      if self.front == None:\n",
        "        self.rear = None\n",
        "  def display(self):\n",
        "    p = self.front\n",
        "    while p != None:\n",
        "      print(p.info)\n",
        "      p = p.next\n",
        "q = Queue()\n",
        "q.EnQueue(10)\n",
        "q.EnQueue(20)\n",
        "q.EnQueue(30)\n",
        "q.display()\n",
        "print(\"*****\")\n",
        "q.DeQueue()\n",
        "q.DeQueue()\n",
        "q.display()\n"
      ],
      "execution_count": null,
      "outputs": [
        {
          "output_type": "stream",
          "text": [
            "10\n",
            "20\n",
            "30\n",
            "*****\n",
            "30\n"
          ],
          "name": "stdout"
        }
      ]
    },
    {
      "cell_type": "markdown",
      "metadata": {
        "id": "-vErn802OcYW"
      },
      "source": [
        "Arrays"
      ]
    },
    {
      "cell_type": "code",
      "metadata": {
        "colab": {
          "base_uri": "https://localhost:8080/"
        },
        "id": "yC2q7dcrmkHL",
        "outputId": "8714412a-32b3-4bea-bfd8-b1748b0ae1a8"
      },
      "source": [
        "import array\n",
        "arr = array.array('i',[2,3,4,5,6])\n",
        "for arr in arr:\n",
        "  print(arr)"
      ],
      "execution_count": null,
      "outputs": [
        {
          "output_type": "stream",
          "text": [
            "2\n",
            "3\n",
            "4\n",
            "5\n",
            "6\n"
          ],
          "name": "stdout"
        }
      ]
    },
    {
      "cell_type": "code",
      "metadata": {
        "colab": {
          "base_uri": "https://localhost:8080/"
        },
        "id": "fN_PNNDGmkiG",
        "outputId": "3ba2812e-71ae-4546-b48e-8653720ab462"
      },
      "source": [
        "#unicode charecter\n",
        "from array import *\n",
        "arr = array('u',['a','b','c','d','e'])\n",
        "for char in arr:\n",
        "  print(char)"
      ],
      "execution_count": null,
      "outputs": [
        {
          "output_type": "stream",
          "text": [
            "a\n",
            "b\n",
            "c\n",
            "d\n",
            "e\n"
          ],
          "name": "stdout"
        }
      ]
    },
    {
      "cell_type": "code",
      "metadata": {
        "colab": {
          "base_uri": "https://localhost:8080/"
        },
        "id": "CxPoPr6nmkpc",
        "outputId": "06c56f8a-29cf-4fbb-dc0b-b8b554fb9d37"
      },
      "source": [
        "from array import *\n",
        "arr1 = array('d',[1.5,2.5,3.5,4.5])\n",
        "arr2 = array(arr1.typecode,(arr*3 for arr in arr1))\n",
        "for i in arr2:\n",
        "  print(i)"
      ],
      "execution_count": null,
      "outputs": [
        {
          "output_type": "stream",
          "text": [
            "4.5\n",
            "7.5\n",
            "10.5\n",
            "13.5\n"
          ],
          "name": "stdout"
        }
      ]
    },
    {
      "cell_type": "code",
      "metadata": {
        "colab": {
          "base_uri": "https://localhost:8080/"
        },
        "id": "amf9LeA_mkwS",
        "outputId": "4174b626-fcbc-479c-908d-f47e39781927"
      },
      "source": [
        "# python program to retrive the index\n",
        "from array import *\n",
        "x = array('i',[10,20,30,40,50])\n",
        "l = len(x)\n",
        "for i in range(l):\n",
        "  print(x[i],end=' ')"
      ],
      "execution_count": null,
      "outputs": [
        {
          "output_type": "stream",
          "text": [
            "10 20 30 40 50 "
          ],
          "name": "stdout"
        }
      ]
    },
    {
      "cell_type": "code",
      "metadata": {
        "colab": {
          "base_uri": "https://localhost:8080/"
        },
        "id": "KjHzbiLcYIXL",
        "outputId": "4dc3c831-84d9-42d0-9e49-5c293c1cd209"
      },
      "source": [
        "#pyhton program to retrive the elements using while loop\n",
        "from array import *\n",
        "x = array('i',[10,20,39,40,50,60])\n",
        "l = len(x)\n",
        "count = 0\n",
        "while count< l:\n",
        "  print(x[count],end=' ')\n",
        "  count+=1"
      ],
      "execution_count": null,
      "outputs": [
        {
          "output_type": "stream",
          "text": [
            "10 20 39 40 50 60 "
          ],
          "name": "stdout"
        }
      ]
    },
    {
      "cell_type": "code",
      "metadata": {
        "colab": {
          "base_uri": "https://localhost:8080/"
        },
        "id": "UAS6gPWhYIbq",
        "outputId": "5c2a32d9-a2ff-45de-c59a-5ce4346ed52a"
      },
      "source": [
        "# pyhton program that helps to know the effects of slicing\n",
        "from array import *\n",
        "x = array('i',[10,20,30,40,50,60])\n",
        "y = x[1:4]\n",
        "z = x[0:]\n",
        "c = x[:4]\n",
        "d = x[-4:]\n",
        "f = x[-4:-1]\n",
        "print(y)\n",
        "print(z)\n",
        "print(c)\n",
        "print(d)\n",
        "print(f)"
      ],
      "execution_count": null,
      "outputs": [
        {
          "output_type": "stream",
          "text": [
            "array('i', [20, 30, 40])\n",
            "array('i', [10, 20, 30, 40, 50, 60])\n",
            "array('i', [10, 20, 30, 40])\n",
            "array('i', [30, 40, 50, 60])\n",
            "array('i', [30, 40, 50])\n"
          ],
          "name": "stdout"
        }
      ]
    },
    {
      "cell_type": "code",
      "metadata": {
        "colab": {
          "base_uri": "https://localhost:8080/"
        },
        "id": "AKSx19i9YIgH",
        "outputId": "108bb9a7-b16b-49f1-df7e-afa403810fd6"
      },
      "source": [
        "# python program to retrie the elements using index based range\n",
        "from array import *\n",
        "x = array('i',[10,20,30,40,50,60,70])\n",
        "for i in x[2:5]:\n",
        "  print(i)"
      ],
      "execution_count": null,
      "outputs": [
        {
          "output_type": "stream",
          "text": [
            "30\n",
            "40\n",
            "50\n"
          ],
          "name": "stdout"
        }
      ]
    },
    {
      "cell_type": "code",
      "metadata": {
        "colab": {
          "base_uri": "https://localhost:8080/"
        },
        "id": "mG4ZleCiYIkg",
        "outputId": "ae5318e8-bf81-4f70-c55c-51b5d770c504"
      },
      "source": [
        "# python program to understand various methods of arrays class\n",
        "from array import *\n",
        "arr = array('i',[10,20,30,40,50,60])\n",
        "print(\"Original array\",arr)\n",
        "arr.append(70)\n",
        "arr.append(80)\n",
        "print(\"append array value\",arr)\n",
        "arr.insert(1,99)\n",
        "print(\"insert value at index place\",arr)\n",
        "arr.remove(30)\n",
        "print(\"remove value \",arr)\n",
        "n = arr.pop()\n",
        "print(\"pop value\",arr)\n",
        "m =arr.index(40)\n",
        "print(\"index value\",m)\n",
        "lst = arr.tolist()\n",
        "print(\"tolist\",lst)"
      ],
      "execution_count": null,
      "outputs": [
        {
          "output_type": "stream",
          "text": [
            "Original array array('i', [10, 20, 30, 40, 50, 60])\n",
            "append array value array('i', [10, 20, 30, 40, 50, 60, 70, 80])\n",
            "insert value at index place array('i', [10, 99, 20, 30, 40, 50, 60, 70, 80])\n",
            "remove value  array('i', [10, 99, 20, 40, 50, 60, 70, 80])\n",
            "pop value array('i', [10, 99, 20, 40, 50, 60, 70])\n",
            "index value 3\n",
            "tolist [10, 99, 20, 40, 50, 60, 70]\n"
          ],
          "name": "stdout"
        }
      ]
    },
    {
      "cell_type": "code",
      "metadata": {
        "colab": {
          "base_uri": "https://localhost:8080/"
        },
        "id": "2ANX1CBJYIrH",
        "outputId": "d9b6df3e-2f82-41b6-e4d0-aadf93d359fc"
      },
      "source": [
        "# Pyhton program to storing the student marks\n",
        "from array import *\n",
        "str = input(\"enter student marks here: \").split(\" \")\n",
        "marks = [int(num) for num in str]\n",
        "sum = 0\n",
        "for i in marks:\n",
        "  print(i)\n",
        "  sum += i\n",
        "print('total marks', sum)\n",
        "n = len(marks)\n",
        "percent = sum/n  \n",
        "print(percent)"
      ],
      "execution_count": null,
      "outputs": [
        {
          "output_type": "stream",
          "text": [
            "enter student marks here: 55 66 77 88 99\n",
            "55\n",
            "66\n",
            "77\n",
            "88\n",
            "99\n",
            "total marks 385\n",
            "77.0\n"
          ],
          "name": "stdout"
        }
      ]
    },
    {
      "cell_type": "code",
      "metadata": {
        "colab": {
          "base_uri": "https://localhost:8080/"
        },
        "id": "CQigpdHpYIvi",
        "outputId": "2b2fdade-ef73-4709-db75-198d3148bc4f"
      },
      "source": [
        "# sort the array\n",
        "from array import *\n",
        "x = array('i',())\n",
        "n = int(input())\n",
        "for i in range(n):\n",
        "  print(\"enter element: \",end=\" \")\n",
        "  x.append(int(input()))\n",
        "print(\"original array\",x)\n",
        "# bubble sort\n",
        "flag = False\n",
        "for i in range(n-1):\n",
        "  for j in range(n-1-i):\n",
        "    if x[j] > x[j+1]:\n",
        "      t = x[j] # 5  \n",
        "      x[j] = x[j+1]\n",
        "      x[j+1] = t\n",
        "      flag = True\n",
        "  if flag == False:\n",
        "    break\n",
        "  else:\n",
        "    falg = False      \n",
        "print('sorted array',x) "
      ],
      "execution_count": null,
      "outputs": [
        {
          "output_type": "stream",
          "text": [
            "5\n",
            "enter element:  1\n",
            "enter element:  5\n",
            "enter element:  4\n",
            "enter element:  3\n",
            "enter element:  2\n",
            "original array array('i', [1, 5, 4, 3, 2])\n",
            "sorted array array('i', [1, 2, 3, 4, 5])\n"
          ],
          "name": "stdout"
        }
      ]
    },
    {
      "cell_type": "code",
      "metadata": {
        "colab": {
          "base_uri": "https://localhost:8080/"
        },
        "id": "I0En0FUcYI0B",
        "outputId": "96dc7110-11d8-4c44-d609-f5ba560737a3"
      },
      "source": [
        "from array import *\n",
        "x = array('i',())\n",
        "n = int(input())\n",
        "for i in range(n):\n",
        "  x.append(int(input()))\n",
        "print('Original array:',x)\n",
        "flag = False\n",
        "for i in range(n-1):\n",
        "  for j in range(n-1-i):\n",
        "    if x[j] > x[j+1]:\n",
        "      t = x[j]\n",
        "      x[j] = x[j+1]\n",
        "      x[j+1] = t\n",
        "      flag =  True\n",
        "  if flag == False:\n",
        "    break\n",
        "  else:\n",
        "    flag == True\n",
        "print(\"after sorting the array:\",x)           "
      ],
      "execution_count": null,
      "outputs": [
        {
          "output_type": "stream",
          "text": [
            "5\n",
            "1\n",
            "5\n",
            "4\n",
            "2\n",
            "3\n",
            "Original array: array('i', [1, 5, 4, 2, 3])\n",
            "after sorting the array: array('i', [1, 2, 3, 4, 5])\n"
          ],
          "name": "stdout"
        }
      ]
    },
    {
      "cell_type": "code",
      "metadata": {
        "colab": {
          "base_uri": "https://localhost:8080/"
        },
        "id": "71GOBzGFYI4R",
        "outputId": "76951b75-7775-4bb6-969c-c1701d39a2a9"
      },
      "source": [
        "# search an element in array\n",
        "from array import *\n",
        "arr = array('i',())\n",
        "n = int(input())\n",
        "for i in range(n):\n",
        "  arr.append(int(input()))\n",
        "print(\"Original array:\",arr)  \n",
        "s = int(input())\n",
        "flag = False\n",
        "for i in range(len(arr)):\n",
        "  if s == arr[i]:\n",
        "    print(\"array is matched\",i+1)\n",
        "    flag = True\n",
        "if flag == False:    \n",
        "  print(\"array is not matched\",)\n",
        "   \n",
        "\n"
      ],
      "execution_count": null,
      "outputs": [
        {
          "output_type": "stream",
          "text": [
            "5\n",
            "10\n",
            "20\n",
            "30\n",
            "20\n",
            "40\n",
            "Original array: array('i', [10, 20, 30, 20, 40])\n",
            "20\n",
            "array is matched 2\n",
            "array is matched 4\n"
          ],
          "name": "stdout"
        }
      ]
    },
    {
      "cell_type": "markdown",
      "metadata": {
        "id": "1mitJURerr5n"
      },
      "source": [
        "Working with arrays using numpy"
      ]
    },
    {
      "cell_type": "code",
      "metadata": {
        "colab": {
          "base_uri": "https://localhost:8080/"
        },
        "id": "F_v5T8Vbro5p",
        "outputId": "3a67d768-0b91-441a-813a-f56eb12ee6a7"
      },
      "source": [
        "import numpy\n",
        "arr = numpy.array([10,20,30,40,50])\n",
        "print(arr)"
      ],
      "execution_count": null,
      "outputs": [
        {
          "output_type": "stream",
          "text": [
            "[10 20 30 40 50]\n"
          ],
          "name": "stdout"
        }
      ]
    },
    {
      "cell_type": "code",
      "metadata": {
        "colab": {
          "base_uri": "https://localhost:8080/"
        },
        "id": "uib2XJq1rpIs",
        "outputId": "22de3149-7373-4c90-b1c3-5f9f29d07b59"
      },
      "source": [
        "from numpy import *\n",
        "arr = array([10,20,30,40,50])\n",
        "print(arr)"
      ],
      "execution_count": null,
      "outputs": [
        {
          "output_type": "stream",
          "text": [
            "[10 20 30 40 50]\n"
          ],
          "name": "stdout"
        }
      ]
    },
    {
      "cell_type": "code",
      "metadata": {
        "colab": {
          "base_uri": "https://localhost:8080/"
        },
        "id": "PibNrlQyrpPS",
        "outputId": "6a5f0cea-31bb-4a4e-b770-2f6b306e3828"
      },
      "source": [
        "from numpy import *\n",
        "arr = array(['a','b','c','d','e'])\n",
        "print(arr)"
      ],
      "execution_count": null,
      "outputs": [
        {
          "output_type": "stream",
          "text": [
            "['a' 'b' 'c' 'd' 'e']\n"
          ],
          "name": "stdout"
        }
      ]
    },
    {
      "cell_type": "code",
      "metadata": {
        "colab": {
          "base_uri": "https://localhost:8080/"
        },
        "id": "0CH0HbLQrpWZ",
        "outputId": "7da34b93-badc-4cc2-aa00-948e4faed1b6"
      },
      "source": [
        "# python program to create using string typr array using numpy\n",
        "from numpy import *\n",
        "arr = array([\"Hyderbad\",\"Delhi\",'Kerala',\"Mumbai\",\"Panjab\",'Banglore',\"Andhra\",\"Telanagana\",\"Madhyapradesh\"])\n",
        "print(arr)"
      ],
      "execution_count": null,
      "outputs": [
        {
          "output_type": "stream",
          "text": [
            "['Hyderbad' 'Delhi' 'Kerala' 'Mumbai' 'Panjab' 'Banglore' 'Andhra'\n",
            " 'Telanagana' 'Madhyapradesh']\n"
          ],
          "name": "stdout"
        }
      ]
    },
    {
      "cell_type": "code",
      "metadata": {
        "colab": {
          "base_uri": "https://localhost:8080/"
        },
        "id": "HwG9lniGrpc3",
        "outputId": "7525ab96-f286-4fad-c4c9-fbb5c082b26d"
      },
      "source": [
        "# Python program array 5 equal parts using linespace()\n",
        "from numpy import *\n",
        "arr = linspace(0, 10, 5)\n",
        "print(arr)"
      ],
      "execution_count": null,
      "outputs": [
        {
          "output_type": "stream",
          "text": [
            "[ 0.   2.5  5.   7.5 10. ]\n"
          ],
          "name": "stdout"
        }
      ]
    },
    {
      "cell_type": "code",
      "metadata": {
        "colab": {
          "base_uri": "https://localhost:8080/"
        },
        "id": "dbZ1_wXQrpme",
        "outputId": "ee9ca62a-f774-4f02-898e-1114615d4ecb"
      },
      "source": [
        "# array using upto 10 even numbers\n",
        "from numpy import *\n",
        "arr = arange(0,11,2)\n",
        "print(arr)"
      ],
      "execution_count": null,
      "outputs": [
        {
          "output_type": "stream",
          "text": [
            "[ 0  2  4  6  8 10]\n"
          ],
          "name": "stdout"
        }
      ]
    },
    {
      "cell_type": "code",
      "metadata": {
        "colab": {
          "base_uri": "https://localhost:8080/"
        },
        "id": "MxoZz5BfrptL",
        "outputId": "23511035-a7c5-4280-91d9-ffa44632f187"
      },
      "source": [
        "from array import *\n",
        "arr = array('i',())\n",
        "n = int(input())\n",
        "for i in range(n):\n",
        "  arr.append(int(input()))\n",
        "print(\"array added to the arr\",arr)\n",
        "flag = False\n",
        "for i in range(n-1):\n",
        "  for j in range(n-1-i):\n",
        "    if arr[j] > arr[j+1]:\n",
        "      t = arr[j]\n",
        "      arr[j] = arr[j+1]\n",
        "      arr[j+1] = t\n",
        "      flag = True\n",
        "  if flag == False:\n",
        "    break\n",
        "  else:\n",
        "    flag = False\n",
        "print(\"sorted array\",arr)          \n"
      ],
      "execution_count": null,
      "outputs": [
        {
          "output_type": "stream",
          "text": [
            "5\n",
            "23\n",
            "5\n",
            "43\n",
            "56\n",
            "12\n",
            "array added to the arr array('i', [23, 5, 43, 56, 12])\n",
            "sorted array array('i', [5, 12, 23, 43, 56])\n"
          ],
          "name": "stdout"
        }
      ]
    },
    {
      "cell_type": "code",
      "metadata": {
        "colab": {
          "base_uri": "https://localhost:8080/"
        },
        "id": "vk1leUuyrpza",
        "outputId": "1847d375-43d0-44e0-a7be-3d742a16e631"
      },
      "source": [
        "# sequential search\n",
        "from array import *\n",
        "arr = array(\"i\",[])\n",
        "n = int(input())\n",
        "for i in range(n):\n",
        "  arr.append(int(input()))\n",
        "print(\"original array\",arr)\n",
        "#bubble sort\n",
        "flag = False\n",
        "s = int(input())\n",
        "print(len(arr))\n",
        "for i in range(len(arr)):\n",
        "  if s == arr[i]:\n",
        "    print(\"found at position at \",i+1)\n",
        "    flag = True\n",
        "if flag == False:\n",
        "  print(\"position not found5\")      "
      ],
      "execution_count": null,
      "outputs": [
        {
          "output_type": "stream",
          "text": [
            "5\n",
            "34\n",
            "35\n",
            "65\n",
            "2\n",
            "45\n",
            "original array array('i', [34, 35, 65, 2, 45])\n",
            "65\n",
            "5\n",
            "found at position at  3\n"
          ],
          "name": "stdout"
        }
      ]
    },
    {
      "cell_type": "code",
      "metadata": {
        "colab": {
          "base_uri": "https://localhost:8080/"
        },
        "id": "vpO3_VTTrp52",
        "outputId": "1389a116-96af-4bb9-cca5-aa875a2f0163"
      },
      "source": [
        "import numpy\n",
        "arr = numpy.array([10,20,30,40,50])\n",
        "print(arr)"
      ],
      "execution_count": null,
      "outputs": [
        {
          "output_type": "stream",
          "text": [
            "[10 20 30 40 50]\n"
          ],
          "name": "stdout"
        }
      ]
    },
    {
      "cell_type": "code",
      "metadata": {
        "colab": {
          "base_uri": "https://localhost:8080/"
        },
        "id": "ieJ1NUexrqAp",
        "outputId": "286c10d9-b36e-4072-cba7-082084b5b1d0"
      },
      "source": [
        "import numpy as np\n",
        "arr = np.array([10,20,30,40,50])\n",
        "print(arr)"
      ],
      "execution_count": null,
      "outputs": [
        {
          "output_type": "stream",
          "text": [
            "[10 20 30 40 50]\n"
          ],
          "name": "stdout"
        }
      ]
    },
    {
      "cell_type": "code",
      "metadata": {
        "colab": {
          "base_uri": "https://localhost:8080/"
        },
        "id": "CXynzlwSrqHG",
        "outputId": "35a68302-55f8-4d51-b3fe-37affa03983d"
      },
      "source": [
        "from numpy import *\n",
        "arr = array([10,20,30,40,50])\n",
        "print(arr)"
      ],
      "execution_count": null,
      "outputs": [
        {
          "output_type": "stream",
          "text": [
            "[10 20 30 40 50]\n"
          ],
          "name": "stdout"
        }
      ]
    },
    {
      "cell_type": "code",
      "metadata": {
        "colab": {
          "base_uri": "https://localhost:8080/"
        },
        "id": "LmREY1dfrqNh",
        "outputId": "050e47ea-9371-4628-fb1f-6d9f39dfb7f3"
      },
      "source": [
        "from numpy import *\n",
        "arr = array(['array','linkidlist','datastructure','algorithams'])\n",
        "print(arr)"
      ],
      "execution_count": null,
      "outputs": [
        {
          "output_type": "stream",
          "text": [
            "['array' 'linkidlist' 'datastructure' 'algorithams']\n"
          ],
          "name": "stdout"
        }
      ]
    },
    {
      "cell_type": "code",
      "metadata": {
        "colab": {
          "base_uri": "https://localhost:8080/"
        },
        "id": "OIzjzJKRrqUP",
        "outputId": "6ec7ac51-0d6b-4bd0-d8ab-2c6d6b9a037e"
      },
      "source": [
        "from numpy import *\n",
        "arr = linspace(0,10,5)\n",
        "print(arr)"
      ],
      "execution_count": null,
      "outputs": [
        {
          "output_type": "stream",
          "text": [
            "[ 0.   2.5  5.   7.5 10. ]\n"
          ],
          "name": "stdout"
        }
      ]
    },
    {
      "cell_type": "code",
      "metadata": {
        "colab": {
          "base_uri": "https://localhost:8080/"
        },
        "id": "5pIswd-4rqbM",
        "outputId": "3c5bccbf-5f6c-4767-e8d4-536e960b68b4"
      },
      "source": [
        "from numpy import *\n",
        "a = array([10,20,30,40,50])\n",
        "b = array([0,20,4,30,50])\n",
        "c = a == b\n",
        "print(\"Result of c:\",c)\n",
        "c = a > b\n",
        "print(\"Result of c:\",c)\n",
        "c = a < b\n",
        "print(\"Result of c:\",c)"
      ],
      "execution_count": null,
      "outputs": [
        {
          "output_type": "stream",
          "text": [
            "Result of c: [False  True False False  True]\n",
            "Result of c: [ True False  True  True False]\n",
            "Result of c: [False False False False False]\n"
          ],
          "name": "stdout"
        }
      ]
    },
    {
      "cell_type": "code",
      "metadata": {
        "colab": {
          "base_uri": "https://localhost:8080/"
        },
        "id": "I6j30U5rd-Gy",
        "outputId": "ada442bd-ce03-4239-b220-19e14d748809"
      },
      "source": [
        "from numpy import *\n",
        "a = array([10,20,30,40,50],int)\n",
        "b = array([1,21,3,40,50],int)\n",
        "d = where(a>b,a,b)\n",
        "print(d)"
      ],
      "execution_count": null,
      "outputs": [
        {
          "output_type": "stream",
          "text": [
            "[10 21 30 40 50]\n"
          ],
          "name": "stdout"
        }
      ]
    },
    {
      "cell_type": "code",
      "metadata": {
        "colab": {
          "base_uri": "https://localhost:8080/"
        },
        "id": "MN2sLoZod-O9",
        "outputId": "e1e984ea-5e1c-42e1-fbca-500ec58b53c4"
      },
      "source": [
        "from numpy import *\n",
        "a = array([1,2,0,-1,0,6],int)\n",
        "c = nonzero(a)\n",
        "for i in c:\n",
        "  print(i)\n",
        "print(a[c])  "
      ],
      "execution_count": null,
      "outputs": [
        {
          "output_type": "stream",
          "text": [
            "[0 1 3 5]\n",
            "[ 1  2 -1  6]\n"
          ],
          "name": "stdout"
        }
      ]
    },
    {
      "cell_type": "code",
      "metadata": {
        "colab": {
          "base_uri": "https://localhost:8080/"
        },
        "id": "YLbM8WiEd-WU",
        "outputId": "595c044f-e0de-4db9-8f6f-99aaa1725127"
      },
      "source": [
        "from numpy import *\n",
        "a = array([10,20,30,40,50])\n",
        "b = array([20,50,30,35,55])\n",
        "c = where(a > b, a, b)\n",
        "print(c)"
      ],
      "execution_count": null,
      "outputs": [
        {
          "output_type": "stream",
          "text": [
            "[20 50 30 40 55]\n"
          ],
          "name": "stdout"
        }
      ]
    },
    {
      "cell_type": "code",
      "metadata": {
        "colab": {
          "base_uri": "https://localhost:8080/"
        },
        "id": "sIAEGg7Ad-eZ",
        "outputId": "6bdc9956-7259-4726-9cd4-acbc0394ed2f"
      },
      "source": [
        "# slicing\n",
        "from numpy import *\n",
        "a = arange(1,16)\n",
        "print(a)\n",
        "b = a[1:16:2]\n",
        "print(b)\n",
        "c = b[::]\n",
        "print(c)\n",
        "e = b[-2:2:-1]\n",
        "print(e)"
      ],
      "execution_count": null,
      "outputs": [
        {
          "output_type": "stream",
          "text": [
            "[ 1  2  3  4  5  6  7  8  9 10 11 12 13 14 15]\n",
            "[ 2  4  6  8 10 12 14]\n",
            "[ 2  4  6  8 10 12 14]\n",
            "[12 10  8]\n"
          ],
          "name": "stdout"
        }
      ]
    },
    {
      "cell_type": "code",
      "metadata": {
        "colab": {
          "base_uri": "https://localhost:8080/"
        },
        "id": "aYk-QTXBd-o8",
        "outputId": "44bc48cb-0121-4b2f-f2a9-4a2638db4359"
      },
      "source": [
        "# slicing operation using numpy and while loop also using here\n",
        "from numpy import *\n",
        "a = arange(10,16)\n",
        "print(a)\n",
        "a = a[1::2]\n",
        "print(a)\n",
        "count = 0\n",
        "while count < len(a):\n",
        "  print(a[count])\n",
        "  count+=1"
      ],
      "execution_count": null,
      "outputs": [
        {
          "output_type": "stream",
          "text": [
            "[10 11 12 13 14 15]\n",
            "[11 13 15]\n",
            "11\n",
            "13\n",
            "15\n"
          ],
          "name": "stdout"
        }
      ]
    },
    {
      "cell_type": "code",
      "metadata": {
        "colab": {
          "base_uri": "https://localhost:8080/"
        },
        "id": "KjKIqd5Iv72_",
        "outputId": "0ba6a51a-1fd6-434a-9abe-a1d05ee91788"
      },
      "source": [
        "# 2Darray\n",
        "from numpy import *\n",
        "arr = array([[1,2,3],[3,4,5]])\n",
        "print(arr.ndim)"
      ],
      "execution_count": null,
      "outputs": [
        {
          "output_type": "stream",
          "text": [
            "2\n"
          ],
          "name": "stdout"
        }
      ]
    },
    {
      "cell_type": "code",
      "metadata": {
        "colab": {
          "base_uri": "https://localhost:8080/"
        },
        "id": "GetZ6r58v8BL",
        "outputId": "93844622-5d82-4093-9749-18026aeca23b"
      },
      "source": [
        "# reshape \n",
        "from numpy import *\n",
        "arr = arange(10)\n",
        "print(arr)\n",
        "arr1 = arr.reshape(2,5)\n",
        "print(arr1)"
      ],
      "execution_count": null,
      "outputs": [
        {
          "output_type": "stream",
          "text": [
            "[0 1 2 3 4 5 6 7 8 9]\n",
            "[[0 1 2 3 4]\n",
            " [5 6 7 8 9]]\n"
          ],
          "name": "stdout"
        }
      ]
    },
    {
      "cell_type": "code",
      "metadata": {
        "colab": {
          "base_uri": "https://localhost:8080/"
        },
        "id": "IUA_t7Mmv8Js",
        "outputId": "83c5a008-a3b8-43ba-ddb2-0a1a0e9bd4ce"
      },
      "source": [
        "from numpy import *\n",
        "a = [[1,2,3],[2,3,4],[7,8,9]]\n",
        "for i in range(len(a)):\n",
        "  print(a[i])\n",
        "for i in range(len(a)):\n",
        "  for j in range(len(a)):\n",
        "   \n",
        "    print(a[i][j],end=\" \") \n",
        "     "
      ],
      "execution_count": null,
      "outputs": [
        {
          "output_type": "stream",
          "text": [
            "[1, 2, 3]\n",
            "[2, 3, 4]\n",
            "[7, 8, 9]\n",
            "1 2 3 2 3 4 7 8 9 "
          ],
          "name": "stdout"
        }
      ]
    },
    {
      "cell_type": "code",
      "metadata": {
        "colab": {
          "base_uri": "https://localhost:8080/"
        },
        "id": "CRcNmkClv8Qi",
        "outputId": "3e75295e-2c87-4276-ee31-788d2e0fc9ae"
      },
      "source": [
        "from numpy import *\n",
        "a = [[[1,2,3],\n",
        "     [4,5,6]],\n",
        "     [[7,8,9],\n",
        "      [0,11,12]]]\n",
        "for i in range(len(a)):\n",
        "  for j in range(len(a[i])):\n",
        "    for k in range(len(a[i][j])):\n",
        "      print(a[i][j][k],end =\" \")\n",
        "    print()\n",
        "  print()           "
      ],
      "execution_count": null,
      "outputs": [
        {
          "output_type": "stream",
          "text": [
            "1 2 3 \n",
            "4 5 6 \n",
            "\n",
            "7 8 9 \n",
            "0 11 12 \n",
            "\n"
          ],
          "name": "stdout"
        }
      ]
    },
    {
      "cell_type": "code",
      "metadata": {
        "colab": {
          "base_uri": "https://localhost:8080/"
        },
        "id": "YpY08YqTv8bN",
        "outputId": "7ce9c8cc-611a-43cd-fe73-dd4651e046c9"
      },
      "source": [
        "# selection sort\n",
        "def selectionSort(arr):\n",
        "  for i in range(0,len(arr)):\n",
        "    min_index = i\n",
        "    for j in range(i+1,len(arr)):\n",
        "      if arr[j] < arr[min_index]:\n",
        "        min_index = j\n",
        "    arr[i],arr[min_index] = arr[min_index],arr[i]\n",
        "arr = [10,1,5,3,6,2]\n",
        "selectionSort(arr)\n",
        "for v in arr:\n",
        "  print(v)       "
      ],
      "execution_count": null,
      "outputs": [
        {
          "output_type": "stream",
          "text": [
            "1\n",
            "2\n",
            "3\n",
            "5\n",
            "6\n",
            "10\n"
          ],
          "name": "stdout"
        }
      ]
    },
    {
      "cell_type": "code",
      "metadata": {
        "colab": {
          "base_uri": "https://localhost:8080/"
        },
        "id": "ngLlQW1Uv8iP",
        "outputId": "ae132faf-c932-44f7-a283-618ff71f7a34"
      },
      "source": [
        "def SelectionSort(arr):\n",
        "  for i in range(0,len(arr)):\n",
        "    min_index = i\n",
        "    for j in range(i+1,len(arr)):\n",
        "      if arr[j] < arr[min_index]:\n",
        "        min_index = j\n",
        "    arr[i],arr[min_index] = arr[min_index],arr[i]\n",
        "arr = [5,2,1,6,3,7]\n",
        "selectionSort(arr)\n",
        "for v in arr:\n",
        "  print(v)      "
      ],
      "execution_count": null,
      "outputs": [
        {
          "output_type": "stream",
          "text": [
            "1\n",
            "2\n",
            "3\n",
            "5\n",
            "6\n",
            "7\n"
          ],
          "name": "stdout"
        }
      ]
    },
    {
      "cell_type": "code",
      "metadata": {
        "colab": {
          "base_uri": "https://localhost:8080/"
        },
        "id": "8hr1kvkwv8pR",
        "outputId": "73acf297-f35b-44ef-a239-a1e23cfa770b"
      },
      "source": [
        "# quickSort\n",
        "def quickSort(arr,p,r):\n",
        "  if p < r:\n",
        "    q = partition(arr,p,r)\n",
        "    quickSort(arr,p,q-1)\n",
        "    quickSort(arr,q+1,r)\n",
        "def partition (arr,p,r):\n",
        "  pivot = arr[p]\n",
        "  i = p\n",
        "  for j in range(p+1,r+1):\n",
        "    if arr[j] < pivot:\n",
        "      i+=1\n",
        "      arr[i],arr[j] =arr[j], arr[i]\n",
        "  arr[p],arr[i] = arr[i],arr[p]\n",
        "  return i\n",
        "arr = [54,26,93,17,77,31,44,55]\n",
        "quickSort(arr,0,len(arr)-1)\n",
        "print(arr)              "
      ],
      "execution_count": null,
      "outputs": [
        {
          "output_type": "stream",
          "text": [
            "[17, 26, 31, 44, 54, 55, 77, 93]\n"
          ],
          "name": "stdout"
        }
      ]
    },
    {
      "cell_type": "code",
      "metadata": {
        "colab": {
          "base_uri": "https://localhost:8080/"
        },
        "id": "y6pUGp6Hv8wG",
        "outputId": "06696820-3f8d-494d-df6c-0a2db4ae2fe0"
      },
      "source": [
        "# bubble sort\n",
        "def bubbleSort(arr):\n",
        "  for i in range(len(arr)):\n",
        "    for j in range(len(arr)-i-1):\n",
        "      if arr[j] > arr[j+1]:\n",
        "        arr[j],arr[j+1] = arr[j+1],arr[j]\n",
        "arr = [1,10,2,20,5]\n",
        "bubbleSort(arr)\n",
        "print(arr)        "
      ],
      "execution_count": null,
      "outputs": [
        {
          "output_type": "stream",
          "text": [
            "[1, 2, 5, 10, 20]\n"
          ],
          "name": "stdout"
        }
      ]
    },
    {
      "cell_type": "code",
      "metadata": {
        "colab": {
          "base_uri": "https://localhost:8080/"
        },
        "id": "y2ueuDykv820",
        "outputId": "fe43465a-b726-4bb9-ef94-715773a8d9b5"
      },
      "source": [
        "# insertionSort\n",
        "def insertionSort(arr):\n",
        "  for i in range(1,len(arr)):\n",
        "    key = arr[i]\n",
        "    j = i-1\n",
        "    # print(key)\n",
        "    while j>=0 and key < arr[j]:\n",
        "      arr[j+1] = arr[j]\n",
        "      j -= 1\n",
        "    arr[j+1] = key\n",
        "arr = [1,10,2,20,5]\n",
        "insertionSort(arr)\n",
        "print(arr)      "
      ],
      "execution_count": null,
      "outputs": [
        {
          "output_type": "stream",
          "text": [
            "[1, 2, 5, 10, 20]\n"
          ],
          "name": "stdout"
        }
      ]
    },
    {
      "cell_type": "code",
      "metadata": {
        "colab": {
          "base_uri": "https://localhost:8080/"
        },
        "id": "7JmSEyPJv89k",
        "outputId": "26fcb9aa-96a0-46c8-a0bf-ccf1a1de9150"
      },
      "source": [
        "# insertion sort arr = [1,10,2,20,5]\n",
        "\n",
        "def insertionSort(arr):\n",
        "  for i in range(1,len(arr)):\n",
        "    key = arr[i]\n",
        "    j = i-1\n",
        "    while j >= 0 and key < arr[j]:\n",
        "      arr[j+1] = arr[j]\n",
        "      j -= 1\n",
        "    arr[j+1] = key\n",
        "arr = [1,10,2,20,5] \n",
        "insertionSort(arr)\n",
        "print(arr)     "
      ],
      "execution_count": null,
      "outputs": [
        {
          "output_type": "stream",
          "text": [
            "[1, 2, 5, 10, 20]\n"
          ],
          "name": "stdout"
        }
      ]
    },
    {
      "cell_type": "code",
      "metadata": {
        "colab": {
          "base_uri": "https://localhost:8080/"
        },
        "id": "pA-FAq4zv9Et",
        "outputId": "bcb96d5d-63f7-4cc4-92ab-0460e3df235a"
      },
      "source": [
        "# arr = [1,10,2,20,5]\n",
        "def insertionSort(arr):\n",
        "  for i in range(1,len(arr)):\n",
        "    key = arr[i]\n",
        "    j = i-1\n",
        "    while j >= 0 and key < arr[j]:\n",
        "      arr[j+1] = arr[j]\n",
        "      j -= 1\n",
        "    arr[j+1] = key\n",
        "arr = [1,10,2,5,20]\n",
        "insertionSort(arr)\n",
        "print(arr)      "
      ],
      "execution_count": null,
      "outputs": [
        {
          "output_type": "stream",
          "text": [
            "[1, 2, 5, 10, 20]\n"
          ],
          "name": "stdout"
        }
      ]
    },
    {
      "cell_type": "code",
      "metadata": {
        "id": "3pn8TDV7v9Lh"
      },
      "source": [
        "# MergeSort arr = [6,5,3,1,8,7,2,4]\n",
        "\n",
        "def mergeSort(arr,left,right):\n",
        "  if left < right:\n",
        "    mergeSort(arr,)\n"
      ],
      "execution_count": null,
      "outputs": []
    },
    {
      "cell_type": "code",
      "metadata": {
        "colab": {
          "base_uri": "https://localhost:8080/"
        },
        "id": "ePnenxDBv9SZ",
        "outputId": "8c1ad933-6376-4819-cb9b-8f249d3c2460"
      },
      "source": [
        "#lists\n",
        "player = ['player',183,148,123.64,False]\n",
        "print(player)"
      ],
      "execution_count": null,
      "outputs": [
        {
          "output_type": "stream",
          "text": [
            "['player', 183, 148, 123.64, False]\n"
          ],
          "name": "stdout"
        }
      ]
    },
    {
      "cell_type": "code",
      "metadata": {
        "colab": {
          "base_uri": "https://localhost:8080/"
        },
        "id": "-l4Op4bov9ZY",
        "outputId": "da1592b0-3172-4356-b29a-2e65c545b223"
      },
      "source": [
        "#list concatintion\n",
        "number = [120,30,40,50,60,45]\n",
        "lid = int(input())\n",
        "val = [lid]+number\n",
        "val1 = number+[lid]\n",
        "print(val)\n",
        "print(val1)\n"
      ],
      "execution_count": null,
      "outputs": [
        {
          "output_type": "stream",
          "text": [
            "23\n",
            "[23, 120, 30, 40, 50, 60, 45]\n",
            "[120, 30, 40, 50, 60, 45, 23]\n"
          ],
          "name": "stdout"
        }
      ]
    },
    {
      "cell_type": "code",
      "metadata": {
        "colab": {
          "base_uri": "https://localhost:8080/"
        },
        "id": "eVUWsN3vv9gL",
        "outputId": "35b572f4-628d-4305-8870-e73d77bc721a"
      },
      "source": [
        "# convert string to list\n",
        "digit = input(\"enter the digit \")\n",
        "val = list(digit)\n",
        "print(val)"
      ],
      "execution_count": null,
      "outputs": [
        {
          "output_type": "stream",
          "text": [
            "enter the digit Python\n",
            "['P', 'y', 't', 'h', 'o', 'n']\n"
          ],
          "name": "stdout"
        }
      ]
    },
    {
      "cell_type": "code",
      "metadata": {
        "colab": {
          "base_uri": "https://localhost:8080/"
        },
        "id": "W08eiavtv9oz",
        "outputId": "0627d7b0-1df0-4226-c8cd-b1199a5fa3c7"
      },
      "source": [
        "# List of indexing\n",
        "color_list = ['Red','Orange','Yellow','Pink','Green','Blue','Purple','Black','White']\n",
        "index = int(input(\"enter the value here:\"))\n",
        "print(color_list[index])"
      ],
      "execution_count": null,
      "outputs": [
        {
          "output_type": "stream",
          "text": [
            "enter the value here:4\n",
            "Green\n"
          ],
          "name": "stdout"
        }
      ]
    },
    {
      "cell_type": "code",
      "metadata": {
        "colab": {
          "base_uri": "https://localhost:8080/"
        },
        "id": "8SRg7vtkv9wa",
        "outputId": "0da21a01-1cdb-4aa3-e5bc-4e16bf679bcf"
      },
      "source": [
        "# List indexing\n",
        "Programing_languages = [\"Python\",\"Java\",\"Ruby\",\"DBMS\",\"C\",\"C++\",\"Go\",\"R\",\"Javascript\"]\n",
        "n = int(input())\n",
        "for i in range(n):\n",
        "  index = int(input())\n",
        "  print(Programing_languages[index])"
      ],
      "execution_count": null,
      "outputs": [
        {
          "output_type": "stream",
          "text": [
            "4\n",
            "3\n",
            "DBMS\n",
            "2\n",
            "Ruby\n",
            "1\n",
            "Java\n",
            "5\n",
            "C++\n"
          ],
          "name": "stdout"
        }
      ]
    },
    {
      "cell_type": "code",
      "metadata": {
        "colab": {
          "base_uri": "https://localhost:8080/"
        },
        "id": "ywmYTqEI-Fqd",
        "outputId": "f8cc8d80-9e0c-41ca-c115-e2bd0297b9b0"
      },
      "source": [
        "# List Repetition\n",
        "m = int(input())\n",
        "n = int(input())\n",
        "val = [m]*n\n",
        "print(val)"
      ],
      "execution_count": null,
      "outputs": [
        {
          "output_type": "stream",
          "text": [
            "23\n",
            "2\n",
            "[23, 23]\n"
          ],
          "name": "stdout"
        }
      ]
    },
    {
      "cell_type": "code",
      "metadata": {
        "colab": {
          "base_uri": "https://localhost:8080/"
        },
        "id": "PsZ6HhNO-F1B",
        "outputId": "5a23ac38-78d4-42e9-c60f-9f607ea5d787"
      },
      "source": [
        "# Greater than N\n",
        "num_list = [1,6,32,93,71,-20,30,-90,50]\n",
        "new = []\n",
        "num = int(input())\n",
        "for i in num_list:\n",
        "  if i > num:\n",
        "    new = new +[i]\n",
        "print(new)    \n",
        "    "
      ],
      "execution_count": null,
      "outputs": [
        {
          "output_type": "stream",
          "text": [
            "50\n",
            "[93, 71]\n"
          ],
          "name": "stdout"
        }
      ]
    },
    {
      "cell_type": "code",
      "metadata": {
        "colab": {
          "base_uri": "https://localhost:8080/"
        },
        "id": "Gm9DecLH-F9n",
        "outputId": "78d436ad-9ad1-4d15-e464-4c975731798d"
      },
      "source": [
        "n = int(input())\n",
        "new = []\n",
        "for i in range(n):\n",
        "  val = input()\n",
        "  new += [val]\n",
        "print(new)  \n"
      ],
      "execution_count": null,
      "outputs": [
        {
          "output_type": "stream",
          "text": [
            "5\n",
            "Tiger\n",
            "cinema\n",
            "5.5\n",
            "93\n",
            "20\n",
            "['Tiger', 'cinema', '5.5', '93', '20']\n"
          ],
          "name": "stdout"
        }
      ]
    },
    {
      "cell_type": "code",
      "metadata": {
        "colab": {
          "base_uri": "https://localhost:8080/"
        },
        "id": "inpZchEP-GFq",
        "outputId": "73951b3b-cac6-4f20-88df-c0ecae34d1ba"
      },
      "source": [
        "# Reverse order\n",
        "n = int(input())\n",
        "new = []\n",
        "for num in range(n):\n",
        "  val = input()\n",
        "  new = [val] + new\n",
        "for i in new:  \n",
        "  print(i)  "
      ],
      "execution_count": null,
      "outputs": [
        {
          "output_type": "stream",
          "text": [
            "5\n",
            "Anjali\n",
            "Ravi\n",
            "Akbar\n",
            "Suresh\n",
            "Gopal\n",
            "Gopal\n",
            "Suresh\n",
            "Akbar\n",
            "Ravi\n",
            "Anjali\n"
          ],
          "name": "stdout"
        }
      ]
    },
    {
      "cell_type": "code",
      "metadata": {
        "colab": {
          "base_uri": "https://localhost:8080/"
        },
        "id": "D8YGi1SX-GN0",
        "outputId": "ed8a8acb-2b9e-4a5d-a546-5c36c18b714d"
      },
      "source": [
        "#List concatination\n",
        "n = int(input())\n",
        "new = []\n",
        "for i in range(n):\n",
        "  val = input()\n",
        "  new += [val]\n",
        "new_val = new[0:3]+new[-3:]\n",
        "print(new_val)  \n"
      ],
      "execution_count": null,
      "outputs": [
        {
          "output_type": "stream",
          "text": [
            "8\n",
            "Anjali\n",
            "Ravi\n",
            "Akbar\n",
            "Suresh\n",
            "Gopal\n",
            "Latha\n",
            "Mohan\n",
            "Ashok\n",
            "['Anjali', 'Ravi', 'Akbar', 'Latha', 'Mohan', 'Ashok']\n"
          ],
          "name": "stdout"
        }
      ]
    },
    {
      "cell_type": "code",
      "metadata": {
        "id": "StNIIaSW-GZx"
      },
      "source": [
        ""
      ],
      "execution_count": null,
      "outputs": []
    },
    {
      "cell_type": "code",
      "metadata": {
        "colab": {
          "base_uri": "https://localhost:8080/"
        },
        "id": "xixlZdwj-GhV",
        "outputId": "9032276a-f46b-484e-9849-0946090cc4b8"
      },
      "source": [
        "# functions\n",
        "dig = \"Banana Apple Pomegranate Strawberry Grapes Orange\"\n",
        "new = \"\"\n",
        "val = dig.split()\n",
        "for word in val:\n",
        "  print(word)"
      ],
      "execution_count": null,
      "outputs": [
        {
          "output_type": "stream",
          "text": [
            "Banana\n",
            "Apple\n",
            "Pomegranate\n",
            "Strawberry\n",
            "Grapes\n",
            "Orange\n"
          ],
          "name": "stdout"
        }
      ]
    },
    {
      "cell_type": "code",
      "metadata": {
        "colab": {
          "base_uri": "https://localhost:8080/"
        },
        "id": "KVqrhwGp-Goc",
        "outputId": "2266bc05-4510-4f2b-c76a-ef7158749901"
      },
      "source": [
        "n = \"Banana Apple Pomegranate Strawberry Grapes Orange\"\n",
        "word_list = n.split()\n",
        "for word in word_list:\n",
        "  print(word)"
      ],
      "execution_count": null,
      "outputs": [
        {
          "output_type": "stream",
          "text": [
            "Banana\n",
            "Apple\n",
            "Pomegranate\n",
            "Strawberry\n",
            "Grapes\n",
            "Orange\n"
          ],
          "name": "stdout"
        }
      ]
    },
    {
      "cell_type": "code",
      "metadata": {
        "colab": {
          "base_uri": "https://localhost:8080/"
        },
        "id": "43g5W0yB-Gve",
        "outputId": "f006223c-df24-4b26-815c-35dc359f00c7"
      },
      "source": [
        "val = \"Banana Apple Pomegranate Strawberry Grapes Orange\"\n",
        "dig = val.split()\n",
        "new = dig[::-1]\n",
        "print(new)"
      ],
      "execution_count": null,
      "outputs": [
        {
          "output_type": "stream",
          "text": [
            "['Orange', 'Grapes', 'Strawberry', 'Pomegranate', 'Apple', 'Banana']\n"
          ],
          "name": "stdout"
        }
      ]
    },
    {
      "cell_type": "code",
      "metadata": {
        "colab": {
          "base_uri": "https://localhost:8080/"
        },
        "id": "aDEGgzOf-G2w",
        "outputId": "1f38c164-acaa-4885-a0a1-a7980b1b951d"
      },
      "source": [
        "n = \"2 5 10 -15 3\"\n",
        "num_list = n.split()\n",
        "total = 0\n",
        "for word in num_list:\n",
        "  total += int(word)\n",
        "\n",
        "print(total)"
      ],
      "execution_count": null,
      "outputs": [
        {
          "output_type": "stream",
          "text": [
            "5\n"
          ],
          "name": "stdout"
        }
      ]
    },
    {
      "cell_type": "code",
      "metadata": {
        "colab": {
          "background_save": true,
          "base_uri": "https://localhost:8080/"
        },
        "id": "MEt1a5ut-G97",
        "outputId": "fc938e24-7345-47c2-b873-d17db651accd"
      },
      "source": [
        "# reverse the letters in words of the sentence\n",
        "# word = '''The output should be a single line containing the sentence by reversing all the letters in words.\n",
        "#  Note: The order of the words in the modified sentence should be the same as in the given sentence.\n",
        "# Explanation'''\n",
        "# new = word.split()\n",
        "# modified = []\n",
        "# for i in new:\n",
        "#   modified += [i[::-1]]\n",
        "# reverse_order = \" \".join(modified)  \n",
        "# print(reverse_order)\n",
        "\n"
      ],
      "execution_count": null,
      "outputs": [
        {
          "output_type": "stream",
          "text": [
            "['The', 'output', 'should', 'be', 'a', 'single', 'line', 'containing', 'the', 'sentence', 'by', 'reversing', 'all', 'the', 'letters', 'in', 'words.', 'Note:', 'The', 'order', 'of', 'the', 'words', 'in', 'the', 'modified', 'sentence', 'should', 'be', 'the', 'same', 'as', 'in', 'the', 'given', 'sentence.', 'Explanation']\n"
          ],
          "name": "stdout"
        }
      ]
    },
    {
      "cell_type": "code",
      "metadata": {
        "id": "UOSuYrnf-HE2"
      },
      "source": [
        "list_a = \"1,2,3\"\n",
        "list_b = \"4,5,6\"\n",
        "n = len(list_a)\n",
        "for "
      ],
      "execution_count": null,
      "outputs": []
    },
    {
      "cell_type": "code",
      "metadata": {
        "colab": {
          "base_uri": "https://localhost:8080/"
        },
        "id": "GJSDaMGM-HL6",
        "outputId": "bf90d5df-76a3-4ef0-9600-41e237005247"
      },
      "source": [
        "list_a = input().split(\",\")\n",
        "list_b = input().split(\",\")\n",
        "len_a = len(list_a)\n",
        "n = len_a-1\n",
        "for i in range(len_a):\n",
        "  print(\"**\",i)\n",
        "  num_1 = list_a[i]\n",
        "  num_2 = list_b[n-i]\n",
        "  result = str(num_1)+ \" \"+str(num_2)\n",
        "  print(result)"
      ],
      "execution_count": null,
      "outputs": [
        {
          "output_type": "stream",
          "text": [
            "1,2,3\n",
            "4,5,6\n",
            "** 0\n",
            "1 6\n",
            "** 1\n",
            "2 5\n",
            "** 2\n",
            "3 4\n"
          ],
          "name": "stdout"
        }
      ]
    },
    {
      "cell_type": "code",
      "metadata": {
        "colab": {
          "base_uri": "https://localhost:8080/"
        },
        "id": "Rkfl4HEw-HS3",
        "outputId": "d67af98b-e2e8-4e87-c970-a1a6b0e17727"
      },
      "source": [
        "# functions coding practice\n",
        "# Return the given argument\n",
        "def func(arg_1):\n",
        "  return arg_1\n",
        "n = \"Srikanth\"\n",
        "func(n)\n",
        "print(n)  "
      ],
      "execution_count": null,
      "outputs": [
        {
          "output_type": "stream",
          "text": [
            "Srikanth\n"
          ],
          "name": "stdout"
        }
      ]
    },
    {
      "cell_type": "code",
      "metadata": {
        "colab": {
          "base_uri": "https://localhost:8080/"
        },
        "id": "_ysQJL-E-HaP",
        "outputId": "abe7cc5d-b3d5-49ba-8e73-e5ccc9fbbf71"
      },
      "source": [
        "def func(n):\n",
        "  for i in range(1,11):\n",
        "    print(str(n)+\"*\"+str(i)+\"=\"+str(n*i))\n",
        "n = int(input())\n",
        "func(n)\n",
        " \n",
        "\n"
      ],
      "execution_count": null,
      "outputs": [
        {
          "output_type": "stream",
          "text": [
            "5\n",
            "5*1=5\n",
            "5*2=10\n",
            "5*3=15\n",
            "5*4=20\n",
            "5*5=25\n",
            "5*6=30\n",
            "5*7=35\n",
            "5*8=40\n",
            "5*9=45\n",
            "5*10=50\n"
          ],
          "name": "stdout"
        }
      ]
    },
    {
      "cell_type": "code",
      "metadata": {
        "id": "MkXUWqxI-HhZ"
      },
      "source": [
        "\n"
      ],
      "execution_count": null,
      "outputs": []
    },
    {
      "cell_type": "code",
      "metadata": {
        "id": "RhnvFDdG-Ho0"
      },
      "source": [
        ""
      ],
      "execution_count": null,
      "outputs": []
    },
    {
      "cell_type": "code",
      "metadata": {
        "colab": {
          "base_uri": "https://localhost:8080/"
        },
        "id": "Vg1Bm2F3-HwR",
        "outputId": "d21bd7c3-bdc0-4f6f-8017-a876ce22d6d8"
      },
      "source": [
        "# Welcome message\n",
        "def message(a):\n",
        "  wishes = \"Welcome\"+\" \"+a\n",
        "  print(wishes)\n",
        "a = input()\n",
        "message(a)\n"
      ],
      "execution_count": null,
      "outputs": [
        {
          "output_type": "stream",
          "text": [
            "Srikanth\n",
            "Welcome Srikanth\n"
          ],
          "name": "stdout"
        }
      ]
    },
    {
      "cell_type": "code",
      "metadata": {
        "colab": {
          "base_uri": "https://localhost:8080/"
        },
        "id": "lwlNHAUY-H3n",
        "outputId": "6cb38f56-2cce-427f-9d68-39aed3a702d9"
      },
      "source": [
        "# Multiply with other number\n",
        "def multiply(m,n):\n",
        "  m = m*n\n",
        "  print(m)\n",
        "m = int(input())\n",
        "n = int(input())\n",
        "multiply(m,n)  "
      ],
      "execution_count": null,
      "outputs": [
        {
          "output_type": "stream",
          "text": [
            "2\n",
            "100\n",
            "200\n"
          ],
          "name": "stdout"
        }
      ]
    },
    {
      "cell_type": "code",
      "metadata": {
        "colab": {
          "base_uri": "https://localhost:8080/"
        },
        "id": "roz9qhin-H-_",
        "outputId": "c3242e17-3e5f-4b44-c4cd-79e7931f403d"
      },
      "source": [
        "# Divisible by 7\n",
        "def divi(a,b):\n",
        "  remainder = a%b\n",
        "  if remainder == 0:\n",
        "    result = True\n",
        "  else:\n",
        "    result = False\n",
        "  print(result)\n",
        "a=int(input())\n",
        "b=int(input())\n",
        "divi(a,b)      "
      ],
      "execution_count": null,
      "outputs": [
        {
          "output_type": "stream",
          "text": [
            "14\n",
            "7\n",
            "True\n"
          ],
          "name": "stdout"
        }
      ]
    },
    {
      "cell_type": "code",
      "metadata": {
        "colab": {
          "base_uri": "https://localhost:8080/"
        },
        "id": "xOZNGCQy-IGg",
        "outputId": "e03750fd-9485-4e86-d6b3-0c01dcd1d8de"
      },
      "source": [
        "#Perimeter of the square\n",
        "def perimeter(arg_1):\n",
        "  return arg_1*4\n",
        "arg_1 = int(input())\n",
        "result = perimeter(side)\n",
        "print(result)  "
      ],
      "execution_count": null,
      "outputs": [
        {
          "output_type": "stream",
          "text": [
            "3\n",
            "12\n"
          ],
          "name": "stdout"
        }
      ]
    },
    {
      "cell_type": "code",
      "metadata": {
        "colab": {
          "base_uri": "https://localhost:8080/"
        },
        "id": "NcYS3wjN-IN4",
        "outputId": "5f7041d3-e79c-451d-9bbb-39a80a15e096"
      },
      "source": [
        "#add two numbers\n",
        "def add(m,n):\n",
        "  sum = m+n\n",
        "  return sum\n",
        "m = int(input())\n",
        "n = int(input())\n",
        "add(m,n)\n"
      ],
      "execution_count": null,
      "outputs": [
        {
          "output_type": "stream",
          "text": [
            "5\n",
            "8\n"
          ],
          "name": "stdout"
        },
        {
          "output_type": "execute_result",
          "data": {
            "text/plain": [
              "13"
            ]
          },
          "metadata": {
            "tags": []
          },
          "execution_count": 83
        }
      ]
    },
    {
      "cell_type": "code",
      "metadata": {
        "colab": {
          "base_uri": "https://localhost:8080/"
        },
        "id": "i5htUj2U-Ijw",
        "outputId": "2d431e54-fd71-4b4a-db22-d628099641e7"
      },
      "source": [
        "# printing message\n",
        "def message(m,n):\n",
        "  msg = m+\" is \"+str(n)+\" years old \"\n",
        "  print(msg)\n",
        "m = input() \n",
        "n = int(input())\n",
        "message(m,n) "
      ],
      "execution_count": null,
      "outputs": [
        {
          "output_type": "stream",
          "text": [
            "Srikanth\n",
            "26\n",
            "Srikanth is 26 years old \n"
          ],
          "name": "stdout"
        }
      ]
    },
    {
      "cell_type": "code",
      "metadata": {
        "id": "RVbt2gxvVBIn"
      },
      "source": [
        ""
      ],
      "execution_count": null,
      "outputs": []
    },
    {
      "cell_type": "code",
      "metadata": {
        "id": "d6QbwSdPVBSl"
      },
      "source": [
        ""
      ],
      "execution_count": null,
      "outputs": []
    },
    {
      "cell_type": "code",
      "metadata": {
        "colab": {
          "base_uri": "https://localhost:8080/",
          "height": 350
        },
        "id": "qveN9fmsVBbe",
        "outputId": "bcf217df-c764-4055-c5c4-d980ce65afc0"
      },
      "source": [
        "def get(arg):\n",
        "  \n",
        "  list_a = arg.split(\",\")\n",
        "  len_a = len(list_a)\n",
        "  for i in range(len_a):\n",
        "    list_a[i] = int(list_a[i])**2\n",
        "  return list_a\n",
        "arg = input()\n",
        "number = get(arg)\n",
        "print(number)    "
      ],
      "execution_count": null,
      "outputs": [
        {
          "output_type": "stream",
          "text": [
            "1,2,3,4\n"
          ],
          "name": "stdout"
        },
        {
          "output_type": "error",
          "ename": "IndexError",
          "evalue": "ignored",
          "traceback": [
            "\u001b[0;31m---------------------------------------------------------------------------\u001b[0m",
            "\u001b[0;31mIndexError\u001b[0m                                Traceback (most recent call last)",
            "\u001b[0;32m<ipython-input-106-bd4a49e98b22>\u001b[0m in \u001b[0;36m<module>\u001b[0;34m()\u001b[0m\n\u001b[1;32m      7\u001b[0m   \u001b[0;32mreturn\u001b[0m \u001b[0mlist_a\u001b[0m\u001b[0;34m\u001b[0m\u001b[0;34m\u001b[0m\u001b[0m\n\u001b[1;32m      8\u001b[0m \u001b[0marg\u001b[0m \u001b[0;34m=\u001b[0m \u001b[0minput\u001b[0m\u001b[0;34m(\u001b[0m\u001b[0;34m)\u001b[0m\u001b[0;34m\u001b[0m\u001b[0;34m\u001b[0m\u001b[0m\n\u001b[0;32m----> 9\u001b[0;31m \u001b[0mnumber\u001b[0m \u001b[0;34m=\u001b[0m \u001b[0mget\u001b[0m\u001b[0;34m(\u001b[0m\u001b[0marg\u001b[0m\u001b[0;34m)\u001b[0m\u001b[0;34m\u001b[0m\u001b[0;34m\u001b[0m\u001b[0m\n\u001b[0m\u001b[1;32m     10\u001b[0m \u001b[0mprint\u001b[0m\u001b[0;34m(\u001b[0m\u001b[0mnumber\u001b[0m\u001b[0;34m)\u001b[0m\u001b[0;34m\u001b[0m\u001b[0;34m\u001b[0m\u001b[0m\n",
            "\u001b[0;32m<ipython-input-106-bd4a49e98b22>\u001b[0m in \u001b[0;36mget\u001b[0;34m(arg)\u001b[0m\n\u001b[1;32m      4\u001b[0m   \u001b[0mlen_a\u001b[0m \u001b[0;34m=\u001b[0m \u001b[0mlen\u001b[0m\u001b[0;34m(\u001b[0m\u001b[0marg\u001b[0m\u001b[0;34m)\u001b[0m\u001b[0;34m\u001b[0m\u001b[0;34m\u001b[0m\u001b[0m\n\u001b[1;32m      5\u001b[0m   \u001b[0;32mfor\u001b[0m \u001b[0mi\u001b[0m \u001b[0;32min\u001b[0m \u001b[0mrange\u001b[0m\u001b[0;34m(\u001b[0m\u001b[0mlen_a\u001b[0m\u001b[0;34m)\u001b[0m\u001b[0;34m:\u001b[0m\u001b[0;34m\u001b[0m\u001b[0;34m\u001b[0m\u001b[0m\n\u001b[0;32m----> 6\u001b[0;31m     \u001b[0mlist_a\u001b[0m\u001b[0;34m[\u001b[0m\u001b[0mi\u001b[0m\u001b[0;34m]\u001b[0m \u001b[0;34m=\u001b[0m \u001b[0mint\u001b[0m\u001b[0;34m(\u001b[0m\u001b[0mlist_a\u001b[0m\u001b[0;34m[\u001b[0m\u001b[0mi\u001b[0m\u001b[0;34m]\u001b[0m\u001b[0;34m)\u001b[0m\u001b[0;34m**\u001b[0m\u001b[0;36m2\u001b[0m\u001b[0;34m\u001b[0m\u001b[0;34m\u001b[0m\u001b[0m\n\u001b[0m\u001b[1;32m      7\u001b[0m   \u001b[0;32mreturn\u001b[0m \u001b[0mlist_a\u001b[0m\u001b[0;34m\u001b[0m\u001b[0;34m\u001b[0m\u001b[0m\n\u001b[1;32m      8\u001b[0m \u001b[0marg\u001b[0m \u001b[0;34m=\u001b[0m \u001b[0minput\u001b[0m\u001b[0;34m(\u001b[0m\u001b[0;34m)\u001b[0m\u001b[0;34m\u001b[0m\u001b[0;34m\u001b[0m\u001b[0m\n",
            "\u001b[0;31mIndexError\u001b[0m: list index out of range"
          ]
        }
      ]
    },
    {
      "cell_type": "code",
      "metadata": {
        "id": "0SfmokYCVBkU"
      },
      "source": [
        ""
      ],
      "execution_count": null,
      "outputs": []
    },
    {
      "cell_type": "code",
      "metadata": {
        "colab": {
          "base_uri": "https://localhost:8080/"
        },
        "id": "hhsYRqvpVBvx",
        "outputId": "5069a3c8-673b-44ab-df56-e32ea74275ad"
      },
      "source": [
        "# Team points\n",
        "def calculate_league_points(wins, draws, losses):\n",
        "\n",
        "    win_points = wins*4\n",
        "    draw_points = draws*2\n",
        "    loss_points = losses*-1\n",
        "    total_points = win_points + loss_points + draw_points\n",
        "    return total_points\n",
        "\n",
        "\n",
        "statistics = input().split(\",\")\n",
        "wins = int(statistics[0])\n",
        "draws = int(statistics[1])\n",
        "losses = int(statistics[2])\n",
        "total_points = calculate_league_points(wins, draws, losses)\n",
        "print(total_points) "
      ],
      "execution_count": null,
      "outputs": [
        {
          "output_type": "stream",
          "text": [
            "4,1,2\n",
            "16\n"
          ],
          "name": "stdout"
        }
      ]
    },
    {
      "cell_type": "code",
      "metadata": {
        "colab": {
          "base_uri": "https://localhost:8080/",
          "height": 52
        },
        "id": "WAbk3rCgVB4k",
        "outputId": "9715c751-74ed-4caf-ed61-72ae1a0ada18"
      },
      "source": [
        "# speed meter\n",
        "def speedo(speed):\n",
        "  if speed < 60:\n",
        "    res = \"Normal\"\n",
        "  elif (speed >= 60) and (speed < 80):\n",
        "    res = \"Warning\"\n",
        "  else:\n",
        "    res = \"Overspeed\"\n",
        "  return res\n",
        "speed = int(input())\n",
        "speedo(speed)\n",
        "        "
      ],
      "execution_count": null,
      "outputs": [
        {
          "output_type": "stream",
          "text": [
            "50\n"
          ],
          "name": "stdout"
        },
        {
          "output_type": "execute_result",
          "data": {
            "application/vnd.google.colaboratory.intrinsic+json": {
              "type": "string"
            },
            "text/plain": [
              "'Normal'"
            ]
          },
          "metadata": {
            "tags": []
          },
          "execution_count": 110
        }
      ]
    },
    {
      "cell_type": "code",
      "metadata": {
        "colab": {
          "base_uri": "https://localhost:8080/"
        },
        "id": "0MBKz-K7VCA8",
        "outputId": "e81ef97d-101d-464e-a494-7d2840ab3755"
      },
      "source": [
        "# sum of squares\n",
        "def sum_of_squares(m,n):\n",
        "  total = 0\n",
        "  for i in range(m,n+1):\n",
        "    total = total + (i**2)\n",
        "  return total\n",
        "m = int(input())\n",
        "n = int(input()) \n",
        "result = sum_of_squares(m,n)\n",
        "print(result)   "
      ],
      "execution_count": null,
      "outputs": [
        {
          "output_type": "stream",
          "text": [
            "3\n",
            "5\n",
            "50\n"
          ],
          "name": "stdout"
        }
      ]
    },
    {
      "cell_type": "code",
      "metadata": {
        "colab": {
          "base_uri": "https://localhost:8080/"
        },
        "id": "nY3luLqpVCJj",
        "outputId": "b68f5d9e-0f76-42c9-ff5d-e7ed8579d665"
      },
      "source": [
        "# sum_of cubes\n",
        "def sum_of_cubes(m,n):\n",
        "  total = 0\n",
        "  for i in range(m,n+1):\n",
        "    total = total+(i**3)\n",
        "  return total\n",
        "m = int(input())\n",
        "n = int(input())\n",
        "result = sum_of_cubes(m,n)\n",
        "print(result)    "
      ],
      "execution_count": null,
      "outputs": [
        {
          "output_type": "stream",
          "text": [
            "3\n",
            "5\n",
            "216\n"
          ],
          "name": "stdout"
        }
      ]
    },
    {
      "cell_type": "code",
      "metadata": {
        "colab": {
          "base_uri": "https://localhost:8080/"
        },
        "id": "oSQ-9WA2VCSK",
        "outputId": "66eaab1b-3ca2-40b5-93fc-c0b76a1fc87e"
      },
      "source": [
        "# Labelling numbers\n",
        "def show_numbers(number):\n",
        "  for i in range(number):\n",
        "    if i%2 == 0:\n",
        "      print(str(i)+\" Even\")\n",
        "    else:\n",
        "      print(str(i)+\" Odd\")  \n",
        "  \n",
        "number = int(input())    \n",
        "show_numbers(number)    "
      ],
      "execution_count": null,
      "outputs": [
        {
          "output_type": "stream",
          "text": [
            "6\n",
            "0 Even\n",
            "1 Odd\n",
            "2 Even\n",
            "3 Odd\n",
            "4 Even\n",
            "5 Odd\n"
          ],
          "name": "stdout"
        }
      ]
    },
    {
      "cell_type": "code",
      "metadata": {
        "colab": {
          "background_save": true
        },
        "id": "K1CvEGKdVCar",
        "outputId": "34639b89-c7ec-4a73-a47a-2fbad3b6458d"
      },
      "source": [
        "# U"
      ],
      "execution_count": null,
      "outputs": [
        {
          "output_type": "stream",
          "text": [
            "\n",
            "PreMium\n"
          ],
          "name": "stdout"
        }
      ]
    },
    {
      "cell_type": "code",
      "metadata": {
        "colab": {
          "base_uri": "https://localhost:8080/"
        },
        "id": "wuUKdQuSVCjX",
        "outputId": "4ac84819-7746-400a-e934-c2f64950bf9b"
      },
      "source": [
        "#count the vowels\n",
        "def count_the_vowels(word):\n",
        "  count = 0\n",
        "  for letter in word:\n",
        "    is_a = letter == \"a\"\n",
        "    is_e = letter == \"e\"\n",
        "    is_i = letter == \"i\"\n",
        "    is_o = letter == \"o\"\n",
        "    is_u = letter == \"u\"\n",
        "    is_vowel = ((((is_a or is_e) or is_i) or is_o) or is_u)\n",
        "    if is_vowel:\n",
        "      count += 1\n",
        "  return count    \n",
        "dg = input()\n",
        "count_the_vowels(dg)      "
      ],
      "execution_count": null,
      "outputs": [
        {
          "output_type": "stream",
          "text": [
            "suggestions\n"
          ],
          "name": "stdout"
        },
        {
          "output_type": "execute_result",
          "data": {
            "text/plain": [
              "4"
            ]
          },
          "metadata": {
            "tags": []
          },
          "execution_count": 10
        }
      ]
    },
    {
      "cell_type": "code",
      "metadata": {
        "colab": {
          "base_uri": "https://localhost:8080/"
        },
        "id": "utwxUP81VCru",
        "outputId": "c47559d5-64fc-487f-b5d5-492e105e6cf9"
      },
      "source": [
        "#four passengers and driver\n",
        "def number_of_cars_needed(no_of_people):\n",
        "  number_of_cars = no_of_people//5\n",
        "  remaining_people = no_of_people%5\n",
        "  if remaining_people > 0:\n",
        "    number_of_cars += 1\n",
        "  return number_of_cars\n",
        "no_of_people = int(input())\n",
        "number_of_cars_needed(no_of_people)  \n",
        "\n"
      ],
      "execution_count": null,
      "outputs": [
        {
          "output_type": "stream",
          "text": [
            "5\n"
          ],
          "name": "stdout"
        },
        {
          "output_type": "execute_result",
          "data": {
            "text/plain": [
              "1"
            ]
          },
          "metadata": {
            "tags": []
          },
          "execution_count": 14
        }
      ]
    },
    {
      "cell_type": "code",
      "metadata": {
        "colab": {
          "base_uri": "https://localhost:8080/"
        },
        "id": "o5BMaNlBVC0g",
        "outputId": "bc09836a-e311-4f10-8f73-fd48fa3cf3ee"
      },
      "source": [
        "def valid_pin(num):\n",
        "  if len(num) == 4 or len(num) == 6:\n",
        "    if num.isdigit():\n",
        "      print(\"valid pin code\")\n",
        "    else:\n",
        "      print(\"invalid pin code\")\n",
        "num = input()\n",
        "valid_pin(num)              "
      ],
      "execution_count": null,
      "outputs": [
        {
          "output_type": "stream",
          "text": [
            "156157\n",
            "valid pin code\n"
          ],
          "name": "stdout"
        }
      ]
    },
    {
      "cell_type": "code",
      "metadata": {
        "colab": {
          "base_uri": "https://localhost:8080/"
        },
        "id": "h53fbu-SVC8z",
        "outputId": "026c8a51-ae34-4a13-ad4f-31013958baf1"
      },
      "source": [
        "#largest number\n",
        "number = \"2,3,-1,50\"\n",
        "val = number.split(\",\")\n",
        "len_list = len(val)\n",
        "for word in range(len_list):\n",
        "  val[word] = int(val[word])\n",
        "sor = sorted(val)\n",
        "largest = sor[-1]\n",
        "print(largest)  \n",
        "  \n"
      ],
      "execution_count": null,
      "outputs": [
        {
          "output_type": "stream",
          "text": [
            "50\n"
          ],
          "name": "stdout"
        }
      ]
    },
    {
      "cell_type": "code",
      "metadata": {
        "colab": {
          "base_uri": "https://localhost:8080/"
        },
        "id": "iQ3SYLPrVDFP",
        "outputId": "f2b13e4d-06ef-4b8b-fa00-aca4ead18a34"
      },
      "source": [
        "# smallest number\n",
        "number = \"2,3,-1,50\"\n",
        "val = number.split(\",\")\n",
        "len_val = len(val)\n",
        "for word in range(len_val):\n",
        "  val[word] = int(val[word])\n",
        "val = sorted(val)\n",
        "smallest = val[0]\n",
        "print(smallest)  "
      ],
      "execution_count": null,
      "outputs": [
        {
          "output_type": "stream",
          "text": [
            "-1\n"
          ],
          "name": "stdout"
        }
      ]
    },
    {
      "cell_type": "code",
      "metadata": {
        "colab": {
          "base_uri": "https://localhost:8080/"
        },
        "id": "0mhoypb8VDRL",
        "outputId": "7501456d-fb3f-44b5-f9a0-e8340187290a"
      },
      "source": [
        "#kth largest number\n",
        "number = \"2,3,-1,5\"\n",
        "k = int(input())\n",
        "word = number.split(\",\")\n",
        "len_number = len(word)\n",
        "for i in range(len_number):\n",
        "  word[i] = int(word[i])\n",
        "val = sorted(word)\n",
        "largest = val[-k]\n",
        "print(largest)"
      ],
      "execution_count": null,
      "outputs": [
        {
          "output_type": "stream",
          "text": [
            "2\n",
            "3\n"
          ],
          "name": "stdout"
        }
      ]
    },
    {
      "cell_type": "code",
      "metadata": {
        "colab": {
          "base_uri": "https://localhost:8080/"
        },
        "id": "W3VrJqKHVDag",
        "outputId": "3976e23a-da9d-4faf-9c00-3232ebb6ba33"
      },
      "source": [
        "# Kth smallest number\n",
        "number = \"2,3,-1,5\"\n",
        "k = int(input())\n",
        "n = number.split(\",\")\n",
        "len_number = len(n)\n",
        "for i in range(len_number):\n",
        "  n[i] = int(n[i])\n",
        "sor = sorted(n)\n",
        "smallest = sor[k-1]\n",
        "print(smallest)  "
      ],
      "execution_count": null,
      "outputs": [
        {
          "output_type": "stream",
          "text": [
            "2\n",
            "2\n"
          ],
          "name": "stdout"
        }
      ]
    },
    {
      "cell_type": "code",
      "metadata": {
        "colab": {
          "base_uri": "https://localhost:8080/"
        },
        "id": "mbw6a2OvpUZ8",
        "outputId": "af9760d0-5f55-41ed-acb2-88871f21c899"
      },
      "source": [
        "# difference between Max and Min\n",
        "number = \"2,3,-1,5\"\n",
        "num_list = number.split(\",\")\n",
        "len_list = len(num_list)\n",
        "for i in range(len_list):\n",
        "  num_list[i] = int(num_list[i])\n",
        "sort_list = sorted(num_list)\n",
        "max_num = max(sort_list) \n",
        "min_num = min(sort_list)\n",
        "difference = max_num - min_num\n",
        "print(difference) "
      ],
      "execution_count": null,
      "outputs": [
        {
          "output_type": "stream",
          "text": [
            "6\n"
          ],
          "name": "stdout"
        }
      ]
    },
    {
      "cell_type": "code",
      "metadata": {
        "colab": {
          "base_uri": "https://localhost:8080/"
        },
        "id": "BQlVV8NWpUgf",
        "outputId": "81018284-3bc0-4db6-cacd-a4d5c70a7525"
      },
      "source": [
        "# Extract Digits\n",
        "def get_digit(word):\n",
        "  list_val = []\n",
        "# word = \"COd1n8\"\n",
        "  for i in word:\n",
        "    if i.isdigit():\n",
        "      list_val += [int(i)]\n",
        "  return list_val  \n",
        "\n",
        "\n",
        "\n",
        "word = input()\n",
        "lev = get_digit(word)\n",
        "sum_of_digits = sum(lev)\n",
        "print(sum_of_digits)\n",
        "max_val = max(lev)\n",
        "print(max_val)\n",
        "min_val = min(lev)\n",
        "print(min_val)"
      ],
      "execution_count": null,
      "outputs": [
        {
          "output_type": "stream",
          "text": [
            "C0d1n8\n",
            "9\n",
            "8\n",
            "0\n"
          ],
          "name": "stdout"
        }
      ]
    },
    {
      "cell_type": "code",
      "metadata": {
        "id": "lbyNDXVupUru"
      },
      "source": [
        "# sort and square the list \n",
        "# list_a = input().split()\n",
        "# list_x = []\n",
        "\n",
        "# for num in list_a:\n",
        "#   list_x += int(num)**2\n",
        "# print(list_x)"
      ],
      "execution_count": null,
      "outputs": []
    },
    {
      "cell_type": "code",
      "metadata": {
        "colab": {
          "base_uri": "https://localhost:8080/"
        },
        "id": "TF5zrKfQpUzT",
        "outputId": "f7d241b1-f04b-42b2-ab23-887364f4ef88"
      },
      "source": [
        "#Factorial \n",
        "def fact(n):\n",
        "  if n <= 0:\n",
        "    return 1\n",
        "  else:\n",
        "    return n*fact(n-1)\n",
        "n = int(input())\n",
        "fact(n)            "
      ],
      "execution_count": null,
      "outputs": [
        {
          "output_type": "stream",
          "text": [
            "4\n"
          ],
          "name": "stdout"
        },
        {
          "output_type": "execute_result",
          "data": {
            "text/plain": [
              "24"
            ]
          },
          "metadata": {
            "tags": []
          },
          "execution_count": 31
        }
      ]
    },
    {
      "cell_type": "code",
      "metadata": {
        "colab": {
          "base_uri": "https://localhost:8080/"
        },
        "id": "83izDYkHpU4y",
        "outputId": "7dbb2c01-937c-476c-805c-4c09b2ebc19e"
      },
      "source": [
        "#Sum of digits\n",
        "def sum_of_digit(val):\n",
        "  if val < 10:\n",
        "    return val\n",
        "  else:\n",
        "    return (val % 10)+ sum_of_digit(val//10)\n",
        "val = int(input())\n",
        "d = sum_of_digit(val)\n",
        "print(d)     "
      ],
      "execution_count": null,
      "outputs": [
        {
          "output_type": "stream",
          "text": [
            "255\n",
            "12\n"
          ],
          "name": "stdout"
        }
      ]
    },
    {
      "cell_type": "code",
      "metadata": {
        "colab": {
          "base_uri": "https://localhost:8080/"
        },
        "id": "z3y0GDGfpU-G",
        "outputId": "49dde83e-c12e-442b-a5c1-cbf76e4aa490"
      },
      "source": [
        "a = 255\n",
        "b = a%10\n",
        "print(b)"
      ],
      "execution_count": null,
      "outputs": [
        {
          "output_type": "stream",
          "text": [
            "5\n"
          ],
          "name": "stdout"
        }
      ]
    },
    {
      "cell_type": "code",
      "metadata": {
        "colab": {
          "base_uri": "https://localhost:8080/"
        },
        "id": "wANjtV5zpVDi",
        "outputId": "0d6fb766-43f8-405a-a8fc-5d9acf3dd4be"
      },
      "source": [
        "a=2555//10\n",
        "print(a)\n"
      ],
      "execution_count": null,
      "outputs": [
        {
          "output_type": "stream",
          "text": [
            "255\n"
          ],
          "name": "stdout"
        }
      ]
    },
    {
      "cell_type": "code",
      "metadata": {
        "colab": {
          "base_uri": "https://localhost:8080/"
        },
        "id": "ErZWu7NLpVJb",
        "outputId": "fb1e0d26-205c-4a3d-cc94-a9a0a78d2239"
      },
      "source": [
        "# a power of b\n",
        "def cal(x,y):\n",
        "  if y == 1:\n",
        "    return x\n",
        "  else:\n",
        "    y -= 1\n",
        "    return x*cal(x,y)\n",
        "x = int(input())\n",
        "y = int(input())\n",
        "d = cal(x,y)\n",
        "print(d)      "
      ],
      "execution_count": null,
      "outputs": [
        {
          "output_type": "stream",
          "text": [
            "2\n",
            "3\n",
            "8\n"
          ],
          "name": "stdout"
        }
      ]
    },
    {
      "cell_type": "code",
      "metadata": {
        "colab": {
          "base_uri": "https://localhost:8080/"
        },
        "id": "GNs62HalpVRd",
        "outputId": "e2bb66fc-b617-4c88-c0f6-590e68e9fe3f"
      },
      "source": [
        "# sum of numbers\n",
        "def sum_num(n):\n",
        "  if n == 1:\n",
        "    return 1\n",
        "  else:\n",
        "    return n+sum_num(n-1)\n",
        "n = int(input())\n",
        "val = sum_num(n)          \n",
        "print(val)"
      ],
      "execution_count": null,
      "outputs": [
        {
          "output_type": "stream",
          "text": [
            "4\n",
            "10\n"
          ],
          "name": "stdout"
        }
      ]
    },
    {
      "cell_type": "code",
      "metadata": {
        "colab": {
          "base_uri": "https://localhost:8080/"
        },
        "id": "0AAu1xTupVZr",
        "outputId": "1c7244c4-bf69-4ff8-991a-ae851590ff81"
      },
      "source": [
        "def sum_val(n):\n",
        "  if n == 1:\n",
        "    return 1\n",
        "  else:\n",
        "    return n * sum_val(n-1)\n",
        "n = int(input())\n",
        "d = sum_val(n)\n",
        "print(d)      "
      ],
      "execution_count": null,
      "outputs": [
        {
          "output_type": "stream",
          "text": [
            "4\n",
            "24\n"
          ],
          "name": "stdout"
        }
      ]
    },
    {
      "cell_type": "code",
      "metadata": {
        "colab": {
          "base_uri": "https://localhost:8080/"
        },
        "id": "HoJPc0TtpVhy",
        "outputId": "2c30a1a0-2deb-4f1c-a34c-1d7c3fffd833"
      },
      "source": [
        "# List append \n",
        "word = ['cricket','hockey','football','badminton']\n",
        "val = input()\n",
        "word.append(val)\n",
        "print(word)"
      ],
      "execution_count": null,
      "outputs": [
        {
          "output_type": "stream",
          "text": [
            "Golf\n",
            "['cricket', 'hockey', 'football', 'badminton', 'Golf']\n"
          ],
          "name": "stdout"
        }
      ]
    },
    {
      "cell_type": "code",
      "metadata": {
        "colab": {
          "base_uri": "https://localhost:8080/"
        },
        "id": "LffUCS4JvCia",
        "outputId": "057378a1-4349-4d3b-ea15-4d6bf4ebecbb"
      },
      "source": [
        "# insert an element\n",
        "word = [10,20,40,50,60]\n",
        "val = int(input())\n",
        "index = int(input())\n",
        "word.insert(index,val)\n",
        "print(word)"
      ],
      "execution_count": null,
      "outputs": [
        {
          "output_type": "stream",
          "text": [
            "30\n",
            "2\n",
            "[10, 20, 30, 40, 50, 60]\n"
          ],
          "name": "stdout"
        }
      ]
    },
    {
      "cell_type": "code",
      "metadata": {
        "colab": {
          "base_uri": "https://localhost:8080/"
        },
        "id": "uR3i1VcLvCq_",
        "outputId": "d2920e10-8e9f-432f-e2aa-acac4e654d48"
      },
      "source": [
        "# remove the last 3 elements\n",
        "programing_languages = ['Python','C','Java','Ruby','C++','CSS','HTML','Bash','Perl','R','Swift','SQL','Php','Javascript']\n",
        "n = int(input())\n",
        "for i in range(n):\n",
        "  programing_languages.pop()\n",
        "print(programing_languages)  "
      ],
      "execution_count": null,
      "outputs": [
        {
          "output_type": "stream",
          "text": [
            "3\n",
            "['Python', 'C', 'Java', 'Ruby', 'C++', 'CSS', 'HTML', 'Bash', 'Perl', 'R', 'Swift']\n"
          ],
          "name": "stdout"
        }
      ]
    },
    {
      "cell_type": "code",
      "metadata": {
        "colab": {
          "base_uri": "https://localhost:8080/"
        },
        "id": "7o9VJB7lvC0w",
        "outputId": "2a47df7d-dd6c-45d2-a49e-9fad204bfc2d"
      },
      "source": [
        "# count the occurrences\n",
        "num_list = [5, 10, 20, 35, 5, 50, 20, 100, 200, 10, 150, 100, 100, 20, 20]\n",
        "val = int(input())\n",
        "occurrences = num_list.count(val)\n",
        "print(occurrences)"
      ],
      "execution_count": null,
      "outputs": [
        {
          "output_type": "stream",
          "text": [
            "100\n",
            "3\n"
          ],
          "name": "stdout"
        }
      ]
    },
    {
      "cell_type": "code",
      "metadata": {
        "colab": {
          "base_uri": "https://localhost:8080/"
        },
        "id": "7rQgnMVivC9R",
        "outputId": "35873f44-aae9-4783-a9d5-8f9aebaa7939"
      },
      "source": [
        "# Remove all the occurrences\n",
        "num_list = [5, 10, 20, 35, 5, 50, 20, 100, 200, 10, 150, 100, 100]\n",
        "val = int(input())\n",
        "res = num_list.count(val)\n",
        "for i in range(res):\n",
        "  num_list.remove(val)\n",
        "print(num_list)"
      ],
      "execution_count": null,
      "outputs": [
        {
          "output_type": "stream",
          "text": [
            "5\n",
            "[10, 20, 35, 50, 20, 100, 200, 10, 150, 100, 100]\n"
          ],
          "name": "stdout"
        }
      ]
    },
    {
      "cell_type": "code",
      "metadata": {
        "colab": {
          "base_uri": "https://localhost:8080/"
        },
        "id": "gGGWDBjdvDE-",
        "outputId": "2dac36b7-78e8-400f-8e17-94a30a5c7d76"
      },
      "source": [
        "# Nth term fibonacci series\n",
        "def fibonacci(n):\n",
        "  if n <= 1:\n",
        "    return n\n",
        "  else:\n",
        "    return fibonacci(n-1)+fibonacci(n-2)\n",
        "n = int(input())\n",
        "result = fibonacci(n)      \n",
        "print(result)"
      ],
      "execution_count": null,
      "outputs": [
        {
          "output_type": "stream",
          "text": [
            "5\n",
            "5\n"
          ],
          "name": "stdout"
        }
      ]
    },
    {
      "cell_type": "code",
      "metadata": {
        "colab": {
          "base_uri": "https://localhost:8080/"
        },
        "id": "l9XJmnIuvDMl",
        "outputId": "cb3c6ac6-df20-4374-be0c-e718899f7f12"
      },
      "source": [
        "def febo(der):\n",
        "  if der <= 1:\n",
        "    return 1\n",
        "  else:\n",
        "    return der*febo(der-1)\n",
        "der = int(input())\n",
        "febo(der)      "
      ],
      "execution_count": null,
      "outputs": [
        {
          "output_type": "stream",
          "text": [
            "5\n"
          ],
          "name": "stdout"
        },
        {
          "output_type": "execute_result",
          "data": {
            "text/plain": [
              "120"
            ]
          },
          "metadata": {
            "tags": []
          },
          "execution_count": 1
        }
      ]
    },
    {
      "cell_type": "code",
      "metadata": {
        "colab": {
          "base_uri": "https://localhost:8080/"
        },
        "id": "kPZfVRuFvDUN",
        "outputId": "bbfb14ff-adc0-430f-a942-3e168fc6d27a"
      },
      "source": [
        "def fibonacci(n):\n",
        "    if n<=1:\n",
        "        return n\n",
        "    else:\n",
        "        return fibonacci(n-1) + fibonacci(n-2)\n",
        "n=int(input())\n",
        "result=fibonacci(n)\n",
        "print(result)"
      ],
      "execution_count": null,
      "outputs": [
        {
          "output_type": "stream",
          "text": [
            "5\n",
            "5\n"
          ],
          "name": "stdout"
        }
      ]
    },
    {
      "cell_type": "code",
      "metadata": {
        "colab": {
          "base_uri": "https://localhost:8080/"
        },
        "id": "cB2plWjNvDeu",
        "outputId": "0ae92a3d-daef-4837-d445-2f9bdd15d608"
      },
      "source": [
        "def fibonacci(n):\n",
        "  if n <= 1:\n",
        "    return n\n",
        "  else:\n",
        "    return fibonacci(n-1)+fibonacci(n-2)\n",
        "\n",
        "def get_fibonacci_series(n):\n",
        "  fibonacci_series = []\n",
        "  for i in range(n):\n",
        "    term = fibonacci(i)\n",
        "    print(term)\n",
        "    fibonacci_series.append(term)\n",
        "  return fibonacci_series\n",
        "n = int(input())\n",
        "result = get_fibonacci_series(n)\n",
        "print(result)          "
      ],
      "execution_count": null,
      "outputs": [
        {
          "output_type": "stream",
          "text": [
            "5\n",
            "0\n",
            "1\n",
            "1\n",
            "2\n",
            "3\n",
            "[0, 1, 1, 2, 3]\n"
          ],
          "name": "stdout"
        }
      ]
    },
    {
      "cell_type": "code",
      "metadata": {
        "colab": {
          "base_uri": "https://localhost:8080/"
        },
        "id": "z78o_0yZvDmI",
        "outputId": "ec5195ba-e656-46fc-bafc-86ecf1189f9d"
      },
      "source": [
        "n = int(input())\n",
        "srm = []\n",
        "for i in range(n):\n",
        "  val = input()\n",
        "  srm.append(val)\n",
        "print(srm)  \n"
      ],
      "execution_count": null,
      "outputs": [
        {
          "output_type": "stream",
          "text": [
            "5\n",
            "10\n",
            "20\n",
            "30\n",
            "40\n",
            "50\n",
            "['10', '20', '30', '40', '50']\n"
          ],
          "name": "stdout"
        }
      ]
    },
    {
      "cell_type": "code",
      "metadata": {
        "colab": {
          "background_save": true,
          "base_uri": "https://localhost:8080/"
        },
        "id": "enYmQrgbvDtk",
        "outputId": "944ce994-f58a-44bc-cf35-06c011f5c805"
      },
      "source": [
        "num_list = [(10, 20, 30), (1, 2), (5, 10, 15, 45)]\n",
        "n = int(input())\n",
        "new_list = []\n",
        "for tup in new_list:\n",
        "  update_val = tup[:-1]+(n,)\n",
        "  new_list.append(update_val)\n",
        "print(new_list)\n",
        "\n",
        "\n",
        "# num_list = [(10, 20, 30), (1, 2), (5, 10, 15, 45)]\n",
        "# n=int(input())\n",
        "# new_list = []\n",
        "# for tuple_a in num_list:\n",
        "#     update_tuple = tuple_a[:-1]+(n,)\n",
        "#     new_list.append(update_tuple)\n",
        "# print(new_list)"
      ],
      "execution_count": null,
      "outputs": [
        {
          "output_type": "stream",
          "text": [
            "[(10, 20, 50), (1, 50), (5, 10, 15, 50)]\n"
          ],
          "name": "stdout"
        }
      ]
    },
    {
      "cell_type": "code",
      "metadata": {
        "colab": {
          "base_uri": "https://localhost:8080/"
        },
        "id": "62wtBE9lvD1X",
        "outputId": "e347e7e9-91d7-4f68-d5e6-30fcc8e47520"
      },
      "source": [
        "def common(num_list):\n",
        "    new_list = []\n",
        "    for item in num_list:\n",
        "      num = int(item)\n",
        "      new_list.append(num)\n",
        "    return new_list  \n",
        "  \n",
        "  \n",
        "num_list =  \"5,10,15,20,10,30,15\"\n",
        "list_a = num_list.split(\",\")\n",
        "list_a = common(list_a)\n",
        "set_a = set(list_a)\n",
        "list_a = list(set_a)\n",
        "print(list_a)\n",
        "\n",
        "\n",
        "\n",
        "\n"
      ],
      "execution_count": null,
      "outputs": [
        {
          "output_type": "stream",
          "text": [
            "[5, 10, 15, 20, 30]\n"
          ],
          "name": "stdout"
        }
      ]
    },
    {
      "cell_type": "code",
      "metadata": {
        "colab": {
          "base_uri": "https://localhost:8080/"
        },
        "id": "-RGmsfPbvD83",
        "outputId": "11f2df94-0372-4517-9f5b-79ff3550c604"
      },
      "source": [
        "num_list =  \"5,10,15,20,10,30,15\"\n",
        "val_list = num_list.split(\",\")\n",
        "val = []\n",
        "for num in val_list:\n",
        "  stor = int(num)\n",
        "  val.append(stor)\n",
        "print(set(val))  \n",
        "# print(type(val_list))"
      ],
      "execution_count": null,
      "outputs": [
        {
          "output_type": "stream",
          "text": [
            "{5, 10, 15, 20, 30}\n"
          ],
          "name": "stdout"
        }
      ]
    },
    {
      "cell_type": "code",
      "metadata": {
        "colab": {
          "base_uri": "https://localhost:8080/"
        },
        "id": "-EK8mMbZvEEk",
        "outputId": "8f2455f0-7337-4632-97a6-2309acf63dad"
      },
      "source": [
        "# remove multiple duplicates\n",
        "num_set = {10, 20, 30, 40, 50, 60, 70, 80, 90, 100}\n",
        "list_a  = input().split(\",\")\n",
        "for item in list_a:\n",
        "    num = int(item)\n",
        "    num_set.discard(num)\n",
        "num_list = list(num_set)\n",
        "num_list.sort()\n",
        "print(num_list)\n"
      ],
      "execution_count": null,
      "outputs": [
        {
          "output_type": "stream",
          "text": [
            "20,40,80\n",
            "[10, 30, 50, 60, 70, 90, 100]\n"
          ],
          "name": "stdout"
        }
      ]
    },
    {
      "cell_type": "code",
      "metadata": {
        "colab": {
          "base_uri": "https://localhost:8080/"
        },
        "id": "1cwM5FCAvENn",
        "outputId": "be429c3b-58a0-460d-d7f4-a8094560f1ba"
      },
      "source": [
        "multiplies_of_2 = {2, 4, 6, 8, 10}\n",
        "multiplies_of_3 = {3, 6, 9, 12, 15}\n",
        "val = []\n",
        "for i in multiplies_of_2:\n",
        "  if i not in multiplies_of_3:\n",
        "    val.append(i)\n",
        "for j in multiplies_of_3:\n",
        "  if j not in multiplies_of_2:\n",
        "    val.append(j)    \n",
        "   \n",
        "digi = val\n",
        "digi.sort(reverse = False)\n",
        "\n",
        "print(digi) \n"
      ],
      "execution_count": null,
      "outputs": [
        {
          "output_type": "stream",
          "text": [
            "[2, 3, 4, 8, 9, 10, 12, 15]\n"
          ],
          "name": "stdout"
        }
      ]
    },
    {
      "cell_type": "code",
      "metadata": {
        "colab": {
          "base_uri": "https://localhost:8080/"
        },
        "id": "KlrOFJwMvEVn",
        "outputId": "60b36ed3-15b5-4807-d76a-d9057f7168b4"
      },
      "source": [
        "# convert list into tuple\n",
        "str_a = input()\n",
        "a = str_a.split(\",\")\n",
        "i = 0\n",
        "for item in a:\n",
        "  a[i] = int(item)\n",
        "  i += 1\n",
        "a = tuple(a)\n",
        "print(a)  \n",
        "\n",
        " \n"
      ],
      "execution_count": null,
      "outputs": [
        {
          "output_type": "stream",
          "text": [
            "5,10,15,20,25,30\n",
            "(5, 10, 15, 20, 25, 30)\n"
          ],
          "name": "stdout"
        }
      ]
    },
    {
      "cell_type": "code",
      "metadata": {
        "colab": {
          "base_uri": "https://localhost:8080/"
        },
        "id": "X6e0j5eDDxlK",
        "outputId": "819da014-2424-4f03-e73e-dd01aba4fd9c"
      },
      "source": [
        "# Common elements\n",
        "# def commonElements(val):\n",
        "\n",
        "str_1 = \"1,2,3,4,5,6\"\n",
        "str_2 = \"2,4,5,9,10\" \n",
        "ans_a = []\n",
        "ans_b = []\n",
        "lf = []\n",
        "str_a = str_1.split(\",\")\n",
        "str_b = str_2.split(\",\")\n",
        "for num_1 in str_a:\n",
        "  val = int(num_1)\n",
        "  ans_a.append(val)\n",
        "  # print(val)\n",
        "for num_2 in str_b: \n",
        "  mal = int(num_2)\n",
        "  ans_b.append(mal)\n",
        "for i in ans_a:\n",
        "  if i in ans_b:\n",
        "    lf.append(i)\n",
        "print(lf)\n",
        "  \n",
        "# print(ans_a)\n",
        "# print(ans_b)\n",
        "\n",
        " \n",
        "    "
      ],
      "execution_count": null,
      "outputs": [
        {
          "output_type": "stream",
          "text": [
            "[2, 4, 5]\n"
          ],
          "name": "stdout"
        }
      ]
    },
    {
      "cell_type": "code",
      "metadata": {
        "colab": {
          "base_uri": "https://localhost:8080/"
        },
        "id": "_FaBxY5QDxxu",
        "outputId": "99885e1c-be74-4bad-c159-9ca9eb93c9df"
      },
      "source": [
        "n = int(input())\n",
        "multiply_2 = set()\n",
        "multiply_3 = set()\n",
        "val = []\n",
        "mal = []\n",
        "for i in range(1, n+1):\n",
        "  multiply_2.add(i*2)\n",
        "  multiply_3.add(i*3)\n",
        "for j in multiply_2:\n",
        "  if j not in multiply_3:\n",
        "    val.append(j)\n",
        "for m in multiply_3:\n",
        "  if m not in multiply_2:\n",
        "    mal.append(m)\n",
        "val = val+mal   \n",
        "val.sort() \n",
        "print(val)    \n",
        "# print(mal)   \n"
      ],
      "execution_count": null,
      "outputs": [
        {
          "output_type": "stream",
          "text": [
            "5\n",
            "[2, 3, 4, 8, 9, 10, 12, 15]\n"
          ],
          "name": "stdout"
        }
      ]
    },
    {
      "cell_type": "code",
      "metadata": {
        "colab": {
          "background_save": true
        },
        "id": "C22CQKFODx9o",
        "outputId": "374ed532-5dfc-4c77-c8d1-f3e654510161"
      },
      "source": [
        "# Add item to set\n",
        "set_a = {\"Pencil\"}\n",
        "word = input()\n",
        "set_a.update([word])\n",
        "list_a = sort(set_a)\n"
      ],
      "execution_count": null,
      "outputs": [
        {
          "output_type": "stream",
          "text": [
            "['Pen', 'Pencil']\n"
          ],
          "name": "stdout"
        }
      ]
    },
    {
      "cell_type": "code",
      "metadata": {
        "id": "1uLRvGnnDyHY"
      },
      "source": [
        ""
      ],
      "execution_count": null,
      "outputs": []
    },
    {
      "cell_type": "code",
      "metadata": {
        "id": "RPaAnjpNDyUf"
      },
      "source": [
        ""
      ],
      "execution_count": null,
      "outputs": []
    },
    {
      "cell_type": "code",
      "metadata": {
        "id": "3VeQ-Ep9Dyes"
      },
      "source": [
        ""
      ],
      "execution_count": null,
      "outputs": []
    },
    {
      "cell_type": "code",
      "metadata": {
        "id": "zcQa94IQDynZ"
      },
      "source": [
        ""
      ],
      "execution_count": null,
      "outputs": []
    },
    {
      "cell_type": "code",
      "metadata": {
        "id": "3waRJRR2DywH"
      },
      "source": [
        ""
      ],
      "execution_count": null,
      "outputs": []
    },
    {
      "cell_type": "code",
      "metadata": {
        "id": "RigI04cqDy5Z"
      },
      "source": [
        ""
      ],
      "execution_count": null,
      "outputs": []
    },
    {
      "cell_type": "code",
      "metadata": {
        "id": "HgCoKCejDzCa"
      },
      "source": [
        ""
      ],
      "execution_count": null,
      "outputs": []
    },
    {
      "cell_type": "code",
      "metadata": {
        "id": "tGciWD0KDzLa"
      },
      "source": [
        ""
      ],
      "execution_count": null,
      "outputs": []
    },
    {
      "cell_type": "code",
      "metadata": {
        "id": "kbeU2mRwDzVk"
      },
      "source": [
        ""
      ],
      "execution_count": null,
      "outputs": []
    },
    {
      "cell_type": "code",
      "metadata": {
        "id": "_lhiQTALDzeO"
      },
      "source": [
        ""
      ],
      "execution_count": null,
      "outputs": []
    },
    {
      "cell_type": "code",
      "metadata": {
        "id": "1TE1wDvMDznU"
      },
      "source": [
        ""
      ],
      "execution_count": null,
      "outputs": []
    }
  ]
}