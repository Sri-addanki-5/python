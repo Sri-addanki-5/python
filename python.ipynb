{
  "nbformat": 4,
  "nbformat_minor": 0,
  "metadata": {
    "colab": {
      "name": "python.ipynb",
      "provenance": [],
      "collapsed_sections": [],
      "authorship_tag": "ABX9TyO4LjszNkT6MNeYu6UyQxYa",
      "include_colab_link": true
    },
    "kernelspec": {
      "display_name": "Python 3",
      "name": "python3"
    }
  },
  "cells": [
    {
      "cell_type": "markdown",
      "metadata": {
        "id": "view-in-github",
        "colab_type": "text"
      },
      "source": [
        "<a href=\"https://colab.research.google.com/github/Sri-addanki-5/python/blob/main/python.ipynb\" target=\"_parent\"><img src=\"https://colab.research.google.com/assets/colab-badge.svg\" alt=\"Open In Colab\"/></a>"
      ]
    },
    {
      "cell_type": "code",
      "metadata": {
        "colab": {
          "base_uri": "https://localhost:8080/"
        },
        "id": "Rm3UPM0H-t9b",
        "outputId": "8a809a3d-15aa-4bf0-d25c-b9e9c371f226"
      },
      "source": [
        "#Write a program that takes a word W as input and prints \"Hello\" followed by the given word W.\n",
        "name=input()\n",
        "print(\"Hello \"+name)"
      ],
      "execution_count": 1,
      "outputs": [
        {
          "output_type": "stream",
          "text": [
            "srikanth\n",
            "Hello srikanth\n"
          ],
          "name": "stdout"
        }
      ]
    },
    {
      "cell_type": "code",
      "metadata": {
        "colab": {
          "base_uri": "https://localhost:8080/"
        },
        "id": "i4BAn0lt_caf",
        "outputId": "14015321-8d4c-4f96-9fa5-0119e3628ccb"
      },
      "source": [
        "#String Repetition\n",
        "# Write a program to print the given input word three times in a single line separated by spaces\n",
        "word = input()\n",
        "message = (word + ' ') * 3\n",
        "print(message)"
      ],
      "execution_count": 2,
      "outputs": [
        {
          "output_type": "stream",
          "text": [
            "srikanth\n",
            "srikanth srikanth srikanth \n"
          ],
          "name": "stdout"
        }
      ]
    },
    {
      "cell_type": "code",
      "metadata": {
        "colab": {
          "base_uri": "https://localhost:8080/"
        },
        "id": "l0f8a28tBu0M",
        "outputId": "e9dce52f-523c-4d04-ab1b-a2744297121b"
      },
      "source": [
        "a = input()\n",
        "a = int(a)\n",
        "b = input()\n",
        "b = int(b)\n",
        "result = a+b\n",
        "print(result)\n"
      ],
      "execution_count": 6,
      "outputs": [
        {
          "output_type": "stream",
          "text": [
            "2\n",
            "3\n",
            "5\n"
          ],
          "name": "stdout"
        }
      ]
    },
    {
      "cell_type": "code",
      "metadata": {
        "colab": {
          "base_uri": "https://localhost:8080/"
        },
        "id": "pOK6FYRtBu27",
        "outputId": "845e3cea-ca16-41b3-9602-67007a947c31"
      },
      "source": [
        "word = input()\n",
        "n = input()\n",
        "n = int(n)\n",
        "print(word[n])"
      ],
      "execution_count": 7,
      "outputs": [
        {
          "output_type": "stream",
          "text": [
            "srikanth\n",
            "2\n",
            "i\n"
          ],
          "name": "stdout"
        }
      ]
    },
    {
      "cell_type": "code",
      "metadata": {
        "colab": {
          "base_uri": "https://localhost:8080/"
        },
        "id": "kBGCDNi5Bu5z",
        "outputId": "94b75ce8-1412-4f77-888c-62be5cef9e6b"
      },
      "source": [
        "length = input()\n",
        "breadth = input()\n",
        "length = int(length)\n",
        "breadth = int(breadth)\n",
        "area_of_rectangle = length*breadth\n",
        "print(area_of_rectangle)"
      ],
      "execution_count": 8,
      "outputs": [
        {
          "output_type": "stream",
          "text": [
            "20\n",
            "30\n",
            "600\n"
          ],
          "name": "stdout"
        }
      ]
    },
    {
      "cell_type": "code",
      "metadata": {
        "id": "W2Sb60H2Bu8F"
      },
      "source": [
        "#perimeter of rectangle\n",
        "length = input()\n",
        "breadth = input()\n",
        "length = int(input())\n",
        "breadth = int(input())\n",
        "sum_of_two_sides = length+breadth\n",
        "perimeter_of_rectangle = 2*sum_of_two_sides\n",
        "print(perimeter_of_rectangle)"
      ],
      "execution_count": null,
      "outputs": []
    },
    {
      "cell_type": "code",
      "metadata": {
        "id": "teK2ZKMDBu-X"
      },
      "source": [
        "first_str = input()\n",
        "snd_str = input()\n",
        "first_str_part = first_str[:3]\n",
        "second_str_part = snd_str[:3]\n",
        "are_both_same = first_str_part == second_str_part\n",
        "print(are_both_same)"
      ],
      "execution_count": null,
      "outputs": []
    },
    {
      "cell_type": "code",
      "metadata": {
        "id": "rR1Fn-glBvA7"
      },
      "source": [
        "a =input()\n",
        "b = input()\n",
        "a = int(a)\n",
        "b = int(b)\n",
        "is_both_positive = a > 0 and b > 0\n",
        "is_one_greater = a>5 or b > 5\n",
        "result = is_both_positive and is_one_greater\n",
        "print(result)"
      ],
      "execution_count": null,
      "outputs": []
    },
    {
      "cell_type": "code",
      "metadata": {
        "id": "DTr4gMy5BvDv"
      },
      "source": [
        "n = int(input())\n",
        "counter = 1\n",
        "while counter <=n:\n",
        "    print(counter)\n",
        "    counter = counter +1 "
      ],
      "execution_count": null,
      "outputs": []
    },
    {
      "cell_type": "code",
      "metadata": {
        "id": "Ry1zHzGNBvXf"
      },
      "source": [
        "m = int(input())\n",
        "n = int(input())\n",
        "for number in range(m,n+1):\n",
        "  print(number)"
      ],
      "execution_count": null,
      "outputs": []
    },
    {
      "cell_type": "code",
      "metadata": {
        "id": "0BWaelpZBvZm"
      },
      "source": [
        "m = int(input())\n",
        "n = int(input())\n",
        "for number in range(m):\n",
        "  print(\"* \" *n)"
      ],
      "execution_count": null,
      "outputs": []
    },
    {
      "cell_type": "code",
      "metadata": {
        "id": "hDGLbJPNH1ba"
      },
      "source": [
        " m = int(input())\n",
        " for number in range(1,m+1):\n",
        "   print(\"* \"*number)"
      ],
      "execution_count": null,
      "outputs": []
    },
    {
      "cell_type": "code",
      "metadata": {
        "id": "S94doGhCH1d6"
      },
      "source": [
        "n = int(input())\n",
        "total = 0\n",
        "for i in range(n):\n",
        "  m = int(input())\n",
        "  total = total+m\n",
        "print(total) "
      ],
      "execution_count": null,
      "outputs": []
    },
    {
      "cell_type": "code",
      "metadata": {
        "id": "behU6M6gH1gd"
      },
      "source": [
        "a = input()\n",
        "length = len(a)\n",
        "b = a[0]\n",
        "for i in range(1,length):\n",
        "  b = b + \"-\" +a[i]\n",
        "print(b)  \n"
      ],
      "execution_count": null,
      "outputs": []
    },
    {
      "cell_type": "code",
      "metadata": {
        "id": "nofvmqL8H1jO"
      },
      "source": [
        "date = input()\n",
        "date = date.replace(\"-\",\"/\")\n",
        "print(date)"
      ],
      "execution_count": null,
      "outputs": []
    },
    {
      "cell_type": "code",
      "metadata": {
        "id": "xXk1Xf8KH1l_"
      },
      "source": [
        "password = input()\n",
        "contains_digit = False\n",
        "for character in password:\n",
        "  is_digit =character.isdigit()\n",
        "  if is_digit:\n",
        "    contains_digit = True\n",
        "if contains_digit:  \n",
        "  print(\"valid password\")\n",
        "else:\n",
        "  print(\"not valid\")  "
      ],
      "execution_count": null,
      "outputs": []
    },
    {
      "cell_type": "code",
      "metadata": {
        "id": "jxMStr3nH1o7"
      },
      "source": [
        "word = input()\n",
        "modified = \"\"\n",
        "for char in word:\n",
        "  uppercase = char.upper()\n",
        "  if uppercase == char:\n",
        "    modified += char.lower()\n",
        "  else:\n",
        "    modified +=char.upper()\n",
        "print(modified)      "
      ],
      "execution_count": null,
      "outputs": []
    },
    {
      "cell_type": "code",
      "metadata": {
        "id": "vVGNNH1MH1ry"
      },
      "source": [
        "# Factorial\n",
        "n = int(input())\n",
        "factorial = 1\n",
        "for i in range(1,n+1):\n",
        "  factorial = factorial * i\n",
        "print(factorial)  "
      ],
      "execution_count": null,
      "outputs": []
    },
    {
      "cell_type": "code",
      "metadata": {
        "id": "gjYHrHUWH1vA"
      },
      "source": [
        "m = int(input())\n",
        "n = int(input())\n",
        "total = 0\n",
        "for i in range(m,n+1):\n",
        "  total += i\n",
        "print(total)  "
      ],
      "execution_count": null,
      "outputs": []
    },
    {
      "cell_type": "code",
      "metadata": {
        "id": "lXc4xs_ZH1xL"
      },
      "source": [
        "n = int(input())\n",
        "total = 0\n",
        "for i in range(1,n+1):\n",
        "  if i%2==1:\n",
        "    total += i\n",
        "print(total)    "
      ],
      "execution_count": null,
      "outputs": []
    },
    {
      "cell_type": "code",
      "metadata": {
        "id": "5X7hzvqjH10D"
      },
      "source": [
        "#sum of numbers divisible by T\n",
        "t = int(input())\n",
        "m = int(input())\n",
        "n = int(input())\n",
        "total = 0\n",
        "for number in range(m,n+1):\n",
        "  if number%t ==0:\n",
        "    total +=number\n",
        "print(total)    "
      ],
      "execution_count": null,
      "outputs": []
    },
    {
      "cell_type": "code",
      "metadata": {
        "id": "Yaxu2m7DH17w"
      },
      "source": [
        "#sum of squares\n",
        "n = int(input())\n",
        "total = 0\n",
        "for i in range(1,n+1):\n",
        "  total += ()\n",
        "print(total)  "
      ],
      "execution_count": null,
      "outputs": []
    },
    {
      "cell_type": "code",
      "metadata": {
        "id": "xwNXtv-_jrXc"
      },
      "source": [
        "n=int(input())\n",
        "total=0\n",
        "for i in range(1,n+1):\n",
        "    total=total+(i*i)\n",
        "print(total)"
      ],
      "execution_count": null,
      "outputs": []
    },
    {
      "cell_type": "code",
      "metadata": {
        "id": "eQ8rMLU2jrdL"
      },
      "source": [
        "#sum of average 10 numbers\n",
        "total = 0\n",
        "for i in range(10):\n",
        "  number = int(input())\n",
        "  total +=number\n",
        "average = total/10\n",
        "print(total)\n",
        "print(average)  "
      ],
      "execution_count": null,
      "outputs": []
    },
    {
      "cell_type": "code",
      "metadata": {
        "id": "LhljTG3vjrfp"
      },
      "source": [
        "number = input()\n",
        "total =0\n",
        "for digit in number:\n",
        "  total = total+int(digit)\n",
        "print(total)"
      ],
      "execution_count": null,
      "outputs": []
    },
    {
      "cell_type": "code",
      "metadata": {
        "id": "NZSdHyJNjrij"
      },
      "source": [
        "a = int(input())\n",
        "for i in range(1,11):\n",
        "  print(str(a)+\"*\"+str(i)+\"=\"+str(i*a))"
      ],
      "execution_count": null,
      "outputs": []
    },
    {
      "cell_type": "code",
      "metadata": {
        "id": "EfFSfAq7jrl3"
      },
      "source": [
        "#Reverse string\n",
        "a = input()\n",
        "rever = \"\"\n",
        "for i in a:\n",
        "  rever = i+rever\n",
        "print(rever)  \n"
      ],
      "execution_count": null,
      "outputs": []
    },
    {
      "cell_type": "code",
      "metadata": {
        "id": "opjO2IimBuz2"
      },
      "source": [
        "#palindrome\n",
        "n = input()\n",
        "n = n.lower()\n",
        "reverse_n = \"\"\n",
        "for char in n:\n",
        "  reverse_n = char+reverse_n\n",
        "if n == reverse_n:\n",
        "  print(\"palindrome\")\n",
        "else:\n",
        "  print(\"not a palindrome\")    "
      ],
      "execution_count": null,
      "outputs": []
    },
    {
      "cell_type": "code",
      "metadata": {
        "id": "jD1MCCYnBu3N"
      },
      "source": [
        "#Greatest among N numbers\n",
        "n = int(input())\n",
        "first_input = int(input())\n",
        "greatest_number = first_input\n",
        "for i in range(n-1):\n",
        "  num = int(input())\n",
        "  if num > greatest_number:\n",
        "    greatest_number = num\n",
        "print(greatest_number)    "
      ],
      "execution_count": null,
      "outputs": []
    },
    {
      "cell_type": "code",
      "metadata": {
        "id": "OLOT0c0nBu6g"
      },
      "source": [
        "#smallest number\n",
        "n = int(input())\n",
        "first_number = int(input())\n",
        "smallest_number = first_number\n",
        "for i in range(n-1):\n",
        "  num = int(input())\n",
        "  if num < smallest_number:\n",
        "    smallest_number = num\n",
        "print(smallest_number)    "
      ],
      "execution_count": null,
      "outputs": []
    },
    {
      "cell_type": "code",
      "metadata": {
        "id": "lmYlGu6NBu9t"
      },
      "source": [
        "#factors of numbers\n",
        "n = int(input())\n",
        "for i in range(1,n+1):\n",
        "  if n%i ==0:\n",
        "    print(i)"
      ],
      "execution_count": null,
      "outputs": []
    },
    {
      "cell_type": "code",
      "metadata": {
        "id": "vAUbAvhEBvAx"
      },
      "source": [
        "#sum odf all factors\n",
        "n = int(input())\n",
        "total = 0\n",
        "for i in range(1,n+1):\n",
        "  if n%i ==0:\n",
        "    total = total + i\n",
        "print(total)    "
      ],
      "execution_count": null,
      "outputs": []
    },
    {
      "cell_type": "code",
      "metadata": {
        "id": "UbKsgZztBvD5"
      },
      "source": [
        "# perfect number\n",
        "n = int(input())\n",
        "total = 0\n",
        "for i in range(1,n):\n",
        "  if n%i == 0:\n",
        "    total+=i\n",
        "if total == n:\n",
        "  print(\"perfect number\")\n",
        "else:\n",
        "  print(\"not perfect number\")      "
      ],
      "execution_count": null,
      "outputs": []
    },
    {
      "cell_type": "code",
      "metadata": {
        "id": "sx-gR5KyJoZS"
      },
      "source": [
        "# armstrong number\n",
        "n = input()\n",
        "length = len(n)\n",
        "total = 0\n",
        "for digit in n:\n",
        "  total = total+(int(digit)**length)\n",
        "if total ==int(n):\n",
        "  print(\"Armstrong number\")\n",
        "else:\n",
        "  print(\"Not an armstrong number\")    "
      ],
      "execution_count": null,
      "outputs": []
    },
    {
      "cell_type": "code",
      "metadata": {
        "id": "ei9FQEcpJodA"
      },
      "source": [
        "#OOPS"
      ],
      "execution_count": null,
      "outputs": []
    },
    {
      "cell_type": "code",
      "metadata": {
        "id": "wGaIdibgJog9"
      },
      "source": [
        "#CAR\n",
        "class Car:\n",
        "    def __init__(self,color,max_speed,acceleration,tyre_friction):\n",
        "        self.color = color\n",
        "        self.max_speed=max_speed\n",
        "        self.acceleration=acceleration\n",
        "        self.tyre_friction=tyre_friction\n",
        "        \n",
        "    # def default_test():\n",
        "car=Car(color=\"Red\",max_speed=250,acceleration=10,tyre_friction=3)\n",
        "print(car.color)\n",
        "print(car.max_speed)\n",
        "print(car.acceleration)\n",
        "print(car.tyre_friction)"
      ],
      "execution_count": null,
      "outputs": []
    },
    {
      "cell_type": "code",
      "metadata": {
        "id": "ma08DmbCJokA"
      },
      "source": [
        "#Car-2\n"
      ],
      "execution_count": null,
      "outputs": []
    },
    {
      "cell_type": "code",
      "metadata": {
        "id": "OG9Keo8L5MiK"
      },
      "source": [
        "class Car:\n",
        "  def __init__(self,color,max_speed,acceleration,tyre_friction):\n",
        "    self.color = color\n",
        "    self.max_speed = max_speed\n",
        "    self.acceleration = acceleration\n",
        "    self.tyre_friction = tyre_friction\n",
        "    self.is_engine_started = False\n",
        "  def start_engine(self):\n",
        "    self.is_engine_started = True\n",
        "  def stop_engine(self):\n",
        "    self.is_engine_started = False \n",
        "car = Car(color = 'Red',max_speed = 250,acceleration = 10,tyre_friction = 3)\n",
        "print(car.color)\n",
        "print(car.max_speed)\n",
        "print(car.acceleration)\n",
        "print(car.tyre_friction)\n",
        "car.start_engine()\n",
        "print(car.is_engine_started)\n",
        "car.stop_engine()\n",
        "print(car.is_engine_started)      "
      ],
      "execution_count": null,
      "outputs": []
    },
    {
      "cell_type": "code",
      "metadata": {
        "id": "JEn7pDPY5Ml8"
      },
      "source": [
        "# Car-3"
      ],
      "execution_count": null,
      "outputs": []
    },
    {
      "cell_type": "code",
      "metadata": {
        "id": "QeSMBuD_5MqV"
      },
      "source": [
        "class Car:\n",
        "  def __init__(self,color,max_speed,acceleration,tyre_friction):\n",
        "    self.color = color\n",
        "    self.max_speed = max_speed\n",
        "    self.acceleration = acceleration\n",
        "    self.tyre_friction = tyre_friction\n",
        "    self.is_engine_started = False\n",
        "    self.current_speed = 0\n",
        "  def start_engine(self):\n",
        "    self.is_engine_started = True\n",
        "  def stop_engine(self):\n",
        "    self.is_engine_started = False\n",
        "  def accelerate(self):\n",
        "    if not self.is_engine_started:\n",
        "      print(\"Car has not started yet\")\n",
        "    else:\n",
        "      self.current_speed += self.acceleration\n",
        "      if self.current_speed > self.max_speed:\n",
        "        self.current_speed =self.max_speed \n",
        "car = Car(color = \"Red\",max_speed = 250, acceleration = 10, tyre_friction = 3)\n",
        "car.accelerate()\n",
        "print(car.current_speed)\n",
        "car.start_engine()\n",
        "print(car.current_speed)\n",
        "car.accelerate()\n",
        "print(car.current_speed)\n",
        "car.accelerate()\n",
        "print(car.current_speed)\n",
        "car.accelerate()\n",
        "car.accelerate()\n",
        "car.accelerate()\n",
        "print(car.current_speed)\n",
        "\n"
      ],
      "execution_count": null,
      "outputs": []
    },
    {
      "cell_type": "code",
      "metadata": {
        "id": "wbfGmkfP5Mtl"
      },
      "source": [
        "# A car and Truck incomplete classes"
      ],
      "execution_count": null,
      "outputs": []
    },
    {
      "cell_type": "code",
      "metadata": {
        "id": "v2wWt54V5MxI"
      },
      "source": [
        "class Car:\n",
        "  def __init__(self,color,max_speed,acceleration,tyre_friction):\n",
        "    self.color = color\n",
        "    self.max_speed = max_speed\n",
        "    self.acceleration = acceleration\n",
        "    self.tyre_friction = tyre_friction\n",
        "    self.is_engine_started = False\n",
        "    self.current_speed = 0\n",
        "  def start_engine(self):\n",
        "    self.is_engine_started = True\n",
        "  def stop_engine(self):\n",
        "    self.is_engine_started = False\n",
        "  def acceleration(self):\n",
        "    if not self.is_engine_started:\n",
        "      print(\"car not started yet\")\n",
        "    else:\n",
        "      self.current_speed += self.acceleration\n",
        "      if slef.current_speed > self.max_speed:\n",
        "        self.current_speed = self.max_speed\n",
        "  def apply_brakes(self):\n",
        "    self.current_speed -= self.tyre_friction\n",
        "    if self.current_speed < 0:\n",
        "      self.current_speed = 0\n",
        "  def sound_horn(self):\n",
        "    if self.is_engine_started:\n",
        "      print(\"Beep Beep\")\n",
        "    else:\n",
        "      print(\"Car has not started yet\")\n",
        "class Truck(Car):\n",
        "  def __init__(self,color,max_speed,acceleration,tyre_friction,max_cargo_weight):\n",
        "    super().__init__(color,max_speed,acceleration,tyre_friction)\n",
        "    self.max_cargo_weight = max_cargo_weight\n",
        "    self.load = 0\n",
        "  def load_cargo(self,cargo_weight):\n",
        "    if self.is_engine_started:\n",
        "      pribt(\"cannot load cargo during motion\")\n",
        "    elif cargo_weight + self.load > self.max_cargo_weight:\n",
        "      print(\"cannot load cargo morethan max limit:{}\".format(self.max_cargo_weight))\n",
        "    else:\n",
        "      self.load += cargo_weight\n",
        "  def unload_cargo(self,cargo_weight):\n",
        "    if self.is_engine_started:\n",
        "      print(\"cannot unload cargo during motion\")\n",
        "    else:\n",
        "      self.load -= cargo_weight\n",
        "      if self.load < 0:\n",
        "        self.load = 0\n",
        "  def sound_horn (self):\n",
        "    if self.is_engine_started:\n",
        "      print(\"honk honk\")\n",
        "    else:\n",
        "      print(\"car has not started yet\")\n",
        "truck = Truck(color = \"red\",max_speed = 250,acceleration = 10,tyre_friction = 3,max_cargo_weight=100)\n",
        "print(truck.is_engine_started)\n",
        "truck.load_cargo(cargo_weight=50)\n",
        "print(truck.load)\n",
        "truck.unload_cargo(cargo_weight=25)\n",
        "print(truck.load)\n",
        "truck.unload_cargo(cargo_weight = 70)\n",
        "print(truck.load)\n",
        "truck.unload_cargo(cargo_weight=120)\n",
        "print(truck.load)  \n",
        "truck.sound_horn()\n",
        "truck.stop_engine()\n",
        "truck.sound_horn()          \n",
        "\n"
      ],
      "execution_count": null,
      "outputs": []
    },
    {
      "cell_type": "code",
      "metadata": {
        "id": "E03RSkkU5M0T"
      },
      "source": [
        "#car 4\n",
        "class Car:\n",
        "  def __init__(self,color,max_speed,acceleration,tyre_friction):\n",
        "    self.color = color\n",
        "    self.max_speed = max_speed\n",
        "    self.acceleration = acceleration\n",
        "    self.tyre_friction = tyre_friction\n",
        "    self.is_engine_started = False\n",
        "    self.current_speed = 0\n",
        "  def start_engine(self):\n",
        "    self.is_engine_started = True\n",
        "  def stop_engine(self):\n",
        "    self.is_engine_started = True\n",
        "  def accelerate(self):\n",
        "    if not self.is_engine_started:\n",
        "      print(\"car has not started yet\")\n",
        "    else:\n",
        "      self.current_speed +=self.acceleration\n",
        "      if self.current_speed > self.max_speed:\n",
        "          self.current_speed = self.max_speed  \n",
        "car = Car(\"Red\",max_speed = 50,acceleration = 10,tyre_friction = 3)\n",
        "car.start_engine()\n",
        "print(car.current_speed)\n",
        "car.stop_engine()\n",
        "car.accelerate()\n",
        "print(car.current_speed)\n",
        "                "
      ],
      "execution_count": null,
      "outputs": []
    },
    {
      "cell_type": "code",
      "metadata": {
        "id": "mT6kWe175M3v"
      },
      "source": [
        "# #parsing datetime\n",
        "# from datetime import datetime\n",
        "\n",
        "# date = input()\n",
        "# date_string = \"%d %b %Y\"\n",
        "# datetime_object = datetime.strptime(date,date_string)\n",
        "# print(datetime_object)"
      ],
      "execution_count": null,
      "outputs": []
    },
    {
      "cell_type": "code",
      "metadata": {
        "id": "ilMXwnJc5M74"
      },
      "source": [
        "#lists"
      ],
      "execution_count": null,
      "outputs": []
    },
    {
      "cell_type": "code",
      "metadata": {
        "id": "grHbldMI5M__"
      },
      "source": [
        "player = [\"Rose\",183,148,123.64,False]\n",
        "print(player)"
      ],
      "execution_count": null,
      "outputs": []
    },
    {
      "cell_type": "code",
      "metadata": {
        "id": "EsRQEQwK5ND7"
      },
      "source": [
        "#list concatination\n",
        "num = [20,30,20,40,100]\n",
        "n = int(input())\n",
        "sri_1 = num+[n]\n",
        "sri_2 = [n]+num\n",
        "print(sri_1)\n",
        "print(sri_2)"
      ],
      "execution_count": null,
      "outputs": []
    },
    {
      "cell_type": "code",
      "metadata": {
        "id": "BunUm1qt5NHr"
      },
      "source": [
        "#convert string to list\n"
      ],
      "execution_count": null,
      "outputs": []
    },
    {
      "cell_type": "code",
      "metadata": {
        "id": "fBJUNIS7Jom_"
      },
      "source": [
        "programing_language = [\"python\",\"java\",\"rubey\",\"machin_learning\",\"c\",\"c++\"]\n",
        "n = int(input())\n",
        "for i in range(n):\n",
        "  index = int(input())\n",
        "  print(programing_language[index])  \n",
        "\n"
      ],
      "execution_count": null,
      "outputs": []
    },
    {
      "cell_type": "code",
      "metadata": {
        "id": "S06t1J5jjron"
      },
      "source": [
        "#list repetation\n",
        "m = int(input())\n",
        "n = int(input())\n",
        "list_a = [m]*n\n",
        "print(list_a)"
      ],
      "execution_count": null,
      "outputs": []
    },
    {
      "cell_type": "code",
      "metadata": {
        "id": "hyyib8fdbFGQ"
      },
      "source": [
        "# Greater than N\n",
        "num_list = [4,6,45,34,54,65,76,46,34,31,78,96]\n",
        "n = int(input())\n",
        "num_rum = []\n",
        "for i in num_list:\n",
        "  if i > n:\n",
        "    num_rum += [i]\n",
        "print(num_rum)   "
      ],
      "execution_count": null,
      "outputs": []
    },
    {
      "cell_type": "code",
      "metadata": {
        "id": "2-3ZNXz-bFJp"
      },
      "source": [
        "#create print_list\n",
        "n = int(input())\n",
        "list_1 = []\n",
        "for i in range(n):\n",
        "  value = input()\n",
        "  list_1 += [value]\n",
        "print(list_1)  "
      ],
      "execution_count": null,
      "outputs": []
    },
    {
      "cell_type": "code",
      "metadata": {
        "id": "G0XmSnlBbFNo"
      },
      "source": [
        "n = int(input())\n",
        "list_1 = []\n",
        "list_2 = []\n",
        "for i in range(n):\n",
        "  value = input()\n",
        "  list_1 += (value)\n",
        "for n in list_1:\n",
        "  if n ==list_1:\n",
        "    list_2 += n\n",
        "print(list_2)    \n",
        "\n",
        "\n",
        "print(list_1)\n",
        "\n"
      ],
      "execution_count": null,
      "outputs": []
    },
    {
      "cell_type": "code",
      "metadata": {
        "id": "x6_Aaz8pbFjy"
      },
      "source": [
        "# reverse order\n",
        "n = int(input())\n",
        "list_a = []\n",
        "for i in range(n):\n",
        "  value = input()\n",
        "  list_a +=[value]\n",
        "for i in range(n):\n",
        "  print(list_a[n-i-1])  "
      ],
      "execution_count": null,
      "outputs": []
    },
    {
      "cell_type": "code",
      "metadata": {
        "id": "RyycoMDTbFmf"
      },
      "source": [
        "# list concatination\n",
        "n=int(input())\n",
        "list_a = []\n",
        "for i in range(n):\n",
        "    value = input()\n",
        "    list_a += [value]\n",
        "    new_list=list_a[:3] + list_a[n-3:]\n",
        "print(new_list)"
      ],
      "execution_count": null,
      "outputs": []
    },
    {
      "cell_type": "code",
      "metadata": {
        "id": "Skk-ZQy6gNqe"
      },
      "source": [
        "# functions "
      ],
      "execution_count": null,
      "outputs": []
    },
    {
      "cell_type": "code",
      "metadata": {
        "id": "WjvT5nxWgNvB"
      },
      "source": [
        "#splite the sentence\n",
        "n = input()\n",
        "word_list = n.split()\n",
        "sri = \"\"\n",
        "for word in word_list:\n",
        "  pass\n",
        "  if word == \"srikanth\":\n",
        "    sri += word\n",
        "print(sri)    \n",
        "\n",
        "print(word)"
      ],
      "execution_count": null,
      "outputs": []
    },
    {
      "cell_type": "code",
      "metadata": {
        "id": "vo79b9dogNzV"
      },
      "source": [
        "#sum of list elements\n",
        "n=input()\n",
        "num_list=n.split()\n",
        "total=0\n",
        "for n in num_list:\n",
        "    total=total+int(n)\n",
        "print(total)  "
      ],
      "execution_count": null,
      "outputs": []
    },
    {
      "cell_type": "code",
      "metadata": {
        "id": "7Myrn7pegN2u"
      },
      "source": [
        "strin = input()\n",
        "spli = strin.split()\n",
        "sri = []\n",
        "for n in spli:\n",
        "  sri += [n[::-1]]\n",
        "reverse_order =\" \".join(sri)\n",
        "print(reverse_order)  "
      ],
      "execution_count": null,
      "outputs": []
    },
    {
      "cell_type": "code",
      "metadata": {
        "id": "xMWizmm6gN6l"
      },
      "source": [
        "def wishes(name):\n",
        "  wish = \"welcome \"+ name\n",
        "  return wish\n",
        "a = input()\n",
        "wishes(a)"
      ],
      "execution_count": null,
      "outputs": []
    },
    {
      "cell_type": "code",
      "metadata": {
        "id": "93IooKD3gOQl"
      },
      "source": [
        "#multiplay with three\n",
        "def multiply_with_three(num):\n",
        "   number = num*3\n",
        "   print(number)\n",
        "n = int(input())\n",
        "multiply_with_three(n)   "
      ],
      "execution_count": null,
      "outputs": []
    },
    {
      "cell_type": "code",
      "metadata": {
        "id": "JVnlxqoVgOTi"
      },
      "source": [
        "# divisible by 7\n",
        "def divisible_by_7(num):\n",
        "  number = num/7\n",
        "  print(number)\n",
        "n = int(input())\n",
        "divisible_by_7(n)\n",
        "  "
      ],
      "execution_count": null,
      "outputs": []
    },
    {
      "cell_type": "code",
      "metadata": {
        "id": "eDGsM2KngOoV"
      },
      "source": [
        "# perimeter of square\n",
        "def perimeter(four):\n",
        "  result = four*4\n",
        "  print(result)\n",
        "a = int(input())\n",
        "perimeter(a)  "
      ],
      "execution_count": null,
      "outputs": []
    },
    {
      "cell_type": "code",
      "metadata": {
        "id": "nrNp5jIBgOrl"
      },
      "source": [
        "# add two numbers\n",
        "def sum_of_two(num1,num2):\n",
        "  value = num1+num2\n",
        "  print(value)\n",
        "a = int(input())\n",
        "b = int(input())\n",
        "sum_of_two(a,b)  "
      ],
      "execution_count": null,
      "outputs": []
    },
    {
      "cell_type": "code",
      "metadata": {
        "id": "3HU7kG1tgO7P"
      },
      "source": [
        "# second character in the word\n",
        "def word_second(num):\n",
        "  character = num[1]\n",
        "  return character\n",
        "a = input()\n",
        "word_second(a)  "
      ],
      "execution_count": null,
      "outputs": []
    },
    {
      "cell_type": "code",
      "metadata": {
        "id": "tJXH5rTFgPAJ"
      },
      "source": [
        "# indexing\n",
        "def indexing(arg1,arg2):\n",
        "  character = arg1[arg2]\n",
        "  return character\n",
        "a = input()\n",
        "index = int(input())\n",
        "indexing(a,index)  "
      ],
      "execution_count": null,
      "outputs": []
    },
    {
      "cell_type": "code",
      "metadata": {
        "id": "4o7QUE8cgPEI"
      },
      "source": [
        "# printing message\n",
        "def name(arg1,arg2):\n",
        "  character = arg1 + \" is \" +str(arg2)+\" years old\"\n",
        "  return character\n",
        "a = input()\n",
        "b = int(input())\n",
        "name(a,b)  "
      ],
      "execution_count": null,
      "outputs": []
    },
    {
      "cell_type": "code",
      "metadata": {
        "id": "vo3rdyrPgPHy"
      },
      "source": [
        "#number of upper and lowercase letters\n",
        "def upper_lower(arg):\n",
        "  count_uppercase = 0\n",
        "  count_lowercase = 0\n",
        "  for char in arg:\n",
        "    if char.upper() == char:\n",
        "      count_uppercase += 1\n",
        "    else:\n",
        "      count_lowercase += 1\n",
        "  print(count_uppercase)\n",
        "  print(count_lowercase)\n",
        "a = input()\n",
        "upper_lower(a)        "
      ],
      "execution_count": null,
      "outputs": []
    },
    {
      "cell_type": "code",
      "metadata": {
        "id": "A4vw-pUjgPRl"
      },
      "source": [
        "# list of squares\n",
        "def get_list(string_a):\n",
        "    list_a = string_a.split(',')\n",
        "    len_list_a = len(list_a)\n",
        "    for i in range(len_list_a):\n",
        "        list_a[i] = int(list_a[i])**2\n",
        "    return list_a\n",
        "\n",
        "\n",
        "string_a = input()\n",
        "numbers_list = get_list(string_a)\n",
        "print(numbers_list)    "
      ],
      "execution_count": null,
      "outputs": []
    },
    {
      "cell_type": "code",
      "metadata": {
        "id": "BJg6r-X9gPUr"
      },
      "source": [
        "# So the output should be\n",
        "# [1, 2, 5]\n",
        "#input=5\n",
        "#append 5\n",
        "#insert 0,2\n",
        "#append 1\n",
        "#sort\n",
        "#print\n",
        "n = int(input())\n",
        "\n",
        "nums_list = []\n",
        "for i in range(n):\n",
        "    command = input().split()\n",
        "    if command[0] == 'insert':\n",
        "        index = int(command[1])\n",
        "        value = int(command[2])\n",
        "        nums_list.insert(index, value)\n",
        "    elif command[0] == 'append':\n",
        "        value = int(command[1])\n",
        "        nums_list.append(value)\n",
        "    elif command[0] == 'pop':\n",
        "        nums_list.pop()\n",
        "    elif command[0] == \"remove\":\n",
        "        value = int(command[1])\n",
        "        nums_list.remove(value)\n",
        "    elif command[0] == \"sort\":\n",
        "        nums_list.sort()\n",
        "    elif command[0] == \"print\":\n",
        "        print(nums_list)"
      ],
      "execution_count": null,
      "outputs": []
    },
    {
      "cell_type": "code",
      "metadata": {
        "id": "bfWMrgJJgPYl"
      },
      "source": [
        "# Team points\n",
        "def calculateLeagues(wins,draws,losses):\n",
        "  wins_points = wins*4\n",
        "  draws_points = draws*2\n",
        "  losses_points = losses*-1\n",
        "  total_points = wins_points+losses_points+draws_points\n",
        "  return total_points\n",
        "statistics = input().split(\",\")\n",
        "wins = int(input())\n",
        "draws = int(input())\n",
        "losses = int(input())\n",
        "total_points = calculateLeagues(wins,draws,losses)\n",
        "print(total_points)  "
      ],
      "execution_count": null,
      "outputs": []
    },
    {
      "cell_type": "code",
      "metadata": {
        "id": "GM61H8aLvFFv"
      },
      "source": [
        "# speed meter\n",
        "def get_speed_status(speed):\n",
        "  if (speed >= 60 and speed<80):\n",
        "    msg = \"Normal\"\n",
        "  elif (speed>=60) and (speed<80):\n",
        "    msg = \"Warning\"\n",
        "  else:\n",
        "    msg = \"Over speed\"\n",
        "  return msg\n",
        "speed = int(input())\n",
        "a = get_speed_status(speed)\n",
        "print(a)  \n"
      ],
      "execution_count": null,
      "outputs": []
    },
    {
      "cell_type": "code",
      "metadata": {
        "id": "-3t37dj3vFI4"
      },
      "source": [
        "# Wather Reporter\n",
        "def get_weather_report(temp):\n",
        "  if temp < 22:\n",
        "    report = \"Cold\"\n",
        "  elif (temp >= 22) and (temp<35):\n",
        "    report = \"Warm\"\n",
        "  else:\n",
        "    report = \"Hot\"\n",
        "  return report\n",
        "temp = int(input())\n",
        "a = get_weather_report(temp)\n",
        "print(a)    \n"
      ],
      "execution_count": null,
      "outputs": []
    },
    {
      "cell_type": "code",
      "metadata": {
        "id": "ADLz_2vlvFNT"
      },
      "source": [
        "# Discount\n",
        "def discount_for_shoping(bill):\n",
        "  if (bill > 250) and (bill <= 450):\n",
        "    discount = \"5%\"\n",
        "  elif (bill >= 450) and (bill <= 850):\n",
        "    discount = \"10%\"\n",
        "  else:\n",
        "    discount = \"15%\"\n",
        "  return discount\n",
        "bill = int(input())\n",
        "so = discount_for_shoping(bill)\n",
        "print(so)        \n"
      ],
      "execution_count": null,
      "outputs": []
    },
    {
      "cell_type": "code",
      "metadata": {
        "id": "a1buH5fyvFQn"
      },
      "source": [
        "# calculte bill\n",
        "def calculate_bill(amount):\n",
        "  if amount <500:\n",
        "    bill = amount-(amount * 0.05)\n",
        "  elif (amount >= 500) and (amount < 2500):\n",
        "    bill = amount-(amount*0.01)\n",
        "  else:\n",
        "    bill = amount-(amount*0.2)\n",
        "  bill = round(bill,3)\n",
        "  return bill\n",
        "amount = int(input())\n",
        "a = calculate_bill(amount)\n",
        "print(a)  \n",
        "\n"
      ],
      "execution_count": null,
      "outputs": []
    },
    {
      "cell_type": "code",
      "metadata": {
        "id": "agh6WrNSvFT9"
      },
      "source": [
        "#Fiz buzz\n",
        "def fizz_buzz(number):\n",
        "    is_divisible_by_3= (number%3)==0\n",
        "    is_divisible_by_5=(number%5)==0\n",
        "    is_divisible_by_both = is_divisible_by_3 and is_divisible_by_5\n",
        "    \n",
        "    if is_divisible_by_both:\n",
        "        msg = \"FizzBuzz\"\n",
        "    elif is_divisible_by_3:\n",
        "        msg= \"Fizz\"\n",
        "    elif is_divisible_by_5:\n",
        "        msg=\"Buzz\"\n",
        "    else:\n",
        "        msg=number\n",
        "    return msg\n",
        "    \n",
        "number = int(input())\n",
        "result = fizz_buzz(number)\n",
        "print(result)"
      ],
      "execution_count": null,
      "outputs": []
    },
    {
      "cell_type": "code",
      "metadata": {
        "id": "4Q-0TimLvFXy"
      },
      "source": [
        "n = int(input())\n",
        "count = 1\n",
        "while (count <= n):\n",
        "  print(count)\n",
        "  count += 1\n",
        "  \n"
      ],
      "execution_count": null,
      "outputs": []
    },
    {
      "cell_type": "code",
      "metadata": {
        "id": "-V_dCqk_nNcl"
      },
      "source": [
        "# integers\n",
        "n = int(input())\n",
        "count = 2\n",
        "while count<=6:\n",
        "  print(count)\n",
        "  count+=1"
      ],
      "execution_count": null,
      "outputs": []
    },
    {
      "cell_type": "code",
      "metadata": {
        "id": "qYj8AojxnNfw"
      },
      "source": [
        "# triangle\n",
        "n = int(input())\n",
        "count = 4\n",
        "while count <= n:\n",
        "  print(\"*\"*count)\n",
        "  if count <= 0:\n",
        "    break\n",
        "  count -=1\n"
      ],
      "execution_count": null,
      "outputs": []
    },
    {
      "cell_type": "code",
      "metadata": {
        "id": "yF5sT_-DnNjX"
      },
      "source": [
        "# solid square\n",
        "n = int(input())\n",
        "count = 0\n",
        "while count <= n:\n",
        "  print(\"* \"*n)\n",
        "  count +=1"
      ],
      "execution_count": null,
      "outputs": []
    },
    {
      "cell_type": "code",
      "metadata": {
        "id": "-_q95I6gnN8d"
      },
      "source": [
        "# solid rectangle\n",
        "row = int(input())\n",
        "col = int(input())\n",
        "count = 0\n",
        "while count <= row:\n",
        "  print(\"* \"*col\n",
        "        )\n",
        "  count +=1\n"
      ],
      "execution_count": null,
      "outputs": []
    },
    {
      "cell_type": "code",
      "metadata": {
        "id": "W_chE796nN_S"
      },
      "source": [
        "row = int(input())\n",
        "col = int(input())\n",
        "count = 0\n",
        "while count <= row:\n",
        "  print(\"* \"*col)\n",
        "  if count == 4:\n",
        "    break\n",
        "  count +=1  "
      ],
      "execution_count": null,
      "outputs": []
    },
    {
      "cell_type": "code",
      "metadata": {
        "id": "9Uo8Dc4BnOee"
      },
      "source": [
        "# sum of natural numbers\n",
        "num = int(input())\n",
        "sum = 0\n",
        "count = 0\n",
        "while count <= num:\n",
        "  sum += count\n",
        "  count +=1\n",
        "print(sum)  \n"
      ],
      "execution_count": null,
      "outputs": []
    },
    {
      "cell_type": "code",
      "metadata": {
        "id": "hL5N9XFdnOhd"
      },
      "source": [
        "n = int(input())\n",
        "count = 1\n",
        "while count <= n:\n",
        "  print(\"* \"*count)\n",
        "  count+=1"
      ],
      "execution_count": null,
      "outputs": []
    },
    {
      "cell_type": "code",
      "metadata": {
        "id": "BXao6azEnOzC"
      },
      "source": [
        "#Read N Inputs\n",
        "num = int(input())\n",
        "count = 0\n",
        "while count <= num:\n",
        "  n = int(input())\n",
        "  print(n)\n",
        "  count +=1\n",
        "\n"
      ],
      "execution_count": null,
      "outputs": []
    },
    {
      "cell_type": "code",
      "metadata": {
        "id": "kPEcbOh8nO16"
      },
      "source": [
        "# sum of the given numbers\n",
        "n = int(input())\n",
        "total = 0\n",
        "for number in range(n):\n",
        "  m = int(input())\n",
        "  total +=m\n",
        "print(total)  "
      ],
      "execution_count": null,
      "outputs": []
    },
    {
      "cell_type": "code",
      "metadata": {
        "id": "LjFaWBatnPF6"
      },
      "source": [
        "n = input()\n",
        "len_of_a = len(n)\n",
        "b = n[0]\n",
        "for i in range(1,len_of_a):\n",
        "  b = b + '-' +n[i]\n",
        "print(b)  \n"
      ],
      "execution_count": null,
      "outputs": []
    },
    {
      "cell_type": "code",
      "metadata": {
        "id": "dbywMjwKnPfw"
      },
      "source": [
        "date = input()\n",
        "date = date.replace(\"-\",\"/\")\n",
        "print(date)"
      ],
      "execution_count": null,
      "outputs": []
    },
    {
      "cell_type": "code",
      "metadata": {
        "id": "aYhGW5zxvFa1"
      },
      "source": [
        "word = input()\n",
        "lower_case = word.lower()\n",
        "upper_case = word.upper()\n",
        "print(lower_case)\n",
        "print(upper_case)"
      ],
      "execution_count": null,
      "outputs": []
    },
    {
      "cell_type": "code",
      "metadata": {
        "id": "-jVCU-aQvFdz"
      },
      "source": [
        "# valid password\n",
        "password=input()\n",
        "contains_digit=False\n",
        "for character in password:\n",
        "    is_digit=character.isdigit()\n",
        "    \n",
        "    if is_digit:\n",
        "        contains_digit=True\n",
        "if contains_digit:\n",
        "    print(\"Valid Password\")\n",
        "else:\n",
        "    print(\"Invalid Password\")     \n",
        "    \n"
      ],
      "execution_count": null,
      "outputs": []
    },
    {
      "cell_type": "code",
      "metadata": {
        "id": "20pmOTczvFhV"
      },
      "source": [
        "# This program prints Hello, world!\n",
        "print(\"Hello, world!\")"
      ],
      "execution_count": null,
      "outputs": []
    },
    {
      "cell_type": "code",
      "metadata": {
        "id": "kydMCPYgk2Hq"
      },
      "source": [
        "# This program adds two numbers\n",
        "num = 1.5\n",
        "num2 = 3.5\n",
        "sum = num+num2\n",
        "print(sum)"
      ],
      "execution_count": null,
      "outputs": []
    },
    {
      "cell_type": "code",
      "metadata": {
        "id": "KNKhLhwmk2LI"
      },
      "source": [
        "a = input(\"enter first number:\")\n",
        "b = input(\"enter second number:\")\n",
        "sum = float(a)+float(b)\n",
        "print(sum)"
      ],
      "execution_count": null,
      "outputs": []
    },
    {
      "cell_type": "code",
      "metadata": {
        "id": "kBG1Qu5ak2QW"
      },
      "source": [
        "# Python Program to calculate the square root\n",
        "num = 8\n",
        "num_sqrt = num**0.5\n",
        "print(num,num_sqrt)"
      ],
      "execution_count": null,
      "outputs": []
    },
    {
      "cell_type": "code",
      "metadata": {
        "id": "-jvrUszYk2T_"
      },
      "source": [
        "# Python Program to find the area of triangle\n",
        "a = int(input())\n",
        "b= int(input())\n",
        "c = int(input())\n",
        "s = ((a+b+c)/2)\n",
        "n1 = (s-a)*(s-b)*(s-c)\n",
        "n2 = (s*n1)\n",
        "area = n2**0.5\n",
        "print(area)"
      ],
      "execution_count": null,
      "outputs": []
    },
    {
      "cell_type": "code",
      "metadata": {
        "id": "IyjN49_0k2X3"
      },
      "source": [
        "# Solve the quadratic equation ax**2 + bx + c = 0\n",
        "a = int(input())\n",
        "b = int(input())\n",
        "c = int(input())\n",
        "d = ((b**2) - 4*a*c)\n",
        "sol1 = ((-b+d**0.5)/2)*a\n",
        "sol2 = ((-b-d**0.5)/2)*a\n",
        "print(sol1,sol2)\n"
      ],
      "execution_count": null,
      "outputs": []
    },
    {
      "cell_type": "code",
      "metadata": {
        "id": "viBeVWIYk2bw"
      },
      "source": [
        "# Python program to swap two variables\n",
        "x = 5\n",
        "y = 10\n",
        "temp = x\n",
        "x = y\n",
        "y = temp\n",
        "print(x,y)"
      ],
      "execution_count": null,
      "outputs": []
    },
    {
      "cell_type": "code",
      "metadata": {
        "id": "w7znh5LWk2gt"
      },
      "source": [
        "# Program to generate a random number between 0 and 9\n",
        "import random\n",
        "print(random.randint(0,9))"
      ],
      "execution_count": null,
      "outputs": []
    },
    {
      "cell_type": "code",
      "metadata": {
        "id": "oMYdrZkhk2yv"
      },
      "source": [
        "#Python Program to Convert Kilometers to Miles\n",
        "kilometers = float(input(\"enter the kilometers:\"))\n",
        "conversion = 0.621371\n",
        "miles = kilometers*conversion\n",
        "print(miles)"
      ],
      "execution_count": null,
      "outputs": []
    },
    {
      "cell_type": "code",
      "metadata": {
        "id": "3lhuMWxck22m"
      },
      "source": [
        "#9_Python Program to Convert Celsius To Fahrenheit\n"
      ],
      "execution_count": null,
      "outputs": []
    },
    {
      "cell_type": "code",
      "metadata": {
        "id": "UMvdVpWtk27f"
      },
      "source": [
        "celsius = float(input())\n",
        "fahrenhit = (celsius*1.8)+32\n",
        "print(fahrenhit)\n"
      ],
      "execution_count": null,
      "outputs": []
    },
    {
      "cell_type": "code",
      "metadata": {
        "id": "qWlhsAfyk2-2"
      },
      "source": [
        "#Python Program to Check if a Number is Positive, Negative or 0\n",
        "num = int(input(\"enter number here:\"))\n",
        "if num >= 0:\n",
        "  print(\"positive\")\n",
        "elif num == 0:\n",
        "  print(\"Zero\")\n",
        "else:\n",
        "  print(\"Negative\")    "
      ],
      "execution_count": null,
      "outputs": []
    },
    {
      "cell_type": "code",
      "metadata": {
        "id": "Oj22QAXwvFlK"
      },
      "source": [
        "#Python Program to Check if a Number is Odd or Even\n",
        "num = int(input(\"Enter the number here:\"))\n",
        "if (num%2==0):\n",
        "  print(\"Even number\")\n",
        "else:\n",
        "  print(\"Odd number\")  "
      ],
      "execution_count": null,
      "outputs": []
    },
    {
      "cell_type": "code",
      "metadata": {
        "id": "BJiGw7s5vFnz"
      },
      "source": [
        "#Python Program to Check Leap Year\n",
        "year = 2012\n",
        "if (year%4) == 0:\n",
        "  if (year%100) == 0:\n",
        "    if (year%400) == 0:\n",
        "      print(\"leap year\")\n",
        "    else:\n",
        "      print(\"not a leap year\")\n",
        "  else:   \n",
        "    print(\"leap year\")\n",
        "else:\n",
        "  print(\"not a leap year\")      "
      ],
      "execution_count": null,
      "outputs": []
    },
    {
      "cell_type": "code",
      "metadata": {
        "id": "uI7zAwan_24P"
      },
      "source": [
        "# Python program to find the largest number among the three input numbers\n",
        "num1=10\n",
        "num2=20\n",
        "num3=18\n",
        "if (num1 >= num2) and (num1>= num3):\n",
        "  largest = num1\n",
        "elif (num2 >= num1) and (num2 >= num3):\n",
        "  largest = num2\n",
        "else:\n",
        "  largest = num3\n",
        "print(largest)  \n"
      ],
      "execution_count": null,
      "outputs": []
    },
    {
      "cell_type": "code",
      "metadata": {
        "id": "1qM9qpCs_27S"
      },
      "source": [
        "# Program to check if a number is prime or not\n",
        "n = int(input())\n",
        "if n > 1:\n",
        "  for i in range(2,n):\n",
        "    if (n%i ==0):\n",
        "      print(\"it is not a prime number\")\n",
        "      break\n",
        "  else:\n",
        "    print(\"prime number\")\n",
        "else:\n",
        "  print(\"it is not a prime number\")\n",
        "# Program to check if a number is prime or not    \n",
        "def prime(num):\n",
        "  if num > 1:\n",
        "    for i in range(2,num):\n",
        "      if (num%i == 0):\n",
        "        return \"it is not a prime number\"\n",
        "        break\n",
        "    else:\n",
        "      return \"prime number\"\n",
        "  else:\n",
        "    return \"it is not a prime number\"\n",
        "a = int(input())\n",
        "print(prime((a)))    \n",
        "\n"
      ],
      "execution_count": null,
      "outputs": []
    },
    {
      "cell_type": "code",
      "metadata": {
        "id": "TSdTlxUf_2-M"
      },
      "source": [
        "# Python program to display all the prime numbers within an interval\n",
        "def prime(num1,num2):\n",
        "  for num in range(num1,num2+1):\n",
        "    if num > 1:\n",
        "      for i in range(2,num):\n",
        "        if (num%i == 0):\n",
        "          return num\n",
        "          break\n",
        "      else:\n",
        "        return num\n",
        "    \n",
        "num1 = int(input())\n",
        "num2 = int(input())\n",
        "print(prime(num1,num2))                "
      ],
      "execution_count": null,
      "outputs": []
    },
    {
      "cell_type": "code",
      "metadata": {
        "id": "yqcaWY8X_3Bp"
      },
      "source": [
        "# Python program to find the factorial of a number provided by the user.\n",
        "num = 7\n",
        "factorial = 1\n",
        "if num < 0:\n",
        "  print(\"factorial doesn't exist negative numbers\")\n",
        "elif num == 0:\n",
        "  print(\"The factorial of 0 is 1\")\n",
        "else:\n",
        "  for i in range(1,num+1):\n",
        "    factorial = factorial*i\n",
        "  print(factorial)      "
      ],
      "execution_count": null,
      "outputs": []
    },
    {
      "cell_type": "code",
      "metadata": {
        "id": "53KHjuT4_3EQ"
      },
      "source": [
        "# Multiplication table (from 1 to 10) in Python\n",
        "num = 10\n",
        "for i in range(1,num+1):\n",
        "  print(num,\"*\",str(i)+ \" =\",str(num*i))"
      ],
      "execution_count": null,
      "outputs": []
    },
    {
      "cell_type": "code",
      "metadata": {
        "id": "yKOTA4l7_3H6"
      },
      "source": [
        "# Program to display the Fibonacci sequence up to n-th term\n",
        "num  = 10\n",
        "sri = 0\n",
        "n1,n2 = 0,1\n",
        "while sri <= num:\n",
        "  print(n1)\n",
        "  nth = n1+n2\n",
        "  n1 = n2\n",
        "  n2 = nth\n",
        "  sri+=1\n",
        "\n"
      ],
      "execution_count": null,
      "outputs": []
    },
    {
      "cell_type": "code",
      "metadata": {
        "id": "awF1b9Jo_3Kl"
      },
      "source": [
        "# Python program to check if the number is an Armstrong number or not\n"
      ],
      "execution_count": null,
      "outputs": []
    },
    {
      "cell_type": "code",
      "metadata": {
        "id": "fk2zbV13_3OK"
      },
      "source": [
        "#Given two integer numbers return their product. If the product is greater than 1000, then return their sum\n",
        "num1 = int(input())\n",
        "num2 = int(input())\n",
        "pro = num1*num2\n",
        "if pro < 1000:\n",
        "  print(\"The result is\",pro)\n",
        "else:\n",
        "  print(num1+num2)  "
      ],
      "execution_count": null,
      "outputs": []
    },
    {
      "cell_type": "code",
      "metadata": {
        "id": "kyzOGsrK_3Qo"
      },
      "source": [
        "#Given a range of the first 10 numbers, Iterate from the start number to the end number, and In each iteration print the sum of the current number and previous number\n"
      ],
      "execution_count": null,
      "outputs": []
    },
    {
      "cell_type": "code",
      "metadata": {
        "id": "7jb8pZ2v4Z8w"
      },
      "source": [
        "#4: Given a string and an integer number n, remove characters from a string starting from zero up to n and return a new string\n",
        "def remove_Char(str,n):\n",
        "  return str[n:]\n",
        "print(remove_Char(\"pynative\",4))  "
      ],
      "execution_count": null,
      "outputs": []
    },
    {
      "cell_type": "code",
      "metadata": {
        "id": "KxY8MyMQ4aBe"
      },
      "source": [
        "#5: Given a list of numbers, return True if first and last number of a list is same\n",
        "def isFirst_lastFirst(numList):\n",
        "  firstElement = numList[0]\n",
        "  lastElement = numList[-1]\n",
        "  if firstElement == lastElement:\n",
        "    return True\n",
        "  else:\n",
        "    return False\n",
        "print(isFirst_lastFirst([10,20,30,40,10]))      \n"
      ],
      "execution_count": null,
      "outputs": []
    },
    {
      "cell_type": "code",
      "metadata": {
        "id": "VqLEDijH4aFI"
      },
      "source": [
        "#6: Given a list of numbers, Iterate it and print only those numbers which are divisible of 5\n",
        "def list_divisible(num):\n",
        "  for sri in num:\n",
        "    if sri%5==0:\n",
        "      print(sri)\n",
        "list_divisible([10,20,33,46,55]) "
      ],
      "execution_count": null,
      "outputs": []
    },
    {
      "cell_type": "code",
      "metadata": {
        "id": "lM1xz6SF4aJp"
      },
      "source": [
        "#7: Return the count of sub-string “Emma” appears in the given string\n",
        "def sub_string(strn):\n",
        "  return \"Emma appeared  \"+ str(strn.count(\"Emma\"))+\" Times\"\n",
        "sub_string(\"Emma is good developer. Emma is a writer\")  "
      ],
      "execution_count": null,
      "outputs": []
    },
    {
      "cell_type": "code",
      "metadata": {
        "id": "0u9hchuM4Z3y"
      },
      "source": [
        "def count_emma(stmt):\n",
        "  count = 0\n",
        "  for i in range(len(stmt)-1):\n",
        "    count += stmt[i:i+4] == \"Emma\"\n",
        "  return count\n",
        "print(count_emma(\"Emma is good developer. Emma is a writer\"))    "
      ],
      "execution_count": null,
      "outputs": []
    },
    {
      "cell_type": "code",
      "metadata": {
        "id": "IrKxE6s34aN6"
      },
      "source": [
        "# 8: Print the following pattern\n",
        "for num in range(6):\n",
        "    for i in range(num):\n",
        "        print (num, end=\" \") #print number\n",
        "    # new line after each row to display pattern correctly\n",
        "    print(\"\\n\")\n",
        "  "
      ],
      "execution_count": null,
      "outputs": []
    },
    {
      "cell_type": "code",
      "metadata": {
        "id": "rhCUE-6V4aSV"
      },
      "source": [
        ""
      ],
      "execution_count": null,
      "outputs": []
    },
    {
      "cell_type": "code",
      "metadata": {
        "id": "_gOzxPfb_3TY"
      },
      "source": [
        "num = int(input())\n",
        "previous = 0 \n",
        "for i in range(0,num):\n",
        "  sum = previous + i\n",
        "  print(\"Current Number\",str(i),\"previousNum\",str(previous),\"Sum:\",str(sum))"
      ],
      "execution_count": null,
      "outputs": []
    },
    {
      "cell_type": "code",
      "metadata": {
        "id": "eLOYdYMQ_3V4"
      },
      "source": [
        "#3: Given a string, display only those characters which are present at an even index number.\n",
        "sri = \"pynative\"\n",
        "dm = sri[0::2]\n",
        "for i in dm:\n",
        "  print(i)"
      ],
      "execution_count": null,
      "outputs": []
    },
    {
      "cell_type": "code",
      "metadata": {
        "id": "OBh90lBJ_3ZO"
      },
      "source": [
        "# 4: Given a string and an integer number n, remove characters from a string starting from zero up to n and return a new string\n"
      ],
      "execution_count": null,
      "outputs": []
    },
    {
      "cell_type": "code",
      "metadata": {
        "id": "vOqPAUl6_3b1"
      },
      "source": [
        "#Find product of all numbers present in a list\n",
        "lst = [10,20,30,40,50]\n",
        "product = 1\n",
        "index = 0\n",
        "while index < len(lst):\n",
        "  product *= lst[index]\n",
        "  index += 1\n",
        "print(\"product is {}\".format(product))  \n"
      ],
      "execution_count": null,
      "outputs": []
    },
    {
      "cell_type": "code",
      "metadata": {
        "id": "DCBx4-IxvFqi",
        "colab": {
          "base_uri": "https://localhost:8080/"
        },
        "outputId": "c5bc05fb-ea62-4737-c42f-9fb77febd56c"
      },
      "source": [
        "lst = int(input())\n",
        "vb = str(lst)\n",
        "product = 1\n",
        "index = 0\n",
        "while index < len(vb):\n",
        "  index +=1\n",
        "  print(index)\n",
        "\n",
        "\n"
      ],
      "execution_count": 10,
      "outputs": [
        {
          "output_type": "stream",
          "text": [
            "10\n",
            "1\n",
            "2\n"
          ],
          "name": "stdout"
        }
      ]
    },
    {
      "cell_type": "code",
      "metadata": {
        "colab": {
          "base_uri": "https://localhost:8080/"
        },
        "id": "xRCu98x_Utes",
        "outputId": "36b140a8-30c2-4b92-9bcf-1e59c3abb953"
      },
      "source": [
        "num = int(input(\"Enter the number:\"))\n",
        "isDivisible = False\n",
        "i = 2\n",
        "while i < num:\n",
        "  if num % i == 0:\n",
        "    isDivisible = True\n",
        "    print(\"{} is divisible in {}\".format(num,i))\n",
        "  i += 1\n",
        "if isDivisible:\n",
        "  print(\"{} is not a prime number\".format(num))\n",
        "else:\n",
        "  print(\"{} is a prime number\".format(num))    \n",
        "\n"
      ],
      "execution_count": 12,
      "outputs": [
        {
          "output_type": "stream",
          "text": [
            "Enter the number:8\n",
            "8 is divisible in 2\n",
            "8 is divisible in 4\n",
            "8 is not a prime number\n"
          ],
          "name": "stdout"
        }
      ]
    },
    {
      "cell_type": "code",
      "metadata": {
        "id": "JLuF2-bWUtwe"
      },
      "source": [
        ""
      ],
      "execution_count": null,
      "outputs": []
    },
    {
      "cell_type": "code",
      "metadata": {
        "id": "yEnn60hlUtz2"
      },
      "source": [
        ""
      ],
      "execution_count": null,
      "outputs": []
    },
    {
      "cell_type": "code",
      "metadata": {
        "id": "TU_Ej_gnUt3w"
      },
      "source": [
        ""
      ],
      "execution_count": null,
      "outputs": []
    },
    {
      "cell_type": "code",
      "metadata": {
        "id": "fCu8XBnlUt8k"
      },
      "source": [
        ""
      ],
      "execution_count": null,
      "outputs": []
    },
    {
      "cell_type": "code",
      "metadata": {
        "id": "fbDkd4YuUuAV"
      },
      "source": [
        ""
      ],
      "execution_count": null,
      "outputs": []
    },
    {
      "cell_type": "code",
      "metadata": {
        "id": "pa6U8z7vUuD5"
      },
      "source": [
        ""
      ],
      "execution_count": null,
      "outputs": []
    },
    {
      "cell_type": "code",
      "metadata": {
        "id": "kn3zmhcVeV0F"
      },
      "source": [
        ""
      ],
      "execution_count": null,
      "outputs": []
    },
    {
      "cell_type": "code",
      "metadata": {
        "id": "j2oIhBHQeWA1"
      },
      "source": [
        ""
      ],
      "execution_count": null,
      "outputs": []
    },
    {
      "cell_type": "code",
      "metadata": {
        "id": "xP5KsSKKeWH-"
      },
      "source": [
        ""
      ],
      "execution_count": null,
      "outputs": []
    },
    {
      "cell_type": "code",
      "metadata": {
        "id": "Giy2OF6IeWOk"
      },
      "source": [
        ""
      ],
      "execution_count": null,
      "outputs": []
    },
    {
      "cell_type": "code",
      "metadata": {
        "id": "osRFswyWeWUX"
      },
      "source": [
        ""
      ],
      "execution_count": null,
      "outputs": []
    },
    {
      "cell_type": "code",
      "metadata": {
        "id": "TnfOgLw5eWZo"
      },
      "source": [
        ""
      ],
      "execution_count": null,
      "outputs": []
    },
    {
      "cell_type": "code",
      "metadata": {
        "id": "s_Qt7gZdeWe7"
      },
      "source": [
        ""
      ],
      "execution_count": null,
      "outputs": []
    }
  ]
}