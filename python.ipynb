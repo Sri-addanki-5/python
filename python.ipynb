{
  "nbformat": 4,
  "nbformat_minor": 0,
  "metadata": {
    "colab": {
      "name": "python.ipynb",
      "provenance": [],
      "collapsed_sections": [],
      "authorship_tag": "ABX9TyNq2/9k++yeuxVVIys8cVQA",
      "include_colab_link": true
    },
    "kernelspec": {
      "name": "python3",
      "display_name": "Python 3"
    }
  },
  "cells": [
    {
      "cell_type": "markdown",
      "metadata": {
        "id": "view-in-github",
        "colab_type": "text"
      },
      "source": [
        "<a href=\"https://colab.research.google.com/github/Sri-addanki-5/python/blob/main/python.ipynb\" target=\"_parent\"><img src=\"https://colab.research.google.com/assets/colab-badge.svg\" alt=\"Open In Colab\"/></a>"
      ]
    },
    {
      "cell_type": "code",
      "metadata": {
        "colab": {
          "base_uri": "https://localhost:8080/"
        },
        "id": "Rm3UPM0H-t9b",
        "outputId": "0fdbc739-cd65-46c6-ff54-fcecf2a940e3"
      },
      "source": [
        "#Write a program that takes a word W as input and prints \"Hello\" followed by the given word W.\n",
        "name=input()\n",
        "print(\"Hello \"+name)"
      ],
      "execution_count": null,
      "outputs": [
        {
          "output_type": "stream",
          "text": [
            "srikanth\n",
            "Hello srikanth\n"
          ],
          "name": "stdout"
        }
      ]
    },
    {
      "cell_type": "code",
      "metadata": {
        "colab": {
          "base_uri": "https://localhost:8080/"
        },
        "id": "i4BAn0lt_caf",
        "outputId": "8502426c-bd92-42ac-c12f-3c8c0b92291c"
      },
      "source": [
        "#String Repetition\n",
        "# Write a program to print the given input word three times in a single line separated by spaces\n",
        "word = input()\n",
        "message = (word + ' ') * 3\n",
        "print(message)"
      ],
      "execution_count": null,
      "outputs": [
        {
          "output_type": "stream",
          "text": [
            "srikanth\n",
            "srikanth srikanth srikanth \n"
          ],
          "name": "stdout"
        }
      ]
    },
    {
      "cell_type": "code",
      "metadata": {
        "colab": {
          "base_uri": "https://localhost:8080/"
        },
        "id": "l0f8a28tBu0M",
        "outputId": "b7955908-b7d9-4638-bda1-be19d64ff865"
      },
      "source": [
        "a = input()\n",
        "a = int(a)\n",
        "b = input()\n",
        "b = int(b)\n",
        "result = a+b\n",
        "print(result)\n"
      ],
      "execution_count": null,
      "outputs": [
        {
          "output_type": "stream",
          "text": [
            "10\n",
            "20\n",
            "30\n"
          ],
          "name": "stdout"
        }
      ]
    },
    {
      "cell_type": "code",
      "metadata": {
        "colab": {
          "base_uri": "https://localhost:8080/"
        },
        "id": "pOK6FYRtBu27",
        "outputId": "b31a3541-7d5f-4a6c-dbb7-f93fbebf02f1"
      },
      "source": [
        "word = input()\n",
        "n = input()\n",
        "n = int(n)\n",
        "print(word[n])"
      ],
      "execution_count": null,
      "outputs": [
        {
          "output_type": "stream",
          "text": [
            "chocolate\n",
            "8\n",
            "e\n"
          ],
          "name": "stdout"
        }
      ]
    },
    {
      "cell_type": "code",
      "metadata": {
        "colab": {
          "base_uri": "https://localhost:8080/"
        },
        "id": "kBGCDNi5Bu5z",
        "outputId": "efe15592-b908-453b-e479-e84467245bf5"
      },
      "source": [
        "length = input()\n",
        "breadth = input()\n",
        "length = int(length)\n",
        "breadth = int(breadth)\n",
        "area_of_rectangle = length*breadth\n",
        "print(area_of_rectangle)"
      ],
      "execution_count": null,
      "outputs": [
        {
          "output_type": "stream",
          "text": [
            "10\n",
            "8\n",
            "80\n"
          ],
          "name": "stdout"
        }
      ]
    },
    {
      "cell_type": "code",
      "metadata": {
        "colab": {
          "base_uri": "https://localhost:8080/"
        },
        "id": "W2Sb60H2Bu8F",
        "outputId": "468e8168-f903-4676-d202-8b5d58e495de"
      },
      "source": [
        "#perimeter of rectangle\n",
        "length = input()\n",
        "breadth = input()\n",
        "length = int(input())\n",
        "breadth = int(input())\n",
        "sum_of_two_sides = length+breadth\n",
        "perimeter_of_rectangle = 2*sum_of_two_sides\n",
        "print(perimeter_of_rectangle)"
      ],
      "execution_count": null,
      "outputs": [
        {
          "output_type": "stream",
          "text": [
            "10\n",
            "40\n",
            "3\n",
            "3\n",
            "12\n"
          ],
          "name": "stdout"
        }
      ]
    },
    {
      "cell_type": "code",
      "metadata": {
        "colab": {
          "base_uri": "https://localhost:8080/"
        },
        "id": "teK2ZKMDBu-X",
        "outputId": "30fc4daf-98e5-4d7d-d28d-61bced05486c"
      },
      "source": [
        "first_str = input()\n",
        "snd_str = input()\n",
        "first_str_part = first_str[:3]\n",
        "second_str_part = snd_str[:3]\n",
        "are_both_same = first_str_part == second_str_part\n",
        "print(are_both_same)"
      ],
      "execution_count": null,
      "outputs": [
        {
          "output_type": "stream",
          "text": [
            "srikanth\n",
            "srikanth\n",
            "True\n"
          ],
          "name": "stdout"
        }
      ]
    },
    {
      "cell_type": "code",
      "metadata": {
        "colab": {
          "base_uri": "https://localhost:8080/"
        },
        "id": "rR1Fn-glBvA7",
        "outputId": "8af66717-7f0d-4c08-e5e8-a2c287401575"
      },
      "source": [
        "a =input()\n",
        "b = input()\n",
        "a = int(a)\n",
        "b = int(b)\n",
        "is_both_positive = a > 0 and b > 0\n",
        "is_one_greater = a>5 or b > 5\n",
        "result = is_both_positive and is_one_greater\n",
        "print(result)"
      ],
      "execution_count": null,
      "outputs": [
        {
          "output_type": "stream",
          "text": [
            "10\n",
            "20\n",
            "True\n"
          ],
          "name": "stdout"
        }
      ]
    },
    {
      "cell_type": "code",
      "metadata": {
        "colab": {
          "base_uri": "https://localhost:8080/"
        },
        "id": "DTr4gMy5BvDv",
        "outputId": "f73aba57-f82a-4460-f3d2-98998c1e6a1e"
      },
      "source": [
        "n = int(input())\n",
        "counter = 1\n",
        "while counter <=n:\n",
        "    print(counter)\n",
        "    counter = counter +1 "
      ],
      "execution_count": null,
      "outputs": [
        {
          "output_type": "stream",
          "text": [
            "5\n",
            "1\n",
            "2\n",
            "3\n",
            "4\n",
            "5\n"
          ],
          "name": "stdout"
        }
      ]
    },
    {
      "cell_type": "code",
      "metadata": {
        "colab": {
          "base_uri": "https://localhost:8080/"
        },
        "id": "Ry1zHzGNBvXf",
        "outputId": "cab92166-441f-48ca-8f45-3d59ee94c549"
      },
      "source": [
        "m = int(input())\n",
        "n = int(input())\n",
        "for number in range(m,n+1):\n",
        "  print(number)"
      ],
      "execution_count": null,
      "outputs": [
        {
          "output_type": "stream",
          "text": [
            "10\n",
            "12\n",
            "10\n",
            "11\n",
            "12\n"
          ],
          "name": "stdout"
        }
      ]
    },
    {
      "cell_type": "code",
      "metadata": {
        "colab": {
          "base_uri": "https://localhost:8080/"
        },
        "id": "0BWaelpZBvZm",
        "outputId": "a45d160a-1662-4c22-d3f3-ad14f8335d60"
      },
      "source": [
        "m = int(input())\n",
        "n = int(input())\n",
        "for number in range(m):\n",
        "  print(\"* \" *n)"
      ],
      "execution_count": null,
      "outputs": [
        {
          "output_type": "stream",
          "text": [
            "6\n",
            "4\n",
            "* * * * \n",
            "* * * * \n",
            "* * * * \n",
            "* * * * \n",
            "* * * * \n",
            "* * * * \n"
          ],
          "name": "stdout"
        }
      ]
    },
    {
      "cell_type": "code",
      "metadata": {
        "colab": {
          "base_uri": "https://localhost:8080/"
        },
        "id": "hDGLbJPNH1ba",
        "outputId": "7ac249bb-216e-4084-e16d-ffa6cad860cf"
      },
      "source": [
        " m = int(input())\n",
        " for number in range(1,m+1):\n",
        "   print(\"* \"*number)"
      ],
      "execution_count": null,
      "outputs": [
        {
          "output_type": "stream",
          "text": [
            "4\n",
            "* \n",
            "* * \n",
            "* * * \n",
            "* * * * \n"
          ],
          "name": "stdout"
        }
      ]
    },
    {
      "cell_type": "code",
      "metadata": {
        "colab": {
          "base_uri": "https://localhost:8080/"
        },
        "id": "S94doGhCH1d6",
        "outputId": "c7150385-e4b1-477b-c31e-7e996056f96c"
      },
      "source": [
        "n = int(input())\n",
        "total = 0\n",
        "for i in range(n):\n",
        "  m = int(input())\n",
        "  total = total+m\n",
        "print(total) "
      ],
      "execution_count": null,
      "outputs": [
        {
          "output_type": "stream",
          "text": [
            "5\n",
            "4\n",
            "3\n",
            "2\n",
            "1\n",
            "2\n",
            "12\n"
          ],
          "name": "stdout"
        }
      ]
    },
    {
      "cell_type": "code",
      "metadata": {
        "colab": {
          "base_uri": "https://localhost:8080/"
        },
        "id": "behU6M6gH1gd",
        "outputId": "954ae393-d26a-4ef6-dd59-ceb87f358a08"
      },
      "source": [
        "a = input()\n",
        "length = len(a)\n",
        "b = a[0]\n",
        "for i in range(1,length):\n",
        "  b = b + \"-\" +a[i]\n",
        "print(b)  \n"
      ],
      "execution_count": null,
      "outputs": [
        {
          "output_type": "stream",
          "text": [
            "srikanth\n",
            "s-r-i-k-a-n-t-h\n"
          ],
          "name": "stdout"
        }
      ]
    },
    {
      "cell_type": "code",
      "metadata": {
        "colab": {
          "base_uri": "https://localhost:8080/"
        },
        "id": "nofvmqL8H1jO",
        "outputId": "cfec24ff-9bbe-42c7-b891-1c82b4c72958"
      },
      "source": [
        "date = input()\n",
        "date = date.replace(\"-\",\"/\")\n",
        "print(date)"
      ],
      "execution_count": null,
      "outputs": [
        {
          "output_type": "stream",
          "text": [
            "20-03-2020\n",
            "20/03/2020\n"
          ],
          "name": "stdout"
        }
      ]
    },
    {
      "cell_type": "code",
      "metadata": {
        "colab": {
          "base_uri": "https://localhost:8080/"
        },
        "id": "xXk1Xf8KH1l_",
        "outputId": "fff5796d-1df6-43f1-fcd4-3d895bf523f5"
      },
      "source": [
        "password = input()\n",
        "contains_digit = False\n",
        "for character in password:\n",
        "  is_digit =character.isdigit()\n",
        "  if is_digit:\n",
        "    contains_digit = True\n",
        "if contains_digit:  \n",
        "  print(\"valid password\")\n",
        "else:\n",
        "  print(\"not valid\")  "
      ],
      "execution_count": null,
      "outputs": [
        {
          "output_type": "stream",
          "text": [
            "20\n",
            "valid password\n"
          ],
          "name": "stdout"
        }
      ]
    },
    {
      "cell_type": "code",
      "metadata": {
        "colab": {
          "base_uri": "https://localhost:8080/"
        },
        "id": "jxMStr3nH1o7",
        "outputId": "b08df6c8-c91b-4d85-fc6c-33322f847fa9"
      },
      "source": [
        "word = input()\n",
        "modified = \"\"\n",
        "for char in word:\n",
        "  uppercase = char.upper()\n",
        "  if uppercase == char:\n",
        "    modified += char.lower()\n",
        "  else:\n",
        "    modified +=char.upper()\n",
        "print(modified)      "
      ],
      "execution_count": null,
      "outputs": [
        {
          "output_type": "stream",
          "text": [
            "sriKanth\n",
            "SRIkANTH\n"
          ],
          "name": "stdout"
        }
      ]
    },
    {
      "cell_type": "code",
      "metadata": {
        "id": "vVGNNH1MH1ry",
        "colab": {
          "base_uri": "https://localhost:8080/"
        },
        "outputId": "c589ca87-0bab-48fa-ef09-a36ad032a5d6"
      },
      "source": [
        "# Factorial\n",
        "n = int(input())\n",
        "factorial = 1\n",
        "for i in range(1,n+1):\n",
        "  factorial = factorial * i\n",
        "print(factorial)  "
      ],
      "execution_count": null,
      "outputs": [
        {
          "output_type": "stream",
          "text": [
            "5\n",
            "120\n"
          ],
          "name": "stdout"
        }
      ]
    },
    {
      "cell_type": "code",
      "metadata": {
        "id": "gjYHrHUWH1vA",
        "colab": {
          "base_uri": "https://localhost:8080/"
        },
        "outputId": "277c0dae-a694-4d20-dd15-8b7ed9727aa8"
      },
      "source": [
        "m = int(input())\n",
        "n = int(input())\n",
        "total = 0\n",
        "for i in range(m,n+1):\n",
        "  total += i\n",
        "print(total)  "
      ],
      "execution_count": null,
      "outputs": [
        {
          "output_type": "stream",
          "text": [
            "2\n",
            "6\n",
            "20\n"
          ],
          "name": "stdout"
        }
      ]
    },
    {
      "cell_type": "code",
      "metadata": {
        "id": "lXc4xs_ZH1xL",
        "colab": {
          "base_uri": "https://localhost:8080/"
        },
        "outputId": "8b7a9cd3-69a9-42d4-d8bd-6602aba11db0"
      },
      "source": [
        "n = int(input())\n",
        "total = 0\n",
        "for i in range(1,n+1):\n",
        "  if i%2==1:\n",
        "    total += i\n",
        "print(total)    "
      ],
      "execution_count": null,
      "outputs": [
        {
          "output_type": "stream",
          "text": [
            "10\n",
            "25\n"
          ],
          "name": "stdout"
        }
      ]
    },
    {
      "cell_type": "code",
      "metadata": {
        "id": "5X7hzvqjH10D",
        "colab": {
          "base_uri": "https://localhost:8080/"
        },
        "outputId": "a84ca915-a2e3-44b6-a94d-0b943d3b01c5"
      },
      "source": [
        "#sum of numbers divisible by T\n",
        "t = int(input())\n",
        "m = int(input())\n",
        "n = int(input())\n",
        "total = 0\n",
        "for number in range(m,n+1):\n",
        "  if number%t ==0:\n",
        "    total +=number\n",
        "print(total)    "
      ],
      "execution_count": null,
      "outputs": [
        {
          "output_type": "stream",
          "text": [
            "2\n",
            "5\n",
            "9\n",
            "14\n"
          ],
          "name": "stdout"
        }
      ]
    },
    {
      "cell_type": "code",
      "metadata": {
        "id": "Yaxu2m7DH17w"
      },
      "source": [
        "#sum of squares\n",
        "n = int(input())\n",
        "total = 0\n",
        "for i in range(1,n+1):\n",
        "  total += ()\n",
        "print(total)  "
      ],
      "execution_count": null,
      "outputs": []
    },
    {
      "cell_type": "code",
      "metadata": {
        "id": "xwNXtv-_jrXc",
        "colab": {
          "base_uri": "https://localhost:8080/"
        },
        "outputId": "da61fb70-964e-4b64-956c-21d3992e4bc2"
      },
      "source": [
        "n=int(input())\n",
        "total=0\n",
        "for i in range(1,n+1):\n",
        "    total=total+(i*i)\n",
        "print(total)"
      ],
      "execution_count": null,
      "outputs": [
        {
          "output_type": "stream",
          "text": [
            "5\n",
            "55\n"
          ],
          "name": "stdout"
        }
      ]
    },
    {
      "cell_type": "code",
      "metadata": {
        "id": "eQ8rMLU2jrdL",
        "colab": {
          "base_uri": "https://localhost:8080/"
        },
        "outputId": "5b30c6c4-2e8d-43cd-b9a6-af0bb453ee72"
      },
      "source": [
        "#sum of average 10 numbers\n",
        "total = 0\n",
        "for i in range(10):\n",
        "  number = int(input())\n",
        "  total +=number\n",
        "average = total/10\n",
        "print(total)\n",
        "print(average)  "
      ],
      "execution_count": null,
      "outputs": [
        {
          "output_type": "stream",
          "text": [
            "5\n",
            "5\n",
            "5\n",
            "5\n",
            "5\n",
            "5\n",
            "5\n",
            "5\n",
            "5\n",
            "5\n",
            "50\n",
            "5.0\n"
          ],
          "name": "stdout"
        }
      ]
    },
    {
      "cell_type": "code",
      "metadata": {
        "id": "LhljTG3vjrfp",
        "colab": {
          "base_uri": "https://localhost:8080/"
        },
        "outputId": "c88688f7-7782-4c6e-b604-48ea231d857a"
      },
      "source": [
        "number = input()\n",
        "total =0\n",
        "for digit in number:\n",
        "  total = total+int(digit)\n",
        "print(total)"
      ],
      "execution_count": null,
      "outputs": [
        {
          "output_type": "stream",
          "text": [
            "5\n",
            "5\n"
          ],
          "name": "stdout"
        }
      ]
    },
    {
      "cell_type": "code",
      "metadata": {
        "id": "NZSdHyJNjrij",
        "colab": {
          "base_uri": "https://localhost:8080/"
        },
        "outputId": "e4d1bea8-420c-40e9-fc55-1ebf3f9d45a2"
      },
      "source": [
        "a = int(input())\n",
        "for i in range(1,11):\n",
        "  print(str(a)+\"*\"+str(i)+\"=\"+str(i*a))"
      ],
      "execution_count": null,
      "outputs": [
        {
          "output_type": "stream",
          "text": [
            "3\n",
            "3*1=3\n",
            "3*2=6\n",
            "3*3=9\n",
            "3*4=12\n",
            "3*5=15\n",
            "3*6=18\n",
            "3*7=21\n",
            "3*8=24\n",
            "3*9=27\n",
            "3*10=30\n"
          ],
          "name": "stdout"
        }
      ]
    },
    {
      "cell_type": "code",
      "metadata": {
        "id": "EfFSfAq7jrl3",
        "colab": {
          "base_uri": "https://localhost:8080/"
        },
        "outputId": "ded63430-c753-4a3f-b5b0-78e31b35119b"
      },
      "source": [
        "#Reverse string\n",
        "a = input()\n",
        "rever = \"\"\n",
        "for i in a:\n",
        "  rever = i+rever\n",
        "print(rever)  \n"
      ],
      "execution_count": null,
      "outputs": [
        {
          "output_type": "stream",
          "text": [
            "srikanth\n",
            "htnakirs\n"
          ],
          "name": "stdout"
        }
      ]
    },
    {
      "cell_type": "code",
      "metadata": {
        "colab": {
          "base_uri": "https://localhost:8080/"
        },
        "id": "opjO2IimBuz2",
        "outputId": "8005495f-7d35-4deb-cd36-47e957bae797"
      },
      "source": [
        "#palindrome\n",
        "n = input()\n",
        "n = n.lower()\n",
        "reverse_n = \"\"\n",
        "for char in n:\n",
        "  reverse_n = char+reverse_n\n",
        "if n == reverse_n:\n",
        "  print(\"palindrome\")\n",
        "else:\n",
        "  print(\"not a palindrome\")    "
      ],
      "execution_count": null,
      "outputs": [
        {
          "output_type": "stream",
          "text": [
            "Srikanth\n",
            "not a palindrome\n"
          ],
          "name": "stdout"
        }
      ]
    },
    {
      "cell_type": "code",
      "metadata": {
        "colab": {
          "base_uri": "https://localhost:8080/"
        },
        "id": "jD1MCCYnBu3N",
        "outputId": "f9d6f7fb-b67e-46ad-eb39-283108fac931"
      },
      "source": [
        "#Greatest among N numbers\n",
        "n = int(input())\n",
        "first_input = int(input())\n",
        "greatest_number = first_input\n",
        "for i in range(n-1):\n",
        "  num = int(input())\n",
        "  if num > greatest_number:\n",
        "    greatest_number = num\n",
        "print(greatest_number)    "
      ],
      "execution_count": null,
      "outputs": [
        {
          "output_type": "stream",
          "text": [
            "5\n",
            "97\n",
            "43\n",
            "54\n",
            "65\n",
            "43\n",
            "97\n"
          ],
          "name": "stdout"
        }
      ]
    },
    {
      "cell_type": "code",
      "metadata": {
        "colab": {
          "base_uri": "https://localhost:8080/"
        },
        "id": "OLOT0c0nBu6g",
        "outputId": "307e78f1-4a15-4bfb-b903-5d0a3c9b2e42"
      },
      "source": [
        "#smallest number\n",
        "n = int(input())\n",
        "first_number = int(input())\n",
        "smallest_number = first_number\n",
        "for i in range(n-1):\n",
        "  num = int(input())\n",
        "  if num < smallest_number:\n",
        "    smallest_number = num\n",
        "print(smallest_number)    "
      ],
      "execution_count": null,
      "outputs": [
        {
          "output_type": "stream",
          "text": [
            "5\n",
            "97\n",
            "43\n",
            "54\n",
            "65\n",
            "43\n",
            "43\n"
          ],
          "name": "stdout"
        }
      ]
    },
    {
      "cell_type": "code",
      "metadata": {
        "colab": {
          "base_uri": "https://localhost:8080/"
        },
        "id": "lmYlGu6NBu9t",
        "outputId": "d573d910-7503-4b13-fbd3-719ae4c930c8"
      },
      "source": [
        "#factors of numbers\n",
        "n = int(input())\n",
        "for i in range(1,n+1):\n",
        "  if n%i ==0:\n",
        "    print(i)"
      ],
      "execution_count": null,
      "outputs": [
        {
          "output_type": "stream",
          "text": [
            "6\n",
            "1\n",
            "2\n",
            "3\n",
            "6\n"
          ],
          "name": "stdout"
        }
      ]
    },
    {
      "cell_type": "code",
      "metadata": {
        "colab": {
          "base_uri": "https://localhost:8080/"
        },
        "id": "vAUbAvhEBvAx",
        "outputId": "b1085efa-6097-4806-cfbd-f4cf0b04717c"
      },
      "source": [
        "#sum odf all factors\n",
        "n = int(input())\n",
        "total = 0\n",
        "for i in range(1,n+1):\n",
        "  if n%i ==0:\n",
        "    total = total + i\n",
        "print(total)    "
      ],
      "execution_count": null,
      "outputs": [
        {
          "output_type": "stream",
          "text": [
            "6\n",
            "12\n"
          ],
          "name": "stdout"
        }
      ]
    },
    {
      "cell_type": "code",
      "metadata": {
        "colab": {
          "base_uri": "https://localhost:8080/"
        },
        "id": "UbKsgZztBvD5",
        "outputId": "df5fba38-3b90-4139-93ef-c0bf6e5319ee"
      },
      "source": [
        "# perfect number\n",
        "n = int(input())\n",
        "total = 0\n",
        "for i in range(1,n):\n",
        "  if n%i == 0:\n",
        "    total+=i\n",
        "if total == n:\n",
        "  print(\"perfect number\")\n",
        "else:\n",
        "  print(\"not perfect number\")      "
      ],
      "execution_count": null,
      "outputs": [
        {
          "output_type": "stream",
          "text": [
            "21\n",
            "not perfect number\n"
          ],
          "name": "stdout"
        }
      ]
    },
    {
      "cell_type": "code",
      "metadata": {
        "colab": {
          "base_uri": "https://localhost:8080/"
        },
        "id": "sx-gR5KyJoZS",
        "outputId": "f2b461d0-cd9e-4dbb-ace5-9a0e0ac9cd50"
      },
      "source": [
        "# armstrong number\n",
        "n = input()\n",
        "length = len(n)\n",
        "total = 0\n",
        "for digit in n:\n",
        "  total = total+(int(digit)**length)\n",
        "if total ==int(n):\n",
        "  print(\"Armstrong number\")\n",
        "else:\n",
        "  print(\"Not an armstrong number\")    "
      ],
      "execution_count": null,
      "outputs": [
        {
          "output_type": "stream",
          "text": [
            "154\n",
            "Not an armstrong number\n"
          ],
          "name": "stdout"
        }
      ]
    },
    {
      "cell_type": "code",
      "metadata": {
        "id": "ei9FQEcpJodA"
      },
      "source": [
        "#OOPS"
      ],
      "execution_count": null,
      "outputs": []
    },
    {
      "cell_type": "code",
      "metadata": {
        "id": "wGaIdibgJog9",
        "colab": {
          "base_uri": "https://localhost:8080/"
        },
        "outputId": "3a2b673b-adfd-480f-9f23-aba3bd82b1e3"
      },
      "source": [
        "#CAR\n",
        "class Car:\n",
        "    def __init__(self,color,max_speed,acceleration,tyre_friction):\n",
        "        self.color = color\n",
        "        self.max_speed=max_speed\n",
        "        self.acceleration=acceleration\n",
        "        self.tyre_friction=tyre_friction\n",
        "        \n",
        "    # def default_test():\n",
        "car=Car(color=\"Red\",max_speed=250,acceleration=10,tyre_friction=3)\n",
        "print(car.color)\n",
        "print(car.max_speed)\n",
        "print(car.acceleration)\n",
        "print(car.tyre_friction)"
      ],
      "execution_count": null,
      "outputs": [
        {
          "output_type": "stream",
          "text": [
            "Red\n",
            "250\n",
            "10\n",
            "3\n"
          ],
          "name": "stdout"
        }
      ]
    },
    {
      "cell_type": "code",
      "metadata": {
        "id": "ma08DmbCJokA"
      },
      "source": [
        "#Car-2\n"
      ],
      "execution_count": null,
      "outputs": []
    },
    {
      "cell_type": "code",
      "metadata": {
        "colab": {
          "base_uri": "https://localhost:8080/"
        },
        "id": "OG9Keo8L5MiK",
        "outputId": "44148958-e7ca-4448-e13b-ee6720f1eca9"
      },
      "source": [
        "class Car:\n",
        "  def __init__(self,color,max_speed,acceleration,tyre_friction):\n",
        "    self.color = color\n",
        "    self.max_speed = max_speed\n",
        "    self.acceleration = acceleration\n",
        "    self.tyre_friction = tyre_friction\n",
        "    self.is_engine_started = False\n",
        "  def start_engine(self):\n",
        "    self.is_engine_started = True\n",
        "  def stop_engine(self):\n",
        "    self.is_engine_started = False \n",
        "car = Car(color = 'Red',max_speed = 250,acceleration = 10,tyre_friction = 3)\n",
        "print(car.color)\n",
        "print(car.max_speed)\n",
        "print(car.acceleration)\n",
        "print(car.tyre_friction)\n",
        "car.start_engine()\n",
        "print(car.is_engine_started)\n",
        "car.stop_engine()\n",
        "print(car.is_engine_started)      "
      ],
      "execution_count": null,
      "outputs": [
        {
          "output_type": "stream",
          "text": [
            "Red\n",
            "250\n",
            "10\n",
            "3\n",
            "True\n",
            "False\n"
          ],
          "name": "stdout"
        }
      ]
    },
    {
      "cell_type": "code",
      "metadata": {
        "id": "JEn7pDPY5Ml8"
      },
      "source": [
        "# Car-3"
      ],
      "execution_count": null,
      "outputs": []
    },
    {
      "cell_type": "code",
      "metadata": {
        "colab": {
          "base_uri": "https://localhost:8080/"
        },
        "id": "QeSMBuD_5MqV",
        "outputId": "da4dccc2-5cd0-404d-8311-4a852782df89"
      },
      "source": [
        "class Car:\n",
        "  def __init__(self,color,max_speed,acceleration,tyre_friction):\n",
        "    self.color = color\n",
        "    self.max_speed = max_speed\n",
        "    self.acceleration = acceleration\n",
        "    self.tyre_friction = tyre_friction\n",
        "    self.is_engine_started = False\n",
        "    self.current_speed = 0\n",
        "  def start_engine(self):\n",
        "    self.is_engine_started = True\n",
        "  def stop_engine(self):\n",
        "    self.is_engine_started = False\n",
        "  def accelerate(self):\n",
        "    if not self.is_engine_started:\n",
        "      print(\"Car has not started yet\")\n",
        "    else:\n",
        "      self.current_speed += self.acceleration\n",
        "      if self.current_speed > self.max_speed:\n",
        "        self.current_speed =self.max_speed \n",
        "car = Car(color = \"Red\",max_speed = 250, acceleration = 10, tyre_friction = 3)\n",
        "car.accelerate()\n",
        "print(car.current_speed)\n",
        "car.start_engine()\n",
        "print(car.current_speed)\n",
        "car.accelerate()\n",
        "print(car.current_speed)\n",
        "car.accelerate()\n",
        "print(car.current_speed)\n",
        "car.accelerate()\n",
        "car.accelerate()\n",
        "car.accelerate()\n",
        "print(car.current_speed)\n",
        "\n"
      ],
      "execution_count": null,
      "outputs": [
        {
          "output_type": "stream",
          "text": [
            "Car has not started yet\n",
            "0\n",
            "0\n",
            "10\n",
            "20\n",
            "50\n"
          ],
          "name": "stdout"
        }
      ]
    },
    {
      "cell_type": "code",
      "metadata": {
        "id": "wbfGmkfP5Mtl"
      },
      "source": [
        "# A car and Truck incomplete classes"
      ],
      "execution_count": null,
      "outputs": []
    },
    {
      "cell_type": "code",
      "metadata": {
        "colab": {
          "base_uri": "https://localhost:8080/"
        },
        "id": "v2wWt54V5MxI",
        "outputId": "0a9f2207-80ff-4bc2-d587-6bebc5881370"
      },
      "source": [
        "class Car:\n",
        "  def __init__(self,color,max_speed,acceleration,tyre_friction):\n",
        "    self.color = color\n",
        "    self.max_speed = max_speed\n",
        "    self.acceleration = acceleration\n",
        "    self.tyre_friction = tyre_friction\n",
        "    self.is_engine_started = False\n",
        "    self.current_speed = 0\n",
        "  def start_engine(self):\n",
        "    self.is_engine_started = True\n",
        "  def stop_engine(self):\n",
        "    self.is_engine_started = False\n",
        "  def acceleration(self):\n",
        "    if not self.is_engine_started:\n",
        "      print(\"car not started yet\")\n",
        "    else:\n",
        "      self.current_speed += self.acceleration\n",
        "      if slef.current_speed > self.max_speed:\n",
        "        self.current_speed = self.max_speed\n",
        "  def apply_brakes(self):\n",
        "    self.current_speed -= self.tyre_friction\n",
        "    if self.current_speed < 0:\n",
        "      self.current_speed = 0\n",
        "  def sound_horn(self):\n",
        "    if self.is_engine_started:\n",
        "      print(\"Beep Beep\")\n",
        "    else:\n",
        "      print(\"Car has not started yet\")\n",
        "class Truck(Car):\n",
        "  def __init__(self,color,max_speed,acceleration,tyre_friction,max_cargo_weight):\n",
        "    super().__init__(color,max_speed,acceleration,tyre_friction)\n",
        "    self.max_cargo_weight = max_cargo_weight\n",
        "    self.load = 0\n",
        "  def load_cargo(self,cargo_weight):\n",
        "    if self.is_engine_started:\n",
        "      pribt(\"cannot load cargo during motion\")\n",
        "    elif cargo_weight + self.load > self.max_cargo_weight:\n",
        "      print(\"cannot load cargo morethan max limit:{}\".format(self.max_cargo_weight))\n",
        "    else:\n",
        "      self.load += cargo_weight\n",
        "  def unload_cargo(self,cargo_weight):\n",
        "    if self.is_engine_started:\n",
        "      print(\"cannot unload cargo during motion\")\n",
        "    else:\n",
        "      self.load -= cargo_weight\n",
        "      if self.load < 0:\n",
        "        self.load = 0\n",
        "  def sound_horn (self):\n",
        "    if self.is_engine_started:\n",
        "      print(\"honk honk\")\n",
        "    else:\n",
        "      print(\"car has not started yet\")\n",
        "truck = Truck(color = \"red\",max_speed = 250,acceleration = 10,tyre_friction = 3,max_cargo_weight=100)\n",
        "print(truck.is_engine_started)\n",
        "truck.load_cargo(cargo_weight=50)\n",
        "print(truck.load)\n",
        "truck.unload_cargo(cargo_weight=25)\n",
        "print(truck.load)\n",
        "truck.unload_cargo(cargo_weight = 70)\n",
        "print(truck.load)\n",
        "truck.unload_cargo(cargo_weight=120)\n",
        "print(truck.load)  \n",
        "truck.sound_horn()\n",
        "truck.stop_engine()\n",
        "truck.sound_horn()          \n",
        "\n"
      ],
      "execution_count": null,
      "outputs": [
        {
          "output_type": "stream",
          "text": [
            "False\n",
            "50\n",
            "25\n",
            "0\n",
            "0\n",
            "car has not started yet\n",
            "car has not started yet\n"
          ],
          "name": "stdout"
        }
      ]
    },
    {
      "cell_type": "code",
      "metadata": {
        "id": "E03RSkkU5M0T",
        "colab": {
          "base_uri": "https://localhost:8080/"
        },
        "outputId": "b6b1934a-193e-4c5e-d179-3681d43f6165"
      },
      "source": [
        "#car 4\n",
        "class Car:\n",
        "  def __init__(self,color,max_speed,acceleration,tyre_friction):\n",
        "    self.color = color\n",
        "    self.max_speed = max_speed\n",
        "    self.acceleration = acceleration\n",
        "    self.tyre_friction = tyre_friction\n",
        "    self.is_engine_started = False\n",
        "    self.current_speed = 0\n",
        "  def start_engine(self):\n",
        "    self.is_engine_started = True\n",
        "  def stop_engine(self):\n",
        "    self.is_engine_started = True\n",
        "  def accelerate(self):\n",
        "    if not self.is_engine_started:\n",
        "      print(\"car has not started yet\")\n",
        "    else:\n",
        "      self.current_speed +=self.acceleration\n",
        "      if self.current_speed > self.max_speed:\n",
        "          self.current_speed = self.max_speed  \n",
        "car = Car(\"Red\",max_speed = 50,acceleration = 10,tyre_friction = 3)\n",
        "car.start_engine()\n",
        "print(car.current_speed)\n",
        "car.stop_engine()\n",
        "car.accelerate()\n",
        "print(car.current_speed)\n",
        "                "
      ],
      "execution_count": 3,
      "outputs": [
        {
          "output_type": "stream",
          "text": [
            "0\n",
            "10\n"
          ],
          "name": "stdout"
        }
      ]
    },
    {
      "cell_type": "code",
      "metadata": {
        "id": "mT6kWe175M3v",
        "colab": {
          "base_uri": "https://localhost:8080/",
          "height": 374
        },
        "outputId": "750a3511-930d-400a-d636-09c48dcd2f73"
      },
      "source": [
        "#parsing datetime\n",
        "from datetime import datetime\n",
        "\n",
        "date = input()\n",
        "date_string = \"%d %b %Y\"\n",
        "datetime_object = datetime.strptime(date,date_string)\n",
        "print(datetime_object)"
      ],
      "execution_count": 7,
      "outputs": [
        {
          "output_type": "stream",
          "text": [
            "02 04 1995\n"
          ],
          "name": "stdout"
        },
        {
          "output_type": "error",
          "ename": "ValueError",
          "evalue": "ignored",
          "traceback": [
            "\u001b[0;31m---------------------------------------------------------------------------\u001b[0m",
            "\u001b[0;31mValueError\u001b[0m                                Traceback (most recent call last)",
            "\u001b[0;32m<ipython-input-7-eec912c57ae6>\u001b[0m in \u001b[0;36m<module>\u001b[0;34m()\u001b[0m\n\u001b[1;32m      4\u001b[0m \u001b[0mdate\u001b[0m \u001b[0;34m=\u001b[0m \u001b[0minput\u001b[0m\u001b[0;34m(\u001b[0m\u001b[0;34m)\u001b[0m\u001b[0;34m\u001b[0m\u001b[0;34m\u001b[0m\u001b[0m\n\u001b[1;32m      5\u001b[0m \u001b[0mdate_string\u001b[0m \u001b[0;34m=\u001b[0m \u001b[0;34m\"%d %b %Y\"\u001b[0m\u001b[0;34m\u001b[0m\u001b[0;34m\u001b[0m\u001b[0m\n\u001b[0;32m----> 6\u001b[0;31m \u001b[0mdatetime_object\u001b[0m \u001b[0;34m=\u001b[0m \u001b[0mdatetime\u001b[0m\u001b[0;34m.\u001b[0m\u001b[0mstrptime\u001b[0m\u001b[0;34m(\u001b[0m\u001b[0mdate\u001b[0m\u001b[0;34m,\u001b[0m\u001b[0mdate_string\u001b[0m\u001b[0;34m)\u001b[0m\u001b[0;34m\u001b[0m\u001b[0;34m\u001b[0m\u001b[0m\n\u001b[0m\u001b[1;32m      7\u001b[0m \u001b[0mprint\u001b[0m\u001b[0;34m(\u001b[0m\u001b[0mdatetime_object\u001b[0m\u001b[0;34m)\u001b[0m\u001b[0;34m\u001b[0m\u001b[0;34m\u001b[0m\u001b[0m\n",
            "\u001b[0;32m/usr/lib/python3.7/_strptime.py\u001b[0m in \u001b[0;36m_strptime_datetime\u001b[0;34m(cls, data_string, format)\u001b[0m\n\u001b[1;32m    575\u001b[0m     \"\"\"Return a class cls instance based on the input string and the\n\u001b[1;32m    576\u001b[0m     format string.\"\"\"\n\u001b[0;32m--> 577\u001b[0;31m     \u001b[0mtt\u001b[0m\u001b[0;34m,\u001b[0m \u001b[0mfraction\u001b[0m\u001b[0;34m,\u001b[0m \u001b[0mgmtoff_fraction\u001b[0m \u001b[0;34m=\u001b[0m \u001b[0m_strptime\u001b[0m\u001b[0;34m(\u001b[0m\u001b[0mdata_string\u001b[0m\u001b[0;34m,\u001b[0m \u001b[0mformat\u001b[0m\u001b[0;34m)\u001b[0m\u001b[0;34m\u001b[0m\u001b[0;34m\u001b[0m\u001b[0m\n\u001b[0m\u001b[1;32m    578\u001b[0m     \u001b[0mtzname\u001b[0m\u001b[0;34m,\u001b[0m \u001b[0mgmtoff\u001b[0m \u001b[0;34m=\u001b[0m \u001b[0mtt\u001b[0m\u001b[0;34m[\u001b[0m\u001b[0;34m-\u001b[0m\u001b[0;36m2\u001b[0m\u001b[0;34m:\u001b[0m\u001b[0;34m]\u001b[0m\u001b[0;34m\u001b[0m\u001b[0;34m\u001b[0m\u001b[0m\n\u001b[1;32m    579\u001b[0m     \u001b[0margs\u001b[0m \u001b[0;34m=\u001b[0m \u001b[0mtt\u001b[0m\u001b[0;34m[\u001b[0m\u001b[0;34m:\u001b[0m\u001b[0;36m6\u001b[0m\u001b[0;34m]\u001b[0m \u001b[0;34m+\u001b[0m \u001b[0;34m(\u001b[0m\u001b[0mfraction\u001b[0m\u001b[0;34m,\u001b[0m\u001b[0;34m)\u001b[0m\u001b[0;34m\u001b[0m\u001b[0;34m\u001b[0m\u001b[0m\n",
            "\u001b[0;32m/usr/lib/python3.7/_strptime.py\u001b[0m in \u001b[0;36m_strptime\u001b[0;34m(data_string, format)\u001b[0m\n\u001b[1;32m    357\u001b[0m     \u001b[0;32mif\u001b[0m \u001b[0;32mnot\u001b[0m \u001b[0mfound\u001b[0m\u001b[0;34m:\u001b[0m\u001b[0;34m\u001b[0m\u001b[0;34m\u001b[0m\u001b[0m\n\u001b[1;32m    358\u001b[0m         raise ValueError(\"time data %r does not match format %r\" %\n\u001b[0;32m--> 359\u001b[0;31m                          (data_string, format))\n\u001b[0m\u001b[1;32m    360\u001b[0m     \u001b[0;32mif\u001b[0m \u001b[0mlen\u001b[0m\u001b[0;34m(\u001b[0m\u001b[0mdata_string\u001b[0m\u001b[0;34m)\u001b[0m \u001b[0;34m!=\u001b[0m \u001b[0mfound\u001b[0m\u001b[0;34m.\u001b[0m\u001b[0mend\u001b[0m\u001b[0;34m(\u001b[0m\u001b[0;34m)\u001b[0m\u001b[0;34m:\u001b[0m\u001b[0;34m\u001b[0m\u001b[0;34m\u001b[0m\u001b[0m\n\u001b[1;32m    361\u001b[0m         raise ValueError(\"unconverted data remains: %s\" %\n",
            "\u001b[0;31mValueError\u001b[0m: time data '02 04 1995' does not match format '%d %b %Y'"
          ]
        }
      ]
    },
    {
      "cell_type": "code",
      "metadata": {
        "id": "ilMXwnJc5M74"
      },
      "source": [
        ""
      ],
      "execution_count": null,
      "outputs": []
    },
    {
      "cell_type": "code",
      "metadata": {
        "id": "grHbldMI5M__"
      },
      "source": [
        ""
      ],
      "execution_count": null,
      "outputs": []
    },
    {
      "cell_type": "code",
      "metadata": {
        "id": "EsRQEQwK5ND7"
      },
      "source": [
        ""
      ],
      "execution_count": null,
      "outputs": []
    },
    {
      "cell_type": "code",
      "metadata": {
        "id": "BunUm1qt5NHr"
      },
      "source": [
        ""
      ],
      "execution_count": null,
      "outputs": []
    },
    {
      "cell_type": "code",
      "metadata": {
        "id": "fBJUNIS7Jom_"
      },
      "source": [
        ""
      ],
      "execution_count": null,
      "outputs": []
    },
    {
      "cell_type": "code",
      "metadata": {
        "id": "S06t1J5jjron"
      },
      "source": [
        ""
      ],
      "execution_count": null,
      "outputs": []
    }
  ]
}