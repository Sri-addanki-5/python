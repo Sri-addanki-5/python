{
  "nbformat": 4,
  "nbformat_minor": 0,
  "metadata": {
    "colab": {
      "name": "Python_2.ipynb",
      "provenance": [],
      "authorship_tag": "ABX9TyOZYWLcx8kTXUYT2yjNm46H",
      "include_colab_link": true
    },
    "kernelspec": {
      "name": "python3",
      "display_name": "Python 3"
    },
    "language_info": {
      "name": "python"
    }
  },
  "cells": [
    {
      "cell_type": "markdown",
      "metadata": {
        "id": "view-in-github",
        "colab_type": "text"
      },
      "source": [
        "<a href=\"https://colab.research.google.com/github/Sri-addanki-5/python/blob/main/Python_2.ipynb\" target=\"_parent\"><img src=\"https://colab.research.google.com/assets/colab-badge.svg\" alt=\"Open In Colab\"/></a>"
      ]
    },
    {
      "cell_type": "code",
      "metadata": {
        "id": "Gc_uEdA9lcbT",
        "colab": {
          "base_uri": "https://localhost:8080/"
        },
        "outputId": "4a00c38b-4fe3-4f2e-96f1-19c899edf8d5"
      },
      "source": [
        "# list concatination\n",
        "num_list = [20,10,20,40,100]\n",
        "n = int(input())\n",
        "first = [n]+num_list\n",
        "second = num_list + [n]\n",
        "print(first)\n",
        "print(second)"
      ],
      "execution_count": null,
      "outputs": [
        {
          "output_type": "stream",
          "text": [
            "30\n",
            "[30, 20, 10, 20, 40, 100]\n",
            "[20, 10, 20, 40, 100, 30]\n"
          ],
          "name": "stdout"
        }
      ]
    },
    {
      "cell_type": "code",
      "metadata": {
        "colab": {
          "base_uri": "https://localhost:8080/"
        },
        "id": "aPMSqPWjRD8z",
        "outputId": "29fa022d-6588-4568-cdd2-46a68072b5eb"
      },
      "source": [
        "# conerting string to list\n",
        "word = input()\n",
        "word_list = list(word)\n",
        "print(word_list)"
      ],
      "execution_count": null,
      "outputs": [
        {
          "output_type": "stream",
          "text": [
            "Python\n",
            "['P', 'y', 't', 'h', 'o', 'n']\n"
          ],
          "name": "stdout"
        }
      ]
    },
    {
      "cell_type": "code",
      "metadata": {
        "colab": {
          "base_uri": "https://localhost:8080/"
        },
        "id": "HF4eG0iYRD_z",
        "outputId": "ab7b4b9f-4740-4d4a-9d86-168610ff5e77"
      },
      "source": [
        "city_list = ['Hyd','Bang','Delhi','Kol','Panjab','harya']\n",
        "index = int(input())\n",
        "print(city_list[index])"
      ],
      "execution_count": null,
      "outputs": [
        {
          "output_type": "stream",
          "text": [
            "5\n",
            "harya\n"
          ],
          "name": "stdout"
        }
      ]
    },
    {
      "cell_type": "markdown",
      "metadata": {
        "id": "W7PYloWIRaUg"
      },
      "source": [
        ""
      ]
    },
    {
      "cell_type": "code",
      "metadata": {
        "colab": {
          "base_uri": "https://localhost:8080/"
        },
        "id": "Cf_sViJxRECv",
        "outputId": "e9badd04-3b92-454b-cec6-f9d5d64143f4"
      },
      "source": [
        "programing = ['Python','Java','Ruby','ML','AI','blockchain','crypto']\n",
        "n = int(input())\n",
        "for i in range(n):\n",
        "  index = int(input())\n",
        "  print(programing[index])"
      ],
      "execution_count": null,
      "outputs": [
        {
          "output_type": "stream",
          "text": [
            "2\n",
            "3\n",
            "ML\n",
            "4\n",
            "AI\n"
          ],
          "name": "stdout"
        }
      ]
    },
    {
      "cell_type": "code",
      "metadata": {
        "colab": {
          "base_uri": "https://localhost:8080/"
        },
        "id": "HSXsbIOOREFs",
        "outputId": "f2b1698e-a06a-4920-e835-a161b23f2ee9"
      },
      "source": [
        "#List repetation\n",
        "m = int(input())\n",
        "n = int(input())\n",
        "s = [m]*n\n",
        "print(s)"
      ],
      "execution_count": null,
      "outputs": [
        {
          "output_type": "stream",
          "text": [
            "5\n",
            "4\n",
            "[5, 5, 5, 5]\n"
          ],
          "name": "stdout"
        }
      ]
    },
    {
      "cell_type": "code",
      "metadata": {
        "colab": {
          "base_uri": "https://localhost:8080/"
        },
        "id": "Y8A8JCo6RELM",
        "outputId": "ec57c727-3284-469f-d476-8f3596d8d246"
      },
      "source": [
        "num_list = [1,6,32,93,71,-20,30,90,50]\n",
        "v = int(input())# 50\n",
        "ls = []\n",
        "for i in num_list:\n",
        "  if i > v:\n",
        "    ls += [i]\n",
        "print(ls)"
      ],
      "execution_count": null,
      "outputs": [
        {
          "output_type": "stream",
          "text": [
            "50\n",
            "[93, 71, 90]\n"
          ],
          "name": "stdout"
        }
      ]
    },
    {
      "cell_type": "code",
      "metadata": {
        "colab": {
          "base_uri": "https://localhost:8080/"
        },
        "id": "37TSu1nqREN_",
        "outputId": "81760f2c-4154-4f4f-8d76-dee305567af8"
      },
      "source": [
        "# print list\n",
        "n = int(input())\n",
        "val = []\n",
        "for i in range(n):\n",
        "  nb = input()\n",
        "  val += [nb]\n",
        "print(val)  \n"
      ],
      "execution_count": null,
      "outputs": [
        {
          "output_type": "stream",
          "text": [
            "5\n",
            "45\n",
            "'sri'\n",
            "76\n",
            "56\n",
            "76\n",
            "['45', \"'sri'\", '76', '56', '76']\n"
          ],
          "name": "stdout"
        }
      ]
    },
    {
      "cell_type": "code",
      "metadata": {
        "id": "xJEXlPAXRERr"
      },
      "source": [
        ""
      ],
      "execution_count": null,
      "outputs": []
    },
    {
      "cell_type": "code",
      "metadata": {
        "id": "6aFYDGEzREX9"
      },
      "source": [
        ""
      ],
      "execution_count": null,
      "outputs": []
    },
    {
      "cell_type": "code",
      "metadata": {
        "id": "4stVCme0REaO"
      },
      "source": [
        ""
      ],
      "execution_count": null,
      "outputs": []
    },
    {
      "cell_type": "code",
      "metadata": {
        "id": "4jWkeWCHREcz"
      },
      "source": [
        ""
      ],
      "execution_count": null,
      "outputs": []
    },
    {
      "cell_type": "code",
      "metadata": {
        "id": "9-Dj05tGREfP"
      },
      "source": [
        ""
      ],
      "execution_count": null,
      "outputs": []
    },
    {
      "cell_type": "code",
      "metadata": {
        "id": "Y5rmldwpREiN"
      },
      "source": [
        ""
      ],
      "execution_count": null,
      "outputs": []
    },
    {
      "cell_type": "code",
      "metadata": {
        "id": "sSAPCTFzREkj"
      },
      "source": [
        ""
      ],
      "execution_count": null,
      "outputs": []
    },
    {
      "cell_type": "code",
      "metadata": {
        "id": "xGn4QDN1REm8"
      },
      "source": [
        ""
      ],
      "execution_count": null,
      "outputs": []
    }
  ]
}