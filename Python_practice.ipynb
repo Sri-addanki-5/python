{
  "nbformat": 4,
  "nbformat_minor": 0,
  "metadata": {
    "colab": {
      "name": "Python_practice.ipynb",
      "provenance": [],
      "authorship_tag": "ABX9TyON78YGxkuylyNpUJOB92EL",
      "include_colab_link": true
    },
    "kernelspec": {
      "name": "python3",
      "display_name": "Python 3"
    },
    "language_info": {
      "name": "python"
    }
  },
  "cells": [
    {
      "cell_type": "markdown",
      "metadata": {
        "id": "view-in-github",
        "colab_type": "text"
      },
      "source": [
        "<a href=\"https://colab.research.google.com/github/Sri-addanki-5/python/blob/main/Python_practice.ipynb\" target=\"_parent\"><img src=\"https://colab.research.google.com/assets/colab-badge.svg\" alt=\"Open In Colab\"/></a>"
      ]
    },
    {
      "cell_type": "markdown",
      "metadata": {
        "id": "6om6wSbvQDmu"
      },
      "source": [
        "Lists"
      ]
    },
    {
      "cell_type": "code",
      "metadata": {
        "colab": {
          "base_uri": "https://localhost:8080/"
        },
        "id": "8DG9GP2fPywU",
        "outputId": "88c9ab4f-547c-4796-9293-88555ea22e16"
      },
      "source": [
        "items = \"Rose\",148,183,123.64,False\n",
        "print(list(items))"
      ],
      "execution_count": 2,
      "outputs": [
        {
          "output_type": "stream",
          "text": [
            "['Rose', 148, 183, 123.64, False]\n"
          ],
          "name": "stdout"
        }
      ]
    },
    {
      "cell_type": "code",
      "metadata": {
        "colab": {
          "base_uri": "https://localhost:8080/"
        },
        "id": "f_Z5tjgHQI2v",
        "outputId": "83a0e094-f520-4d80-cc87-13d46242e9f2"
      },
      "source": [
        "val = [10,20,30,40,50]\n",
        "num = int(input())\n",
        "num_val = [num]+val\n",
        "num_val_1 = val+[num]\n",
        "print(num_val)\n",
        "print(num_val_1)"
      ],
      "execution_count": 9,
      "outputs": [
        {
          "output_type": "stream",
          "text": [
            "20\n",
            "[20, 10, 20, 30, 40, 50]\n",
            "[10, 20, 30, 40, 50, 20]\n"
          ],
          "name": "stdout"
        }
      ]
    },
    {
      "cell_type": "code",
      "metadata": {
        "colab": {
          "base_uri": "https://localhost:8080/"
        },
        "id": "qaYH5PSeQI6F",
        "outputId": "b192dd0c-b1b5-4fa7-e999-1f0c932485e9"
      },
      "source": [
        "#convert string to list\n",
        "val = input()\n",
        "valume = list(val)\n",
        "print(valume)"
      ],
      "execution_count": 10,
      "outputs": [
        {
          "output_type": "stream",
          "text": [
            "Python\n",
            "['P', 'y', 't', 'h', 'o', 'n']\n"
          ],
          "name": "stdout"
        }
      ]
    },
    {
      "cell_type": "code",
      "metadata": {
        "colab": {
          "base_uri": "https://localhost:8080/"
        },
        "id": "f_HsFdYfQI8t",
        "outputId": "b93a18c2-8394-431e-d0e8-0a1251bcbb90"
      },
      "source": [
        "# List indexing\n",
        "color_list = [\"Red\",\"Orange\",\"White\",\"Blue\",\"Pink\",\"yellow\",\"Yellet\"]\n",
        "index = int(input())\n",
        "val = color_list[index]\n",
        "print(val)"
      ],
      "execution_count": 11,
      "outputs": [
        {
          "output_type": "stream",
          "text": [
            "3\n",
            "Blue\n"
          ],
          "name": "stdout"
        }
      ]
    },
    {
      "cell_type": "code",
      "metadata": {
        "colab": {
          "base_uri": "https://localhost:8080/"
        },
        "id": "Hs5JdVGmQI_O",
        "outputId": "011acdd9-8e12-4acc-e637-e8807726e1f1"
      },
      "source": [
        "# list index\n",
        "programming_languages_list = [\"Python\", \"Java\", \"Ruby\", \"C\", \"C++\", \"Go\", \"R\", \"JavaScript\", \"Swift\", \"PHP\", \"Kotlin\", \"Perl\"]\n",
        "n = int(input())\n",
        "for i in range(n):\n",
        "  index = int(input())\n",
        "  print(programming_languages_list[index])"
      ],
      "execution_count": 17,
      "outputs": [
        {
          "output_type": "stream",
          "text": [
            "2\n",
            "4\n",
            "C++\n",
            "5\n",
            "Go\n"
          ],
          "name": "stdout"
        }
      ]
    },
    {
      "cell_type": "code",
      "metadata": {
        "colab": {
          "base_uri": "https://localhost:8080/"
        },
        "id": "n4l-9o5NQJCH",
        "outputId": "4f6c3785-453e-4205-ca5c-8647365148e1"
      },
      "source": [
        "m = int(input())\n",
        "n = int(input())\n",
        "val = [m]*n\n",
        "print(val)"
      ],
      "execution_count": 18,
      "outputs": [
        {
          "output_type": "stream",
          "text": [
            "5\n",
            "4\n",
            "[5, 5, 5, 5]\n"
          ],
          "name": "stdout"
        }
      ]
    },
    {
      "cell_type": "code",
      "metadata": {
        "colab": {
          "base_uri": "https://localhost:8080/"
        },
        "id": "pkPWTihRQJE1",
        "outputId": "e83a435f-c23e-4858-a10a-96d2917a84ac"
      },
      "source": [
        "# Greater than N\n",
        "num_list = [1, 6, 32, 93, 71, -20, 30, -90, 50]\n",
        "n = int(input())\n",
        "val = []\n",
        "for i in num_list:\n",
        "  if i > n:\n",
        "    val.append(i)\n",
        "print(val)"
      ],
      "execution_count": 22,
      "outputs": [
        {
          "output_type": "stream",
          "text": [
            "50\n",
            "[93, 71]\n"
          ],
          "name": "stdout"
        }
      ]
    },
    {
      "cell_type": "code",
      "metadata": {
        "colab": {
          "base_uri": "https://localhost:8080/"
        },
        "id": "LK0tO6oWQJHd",
        "outputId": "e783fb0c-b9c7-40f2-9008-9cbe8d23e876"
      },
      "source": [
        "# Create & Print list\n",
        "num = int(input())\n",
        "lis = []\n",
        "for i in range(num):\n",
        "  val = input()\n",
        "  lis.append(val)\n",
        "print(lis)  \n"
      ],
      "execution_count": 23,
      "outputs": [
        {
          "output_type": "stream",
          "text": [
            "5\n",
            "sri\n",
            "Tiger\n",
            "Cinema\n",
            "5.5\n",
            "20\n",
            "['sri', 'Tiger', 'Cinema', '5.5', '20']\n"
          ],
          "name": "stdout"
        }
      ]
    },
    {
      "cell_type": "code",
      "metadata": {
        "colab": {
          "base_uri": "https://localhost:8080/"
        },
        "id": "DQ8zxkZ3QJMO",
        "outputId": "d6215ab5-b7b6-472d-a4ab-9dcc57bb0a4c"
      },
      "source": [
        "# Reverse order\n",
        "n = int(input())\n",
        "val_list = []\n",
        "for i in range(n):\n",
        "  val = input()\n",
        "  val_list =  [val] + val_list\n",
        "print(val_list)  "
      ],
      "execution_count": 25,
      "outputs": [
        {
          "output_type": "stream",
          "text": [
            "8\n",
            "Anjali\n",
            "Ravi\n",
            "Akbar\n",
            "Suresh\n",
            "Gopal\n",
            "Latha\n",
            "mohan\n",
            "Ashok\n",
            "['Ashok', 'mohan', 'Latha', 'Gopal', 'Suresh', 'Akbar', 'Ravi', 'Anjali']\n"
          ],
          "name": "stdout"
        }
      ]
    },
    {
      "cell_type": "code",
      "metadata": {
        "colab": {
          "base_uri": "https://localhost:8080/"
        },
        "id": "Yu0e4sF9QJO9",
        "outputId": "0e9d5300-4425-4ae6-9dde-01b23b94d09b"
      },
      "source": [
        "n = int(input())\n",
        "val_a = []\n",
        "for i in range(n):\n",
        "  val_list = input()\n",
        "  val_a += [val_list]\n",
        "  val = val_a[:3]+val_a[n-3:]\n",
        "print(val)  "
      ],
      "execution_count": 33,
      "outputs": [
        {
          "output_type": "stream",
          "text": [
            "5\n",
            "Anjali\n",
            "Ravi\n",
            "Akbar\n",
            "Latha\n",
            "mohan\n",
            "['Anjali', 'Ravi', 'Akbar', 'Akbar', 'Latha', 'mohan']\n"
          ],
          "name": "stdout"
        }
      ]
    },
    {
      "cell_type": "code",
      "metadata": {
        "colab": {
          "base_uri": "https://localhost:8080/"
        },
        "id": "LQBclnFgQJSZ",
        "outputId": "45ed92a8-e383-45e1-d8c5-08e7fe533e35"
      },
      "source": [
        "#Split sentence\n",
        "n = input()\n",
        "val = n.split()\n",
        "for i in val:\n",
        "  print(i)"
      ],
      "execution_count": 35,
      "outputs": [
        {
          "output_type": "stream",
          "text": [
            "Banana Apple Pomegranate Straberry Grapes Orange\n",
            "Banana\n",
            "Apple\n",
            "Pomegranate\n",
            "Straberry\n",
            "Grapes\n",
            "Orange\n"
          ],
          "name": "stdout"
        }
      ]
    },
    {
      "cell_type": "code",
      "metadata": {
        "colab": {
          "base_uri": "https://localhost:8080/"
        },
        "id": "RB00rdAIQJpu",
        "outputId": "6088646c-33c1-4f14-c0b4-99fa3368d47a"
      },
      "source": [
        "# list reverse\n",
        "n = input()\n",
        "val = n.split()\n",
        "v = val[::-1]\n",
        "print(v)"
      ],
      "execution_count": 38,
      "outputs": [
        {
          "output_type": "stream",
          "text": [
            "banana apple orange grapes\n",
            "['grapes', 'orange', 'apple', 'banana']\n"
          ],
          "name": "stdout"
        }
      ]
    },
    {
      "cell_type": "code",
      "metadata": {
        "colab": {
          "base_uri": "https://localhost:8080/"
        },
        "id": "m7LX-rW-QJs-",
        "outputId": "6c666f22-9e84-4858-9f4d-bc1a37ce3662"
      },
      "source": [
        "# sum of list of elements\n",
        "m = input()\n",
        "n = m.split()\n",
        "val = 0\n",
        "\n",
        "for i in n:\n",
        "  val += int(i)\n",
        "print(val)  "
      ],
      "execution_count": 46,
      "outputs": [
        {
          "output_type": "stream",
          "text": [
            "2 5 10 -15 3\n",
            "5\n"
          ],
          "name": "stdout"
        }
      ]
    },
    {
      "cell_type": "code",
      "metadata": {
        "id": "Fhrkv5SeQJ7B"
      },
      "source": [
        ""
      ],
      "execution_count": null,
      "outputs": []
    },
    {
      "cell_type": "code",
      "metadata": {
        "id": "XGK8_M2iQKIa"
      },
      "source": [
        ""
      ],
      "execution_count": null,
      "outputs": []
    }
  ]
}